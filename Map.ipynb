{
 "cells": [
  {
   "cell_type": "markdown",
   "metadata": {},
   "source": [
    "## Map stations"
   ]
  },
  {
   "cell_type": "code",
   "execution_count": 1,
   "metadata": {},
   "outputs": [],
   "source": [
    "import os\n",
    "import zipfile\n",
    "import pandas as pd\n",
    "import geopandas as gpd\n",
    "import matplotlib.pyplot as plt\n",
    "import csv\n",
    "from datetime import datetime\n",
    "import numpy as np\n",
    "from pyproj import Proj\n",
    "%run Meteo_utils.ipynb"
   ]
  },
  {
   "cell_type": "code",
   "execution_count": 2,
   "metadata": {},
   "outputs": [
    {
     "data": {
      "text/plain": [
       "['.DS_Store',\n",
       " '07-HGPT-MT-07.- Estacion Aeropuerto-20210505T205931Z-001.zip',\n",
       " 'Estaciones_meteorologicas.csv',\n",
       " 'Estaciones_meteorologicas_SW.csv',\n",
       " '02-HGPT-MT-06.- Estacion Baños-20210426T162523Z-001.zip',\n",
       " 'Aeropuerto_5min.csv',\n",
       " '07-HGPT-MT-07-EstacionAeropuerto.csv',\n",
       " 'Inventario Estaciones Meteo.xls',\n",
       " '.ipynb_checkpoints',\n",
       " 'Estaciones_meteorologicas_SW.numbers',\n",
       " 'Aeropuerto_1min.csv']"
      ]
     },
     "execution_count": 2,
     "metadata": {},
     "output_type": "execute_result"
    }
   ],
   "source": [
    "os.listdir('data')"
   ]
  },
  {
   "cell_type": "code",
   "execution_count": 43,
   "metadata": {},
   "outputs": [
    {
     "data": {
      "text/html": [
       "<div>\n",
       "<style scoped>\n",
       "    .dataframe tbody tr th:only-of-type {\n",
       "        vertical-align: middle;\n",
       "    }\n",
       "\n",
       "    .dataframe tbody tr th {\n",
       "        vertical-align: top;\n",
       "    }\n",
       "\n",
       "    .dataframe thead th {\n",
       "        text-align: right;\n",
       "    }\n",
       "</style>\n",
       "<table border=\"1\" class=\"dataframe\">\n",
       "  <thead>\n",
       "    <tr style=\"text-align: right;\">\n",
       "      <th></th>\n",
       "      <th>fuente</th>\n",
       "      <th>numero</th>\n",
       "      <th>codigo</th>\n",
       "      <th>nombre</th>\n",
       "      <th>tipo</th>\n",
       "      <th>provincia</th>\n",
       "      <th>estado</th>\n",
       "      <th>fecha_instalacion</th>\n",
       "      <th>latitud</th>\n",
       "      <th>longitud</th>\n",
       "      <th>parametros_medicion</th>\n",
       "    </tr>\n",
       "  </thead>\n",
       "  <tbody>\n",
       "    <tr>\n",
       "      <th>0</th>\n",
       "      <td>esta_inamhi</td>\n",
       "      <td>1</td>\n",
       "      <td>M0029</td>\n",
       "      <td>BAÑOS</td>\n",
       "      <td>CP</td>\n",
       "      <td>TUNGURAHUA</td>\n",
       "      <td>FUNCIONANDO</td>\n",
       "      <td>20-jun-62</td>\n",
       "      <td>12329.0</td>\n",
       "      <td>782505.0</td>\n",
       "      <td>Temperatura Max, temperatura Min, Temperatura,...</td>\n",
       "    </tr>\n",
       "    <tr>\n",
       "      <th>1</th>\n",
       "      <td>esta_inamhi</td>\n",
       "      <td>2</td>\n",
       "      <td>M0258</td>\n",
       "      <td>QUEROCHACA(UTA)</td>\n",
       "      <td>CP</td>\n",
       "      <td>TUNGURAHUA</td>\n",
       "      <td>FUNCIONANDO</td>\n",
       "      <td>2-nov-85</td>\n",
       "      <td>12202.0</td>\n",
       "      <td>783620.0</td>\n",
       "      <td>Temperatura Max, temperatura Min, Temperatura,...</td>\n",
       "    </tr>\n",
       "    <tr>\n",
       "      <th>2</th>\n",
       "      <td>esta_inamhi</td>\n",
       "      <td>3</td>\n",
       "      <td>M1069</td>\n",
       "      <td>CALAMACA CONVENIO INAMHI HCPT</td>\n",
       "      <td>CP</td>\n",
       "      <td>TUNGURAHUA</td>\n",
       "      <td>FUNCIONANDO</td>\n",
       "      <td>4-jul-88</td>\n",
       "      <td>11634.0</td>\n",
       "      <td>784908.0</td>\n",
       "      <td>Temperatura Max, temperatura Min, Temperatura,...</td>\n",
       "    </tr>\n",
       "    <tr>\n",
       "      <th>3</th>\n",
       "      <td>esta_inamhi</td>\n",
       "      <td>4</td>\n",
       "      <td>M0126</td>\n",
       "      <td>PATATE</td>\n",
       "      <td>CO</td>\n",
       "      <td>TUNGURAHUA</td>\n",
       "      <td>FUNCIONANDO</td>\n",
       "      <td>1-may-63</td>\n",
       "      <td>11801.0</td>\n",
       "      <td>783000.0</td>\n",
       "      <td>Temperatura Max, temperatura Min, Temperatura,...</td>\n",
       "    </tr>\n",
       "    <tr>\n",
       "      <th>4</th>\n",
       "      <td>esta_inamhi</td>\n",
       "      <td>5</td>\n",
       "      <td>M0127</td>\n",
       "      <td>PILLARO</td>\n",
       "      <td>CO</td>\n",
       "      <td>TUNGURAHUA</td>\n",
       "      <td>FUNCIONANDO</td>\n",
       "      <td>1-Dec-63</td>\n",
       "      <td>11010.0</td>\n",
       "      <td>783310.0</td>\n",
       "      <td>Temperatura Max, temperatura Min, Temperatura,...</td>\n",
       "    </tr>\n",
       "  </tbody>\n",
       "</table>\n",
       "</div>"
      ],
      "text/plain": [
       "        fuente  numero codigo                         nombre tipo   provincia  \\\n",
       "0  esta_inamhi       1  M0029                          BAÑOS   CP  TUNGURAHUA   \n",
       "1  esta_inamhi       2  M0258                QUEROCHACA(UTA)   CP  TUNGURAHUA   \n",
       "2  esta_inamhi       3  M1069  CALAMACA CONVENIO INAMHI HCPT   CP  TUNGURAHUA   \n",
       "3  esta_inamhi       4  M0126                         PATATE   CO  TUNGURAHUA   \n",
       "4  esta_inamhi       5  M0127                        PILLARO   CO  TUNGURAHUA   \n",
       "\n",
       "        estado fecha_instalacion  latitud  longitud  \\\n",
       "0  FUNCIONANDO         20-jun-62  12329.0  782505.0   \n",
       "1  FUNCIONANDO          2-nov-85  12202.0  783620.0   \n",
       "2  FUNCIONANDO          4-jul-88  11634.0  784908.0   \n",
       "3  FUNCIONANDO          1-may-63  11801.0  783000.0   \n",
       "4  FUNCIONANDO          1-Dec-63  11010.0  783310.0   \n",
       "\n",
       "                                 parametros_medicion  \n",
       "0  Temperatura Max, temperatura Min, Temperatura,...  \n",
       "1  Temperatura Max, temperatura Min, Temperatura,...  \n",
       "2  Temperatura Max, temperatura Min, Temperatura,...  \n",
       "3  Temperatura Max, temperatura Min, Temperatura,...  \n",
       "4  Temperatura Max, temperatura Min, Temperatura,...  "
      ]
     },
     "execution_count": 43,
     "metadata": {},
     "output_type": "execute_result"
    }
   ],
   "source": [
    "df = pd.read_csv('data/Estaciones_meteorologicas.csv')\n",
    "df.head()"
   ]
  },
  {
   "cell_type": "code",
   "execution_count": 44,
   "metadata": {},
   "outputs": [
    {
     "data": {
      "text/plain": [
       "array(['esta_inamhi', 'esta_hgpt', 'esta_hgpt_sen'], dtype=object)"
      ]
     },
     "execution_count": 44,
     "metadata": {},
     "output_type": "execute_result"
    }
   ],
   "source": [
    "df.fuente.unique()"
   ]
  },
  {
   "cell_type": "code",
   "execution_count": 25,
   "metadata": {},
   "outputs": [],
   "source": [
    "# Conversion from UTM to degrees\n",
    "# https://ocefpaf.github.io/python4oceanographers/blog/2013/12/16/utm/\n",
    "# EPSG:32717 (UTM 17S) (copy Proj4 format)\n",
    "north = Proj(\"+proj=utm +zone=17 +north +ellps=WGS84 +datum=WGS84 +units=m +no_defs\")\n",
    "south = Proj(\"+proj=utm +zone=17 +south +ellps=WGS84 +datum=WGS84 +units=m +no_defs\")\n",
    "df['lon_deg'] = np.nan \n",
    "df['lat_deg'] = np.nan "
   ]
  },
  {
   "cell_type": "code",
   "execution_count": 79,
   "metadata": {},
   "outputs": [],
   "source": [
    "# Convert DMS coords to DD\n",
    "def latDD(x):\n",
    "    D = int(str(x)[0:1])\n",
    "    M = int(str(x)[1:3])\n",
    "    S = int(str(int(x))[3:])\n",
    "    DD = -(D + float(M)/60 + float(S)/3600)\n",
    "    return DD\n",
    "def lonDD(x):\n",
    "    D = int(str(x)[0:2])\n",
    "    M = int(str(x)[2:4])\n",
    "    S = int(str(int(x))[4:])\n",
    "    DD = -(D + float(M)/60 + float(S)/3600)\n",
    "    return DD"
   ]
  },
  {
   "cell_type": "code",
   "execution_count": 80,
   "metadata": {},
   "outputs": [],
   "source": [
    "# UTM info : http://geokov.com/education/utm.aspx\n",
    "# Northing coordinates use Equator as reference. For NH, Equator= 0. For SH , Equator = 10.000.000\n",
    "# Easting coordinates use the false origin 500000 meters to the west of the central meridian of the UTM zone\n",
    "\n",
    "# ESTA INAMHI data had lat = xxxS and long = xxxW \n",
    "## 17N\n",
    "df.loc[df['fuente'] != 'esta_inamhi','lon_deg'], df.loc[df['fuente'] != 'esta_inamhi','lat_deg']= south(df[df['fuente'] != 'esta_inamhi']['longitud'].values, \n",
    "                                                df[df['fuente'] != 'esta_inamhi']['latitud'].values, inverse=True)\n",
    "\n",
    "## 17S\n",
    "df.loc[df['fuente'] == 'esta_inamhi','lon_deg'] =  [lonDD(x) for x in df[df['fuente'] == 'esta_inamhi']['longitud'].values]\n",
    "df.loc[df['fuente'] == 'esta_inamhi','lat_deg']= [latDD(x) for x in df[df['fuente'] == 'esta_inamhi']['latitud'].values]\n",
    "                                                \n",
    "                               "
   ]
  },
  {
   "cell_type": "code",
   "execution_count": 82,
   "metadata": {},
   "outputs": [],
   "source": [
    "df['lon_deg'] = df['lon_deg'].replace({float(\"inf\"): np.nan})  \n",
    "df['lat_deg'] = df['lat_deg'].replace({float(\"inf\"): np.nan})"
   ]
  },
  {
   "cell_type": "code",
   "execution_count": 16,
   "metadata": {},
   "outputs": [],
   "source": [
    "### There is a problem with the coordinates. I can extract the coordinates from ESTA_INAMHI but not form the other 2. UTM format"
   ]
  },
  {
   "cell_type": "code",
   "execution_count": 83,
   "metadata": {},
   "outputs": [],
   "source": [
    "gdf = gpd.GeoDataFrame(\n",
    "    df, geometry=gpd.points_from_xy(df['lon_deg'], df['lat_deg']))"
   ]
  },
  {
   "cell_type": "code",
   "execution_count": 84,
   "metadata": {},
   "outputs": [],
   "source": [
    "gdf = gdf.set_crs(epsg=4326)"
   ]
  },
  {
   "cell_type": "code",
   "execution_count": 89,
   "metadata": {},
   "outputs": [
    {
     "data": {
      "image/png": "[encoded data removed]",
      "text/plain": [
       "<Figure size 720x720 with 1 Axes>"
      ]
     },
     "metadata": {
      "needs_background": "light"
     },
     "output_type": "display_data"
    }
   ],
   "source": [
    "world = gpd.read_file(gpd.datasets.get_path('naturalearth_lowres'))\n",
    "SA = world.query('name == \"Ecuador\"')\n",
    "gdf4326 = gdf.to_crs(world.crs)\n",
    "\n",
    "fig, ax = plt.subplots(figsize=(10,10))\n",
    "ax.set_aspect('equal')\n",
    "#SA.plot(ax=ax, color='white', edgecolor='black')\n",
    "gdf4326.plot(ax=ax, column = 'tipo', legend =True)\n",
    "# for i in range(df.shape[0]):\n",
    "#     plt.text(x=gdf4326.lon_deg[i]+0.1,y=gdf4326.lat_deg[i]+0.1,s=gdf4326.nombre[i], \n",
    "#           fontdict=dict(color='black',size=10),\n",
    "#           bbox=dict(facecolor='yellow',alpha=0.5))\n",
    "\n",
    "plt.show()"
   ]
  },
  {
   "cell_type": "code",
   "execution_count": 86,
   "metadata": {},
   "outputs": [
    {
     "data": {
      "text/html": [
       "<div>\n",
       "<style scoped>\n",
       "    .dataframe tbody tr th:only-of-type {\n",
       "        vertical-align: middle;\n",
       "    }\n",
       "\n",
       "    .dataframe tbody tr th {\n",
       "        vertical-align: top;\n",
       "    }\n",
       "\n",
       "    .dataframe thead th {\n",
       "        text-align: right;\n",
       "    }\n",
       "</style>\n",
       "<table border=\"1\" class=\"dataframe\">\n",
       "  <thead>\n",
       "    <tr style=\"text-align: right;\">\n",
       "      <th></th>\n",
       "      <th>fuente</th>\n",
       "      <th>numero</th>\n",
       "      <th>codigo</th>\n",
       "      <th>nombre</th>\n",
       "      <th>tipo</th>\n",
       "      <th>provincia</th>\n",
       "      <th>estado</th>\n",
       "      <th>fecha_instalacion</th>\n",
       "      <th>latitud</th>\n",
       "      <th>longitud</th>\n",
       "      <th>lon_deg</th>\n",
       "      <th>lat_deg</th>\n",
       "      <th>geometry</th>\n",
       "    </tr>\n",
       "  </thead>\n",
       "  <tbody>\n",
       "    <tr>\n",
       "      <th>0</th>\n",
       "      <td>esta_inamhi</td>\n",
       "      <td>1</td>\n",
       "      <td>M0029</td>\n",
       "      <td>BAÑOS</td>\n",
       "      <td>CP</td>\n",
       "      <td>TUNGURAHUA</td>\n",
       "      <td>FUNCIONANDO</td>\n",
       "      <td>20-jun-62</td>\n",
       "      <td>12329.0</td>\n",
       "      <td>782505.0</td>\n",
       "      <td>-78.418056</td>\n",
       "      <td>-1.391389</td>\n",
       "      <td>POINT (-78.41806 -1.39139)</td>\n",
       "    </tr>\n",
       "    <tr>\n",
       "      <th>16</th>\n",
       "      <td>esta_hgpt</td>\n",
       "      <td>6</td>\n",
       "      <td>HGPT_MT-0006</td>\n",
       "      <td>Baños</td>\n",
       "      <td>MA</td>\n",
       "      <td>TUNGURAHUA</td>\n",
       "      <td>FUNCIONANDO</td>\n",
       "      <td>February-13</td>\n",
       "      <td>9845439.0</td>\n",
       "      <td>791471.0</td>\n",
       "      <td>-78.380768</td>\n",
       "      <td>-1.396889</td>\n",
       "      <td>POINT (-78.38077 -1.39689)</td>\n",
       "    </tr>\n",
       "    <tr>\n",
       "      <th>35</th>\n",
       "      <td>esta_hgpt_sen</td>\n",
       "      <td>6</td>\n",
       "      <td>HGPT_MT-0006</td>\n",
       "      <td>Baños</td>\n",
       "      <td>MA</td>\n",
       "      <td>TUNGURAHUA</td>\n",
       "      <td>FUNCIONANDO</td>\n",
       "      <td>February-13</td>\n",
       "      <td>9845439.0</td>\n",
       "      <td>791471.0</td>\n",
       "      <td>-78.380768</td>\n",
       "      <td>-1.396889</td>\n",
       "      <td>POINT (-78.38077 -1.39689)</td>\n",
       "    </tr>\n",
       "  </tbody>\n",
       "</table>\n",
       "</div>"
      ],
      "text/plain": [
       "           fuente  numero        codigo nombre tipo   provincia       estado  \\\n",
       "0     esta_inamhi       1         M0029  BAÑOS   CP  TUNGURAHUA  FUNCIONANDO   \n",
       "16      esta_hgpt       6  HGPT_MT-0006  Baños   MA  TUNGURAHUA  FUNCIONANDO   \n",
       "35  esta_hgpt_sen       6  HGPT_MT-0006  Baños   MA  TUNGURAHUA  FUNCIONANDO   \n",
       "\n",
       "   fecha_instalacion    latitud  longitud    lon_deg   lat_deg  \\\n",
       "0          20-jun-62    12329.0  782505.0 -78.418056 -1.391389   \n",
       "16       February-13  9845439.0  791471.0 -78.380768 -1.396889   \n",
       "35       February-13  9845439.0  791471.0 -78.380768 -1.396889   \n",
       "\n",
       "                      geometry  \n",
       "0   POINT (-78.41806 -1.39139)  \n",
       "16  POINT (-78.38077 -1.39689)  \n",
       "35  POINT (-78.38077 -1.39689)  "
      ]
     },
     "execution_count": 86,
     "metadata": {},
     "output_type": "execute_result"
    }
   ],
   "source": [
    "df[df.nombre.str.match('^[Bb][Aa][Ññ][Oo][Ss]')].drop(columns ='parametros_medicion')"
   ]
  }
 ],
 "metadata": {
  "kernelspec": {
   "display_name": "Python 3",
   "language": "python",
   "name": "python3"
  },
  "language_info": {
   "codemirror_mode": {
    "name": "ipython",
    "version": 3
   },
   "file_extension": ".py",
   "mimetype": "text/x-python",
   "name": "python",
   "nbconvert_exporter": "python",
   "pygments_lexer": "ipython3",
   "version": "3.7.4"
  }
 },
 "nbformat": 4,
 "nbformat_minor": 4
}
