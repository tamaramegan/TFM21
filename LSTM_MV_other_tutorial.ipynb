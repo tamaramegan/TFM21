{
 "cells": [
  {
   "cell_type": "code",
   "execution_count": 1,
   "metadata": {},
   "outputs": [],
   "source": [
    "import pandas as pd\n",
    "import io\n",
    "import numpy as np\n",
    "import matplotlib.pyplot as plt\n",
    "import numpy as np\n",
    "import pandas as pd\n",
    "import numpy as np\n",
    "from sklearn.preprocessing import MinMaxScaler\n",
    "import tensorflow as tf\n",
    "import os"
   ]
  },
  {
   "cell_type": "markdown",
   "metadata": {},
   "source": [
    "## GUADALUPE"
   ]
  },
  {
   "cell_type": "code",
   "execution_count": 27,
   "metadata": {},
   "outputs": [
    {
     "name": "stderr",
     "output_type": "stream",
     "text": [
      "/Users/tamarahuete/opt/anaconda3/lib/python3.7/site-packages/IPython/core/interactiveshell.py:3058: DtypeWarning: Columns (1) have mixed types.Specify dtype option on import or set low_memory=False.\n",
      "  interactivity=interactivity, compiler=compiler, result=result)\n"
     ]
    }
   ],
   "source": [
    "df = pd.read_csv('data/guadalupe_processed.csv')"
   ]
  },
  {
   "cell_type": "code",
   "execution_count": 28,
   "metadata": {},
   "outputs": [],
   "source": [
    "if 'Date_Time' in df:\n",
    "    df.set_index('Date_Time', inplace =True)\n",
    "    df.index =pd.to_datetime(df.index)\n",
    "    df.sort_index(axis=0,inplace= True)"
   ]
  },
  {
   "cell_type": "code",
   "execution_count": 29,
   "metadata": {},
   "outputs": [
    {
     "data": {
      "text/plain": [
       "Index(['Type', 'Freq', 'ATAvg', 'ATMax', 'ATMin', 'PAvg', 'RHAvg', 'RHMax',\n",
       "       'RHMin', 'WDAvg', 'WDMax', 'WDMin', 'WSAvg', 'WSMax', 'WSMin',\n",
       "       'Preipitacion', 'station', 'validated_range', 'WDcorr', 'WDcorr_abs',\n",
       "       'year', 'month', 'day', 'hour', 'minute'],\n",
       "      dtype='object')"
      ]
     },
     "execution_count": 29,
     "metadata": {},
     "output_type": "execute_result"
    }
   ],
   "source": [
    "df.columns"
   ]
  },
  {
   "cell_type": "code",
   "execution_count": 30,
   "metadata": {},
   "outputs": [],
   "source": [
    "df= df[['ATAvg','PAvg','RHAvg','WDAvg','WSAvg']]"
   ]
  },
  {
   "cell_type": "code",
   "execution_count": 31,
   "metadata": {},
   "outputs": [
    {
     "data": {
      "text/plain": [
       "ATAvg    0\n",
       "PAvg     0\n",
       "RHAvg    0\n",
       "WDAvg    0\n",
       "WSAvg    0\n",
       "dtype: int64"
      ]
     },
     "execution_count": 31,
     "metadata": {},
     "output_type": "execute_result"
    }
   ],
   "source": [
    "df = df.replace('?', np.nan)\n",
    "df.isnull().sum()"
   ]
  },
  {
   "cell_type": "code",
   "execution_count": 32,
   "metadata": {},
   "outputs": [
    {
     "data": {
      "text/html": [
       "<div>\n",
       "<style scoped>\n",
       "    .dataframe tbody tr th:only-of-type {\n",
       "        vertical-align: middle;\n",
       "    }\n",
       "\n",
       "    .dataframe tbody tr th {\n",
       "        vertical-align: top;\n",
       "    }\n",
       "\n",
       "    .dataframe thead th {\n",
       "        text-align: right;\n",
       "    }\n",
       "</style>\n",
       "<table border=\"1\" class=\"dataframe\">\n",
       "  <thead>\n",
       "    <tr style=\"text-align: right;\">\n",
       "      <th></th>\n",
       "      <th>ATAvg</th>\n",
       "      <th>PAvg</th>\n",
       "      <th>RHAvg</th>\n",
       "      <th>WDAvg</th>\n",
       "      <th>WSAvg</th>\n",
       "    </tr>\n",
       "    <tr>\n",
       "      <th>Date_Time</th>\n",
       "      <th></th>\n",
       "      <th></th>\n",
       "      <th></th>\n",
       "      <th></th>\n",
       "      <th></th>\n",
       "    </tr>\n",
       "  </thead>\n",
       "  <tbody>\n",
       "    <tr>\n",
       "      <th>2013-01-11 00:00:00</th>\n",
       "      <td>13.443333</td>\n",
       "      <td>0.0</td>\n",
       "      <td>93.861667</td>\n",
       "      <td>198.515000</td>\n",
       "      <td>0.403333</td>\n",
       "    </tr>\n",
       "    <tr>\n",
       "      <th>2013-01-11 01:00:00</th>\n",
       "      <td>12.983333</td>\n",
       "      <td>0.0</td>\n",
       "      <td>94.390000</td>\n",
       "      <td>217.556667</td>\n",
       "      <td>0.516667</td>\n",
       "    </tr>\n",
       "    <tr>\n",
       "      <th>2013-01-11 02:00:00</th>\n",
       "      <td>12.495000</td>\n",
       "      <td>0.0</td>\n",
       "      <td>96.249167</td>\n",
       "      <td>141.966667</td>\n",
       "      <td>0.661667</td>\n",
       "    </tr>\n",
       "    <tr>\n",
       "      <th>2013-01-11 03:00:00</th>\n",
       "      <td>12.270833</td>\n",
       "      <td>0.0</td>\n",
       "      <td>95.906667</td>\n",
       "      <td>66.167500</td>\n",
       "      <td>1.156667</td>\n",
       "    </tr>\n",
       "    <tr>\n",
       "      <th>2013-01-11 04:00:00</th>\n",
       "      <td>12.098333</td>\n",
       "      <td>0.0</td>\n",
       "      <td>91.040833</td>\n",
       "      <td>133.720000</td>\n",
       "      <td>1.120833</td>\n",
       "    </tr>\n",
       "  </tbody>\n",
       "</table>\n",
       "</div>"
      ],
      "text/plain": [
       "                         ATAvg  PAvg      RHAvg       WDAvg     WSAvg\n",
       "Date_Time                                                            \n",
       "2013-01-11 00:00:00  13.443333   0.0  93.861667  198.515000  0.403333\n",
       "2013-01-11 01:00:00  12.983333   0.0  94.390000  217.556667  0.516667\n",
       "2013-01-11 02:00:00  12.495000   0.0  96.249167  141.966667  0.661667\n",
       "2013-01-11 03:00:00  12.270833   0.0  95.906667   66.167500  1.156667\n",
       "2013-01-11 04:00:00  12.098333   0.0  91.040833  133.720000  1.120833"
      ]
     },
     "execution_count": 32,
     "metadata": {},
     "output_type": "execute_result"
    }
   ],
   "source": [
    "## resample to hour\n",
    "dfh = df.resample('60min').mean()\n",
    "pavg = df.resample('60min').sum()\n",
    "dfh['PAvg'] = pavg['PAvg']\n",
    "dfh.head()"
   ]
  },
  {
   "cell_type": "code",
   "execution_count": 33,
   "metadata": {},
   "outputs": [],
   "source": [
    "# Split in train/test  at 75% 25%\n",
    "train_df,test_df = dfh[0:round(len(dfh)*0.75)], dfh[round(len(dfh)*0.75):] "
   ]
  },
  {
   "cell_type": "code",
   "execution_count": null,
   "metadata": {},
   "outputs": [],
   "source": [
    "### Scale the values (-1 to 1)\n",
    "train = train_df\n",
    "scalers={}\n",
    "for i in train_df.columns:\n",
    "    scaler = MinMaxScaler(feature_range=(-1,1))\n",
    "    s_s = scaler.fit_transform(train[i].values.reshape(-1,1))\n",
    "    s_s=np.reshape(s_s,len(s_s))\n",
    "    scalers['scaler_'+ i] = scaler\n",
    "    train[i]=s_s\n",
    "test = test_df\n",
    "for i in train_df.columns:\n",
    "    scaler = scalers['scaler_'+i]\n",
    "    s_s = scaler.transform(test[i].values.reshape(-1,1))\n",
    "    s_s=np.reshape(s_s,len(s_s))\n",
    "    scalers['scaler_'+i] = scaler\n",
    "    test[i]=s_s"
   ]
  },
  {
   "cell_type": "code",
   "execution_count": 73,
   "metadata": {},
   "outputs": [
    {
     "data": {
      "text/html": [
       "<div>\n",
       "<style scoped>\n",
       "    .dataframe tbody tr th:only-of-type {\n",
       "        vertical-align: middle;\n",
       "    }\n",
       "\n",
       "    .dataframe tbody tr th {\n",
       "        vertical-align: top;\n",
       "    }\n",
       "\n",
       "    .dataframe thead th {\n",
       "        text-align: right;\n",
       "    }\n",
       "</style>\n",
       "<table border=\"1\" class=\"dataframe\">\n",
       "  <thead>\n",
       "    <tr style=\"text-align: right;\">\n",
       "      <th></th>\n",
       "      <th>ATAvg</th>\n",
       "      <th>PAvg</th>\n",
       "      <th>RHAvg</th>\n",
       "      <th>WDAvg</th>\n",
       "      <th>WSAvg</th>\n",
       "    </tr>\n",
       "    <tr>\n",
       "      <th>Date_Time</th>\n",
       "      <th></th>\n",
       "      <th></th>\n",
       "      <th></th>\n",
       "      <th></th>\n",
       "      <th></th>\n",
       "    </tr>\n",
       "  </thead>\n",
       "  <tbody>\n",
       "    <tr>\n",
       "      <th>2018-04-13 22:00:00</th>\n",
       "      <td>-0.184687</td>\n",
       "      <td>-1.0</td>\n",
       "      <td>0.799282</td>\n",
       "      <td>0.160198</td>\n",
       "      <td>-0.878518</td>\n",
       "    </tr>\n",
       "    <tr>\n",
       "      <th>2018-04-13 23:00:00</th>\n",
       "      <td>-0.177157</td>\n",
       "      <td>-1.0</td>\n",
       "      <td>0.758845</td>\n",
       "      <td>0.181630</td>\n",
       "      <td>-0.880516</td>\n",
       "    </tr>\n",
       "    <tr>\n",
       "      <th>2018-04-14 00:00:00</th>\n",
       "      <td>-0.233735</td>\n",
       "      <td>-1.0</td>\n",
       "      <td>0.838563</td>\n",
       "      <td>-0.105185</td>\n",
       "      <td>-0.878700</td>\n",
       "    </tr>\n",
       "    <tr>\n",
       "      <th>2018-04-14 01:00:00</th>\n",
       "      <td>-0.259718</td>\n",
       "      <td>-1.0</td>\n",
       "      <td>0.875864</td>\n",
       "      <td>-0.329415</td>\n",
       "      <td>-0.752678</td>\n",
       "    </tr>\n",
       "    <tr>\n",
       "      <th>2018-04-14 02:00:00</th>\n",
       "      <td>-0.280070</td>\n",
       "      <td>-1.0</td>\n",
       "      <td>0.891832</td>\n",
       "      <td>-0.130911</td>\n",
       "      <td>-0.809697</td>\n",
       "    </tr>\n",
       "  </tbody>\n",
       "</table>\n",
       "</div>"
      ],
      "text/plain": [
       "                        ATAvg  PAvg     RHAvg     WDAvg     WSAvg\n",
       "Date_Time                                                        \n",
       "2018-04-13 22:00:00 -0.184687  -1.0  0.799282  0.160198 -0.878518\n",
       "2018-04-13 23:00:00 -0.177157  -1.0  0.758845  0.181630 -0.880516\n",
       "2018-04-14 00:00:00 -0.233735  -1.0  0.838563 -0.105185 -0.878700\n",
       "2018-04-14 01:00:00 -0.259718  -1.0  0.875864 -0.329415 -0.752678\n",
       "2018-04-14 02:00:00 -0.280070  -1.0  0.891832 -0.130911 -0.809697"
      ]
     },
     "execution_count": 73,
     "metadata": {},
     "output_type": "execute_result"
    }
   ],
   "source": [
    "test.head()"
   ]
  },
  {
   "cell_type": "code",
   "execution_count": 74,
   "metadata": {},
   "outputs": [
    {
     "data": {
      "text/html": [
       "<div>\n",
       "<style scoped>\n",
       "    .dataframe tbody tr th:only-of-type {\n",
       "        vertical-align: middle;\n",
       "    }\n",
       "\n",
       "    .dataframe tbody tr th {\n",
       "        vertical-align: top;\n",
       "    }\n",
       "\n",
       "    .dataframe thead th {\n",
       "        text-align: right;\n",
       "    }\n",
       "</style>\n",
       "<table border=\"1\" class=\"dataframe\">\n",
       "  <thead>\n",
       "    <tr style=\"text-align: right;\">\n",
       "      <th></th>\n",
       "      <th>ATAvg</th>\n",
       "      <th>PAvg</th>\n",
       "      <th>RHAvg</th>\n",
       "      <th>WDAvg</th>\n",
       "      <th>WSAvg</th>\n",
       "    </tr>\n",
       "    <tr>\n",
       "      <th>Date_Time</th>\n",
       "      <th></th>\n",
       "      <th></th>\n",
       "      <th></th>\n",
       "      <th></th>\n",
       "      <th></th>\n",
       "    </tr>\n",
       "  </thead>\n",
       "  <tbody>\n",
       "    <tr>\n",
       "      <th>2013-01-11 00:00:00</th>\n",
       "      <td>-0.281495</td>\n",
       "      <td>-1.0</td>\n",
       "      <td>0.847971</td>\n",
       "      <td>0.192203</td>\n",
       "      <td>-0.912112</td>\n",
       "    </tr>\n",
       "    <tr>\n",
       "      <th>2013-01-11 01:00:00</th>\n",
       "      <td>-0.318942</td>\n",
       "      <td>-1.0</td>\n",
       "      <td>0.861051</td>\n",
       "      <td>0.308467</td>\n",
       "      <td>-0.887416</td>\n",
       "    </tr>\n",
       "    <tr>\n",
       "      <th>2013-01-11 02:00:00</th>\n",
       "      <td>-0.358696</td>\n",
       "      <td>-1.0</td>\n",
       "      <td>0.907078</td>\n",
       "      <td>-0.153070</td>\n",
       "      <td>-0.855820</td>\n",
       "    </tr>\n",
       "    <tr>\n",
       "      <th>2013-01-11 03:00:00</th>\n",
       "      <td>-0.376945</td>\n",
       "      <td>-1.0</td>\n",
       "      <td>0.898599</td>\n",
       "      <td>-0.615884</td>\n",
       "      <td>-0.747957</td>\n",
       "    </tr>\n",
       "    <tr>\n",
       "      <th>2013-01-11 04:00:00</th>\n",
       "      <td>-0.390988</td>\n",
       "      <td>-1.0</td>\n",
       "      <td>0.778135</td>\n",
       "      <td>-0.203422</td>\n",
       "      <td>-0.755765</td>\n",
       "    </tr>\n",
       "  </tbody>\n",
       "</table>\n",
       "</div>"
      ],
      "text/plain": [
       "                        ATAvg  PAvg     RHAvg     WDAvg     WSAvg\n",
       "Date_Time                                                        \n",
       "2013-01-11 00:00:00 -0.281495  -1.0  0.847971  0.192203 -0.912112\n",
       "2013-01-11 01:00:00 -0.318942  -1.0  0.861051  0.308467 -0.887416\n",
       "2013-01-11 02:00:00 -0.358696  -1.0  0.907078 -0.153070 -0.855820\n",
       "2013-01-11 03:00:00 -0.376945  -1.0  0.898599 -0.615884 -0.747957\n",
       "2013-01-11 04:00:00 -0.390988  -1.0  0.778135 -0.203422 -0.755765"
      ]
     },
     "execution_count": 74,
     "metadata": {},
     "output_type": "execute_result"
    }
   ],
   "source": [
    "train.head()"
   ]
  },
  {
   "cell_type": "code",
   "execution_count": 37,
   "metadata": {},
   "outputs": [],
   "source": [
    "### Convert Series to samples\n",
    "def split_series(series, n_past, n_future):\n",
    "  #\n",
    "  # n_past ==> no of past observations\n",
    "  #\n",
    "  # n_future ==> no of future observations \n",
    "  #\n",
    "    X, y = list(), list()\n",
    "    for window_start in range(len(series)):\n",
    "        past_end = window_start + n_past\n",
    "        future_end = past_end + n_future\n",
    "        if future_end > len(series):\n",
    "            break\n",
    "    # slicing the past and future parts of the window\n",
    "    past, future = series[window_start:past_end, :], series[past_end:future_end, :]\n",
    "    X.append(past)\n",
    "    y.append(future)\n",
    "    return np.array(X), np.array(y)"
   ]
  },
  {
   "cell_type": "code",
   "execution_count": 72,
   "metadata": {},
   "outputs": [
    {
     "data": {
      "text/html": [
       "<div>\n",
       "<style scoped>\n",
       "    .dataframe tbody tr th:only-of-type {\n",
       "        vertical-align: middle;\n",
       "    }\n",
       "\n",
       "    .dataframe tbody tr th {\n",
       "        vertical-align: top;\n",
       "    }\n",
       "\n",
       "    .dataframe thead th {\n",
       "        text-align: right;\n",
       "    }\n",
       "</style>\n",
       "<table border=\"1\" class=\"dataframe\">\n",
       "  <thead>\n",
       "    <tr style=\"text-align: right;\">\n",
       "      <th></th>\n",
       "      <th>ATAvg</th>\n",
       "      <th>PAvg</th>\n",
       "      <th>RHAvg</th>\n",
       "      <th>WDAvg</th>\n",
       "      <th>WSAvg</th>\n",
       "    </tr>\n",
       "    <tr>\n",
       "      <th>Date_Time</th>\n",
       "      <th></th>\n",
       "      <th></th>\n",
       "      <th></th>\n",
       "      <th></th>\n",
       "      <th></th>\n",
       "    </tr>\n",
       "  </thead>\n",
       "  <tbody>\n",
       "    <tr>\n",
       "      <th>2013-01-11 00:00:00</th>\n",
       "      <td>-0.281495</td>\n",
       "      <td>-1.0</td>\n",
       "      <td>0.847971</td>\n",
       "      <td>0.192203</td>\n",
       "      <td>-0.912112</td>\n",
       "    </tr>\n",
       "    <tr>\n",
       "      <th>2013-01-11 01:00:00</th>\n",
       "      <td>-0.318942</td>\n",
       "      <td>-1.0</td>\n",
       "      <td>0.861051</td>\n",
       "      <td>0.308467</td>\n",
       "      <td>-0.887416</td>\n",
       "    </tr>\n",
       "    <tr>\n",
       "      <th>2013-01-11 02:00:00</th>\n",
       "      <td>-0.358696</td>\n",
       "      <td>-1.0</td>\n",
       "      <td>0.907078</td>\n",
       "      <td>-0.153070</td>\n",
       "      <td>-0.855820</td>\n",
       "    </tr>\n",
       "    <tr>\n",
       "      <th>2013-01-11 03:00:00</th>\n",
       "      <td>-0.376945</td>\n",
       "      <td>-1.0</td>\n",
       "      <td>0.898599</td>\n",
       "      <td>-0.615884</td>\n",
       "      <td>-0.747957</td>\n",
       "    </tr>\n",
       "    <tr>\n",
       "      <th>2013-01-11 04:00:00</th>\n",
       "      <td>-0.390988</td>\n",
       "      <td>-1.0</td>\n",
       "      <td>0.778135</td>\n",
       "      <td>-0.203422</td>\n",
       "      <td>-0.755765</td>\n",
       "    </tr>\n",
       "  </tbody>\n",
       "</table>\n",
       "</div>"
      ],
      "text/plain": [
       "                        ATAvg  PAvg     RHAvg     WDAvg     WSAvg\n",
       "Date_Time                                                        \n",
       "2013-01-11 00:00:00 -0.281495  -1.0  0.847971  0.192203 -0.912112\n",
       "2013-01-11 01:00:00 -0.318942  -1.0  0.861051  0.308467 -0.887416\n",
       "2013-01-11 02:00:00 -0.358696  -1.0  0.907078 -0.153070 -0.855820\n",
       "2013-01-11 03:00:00 -0.376945  -1.0  0.898599 -0.615884 -0.747957\n",
       "2013-01-11 04:00:00 -0.390988  -1.0  0.778135 -0.203422 -0.755765"
      ]
     },
     "execution_count": 72,
     "metadata": {},
     "output_type": "execute_result"
    }
   ],
   "source": [
    "dfh.head()"
   ]
  },
  {
   "cell_type": "code",
   "execution_count": 39,
   "metadata": {},
   "outputs": [],
   "source": [
    "n_past = 120\n",
    "n_future = 48 \n",
    "n_features = 5"
   ]
  },
  {
   "cell_type": "code",
   "execution_count": 40,
   "metadata": {},
   "outputs": [],
   "source": [
    "X_train, y_train = split_series(train.values,n_past, n_future+1)\n",
    "X_train = X_train.reshape((X_train.shape[0], X_train.shape[1],n_features))\n",
    "y_train = y_train.reshape((y_train.shape[0], y_train.shape[1], n_features))\n",
    "X_test, y_test = split_series(test.values,n_past, n_future+1)\n",
    "X_test = X_test.reshape((X_test.shape[0], X_test.shape[1],n_features))\n",
    "y_test = y_test.reshape((y_test.shape[0], y_test.shape[1], n_features))"
   ]
  },
  {
   "cell_type": "code",
   "execution_count": 41,
   "metadata": {},
   "outputs": [
    {
     "name": "stdout",
     "output_type": "stream",
     "text": [
      "Xtrain size = (1, 120, 5)\n",
      "Ytrain size = (1, 48, 5)\n",
      "Xtest size = (1, 120, 5)\n",
      "Ytest size = (1, 48, 5)\n"
     ]
    }
   ],
   "source": [
    "print(f'Xtrain size = {X_train.shape}')\n",
    "print(f'Ytrain size = {y_train.shape}')\n",
    "print(f'Xtest size = {X_test.shape}')\n",
    "print(f'Ytest size = {y_test.shape}')"
   ]
  },
  {
   "cell_type": "code",
   "execution_count": 42,
   "metadata": {},
   "outputs": [
    {
     "name": "stdout",
     "output_type": "stream",
     "text": [
      "Model: \"model\"\n",
      "__________________________________________________________________________________________________\n",
      "Layer (type)                    Output Shape         Param #     Connected to                     \n",
      "==================================================================================================\n",
      "input_1 (InputLayer)            [(None, 120, 5)]     0                                            \n",
      "__________________________________________________________________________________________________\n",
      "lstm (LSTM)                     [(None, 100), (None, 42400       input_1[0][0]                    \n",
      "__________________________________________________________________________________________________\n",
      "repeat_vector (RepeatVector)    (None, 48, 100)      0           lstm[0][0]                       \n",
      "__________________________________________________________________________________________________\n",
      "lstm_1 (LSTM)                   (None, 48, 100)      80400       repeat_vector[0][0]              \n",
      "                                                                 lstm[0][1]                       \n",
      "                                                                 lstm[0][2]                       \n",
      "__________________________________________________________________________________________________\n",
      "time_distributed (TimeDistribut (None, 48, 5)        505         lstm_1[0][0]                     \n",
      "==================================================================================================\n",
      "Total params: 123,305\n",
      "Trainable params: 123,305\n",
      "Non-trainable params: 0\n",
      "__________________________________________________________________________________________________\n"
     ]
    }
   ],
   "source": [
    "# E1D1\n",
    "# n_features ==> no of features at each timestep in the data.\n",
    "#\n",
    "encoder_inputs = tf.keras.layers.Input(shape=(n_past, n_features))\n",
    "encoder_l1 = tf.keras.layers.LSTM(100, return_state=True)\n",
    "encoder_outputs1 = encoder_l1(encoder_inputs)\n",
    "\n",
    "encoder_states1 = encoder_outputs1[1:]\n",
    "\n",
    "#\n",
    "decoder_inputs = tf.keras.layers.RepeatVector(n_future)(encoder_outputs1[0])\n",
    "\n",
    "#\n",
    "decoder_l1 = tf.keras.layers.LSTM(100, return_sequences=True)(decoder_inputs,initial_state = encoder_states1)\n",
    "decoder_outputs1 = tf.keras.layers.TimeDistributed(tf.keras.layers.Dense(n_features))(decoder_l1)\n",
    "\n",
    "#\n",
    "model_e1d1 = tf.keras.models.Model(encoder_inputs,decoder_outputs1)\n",
    "\n",
    "#\n",
    "model_e1d1.summary()"
   ]
  },
  {
   "cell_type": "code",
   "execution_count": 43,
   "metadata": {},
   "outputs": [
    {
     "name": "stdout",
     "output_type": "stream",
     "text": [
      "Model: \"model_1\"\n",
      "__________________________________________________________________________________________________\n",
      "Layer (type)                    Output Shape         Param #     Connected to                     \n",
      "==================================================================================================\n",
      "input_2 (InputLayer)            [(None, 120, 5)]     0                                            \n",
      "__________________________________________________________________________________________________\n",
      "lstm_2 (LSTM)                   [(None, 120, 100), ( 42400       input_2[0][0]                    \n",
      "__________________________________________________________________________________________________\n",
      "lstm_3 (LSTM)                   [(None, 100), (None, 80400       lstm_2[0][0]                     \n",
      "__________________________________________________________________________________________________\n",
      "repeat_vector_1 (RepeatVector)  (None, 48, 100)      0           lstm_3[0][0]                     \n",
      "__________________________________________________________________________________________________\n",
      "lstm_4 (LSTM)                   (None, 48, 100)      80400       repeat_vector_1[0][0]            \n",
      "                                                                 lstm_2[0][1]                     \n",
      "                                                                 lstm_2[0][2]                     \n",
      "__________________________________________________________________________________________________\n",
      "lstm_5 (LSTM)                   (None, 48, 100)      80400       lstm_4[0][0]                     \n",
      "                                                                 lstm_3[0][1]                     \n",
      "                                                                 lstm_3[0][2]                     \n",
      "__________________________________________________________________________________________________\n",
      "time_distributed_1 (TimeDistrib (None, 48, 5)        505         lstm_5[0][0]                     \n",
      "==================================================================================================\n",
      "Total params: 284,105\n",
      "Trainable params: 284,105\n",
      "Non-trainable params: 0\n",
      "__________________________________________________________________________________________________\n"
     ]
    }
   ],
   "source": [
    "# E2D2\n",
    "# n_features ==> no of features at each timestep in the data.\n",
    "#\n",
    "encoder_inputs = tf.keras.layers.Input(shape=(n_past, n_features))\n",
    "encoder_l1 = tf.keras.layers.LSTM(100,return_sequences = True, return_state=True)\n",
    "encoder_outputs1 = encoder_l1(encoder_inputs)\n",
    "encoder_states1 = encoder_outputs1[1:]\n",
    "encoder_l2 = tf.keras.layers.LSTM(100, return_state=True)\n",
    "encoder_outputs2 = encoder_l2(encoder_outputs1[0])\n",
    "encoder_states2 = encoder_outputs2[1:]\n",
    "#\n",
    "decoder_inputs = tf.keras.layers.RepeatVector(n_future)(encoder_outputs2[0])\n",
    "#\n",
    "decoder_l1 = tf.keras.layers.LSTM(100, return_sequences=True)(decoder_inputs,initial_state = encoder_states1)\n",
    "decoder_l2 = tf.keras.layers.LSTM(100, return_sequences=True)(decoder_l1,initial_state = encoder_states2)\n",
    "decoder_outputs2 = tf.keras.layers.TimeDistributed(tf.keras.layers.Dense(n_features))(decoder_l2)\n",
    "#\n",
    "model_e2d2 = tf.keras.models.Model(encoder_inputs,decoder_outputs2)\n",
    "#\n",
    "model_e2d2.summary()\n"
   ]
  },
  {
   "cell_type": "code",
   "execution_count": 70,
   "metadata": {},
   "outputs": [
    {
     "data": {
      "text/plain": [
       "(1, 120, 5)"
      ]
     },
     "execution_count": 70,
     "metadata": {},
     "output_type": "execute_result"
    }
   ],
   "source": [
    "X_test.shape"
   ]
  },
  {
   "cell_type": "code",
   "execution_count": 68,
   "metadata": {},
   "outputs": [
    {
     "name": "stdout",
     "output_type": "stream",
     "text": [
      "8.11 s or 0.14 min\n"
     ]
    }
   ],
   "source": [
    "import time\n",
    "start_time = time.time()\n",
    "reduce_lr = tf.keras.callbacks.LearningRateScheduler(lambda x: 1e-3 * 0.90 ** x)\n",
    "model_e1d1.compile(optimizer=tf.keras.optimizers.Adam(), loss=tf.keras.losses.Huber())\n",
    "history_e1d1=model_e1d1.fit(X_train,y_train,epochs=25,validation_data=(X_test,y_test),batch_size=32,verbose=0,callbacks=[reduce_lr])\n",
    "print(f'{round((time.time() - start_time),2)} s or {round((time.time() - start_time)/60,2)} min')"
   ]
  },
  {
   "cell_type": "code",
   "execution_count": null,
   "metadata": {},
   "outputs": [],
   "source": [
    "start_time = time.time()\n",
    "model_e2d2.compile(optimizer=tf.keras.optimizers.Adam(), loss=tf.keras.losses.Huber())\n",
    "history_e2d2=model_e2d2.fit(X_train,y_train,epochs=25,validation_data=(X_test,y_test),batch_size=32,verbose=0,callbacks=[reduce_lr])\n",
    "print(f'{round((time.time() - start_time)/60,2)} min')"
   ]
  },
  {
   "cell_type": "code",
   "execution_count": 71,
   "metadata": {},
   "outputs": [
    {
     "data": {
      "text/plain": [
       "<matplotlib.axes._subplots.AxesSubplot at 0x7fcc471f24d0>"
      ]
     },
     "execution_count": 71,
     "metadata": {},
     "output_type": "execute_result"
    },
    {
     "data": {
      "image/png": "[encoded data removed]",
      "text/plain": [
       "<Figure size 432x288 with 1 Axes>"
      ]
     },
     "metadata": {
      "needs_background": "light"
     },
     "output_type": "display_data"
    }
   ],
   "source": [
    "losses = pd.DataFrame(model_e1d1.history.history)\n",
    "losses.plot()"
   ]
  },
  {
   "cell_type": "code",
   "execution_count": 46,
   "metadata": {},
   "outputs": [
    {
     "data": {
      "text/plain": [
       "<matplotlib.axes._subplots.AxesSubplot at 0x7fcc332b2490>"
      ]
     },
     "execution_count": 46,
     "metadata": {},
     "output_type": "execute_result"
    },
    {
     "data": {
      "image/png": "[encoded data removed]",
      "text/plain": [
       "<Figure size 432x288 with 1 Axes>"
      ]
     },
     "metadata": {
      "needs_background": "light"
     },
     "output_type": "display_data"
    }
   ],
   "source": [
    "losses = pd.DataFrame(model_e2d2.history.history)\n",
    "losses.plot()"
   ]
  },
  {
   "cell_type": "code",
   "execution_count": 47,
   "metadata": {},
   "outputs": [],
   "source": [
    "pred_e1d1=model_e1d1.predict(X_test)\n",
    "pred_e2d2=model_e2d2.predict(X_test)"
   ]
  },
  {
   "cell_type": "code",
   "execution_count": 48,
   "metadata": {},
   "outputs": [],
   "source": [
    "### Inverse scaling of the predicted values\n",
    "for index,i in enumerate(train_df.columns):\n",
    "    scaler = scalers['scaler_'+i]\n",
    "    #pred1_e1d1[:,:,index]=scaler.inverse_transform(pred1_e1d1[:,:,index])\n",
    "    pred_e1d1[:,:,index]=scaler.inverse_transform(pred_e1d1[:,:,index])\n",
    "    #pred1_e2d2[:,:,index]=scaler.inverse_transform(pred1_e2d2[:,:,index])\n",
    "    pred_e2d2[:,:,index]=scaler.inverse_transform(pred_e2d2[:,:,index])\n",
    "    y_train[:,:,index]=scaler.inverse_transform(y_train[:,:,index])\n",
    "    y_test[:,:,index]=scaler.inverse_transform(y_test[:,:,index])"
   ]
  },
  {
   "cell_type": "code",
   "execution_count": 49,
   "metadata": {},
   "outputs": [
    {
     "name": "stdout",
     "output_type": "stream",
     "text": [
      "ATAvg\n",
      "at  0 h:\n",
      "MAE-E1D1 :  1.612571029663087, MAE-E2D2 :  1.2891400146484386\n",
      "at  6 h:\n",
      "MAE-E1D1 :  2.1503404617309556, MAE-E2D2 :  5.871388816833495\n",
      "at  12 h:\n",
      "MAE-E1D1 :  1.824923426310221, MAE-E2D2 :  0.9275616709391272\n",
      "at  24 h:\n",
      "MAE-E1D1 :  3.0933006032307944, MAE-E2D2 :  2.6880367024739584\n",
      "at  48 h:\n",
      "MAE-E1D1 :  1.612571029663087, MAE-E2D2 :  1.2891400146484386\n",
      "\n",
      "\n",
      "PAvg\n",
      "at  0 h:\n",
      "MAE-E1D1 :  0.4458346664905548, MAE-E2D2 :  0.5045493245124817\n",
      "at  6 h:\n",
      "MAE-E1D1 :  1.9379273653030396, MAE-E2D2 :  0.8988102674484253\n",
      "at  12 h:\n",
      "MAE-E1D1 :  0.8309270143508911, MAE-E2D2 :  0.37352481484413147\n",
      "at  24 h:\n",
      "MAE-E1D1 :  0.4905948042869568, MAE-E2D2 :  0.5330395102500916\n",
      "at  48 h:\n",
      "MAE-E1D1 :  0.4458346664905548, MAE-E2D2 :  0.5045493245124817\n",
      "\n",
      "\n",
      "RHAvg\n",
      "at  0 h:\n",
      "MAE-E1D1 :  5.125492248535153, MAE-E2D2 :  9.586979064941403\n",
      "at  6 h:\n",
      "MAE-E1D1 :  4.8002894083658845, MAE-E2D2 :  2.025401814778647\n",
      "at  12 h:\n",
      "MAE-E1D1 :  21.338782653808607, MAE-E2D2 :  17.88182006835939\n",
      "at  24 h:\n",
      "MAE-E1D1 :  8.235795898437487, MAE-E2D2 :  12.140642089843737\n",
      "at  48 h:\n",
      "MAE-E1D1 :  5.125492248535153, MAE-E2D2 :  9.586979064941403\n",
      "\n",
      "\n",
      "WDAvg\n",
      "at  0 h:\n",
      "MAE-E1D1 :  25.429464111328116, MAE-E2D2 :  43.10947204589843\n",
      "at  6 h:\n",
      "MAE-E1D1 :  57.70670817057288, MAE-E2D2 :  58.99834940592444\n",
      "at  12 h:\n",
      "MAE-E1D1 :  20.625500284830764, MAE-E2D2 :  17.849865519205764\n",
      "at  24 h:\n",
      "MAE-E1D1 :  17.738433837890625, MAE-E2D2 :  2.9780731201171875\n",
      "at  48 h:\n",
      "MAE-E1D1 :  25.429464111328116, MAE-E2D2 :  43.10947204589843\n",
      "\n",
      "\n",
      "WSAvg\n",
      "at  0 h:\n",
      "MAE-E1D1 :  3.748010473251343, MAE-E2D2 :  3.609015064239502\n",
      "at  6 h:\n",
      "MAE-E1D1 :  3.0643171056111633, MAE-E2D2 :  4.2021373494466125\n",
      "at  12 h:\n",
      "MAE-E1D1 :  0.8665243021647135, MAE-E2D2 :  0.5233174196879069\n",
      "at  24 h:\n",
      "MAE-E1D1 :  2.6900033950805664, MAE-E2D2 :  2.5474703311920166\n",
      "at  48 h:\n",
      "MAE-E1D1 :  3.748010473251343, MAE-E2D2 :  3.609015064239502\n",
      "\n",
      "\n"
     ]
    }
   ],
   "source": [
    "## Check error\n",
    "from sklearn.metrics import mean_absolute_error\n",
    "for index,i in enumerate(train_df.columns):\n",
    "    print(i)\n",
    "    for j in [0,6,12,24,48]:\n",
    "        print(\"at \",j,\"h:\")\n",
    "        print(\"MAE-E1D1 : \",mean_absolute_error(y_test[:,j-1,index],pred_e1d1[:,j-1,index]),end=\", \")\n",
    "        print(\"MAE-E2D2 : \",mean_absolute_error(y_test[:,j-1,index],pred_e2d2[:,j-1,index]))\n",
    "    print()\n",
    "    print()"
   ]
  },
  {
   "cell_type": "markdown",
   "metadata": {},
   "source": [
    "## AEROPUERTO"
   ]
  },
  {
   "cell_type": "code",
   "execution_count": 4,
   "metadata": {},
   "outputs": [
    {
     "name": "stderr",
     "output_type": "stream",
     "text": [
      "/Users/tamarahuete/opt/anaconda3/lib/python3.7/site-packages/IPython/core/interactiveshell.py:3058: DtypeWarning: Columns (1) have mixed types.Specify dtype option on import or set low_memory=False.\n",
      "  interactivity=interactivity, compiler=compiler, result=result)\n"
     ]
    }
   ],
   "source": [
    "df = pd.read_csv('data/aeropuerto_processed.csv')"
   ]
  },
  {
   "cell_type": "code",
   "execution_count": 5,
   "metadata": {},
   "outputs": [],
   "source": [
    "if 'Date_Time' in df:\n",
    "    df.set_index('Date_Time', inplace =True)\n",
    "    df.index =pd.to_datetime(df.index)\n",
    "    df.sort_index(axis=0,inplace= True)"
   ]
  },
  {
   "cell_type": "code",
   "execution_count": 6,
   "metadata": {},
   "outputs": [
    {
     "data": {
      "text/plain": [
       "Index(['Type', 'Freq', 'ATAvg', 'ATMax', 'ATMin', 'PAvg', 'RHAvg', 'RHMax',\n",
       "       'RHMin', 'WDAvg', 'WDMax', 'WDMin', 'WSAvg', 'WSMax', 'WSMin', 'BAT',\n",
       "       'station', 'validated_range', 'year', 'month', 'day', 'hour', 'minute',\n",
       "       'WDcorr', 'WDcorr_abs'],\n",
       "      dtype='object')"
      ]
     },
     "execution_count": 6,
     "metadata": {},
     "output_type": "execute_result"
    }
   ],
   "source": [
    "df.columns"
   ]
  },
  {
   "cell_type": "code",
   "execution_count": 7,
   "metadata": {},
   "outputs": [],
   "source": [
    "df= df[['ATAvg','PAvg','RHAvg','WDAvg','WSAvg']]"
   ]
  },
  {
   "cell_type": "code",
   "execution_count": 8,
   "metadata": {},
   "outputs": [
    {
     "data": {
      "text/plain": [
       "ATAvg    0\n",
       "PAvg     0\n",
       "RHAvg    0\n",
       "WDAvg    0\n",
       "WSAvg    0\n",
       "dtype: int64"
      ]
     },
     "execution_count": 8,
     "metadata": {},
     "output_type": "execute_result"
    }
   ],
   "source": [
    "df = df.replace('?', np.nan)\n",
    "df.isnull().sum()"
   ]
  },
  {
   "cell_type": "code",
   "execution_count": 9,
   "metadata": {},
   "outputs": [
    {
     "data": {
      "text/html": [
       "<div>\n",
       "<style scoped>\n",
       "    .dataframe tbody tr th:only-of-type {\n",
       "        vertical-align: middle;\n",
       "    }\n",
       "\n",
       "    .dataframe tbody tr th {\n",
       "        vertical-align: top;\n",
       "    }\n",
       "\n",
       "    .dataframe thead th {\n",
       "        text-align: right;\n",
       "    }\n",
       "</style>\n",
       "<table border=\"1\" class=\"dataframe\">\n",
       "  <thead>\n",
       "    <tr style=\"text-align: right;\">\n",
       "      <th></th>\n",
       "      <th>ATAvg</th>\n",
       "      <th>PAvg</th>\n",
       "      <th>RHAvg</th>\n",
       "      <th>WDAvg</th>\n",
       "      <th>WSAvg</th>\n",
       "    </tr>\n",
       "    <tr>\n",
       "      <th>Date_Time</th>\n",
       "      <th></th>\n",
       "      <th></th>\n",
       "      <th></th>\n",
       "      <th></th>\n",
       "      <th></th>\n",
       "    </tr>\n",
       "  </thead>\n",
       "  <tbody>\n",
       "    <tr>\n",
       "      <th>2013-03-19 21:00:00</th>\n",
       "      <td>10.210222</td>\n",
       "      <td>0.0</td>\n",
       "      <td>91.747889</td>\n",
       "      <td>113.840</td>\n",
       "      <td>0.80</td>\n",
       "    </tr>\n",
       "    <tr>\n",
       "      <th>2013-03-19 22:00:00</th>\n",
       "      <td>10.091000</td>\n",
       "      <td>0.0</td>\n",
       "      <td>92.442667</td>\n",
       "      <td>121.850</td>\n",
       "      <td>0.83</td>\n",
       "    </tr>\n",
       "    <tr>\n",
       "      <th>2013-03-19 23:00:00</th>\n",
       "      <td>10.488333</td>\n",
       "      <td>0.0</td>\n",
       "      <td>91.371167</td>\n",
       "      <td>137.505</td>\n",
       "      <td>0.86</td>\n",
       "    </tr>\n",
       "    <tr>\n",
       "      <th>2013-03-20 00:00:00</th>\n",
       "      <td>10.345333</td>\n",
       "      <td>0.0</td>\n",
       "      <td>91.590000</td>\n",
       "      <td>145.045</td>\n",
       "      <td>0.82</td>\n",
       "    </tr>\n",
       "    <tr>\n",
       "      <th>2013-03-20 01:00:00</th>\n",
       "      <td>9.946000</td>\n",
       "      <td>0.0</td>\n",
       "      <td>92.781667</td>\n",
       "      <td>143.450</td>\n",
       "      <td>0.76</td>\n",
       "    </tr>\n",
       "  </tbody>\n",
       "</table>\n",
       "</div>"
      ],
      "text/plain": [
       "                         ATAvg  PAvg      RHAvg    WDAvg  WSAvg\n",
       "Date_Time                                                      \n",
       "2013-03-19 21:00:00  10.210222   0.0  91.747889  113.840   0.80\n",
       "2013-03-19 22:00:00  10.091000   0.0  92.442667  121.850   0.83\n",
       "2013-03-19 23:00:00  10.488333   0.0  91.371167  137.505   0.86\n",
       "2013-03-20 00:00:00  10.345333   0.0  91.590000  145.045   0.82\n",
       "2013-03-20 01:00:00   9.946000   0.0  92.781667  143.450   0.76"
      ]
     },
     "execution_count": 9,
     "metadata": {},
     "output_type": "execute_result"
    }
   ],
   "source": [
    "## resample to hour\n",
    "dfh = df.resample('60min').mean()\n",
    "pavg = df.resample('60min').sum()\n",
    "dfh['PAvg'] = pavg['PAvg']\n",
    "dfh.head()"
   ]
  },
  {
   "cell_type": "code",
   "execution_count": 10,
   "metadata": {},
   "outputs": [],
   "source": [
    "# Split in train/test  at 75% 25%\n",
    "train_df,test_df = dfh[0:round(len(dfh)*0.75)], dfh[round(len(dfh)*0.75):] "
   ]
  },
  {
   "cell_type": "code",
   "execution_count": null,
   "metadata": {},
   "outputs": [],
   "source": [
    "### Scale the values (-1 to 1)\n",
    "train = train_df\n",
    "scalers={}\n",
    "for i in train_df.columns:\n",
    "    scaler = MinMaxScaler(feature_range=(-1,1))\n",
    "    s_s = scaler.fit_transform(train[i].values.reshape(-1,1))\n",
    "    s_s=np.reshape(s_s,len(s_s))\n",
    "    scalers['scaler_'+ i] = scaler\n",
    "    train[i]=s_s\n",
    "test = test_df\n",
    "for i in train_df.columns:\n",
    "    scaler = scalers['scaler_'+i]\n",
    "    s_s = scaler.transform(test[i].values.reshape(-1,1))\n",
    "    s_s=np.reshape(s_s,len(s_s))\n",
    "    scalers['scaler_'+i] = scaler\n",
    "    test[i]=s_s"
   ]
  },
  {
   "cell_type": "code",
   "execution_count": 12,
   "metadata": {},
   "outputs": [
    {
     "data": {
      "text/html": [
       "<div>\n",
       "<style scoped>\n",
       "    .dataframe tbody tr th:only-of-type {\n",
       "        vertical-align: middle;\n",
       "    }\n",
       "\n",
       "    .dataframe tbody tr th {\n",
       "        vertical-align: top;\n",
       "    }\n",
       "\n",
       "    .dataframe thead th {\n",
       "        text-align: right;\n",
       "    }\n",
       "</style>\n",
       "<table border=\"1\" class=\"dataframe\">\n",
       "  <thead>\n",
       "    <tr style=\"text-align: right;\">\n",
       "      <th></th>\n",
       "      <th>ATAvg</th>\n",
       "      <th>PAvg</th>\n",
       "      <th>RHAvg</th>\n",
       "      <th>WDAvg</th>\n",
       "      <th>WSAvg</th>\n",
       "    </tr>\n",
       "    <tr>\n",
       "      <th>Date_Time</th>\n",
       "      <th></th>\n",
       "      <th></th>\n",
       "      <th></th>\n",
       "      <th></th>\n",
       "      <th></th>\n",
       "    </tr>\n",
       "  </thead>\n",
       "  <tbody>\n",
       "    <tr>\n",
       "      <th>2018-04-27 19:00:00</th>\n",
       "      <td>-0.119514</td>\n",
       "      <td>-1.000000</td>\n",
       "      <td>0.655233</td>\n",
       "      <td>-0.237784</td>\n",
       "      <td>-0.554171</td>\n",
       "    </tr>\n",
       "    <tr>\n",
       "      <th>2018-04-27 20:00:00</th>\n",
       "      <td>-0.154611</td>\n",
       "      <td>-1.000000</td>\n",
       "      <td>0.668925</td>\n",
       "      <td>-0.091556</td>\n",
       "      <td>-0.540897</td>\n",
       "    </tr>\n",
       "    <tr>\n",
       "      <th>2018-04-27 21:00:00</th>\n",
       "      <td>-0.172465</td>\n",
       "      <td>-1.000000</td>\n",
       "      <td>0.780082</td>\n",
       "      <td>-0.472192</td>\n",
       "      <td>-0.688145</td>\n",
       "    </tr>\n",
       "    <tr>\n",
       "      <th>2018-04-27 22:00:00</th>\n",
       "      <td>-0.177828</td>\n",
       "      <td>-0.981982</td>\n",
       "      <td>0.858764</td>\n",
       "      <td>0.069984</td>\n",
       "      <td>-0.731032</td>\n",
       "    </tr>\n",
       "    <tr>\n",
       "      <th>2018-04-27 23:00:00</th>\n",
       "      <td>-0.202810</td>\n",
       "      <td>-0.945946</td>\n",
       "      <td>0.897047</td>\n",
       "      <td>-0.051107</td>\n",
       "      <td>-0.765751</td>\n",
       "    </tr>\n",
       "  </tbody>\n",
       "</table>\n",
       "</div>"
      ],
      "text/plain": [
       "                        ATAvg      PAvg     RHAvg     WDAvg     WSAvg\n",
       "Date_Time                                                            \n",
       "2018-04-27 19:00:00 -0.119514 -1.000000  0.655233 -0.237784 -0.554171\n",
       "2018-04-27 20:00:00 -0.154611 -1.000000  0.668925 -0.091556 -0.540897\n",
       "2018-04-27 21:00:00 -0.172465 -1.000000  0.780082 -0.472192 -0.688145\n",
       "2018-04-27 22:00:00 -0.177828 -0.981982  0.858764  0.069984 -0.731032\n",
       "2018-04-27 23:00:00 -0.202810 -0.945946  0.897047 -0.051107 -0.765751"
      ]
     },
     "execution_count": 12,
     "metadata": {},
     "output_type": "execute_result"
    }
   ],
   "source": [
    "test.head()"
   ]
  },
  {
   "cell_type": "code",
   "execution_count": 13,
   "metadata": {},
   "outputs": [
    {
     "data": {
      "text/html": [
       "<div>\n",
       "<style scoped>\n",
       "    .dataframe tbody tr th:only-of-type {\n",
       "        vertical-align: middle;\n",
       "    }\n",
       "\n",
       "    .dataframe tbody tr th {\n",
       "        vertical-align: top;\n",
       "    }\n",
       "\n",
       "    .dataframe thead th {\n",
       "        text-align: right;\n",
       "    }\n",
       "</style>\n",
       "<table border=\"1\" class=\"dataframe\">\n",
       "  <thead>\n",
       "    <tr style=\"text-align: right;\">\n",
       "      <th></th>\n",
       "      <th>ATAvg</th>\n",
       "      <th>PAvg</th>\n",
       "      <th>RHAvg</th>\n",
       "      <th>WDAvg</th>\n",
       "      <th>WSAvg</th>\n",
       "    </tr>\n",
       "    <tr>\n",
       "      <th>Date_Time</th>\n",
       "      <th></th>\n",
       "      <th></th>\n",
       "      <th></th>\n",
       "      <th></th>\n",
       "      <th></th>\n",
       "    </tr>\n",
       "  </thead>\n",
       "  <tbody>\n",
       "    <tr>\n",
       "      <th>2013-03-19 21:00:00</th>\n",
       "      <td>-0.402310</td>\n",
       "      <td>-1.0</td>\n",
       "      <td>0.797496</td>\n",
       "      <td>-0.330929</td>\n",
       "      <td>-0.803942</td>\n",
       "    </tr>\n",
       "    <tr>\n",
       "      <th>2013-03-19 22:00:00</th>\n",
       "      <td>-0.412023</td>\n",
       "      <td>-1.0</td>\n",
       "      <td>0.814138</td>\n",
       "      <td>-0.283728</td>\n",
       "      <td>-0.796589</td>\n",
       "    </tr>\n",
       "    <tr>\n",
       "      <th>2013-03-19 23:00:00</th>\n",
       "      <td>-0.379654</td>\n",
       "      <td>-1.0</td>\n",
       "      <td>0.788473</td>\n",
       "      <td>-0.191477</td>\n",
       "      <td>-0.789237</td>\n",
       "    </tr>\n",
       "    <tr>\n",
       "      <th>2013-03-20 00:00:00</th>\n",
       "      <td>-0.391304</td>\n",
       "      <td>-1.0</td>\n",
       "      <td>0.793715</td>\n",
       "      <td>-0.147046</td>\n",
       "      <td>-0.799040</td>\n",
       "    </tr>\n",
       "    <tr>\n",
       "      <th>2013-03-20 01:00:00</th>\n",
       "      <td>-0.423835</td>\n",
       "      <td>-1.0</td>\n",
       "      <td>0.822257</td>\n",
       "      <td>-0.156445</td>\n",
       "      <td>-0.813745</td>\n",
       "    </tr>\n",
       "  </tbody>\n",
       "</table>\n",
       "</div>"
      ],
      "text/plain": [
       "                        ATAvg  PAvg     RHAvg     WDAvg     WSAvg\n",
       "Date_Time                                                        \n",
       "2013-03-19 21:00:00 -0.402310  -1.0  0.797496 -0.330929 -0.803942\n",
       "2013-03-19 22:00:00 -0.412023  -1.0  0.814138 -0.283728 -0.796589\n",
       "2013-03-19 23:00:00 -0.379654  -1.0  0.788473 -0.191477 -0.789237\n",
       "2013-03-20 00:00:00 -0.391304  -1.0  0.793715 -0.147046 -0.799040\n",
       "2013-03-20 01:00:00 -0.423835  -1.0  0.822257 -0.156445 -0.813745"
      ]
     },
     "execution_count": 13,
     "metadata": {},
     "output_type": "execute_result"
    }
   ],
   "source": [
    "train.head()"
   ]
  },
  {
   "cell_type": "code",
   "execution_count": 14,
   "metadata": {},
   "outputs": [],
   "source": [
    "### Convert Series to samples\n",
    "def split_series(series, n_past, n_future):\n",
    "  #\n",
    "  # n_past ==> no of past observations\n",
    "  #\n",
    "  # n_future ==> no of future observations \n",
    "  #\n",
    "    X, y = list(), list()\n",
    "    for window_start in range(len(series)):\n",
    "        past_end = window_start + n_past\n",
    "        future_end = past_end + n_future\n",
    "        if future_end > len(series):\n",
    "            break\n",
    "    # slicing the past and future parts of the window\n",
    "    past, future = series[window_start:past_end, :], series[past_end:future_end, :]\n",
    "    X.append(past)\n",
    "    y.append(future)\n",
    "    return np.array(X), np.array(y)"
   ]
  },
  {
   "cell_type": "code",
   "execution_count": 15,
   "metadata": {},
   "outputs": [
    {
     "data": {
      "text/html": [
       "<div>\n",
       "<style scoped>\n",
       "    .dataframe tbody tr th:only-of-type {\n",
       "        vertical-align: middle;\n",
       "    }\n",
       "\n",
       "    .dataframe tbody tr th {\n",
       "        vertical-align: top;\n",
       "    }\n",
       "\n",
       "    .dataframe thead th {\n",
       "        text-align: right;\n",
       "    }\n",
       "</style>\n",
       "<table border=\"1\" class=\"dataframe\">\n",
       "  <thead>\n",
       "    <tr style=\"text-align: right;\">\n",
       "      <th></th>\n",
       "      <th>ATAvg</th>\n",
       "      <th>PAvg</th>\n",
       "      <th>RHAvg</th>\n",
       "      <th>WDAvg</th>\n",
       "      <th>WSAvg</th>\n",
       "    </tr>\n",
       "    <tr>\n",
       "      <th>Date_Time</th>\n",
       "      <th></th>\n",
       "      <th></th>\n",
       "      <th></th>\n",
       "      <th></th>\n",
       "      <th></th>\n",
       "    </tr>\n",
       "  </thead>\n",
       "  <tbody>\n",
       "    <tr>\n",
       "      <th>2013-03-19 21:00:00</th>\n",
       "      <td>-0.402310</td>\n",
       "      <td>-1.0</td>\n",
       "      <td>0.797496</td>\n",
       "      <td>-0.330929</td>\n",
       "      <td>-0.803942</td>\n",
       "    </tr>\n",
       "    <tr>\n",
       "      <th>2013-03-19 22:00:00</th>\n",
       "      <td>-0.412023</td>\n",
       "      <td>-1.0</td>\n",
       "      <td>0.814138</td>\n",
       "      <td>-0.283728</td>\n",
       "      <td>-0.796589</td>\n",
       "    </tr>\n",
       "    <tr>\n",
       "      <th>2013-03-19 23:00:00</th>\n",
       "      <td>-0.379654</td>\n",
       "      <td>-1.0</td>\n",
       "      <td>0.788473</td>\n",
       "      <td>-0.191477</td>\n",
       "      <td>-0.789237</td>\n",
       "    </tr>\n",
       "    <tr>\n",
       "      <th>2013-03-20 00:00:00</th>\n",
       "      <td>-0.391304</td>\n",
       "      <td>-1.0</td>\n",
       "      <td>0.793715</td>\n",
       "      <td>-0.147046</td>\n",
       "      <td>-0.799040</td>\n",
       "    </tr>\n",
       "    <tr>\n",
       "      <th>2013-03-20 01:00:00</th>\n",
       "      <td>-0.423835</td>\n",
       "      <td>-1.0</td>\n",
       "      <td>0.822257</td>\n",
       "      <td>-0.156445</td>\n",
       "      <td>-0.813745</td>\n",
       "    </tr>\n",
       "  </tbody>\n",
       "</table>\n",
       "</div>"
      ],
      "text/plain": [
       "                        ATAvg  PAvg     RHAvg     WDAvg     WSAvg\n",
       "Date_Time                                                        \n",
       "2013-03-19 21:00:00 -0.402310  -1.0  0.797496 -0.330929 -0.803942\n",
       "2013-03-19 22:00:00 -0.412023  -1.0  0.814138 -0.283728 -0.796589\n",
       "2013-03-19 23:00:00 -0.379654  -1.0  0.788473 -0.191477 -0.789237\n",
       "2013-03-20 00:00:00 -0.391304  -1.0  0.793715 -0.147046 -0.799040\n",
       "2013-03-20 01:00:00 -0.423835  -1.0  0.822257 -0.156445 -0.813745"
      ]
     },
     "execution_count": 15,
     "metadata": {},
     "output_type": "execute_result"
    }
   ],
   "source": [
    "dfh.head()"
   ]
  },
  {
   "cell_type": "code",
   "execution_count": 16,
   "metadata": {},
   "outputs": [],
   "source": [
    "n_past = 120\n",
    "n_future = 48 \n",
    "n_features = 5"
   ]
  },
  {
   "cell_type": "code",
   "execution_count": 17,
   "metadata": {},
   "outputs": [],
   "source": [
    "X_train, y_train = split_series(train.values,n_past, n_future+1)\n",
    "X_train = X_train.reshape((X_train.shape[0], X_train.shape[1],n_features))\n",
    "y_train = y_train.reshape((y_train.shape[0], y_train.shape[1], n_features))\n",
    "X_test, y_test = split_series(test.values,n_past, n_future+1)\n",
    "X_test = X_test.reshape((X_test.shape[0], X_test.shape[1],n_features))\n",
    "y_test = y_test.reshape((y_test.shape[0], y_test.shape[1], n_features))"
   ]
  },
  {
   "cell_type": "code",
   "execution_count": 18,
   "metadata": {},
   "outputs": [
    {
     "name": "stdout",
     "output_type": "stream",
     "text": [
      "Xtrain size = (1, 120, 5)\n",
      "Ytrain size = (1, 48, 5)\n",
      "Xtest size = (1, 120, 5)\n",
      "Ytest size = (1, 48, 5)\n"
     ]
    }
   ],
   "source": [
    "print(f'Xtrain size = {X_train.shape}')\n",
    "print(f'Ytrain size = {y_train.shape}')\n",
    "print(f'Xtest size = {X_test.shape}')\n",
    "print(f'Ytest size = {y_test.shape}')\n"
   ]
  },
  {
   "cell_type": "code",
   "execution_count": 19,
   "metadata": {},
   "outputs": [
    {
     "name": "stdout",
     "output_type": "stream",
     "text": [
      "Model: \"model\"\n",
      "__________________________________________________________________________________________________\n",
      "Layer (type)                    Output Shape         Param #     Connected to                     \n",
      "==================================================================================================\n",
      "input_1 (InputLayer)            [(None, 120, 5)]     0                                            \n",
      "__________________________________________________________________________________________________\n",
      "lstm (LSTM)                     [(None, 100), (None, 42400       input_1[0][0]                    \n",
      "__________________________________________________________________________________________________\n",
      "repeat_vector (RepeatVector)    (None, 48, 100)      0           lstm[0][0]                       \n",
      "__________________________________________________________________________________________________\n",
      "lstm_1 (LSTM)                   (None, 48, 100)      80400       repeat_vector[0][0]              \n",
      "                                                                 lstm[0][1]                       \n",
      "                                                                 lstm[0][2]                       \n",
      "__________________________________________________________________________________________________\n",
      "time_distributed (TimeDistribut (None, 48, 5)        505         lstm_1[0][0]                     \n",
      "==================================================================================================\n",
      "Total params: 123,305\n",
      "Trainable params: 123,305\n",
      "Non-trainable params: 0\n",
      "__________________________________________________________________________________________________\n"
     ]
    }
   ],
   "source": [
    "# E1D1\n",
    "# n_features ==> no of features at each timestep in the data.\n",
    "#\n",
    "encoder_inputs = tf.keras.layers.Input(shape=(n_past, n_features))\n",
    "encoder_l1 = tf.keras.layers.LSTM(100, return_state=True)\n",
    "encoder_outputs1 = encoder_l1(encoder_inputs)\n",
    "\n",
    "encoder_states1 = encoder_outputs1[1:]\n",
    "\n",
    "#\n",
    "decoder_inputs = tf.keras.layers.RepeatVector(n_future)(encoder_outputs1[0])\n",
    "\n",
    "#\n",
    "decoder_l1 = tf.keras.layers.LSTM(100, return_sequences=True)(decoder_inputs,initial_state = encoder_states1)\n",
    "decoder_outputs1 = tf.keras.layers.TimeDistributed(tf.keras.layers.Dense(n_features))(decoder_l1)\n",
    "\n",
    "#\n",
    "model_e1d1 = tf.keras.models.Model(encoder_inputs,decoder_outputs1)\n",
    "\n",
    "#\n",
    "model_e1d1.summary()"
   ]
  },
  {
   "cell_type": "code",
   "execution_count": 20,
   "metadata": {},
   "outputs": [
    {
     "name": "stdout",
     "output_type": "stream",
     "text": [
      "Model: \"model_1\"\n",
      "__________________________________________________________________________________________________\n",
      "Layer (type)                    Output Shape         Param #     Connected to                     \n",
      "==================================================================================================\n",
      "input_2 (InputLayer)            [(None, 120, 5)]     0                                            \n",
      "__________________________________________________________________________________________________\n",
      "lstm_2 (LSTM)                   [(None, 120, 100), ( 42400       input_2[0][0]                    \n",
      "__________________________________________________________________________________________________\n",
      "lstm_3 (LSTM)                   [(None, 100), (None, 80400       lstm_2[0][0]                     \n",
      "__________________________________________________________________________________________________\n",
      "repeat_vector_1 (RepeatVector)  (None, 48, 100)      0           lstm_3[0][0]                     \n",
      "__________________________________________________________________________________________________\n",
      "lstm_4 (LSTM)                   (None, 48, 100)      80400       repeat_vector_1[0][0]            \n",
      "                                                                 lstm_2[0][1]                     \n",
      "                                                                 lstm_2[0][2]                     \n",
      "__________________________________________________________________________________________________\n",
      "lstm_5 (LSTM)                   (None, 48, 100)      80400       lstm_4[0][0]                     \n",
      "                                                                 lstm_3[0][1]                     \n",
      "                                                                 lstm_3[0][2]                     \n",
      "__________________________________________________________________________________________________\n",
      "time_distributed_1 (TimeDistrib (None, 48, 5)        505         lstm_5[0][0]                     \n",
      "==================================================================================================\n",
      "Total params: 284,105\n",
      "Trainable params: 284,105\n",
      "Non-trainable params: 0\n",
      "__________________________________________________________________________________________________\n"
     ]
    }
   ],
   "source": [
    "# E2D2\n",
    "# n_features ==> no of features at each timestep in the data.\n",
    "#\n",
    "encoder_inputs = tf.keras.layers.Input(shape=(n_past, n_features))\n",
    "encoder_l1 = tf.keras.layers.LSTM(100,return_sequences = True, return_state=True)\n",
    "encoder_outputs1 = encoder_l1(encoder_inputs)\n",
    "encoder_states1 = encoder_outputs1[1:]\n",
    "encoder_l2 = tf.keras.layers.LSTM(100, return_state=True)\n",
    "encoder_outputs2 = encoder_l2(encoder_outputs1[0])\n",
    "encoder_states2 = encoder_outputs2[1:]\n",
    "#\n",
    "decoder_inputs = tf.keras.layers.RepeatVector(n_future)(encoder_outputs2[0])\n",
    "#\n",
    "decoder_l1 = tf.keras.layers.LSTM(100, return_sequences=True)(decoder_inputs,initial_state = encoder_states1)\n",
    "decoder_l2 = tf.keras.layers.LSTM(100, return_sequences=True)(decoder_l1,initial_state = encoder_states2)\n",
    "decoder_outputs2 = tf.keras.layers.TimeDistributed(tf.keras.layers.Dense(n_features))(decoder_l2)\n",
    "#\n",
    "model_e2d2 = tf.keras.models.Model(encoder_inputs,decoder_outputs2)\n",
    "#\n",
    "model_e2d2.summary()\n"
   ]
  },
  {
   "cell_type": "code",
   "execution_count": 21,
   "metadata": {},
   "outputs": [],
   "source": [
    "reduce_lr = tf.keras.callbacks.LearningRateScheduler(lambda x: 1e-3 * 0.90 ** x)\n",
    "model_e1d1.compile(optimizer=tf.keras.optimizers.Adam(), loss=tf.keras.losses.Huber())\n",
    "history_e1d1=model_e1d1.fit(X_train,y_train,epochs=25,validation_data=(X_test,y_test),batch_size=32,verbose=0,callbacks=[reduce_lr])\n",
    "model_e2d2.compile(optimizer=tf.keras.optimizers.Adam(), loss=tf.keras.losses.Huber())\n",
    "history_e2d2=model_e2d2.fit(X_train,y_train,epochs=25,validation_data=(X_test,y_test),batch_size=32,verbose=0,callbacks=[reduce_lr])"
   ]
  },
  {
   "cell_type": "code",
   "execution_count": 28,
   "metadata": {},
   "outputs": [
    {
     "data": {
      "text/plain": [
       "<tensorflow.python.keras.callbacks.LearningRateScheduler at 0x7fad24312410>"
      ]
     },
     "execution_count": 28,
     "metadata": {},
     "output_type": "execute_result"
    }
   ],
   "source": [
    "####. Figures???"
   ]
  },
  {
   "cell_type": "code",
   "execution_count": 22,
   "metadata": {},
   "outputs": [],
   "source": [
    "pred_e1d1=model_e1d1.predict(X_test)\n",
    "pred_e2d2=model_e2d2.predict(X_test)"
   ]
  },
  {
   "cell_type": "code",
   "execution_count": 23,
   "metadata": {},
   "outputs": [],
   "source": [
    "### Inverse scaling of the predicted values\n",
    "for index,i in enumerate(train_df.columns):\n",
    "    scaler = scalers['scaler_'+i]\n",
    "    #pred1_e1d1[:,:,index]=scaler.inverse_transform(pred1_e1d1[:,:,index])\n",
    "    pred_e1d1[:,:,index]=scaler.inverse_transform(pred_e1d1[:,:,index])\n",
    "    #pred1_e2d2[:,:,index]=scaler.inverse_transform(pred1_e2d2[:,:,index])\n",
    "    pred_e2d2[:,:,index]=scaler.inverse_transform(pred_e2d2[:,:,index])\n",
    "    y_train[:,:,index]=scaler.inverse_transform(y_train[:,:,index])\n",
    "    y_test[:,:,index]=scaler.inverse_transform(y_test[:,:,index])"
   ]
  },
  {
   "cell_type": "code",
   "execution_count": 24,
   "metadata": {},
   "outputs": [
    {
     "name": "stdout",
     "output_type": "stream",
     "text": [
      "ATAvg\n",
      "at  0 h:\n",
      "MAE-E1D1 :  2.0600948460896795, MAE-E2D2 :  1.3208589680989569\n",
      "at  6 h:\n",
      "MAE-E1D1 :  9.954228960673017, MAE-E2D2 :  10.871825777689619\n",
      "at  12 h:\n",
      "MAE-E1D1 :  0.9938341140747085, MAE-E2D2 :  0.965655899047853\n",
      "at  24 h:\n",
      "MAE-E1D1 :  3.411917470296224, MAE-E2D2 :  2.7904002888997397\n",
      "at  48 h:\n",
      "MAE-E1D1 :  2.0600948460896795, MAE-E2D2 :  1.3208589680989569\n",
      "\n",
      "\n",
      "PAvg\n",
      "at  0 h:\n",
      "MAE-E1D1 :  0.8331714272499084, MAE-E2D2 :  0.0960567370057106\n",
      "at  6 h:\n",
      "MAE-E1D1 :  2.3795223236083984, MAE-E2D2 :  0.6938095688819885\n",
      "at  12 h:\n",
      "MAE-E1D1 :  0.04147510603070259, MAE-E2D2 :  1.3646267652511597\n",
      "at  24 h:\n",
      "MAE-E1D1 :  0.7933887243270874, MAE-E2D2 :  0.5309763550758362\n",
      "at  48 h:\n",
      "MAE-E1D1 :  0.8331714272499084, MAE-E2D2 :  0.0960567370057106\n",
      "\n",
      "\n",
      "RHAvg\n",
      "at  0 h:\n",
      "MAE-E1D1 :  26.79463256835937, MAE-E2D2 :  19.626824035644525\n",
      "at  6 h:\n",
      "MAE-E1D1 :  45.221726175944006, MAE-E2D2 :  55.85253977457682\n",
      "at  12 h:\n",
      "MAE-E1D1 :  4.482549133300779, MAE-E2D2 :  2.5958456420898415\n",
      "at  24 h:\n",
      "MAE-E1D1 :  16.931717529296876, MAE-E2D2 :  11.186493530273438\n",
      "at  48 h:\n",
      "MAE-E1D1 :  26.79463256835937, MAE-E2D2 :  19.626824035644525\n",
      "\n",
      "\n",
      "WDAvg\n",
      "at  0 h:\n",
      "MAE-E1D1 :  78.53598592122398, MAE-E2D2 :  94.75916097005211\n",
      "at  6 h:\n",
      "MAE-E1D1 :  19.877393391927086, MAE-E2D2 :  56.1705605061849\n",
      "at  12 h:\n",
      "MAE-E1D1 :  56.58367126464843, MAE-E2D2 :  50.650779418945305\n",
      "at  24 h:\n",
      "MAE-E1D1 :  31.08603698730471, MAE-E2D2 :  17.390953369140647\n",
      "at  48 h:\n",
      "MAE-E1D1 :  78.53598592122398, MAE-E2D2 :  94.75916097005211\n",
      "\n",
      "\n",
      "WSAvg\n",
      "at  0 h:\n",
      "MAE-E1D1 :  0.4261327838897704, MAE-E2D2 :  0.18761600494384778\n",
      "at  6 h:\n",
      "MAE-E1D1 :  2.238453458150228, MAE-E2D2 :  3.805696676572164\n",
      "at  12 h:\n",
      "MAE-E1D1 :  1.7287984053293863, MAE-E2D2 :  1.300286070505778\n",
      "at  24 h:\n",
      "MAE-E1D1 :  0.6504492410024005, MAE-E2D2 :  1.1343705304463703\n",
      "at  48 h:\n",
      "MAE-E1D1 :  0.4261327838897704, MAE-E2D2 :  0.18761600494384778\n",
      "\n",
      "\n"
     ]
    }
   ],
   "source": [
    "## Check error\n",
    "from sklearn.metrics import mean_absolute_error\n",
    "for index,i in enumerate(train_df.columns):\n",
    "    print(i)\n",
    "    for j in [0,6,12,24,48]:\n",
    "        print(\"at \",j,\"h:\")\n",
    "        print(\"MAE-E1D1 : \",mean_absolute_error(y_test[:,j-1,index],pred_e1d1[:,j-1,index]),end=\", \")\n",
    "        print(\"MAE-E2D2 : \",mean_absolute_error(y_test[:,j-1,index],pred_e2d2[:,j-1,index]))\n",
    "    print()\n",
    "    print()"
   ]
  },
  {
   "cell_type": "markdown",
   "metadata": {},
   "source": [
    "## BAÑOS"
   ]
  },
  {
   "cell_type": "code",
   "execution_count": 26,
   "metadata": {},
   "outputs": [
    {
     "name": "stderr",
     "output_type": "stream",
     "text": [
      "/Users/tamarahuete/opt/anaconda3/lib/python3.7/site-packages/IPython/core/interactiveshell.py:3058: DtypeWarning: Columns (1) have mixed types.Specify dtype option on import or set low_memory=False.\n",
      "  interactivity=interactivity, compiler=compiler, result=result)\n"
     ]
    }
   ],
   "source": [
    "df = pd.read_csv('data/banos_processed.csv')"
   ]
  },
  {
   "cell_type": "code",
   "execution_count": 27,
   "metadata": {},
   "outputs": [],
   "source": [
    "if 'Date_Time' in df:\n",
    "    df.set_index('Date_Time', inplace =True)\n",
    "    df.index =pd.to_datetime(df.index)\n",
    "    df.sort_index(axis=0,inplace= True)"
   ]
  },
  {
   "cell_type": "code",
   "execution_count": 28,
   "metadata": {},
   "outputs": [
    {
     "data": {
      "text/plain": [
       "Index(['Type', 'Freq', 'ATAvg', 'ATMax', 'ATMin', 'PAvg', 'RHAvg', 'RHMax',\n",
       "       'RHMin', 'WDAvg', 'WDMax', 'WDMin', 'WSAvg', 'WSMax', 'WSMin', 'BAT',\n",
       "       'station', 'validated_range', 'WDcorr', 'WDcorr_abs', 'year', 'month',\n",
       "       'day', 'hour', 'minute'],\n",
       "      dtype='object')"
      ]
     },
     "execution_count": 28,
     "metadata": {},
     "output_type": "execute_result"
    }
   ],
   "source": [
    "df.columns"
   ]
  },
  {
   "cell_type": "code",
   "execution_count": 29,
   "metadata": {},
   "outputs": [],
   "source": [
    "df= df[['ATAvg','PAvg','RHAvg','WDAvg','WSAvg']]"
   ]
  },
  {
   "cell_type": "code",
   "execution_count": 30,
   "metadata": {},
   "outputs": [
    {
     "data": {
      "text/plain": [
       "ATAvg    0\n",
       "PAvg     0\n",
       "RHAvg    0\n",
       "WDAvg    0\n",
       "WSAvg    0\n",
       "dtype: int64"
      ]
     },
     "execution_count": 30,
     "metadata": {},
     "output_type": "execute_result"
    }
   ],
   "source": [
    "df = df.replace('?', np.nan)\n",
    "df.isnull().sum()"
   ]
  },
  {
   "cell_type": "code",
   "execution_count": 31,
   "metadata": {},
   "outputs": [
    {
     "data": {
      "text/html": [
       "<div>\n",
       "<style scoped>\n",
       "    .dataframe tbody tr th:only-of-type {\n",
       "        vertical-align: middle;\n",
       "    }\n",
       "\n",
       "    .dataframe tbody tr th {\n",
       "        vertical-align: top;\n",
       "    }\n",
       "\n",
       "    .dataframe thead th {\n",
       "        text-align: right;\n",
       "    }\n",
       "</style>\n",
       "<table border=\"1\" class=\"dataframe\">\n",
       "  <thead>\n",
       "    <tr style=\"text-align: right;\">\n",
       "      <th></th>\n",
       "      <th>ATAvg</th>\n",
       "      <th>PAvg</th>\n",
       "      <th>RHAvg</th>\n",
       "      <th>WDAvg</th>\n",
       "      <th>WSAvg</th>\n",
       "    </tr>\n",
       "    <tr>\n",
       "      <th>Date_Time</th>\n",
       "      <th></th>\n",
       "      <th></th>\n",
       "      <th></th>\n",
       "      <th></th>\n",
       "      <th></th>\n",
       "    </tr>\n",
       "  </thead>\n",
       "  <tbody>\n",
       "    <tr>\n",
       "      <th>2013-01-11 00:00:00</th>\n",
       "      <td>17.086667</td>\n",
       "      <td>0.0</td>\n",
       "      <td>76.722500</td>\n",
       "      <td>116.919167</td>\n",
       "      <td>2.453333</td>\n",
       "    </tr>\n",
       "    <tr>\n",
       "      <th>2013-01-11 01:00:00</th>\n",
       "      <td>17.156667</td>\n",
       "      <td>0.0</td>\n",
       "      <td>75.093333</td>\n",
       "      <td>134.541667</td>\n",
       "      <td>2.428333</td>\n",
       "    </tr>\n",
       "    <tr>\n",
       "      <th>2013-01-11 02:00:00</th>\n",
       "      <td>15.993333</td>\n",
       "      <td>0.0</td>\n",
       "      <td>79.185000</td>\n",
       "      <td>92.775000</td>\n",
       "      <td>2.516667</td>\n",
       "    </tr>\n",
       "    <tr>\n",
       "      <th>2013-01-11 03:00:00</th>\n",
       "      <td>15.458333</td>\n",
       "      <td>0.1</td>\n",
       "      <td>79.840833</td>\n",
       "      <td>82.837500</td>\n",
       "      <td>2.677500</td>\n",
       "    </tr>\n",
       "    <tr>\n",
       "      <th>2013-01-11 04:00:00</th>\n",
       "      <td>15.466667</td>\n",
       "      <td>0.3</td>\n",
       "      <td>79.782500</td>\n",
       "      <td>86.693333</td>\n",
       "      <td>2.192500</td>\n",
       "    </tr>\n",
       "  </tbody>\n",
       "</table>\n",
       "</div>"
      ],
      "text/plain": [
       "                         ATAvg  PAvg      RHAvg       WDAvg     WSAvg\n",
       "Date_Time                                                            \n",
       "2013-01-11 00:00:00  17.086667   0.0  76.722500  116.919167  2.453333\n",
       "2013-01-11 01:00:00  17.156667   0.0  75.093333  134.541667  2.428333\n",
       "2013-01-11 02:00:00  15.993333   0.0  79.185000   92.775000  2.516667\n",
       "2013-01-11 03:00:00  15.458333   0.1  79.840833   82.837500  2.677500\n",
       "2013-01-11 04:00:00  15.466667   0.3  79.782500   86.693333  2.192500"
      ]
     },
     "execution_count": 31,
     "metadata": {},
     "output_type": "execute_result"
    }
   ],
   "source": [
    "## resample to hour\n",
    "dfh = df.resample('60min').mean()\n",
    "pavg = df.resample('60min').sum()\n",
    "dfh['PAvg'] = pavg['PAvg']\n",
    "dfh.head()"
   ]
  },
  {
   "cell_type": "code",
   "execution_count": 32,
   "metadata": {},
   "outputs": [],
   "source": [
    "# Split in train/test  at 75% 25%\n",
    "train_df,test_df = dfh[0:round(len(dfh)*0.75)], dfh[round(len(dfh)*0.75):] "
   ]
  },
  {
   "cell_type": "code",
   "execution_count": null,
   "metadata": {},
   "outputs": [],
   "source": [
    "### Scale the values (-1 to 1)\n",
    "train = train_df\n",
    "scalers={}\n",
    "for i in train_df.columns:\n",
    "    scaler = MinMaxScaler(feature_range=(-1,1))\n",
    "    s_s = scaler.fit_transform(train[i].values.reshape(-1,1))\n",
    "    s_s=np.reshape(s_s,len(s_s))\n",
    "    scalers['scaler_'+ i] = scaler\n",
    "    train[i]=s_s\n",
    "test = test_df\n",
    "for i in train_df.columns:\n",
    "    scaler = scalers['scaler_'+i]\n",
    "    s_s = scaler.transform(test[i].values.reshape(-1,1))\n",
    "    s_s=np.reshape(s_s,len(s_s))\n",
    "    scalers['scaler_'+i] = scaler\n",
    "    test[i]=s_s"
   ]
  },
  {
   "cell_type": "code",
   "execution_count": 34,
   "metadata": {},
   "outputs": [
    {
     "data": {
      "text/html": [
       "<div>\n",
       "<style scoped>\n",
       "    .dataframe tbody tr th:only-of-type {\n",
       "        vertical-align: middle;\n",
       "    }\n",
       "\n",
       "    .dataframe tbody tr th {\n",
       "        vertical-align: top;\n",
       "    }\n",
       "\n",
       "    .dataframe thead th {\n",
       "        text-align: right;\n",
       "    }\n",
       "</style>\n",
       "<table border=\"1\" class=\"dataframe\">\n",
       "  <thead>\n",
       "    <tr style=\"text-align: right;\">\n",
       "      <th></th>\n",
       "      <th>ATAvg</th>\n",
       "      <th>PAvg</th>\n",
       "      <th>RHAvg</th>\n",
       "      <th>WDAvg</th>\n",
       "      <th>WSAvg</th>\n",
       "    </tr>\n",
       "    <tr>\n",
       "      <th>Date_Time</th>\n",
       "      <th></th>\n",
       "      <th></th>\n",
       "      <th></th>\n",
       "      <th></th>\n",
       "      <th></th>\n",
       "    </tr>\n",
       "  </thead>\n",
       "  <tbody>\n",
       "    <tr>\n",
       "      <th>2018-04-10 02:00:00</th>\n",
       "      <td>-0.320553</td>\n",
       "      <td>-1.000000</td>\n",
       "      <td>0.902750</td>\n",
       "      <td>-0.493866</td>\n",
       "      <td>-0.715615</td>\n",
       "    </tr>\n",
       "    <tr>\n",
       "      <th>2018-04-10 03:00:00</th>\n",
       "      <td>-0.327834</td>\n",
       "      <td>-1.000000</td>\n",
       "      <td>0.905682</td>\n",
       "      <td>-0.476657</td>\n",
       "      <td>-0.801614</td>\n",
       "    </tr>\n",
       "    <tr>\n",
       "      <th>2018-04-10 04:00:00</th>\n",
       "      <td>-0.328756</td>\n",
       "      <td>-1.000000</td>\n",
       "      <td>0.910425</td>\n",
       "      <td>-0.401171</td>\n",
       "      <td>-0.859896</td>\n",
       "    </tr>\n",
       "    <tr>\n",
       "      <th>2018-04-10 05:00:00</th>\n",
       "      <td>-0.335484</td>\n",
       "      <td>-0.836478</td>\n",
       "      <td>0.922477</td>\n",
       "      <td>-0.494451</td>\n",
       "      <td>-0.841291</td>\n",
       "    </tr>\n",
       "    <tr>\n",
       "      <th>2018-04-10 06:00:00</th>\n",
       "      <td>-0.341014</td>\n",
       "      <td>-0.987421</td>\n",
       "      <td>0.951772</td>\n",
       "      <td>-0.407136</td>\n",
       "      <td>-0.836545</td>\n",
       "    </tr>\n",
       "  </tbody>\n",
       "</table>\n",
       "</div>"
      ],
      "text/plain": [
       "                        ATAvg      PAvg     RHAvg     WDAvg     WSAvg\n",
       "Date_Time                                                            \n",
       "2018-04-10 02:00:00 -0.320553 -1.000000  0.902750 -0.493866 -0.715615\n",
       "2018-04-10 03:00:00 -0.327834 -1.000000  0.905682 -0.476657 -0.801614\n",
       "2018-04-10 04:00:00 -0.328756 -1.000000  0.910425 -0.401171 -0.859896\n",
       "2018-04-10 05:00:00 -0.335484 -0.836478  0.922477 -0.494451 -0.841291\n",
       "2018-04-10 06:00:00 -0.341014 -0.987421  0.951772 -0.407136 -0.836545"
      ]
     },
     "execution_count": 34,
     "metadata": {},
     "output_type": "execute_result"
    }
   ],
   "source": [
    "test.head()"
   ]
  },
  {
   "cell_type": "code",
   "execution_count": 35,
   "metadata": {},
   "outputs": [
    {
     "data": {
      "text/html": [
       "<div>\n",
       "<style scoped>\n",
       "    .dataframe tbody tr th:only-of-type {\n",
       "        vertical-align: middle;\n",
       "    }\n",
       "\n",
       "    .dataframe tbody tr th {\n",
       "        vertical-align: top;\n",
       "    }\n",
       "\n",
       "    .dataframe thead th {\n",
       "        text-align: right;\n",
       "    }\n",
       "</style>\n",
       "<table border=\"1\" class=\"dataframe\">\n",
       "  <thead>\n",
       "    <tr style=\"text-align: right;\">\n",
       "      <th></th>\n",
       "      <th>ATAvg</th>\n",
       "      <th>PAvg</th>\n",
       "      <th>RHAvg</th>\n",
       "      <th>WDAvg</th>\n",
       "      <th>WSAvg</th>\n",
       "    </tr>\n",
       "    <tr>\n",
       "      <th>Date_Time</th>\n",
       "      <th></th>\n",
       "      <th></th>\n",
       "      <th></th>\n",
       "      <th></th>\n",
       "      <th></th>\n",
       "    </tr>\n",
       "  </thead>\n",
       "  <tbody>\n",
       "    <tr>\n",
       "      <th>2013-01-11 00:00:00</th>\n",
       "      <td>-0.241290</td>\n",
       "      <td>-1.000000</td>\n",
       "      <td>0.423872</td>\n",
       "      <td>-0.386583</td>\n",
       "      <td>-0.441101</td>\n",
       "    </tr>\n",
       "    <tr>\n",
       "      <th>2013-01-11 01:00:00</th>\n",
       "      <td>-0.233548</td>\n",
       "      <td>-1.000000</td>\n",
       "      <td>0.384072</td>\n",
       "      <td>-0.274159</td>\n",
       "      <td>-0.446796</td>\n",
       "    </tr>\n",
       "    <tr>\n",
       "      <th>2013-01-11 02:00:00</th>\n",
       "      <td>-0.362212</td>\n",
       "      <td>-1.000000</td>\n",
       "      <td>0.484029</td>\n",
       "      <td>-0.540613</td>\n",
       "      <td>-0.426673</td>\n",
       "    </tr>\n",
       "    <tr>\n",
       "      <th>2013-01-11 03:00:00</th>\n",
       "      <td>-0.421382</td>\n",
       "      <td>-0.987421</td>\n",
       "      <td>0.500051</td>\n",
       "      <td>-0.604010</td>\n",
       "      <td>-0.390033</td>\n",
       "    </tr>\n",
       "    <tr>\n",
       "      <th>2013-01-11 04:00:00</th>\n",
       "      <td>-0.420461</td>\n",
       "      <td>-0.962264</td>\n",
       "      <td>0.498626</td>\n",
       "      <td>-0.579411</td>\n",
       "      <td>-0.500522</td>\n",
       "    </tr>\n",
       "  </tbody>\n",
       "</table>\n",
       "</div>"
      ],
      "text/plain": [
       "                        ATAvg      PAvg     RHAvg     WDAvg     WSAvg\n",
       "Date_Time                                                            \n",
       "2013-01-11 00:00:00 -0.241290 -1.000000  0.423872 -0.386583 -0.441101\n",
       "2013-01-11 01:00:00 -0.233548 -1.000000  0.384072 -0.274159 -0.446796\n",
       "2013-01-11 02:00:00 -0.362212 -1.000000  0.484029 -0.540613 -0.426673\n",
       "2013-01-11 03:00:00 -0.421382 -0.987421  0.500051 -0.604010 -0.390033\n",
       "2013-01-11 04:00:00 -0.420461 -0.962264  0.498626 -0.579411 -0.500522"
      ]
     },
     "execution_count": 35,
     "metadata": {},
     "output_type": "execute_result"
    }
   ],
   "source": [
    "train.head()"
   ]
  },
  {
   "cell_type": "code",
   "execution_count": 36,
   "metadata": {},
   "outputs": [],
   "source": [
    "### Convert Series to samples\n",
    "def split_series(series, n_past, n_future):\n",
    "  #\n",
    "  # n_past ==> no of past observations\n",
    "  #\n",
    "  # n_future ==> no of future observations \n",
    "  #\n",
    "    X, y = list(), list()\n",
    "    for window_start in range(len(series)):\n",
    "        past_end = window_start + n_past\n",
    "        future_end = past_end + n_future\n",
    "        if future_end > len(series):\n",
    "            break\n",
    "    # slicing the past and future parts of the window\n",
    "    past, future = series[window_start:past_end, :], series[past_end:future_end, :]\n",
    "    X.append(past)\n",
    "    y.append(future)\n",
    "    return np.array(X), np.array(y)"
   ]
  },
  {
   "cell_type": "code",
   "execution_count": 37,
   "metadata": {},
   "outputs": [
    {
     "data": {
      "text/html": [
       "<div>\n",
       "<style scoped>\n",
       "    .dataframe tbody tr th:only-of-type {\n",
       "        vertical-align: middle;\n",
       "    }\n",
       "\n",
       "    .dataframe tbody tr th {\n",
       "        vertical-align: top;\n",
       "    }\n",
       "\n",
       "    .dataframe thead th {\n",
       "        text-align: right;\n",
       "    }\n",
       "</style>\n",
       "<table border=\"1\" class=\"dataframe\">\n",
       "  <thead>\n",
       "    <tr style=\"text-align: right;\">\n",
       "      <th></th>\n",
       "      <th>ATAvg</th>\n",
       "      <th>PAvg</th>\n",
       "      <th>RHAvg</th>\n",
       "      <th>WDAvg</th>\n",
       "      <th>WSAvg</th>\n",
       "    </tr>\n",
       "    <tr>\n",
       "      <th>Date_Time</th>\n",
       "      <th></th>\n",
       "      <th></th>\n",
       "      <th></th>\n",
       "      <th></th>\n",
       "      <th></th>\n",
       "    </tr>\n",
       "  </thead>\n",
       "  <tbody>\n",
       "    <tr>\n",
       "      <th>2013-01-11 00:00:00</th>\n",
       "      <td>-0.241290</td>\n",
       "      <td>-1.000000</td>\n",
       "      <td>0.423872</td>\n",
       "      <td>-0.386583</td>\n",
       "      <td>-0.441101</td>\n",
       "    </tr>\n",
       "    <tr>\n",
       "      <th>2013-01-11 01:00:00</th>\n",
       "      <td>-0.233548</td>\n",
       "      <td>-1.000000</td>\n",
       "      <td>0.384072</td>\n",
       "      <td>-0.274159</td>\n",
       "      <td>-0.446796</td>\n",
       "    </tr>\n",
       "    <tr>\n",
       "      <th>2013-01-11 02:00:00</th>\n",
       "      <td>-0.362212</td>\n",
       "      <td>-1.000000</td>\n",
       "      <td>0.484029</td>\n",
       "      <td>-0.540613</td>\n",
       "      <td>-0.426673</td>\n",
       "    </tr>\n",
       "    <tr>\n",
       "      <th>2013-01-11 03:00:00</th>\n",
       "      <td>-0.421382</td>\n",
       "      <td>-0.987421</td>\n",
       "      <td>0.500051</td>\n",
       "      <td>-0.604010</td>\n",
       "      <td>-0.390033</td>\n",
       "    </tr>\n",
       "    <tr>\n",
       "      <th>2013-01-11 04:00:00</th>\n",
       "      <td>-0.420461</td>\n",
       "      <td>-0.962264</td>\n",
       "      <td>0.498626</td>\n",
       "      <td>-0.579411</td>\n",
       "      <td>-0.500522</td>\n",
       "    </tr>\n",
       "  </tbody>\n",
       "</table>\n",
       "</div>"
      ],
      "text/plain": [
       "                        ATAvg      PAvg     RHAvg     WDAvg     WSAvg\n",
       "Date_Time                                                            \n",
       "2013-01-11 00:00:00 -0.241290 -1.000000  0.423872 -0.386583 -0.441101\n",
       "2013-01-11 01:00:00 -0.233548 -1.000000  0.384072 -0.274159 -0.446796\n",
       "2013-01-11 02:00:00 -0.362212 -1.000000  0.484029 -0.540613 -0.426673\n",
       "2013-01-11 03:00:00 -0.421382 -0.987421  0.500051 -0.604010 -0.390033\n",
       "2013-01-11 04:00:00 -0.420461 -0.962264  0.498626 -0.579411 -0.500522"
      ]
     },
     "execution_count": 37,
     "metadata": {},
     "output_type": "execute_result"
    }
   ],
   "source": [
    "dfh.head()"
   ]
  },
  {
   "cell_type": "code",
   "execution_count": 38,
   "metadata": {},
   "outputs": [],
   "source": [
    "n_past = 120\n",
    "n_future = 48 \n",
    "n_features = 5"
   ]
  },
  {
   "cell_type": "code",
   "execution_count": 39,
   "metadata": {},
   "outputs": [],
   "source": [
    "X_train, y_train = split_series(train.values,n_past, n_future+1)\n",
    "X_train = X_train.reshape((X_train.shape[0], X_train.shape[1],n_features))\n",
    "y_train = y_train.reshape((y_train.shape[0], y_train.shape[1], n_features))\n",
    "X_test, y_test = split_series(test.values,n_past, n_future+1)\n",
    "X_test = X_test.reshape((X_test.shape[0], X_test.shape[1],n_features))\n",
    "y_test = y_test.reshape((y_test.shape[0], y_test.shape[1], n_features))"
   ]
  },
  {
   "cell_type": "code",
   "execution_count": 40,
   "metadata": {},
   "outputs": [
    {
     "name": "stdout",
     "output_type": "stream",
     "text": [
      "Xtrain size = (1, 120, 5)\n",
      "Ytrain size = (1, 48, 5)\n",
      "Xtest size = (1, 120, 5)\n",
      "Ytest size = (1, 48, 5)\n"
     ]
    }
   ],
   "source": [
    "print(f'Xtrain size = {X_train.shape}')\n",
    "print(f'Ytrain size = {y_train.shape}')\n",
    "print(f'Xtest size = {X_test.shape}')\n",
    "print(f'Ytest size = {y_test.shape}')\n"
   ]
  },
  {
   "cell_type": "code",
   "execution_count": 41,
   "metadata": {},
   "outputs": [
    {
     "name": "stdout",
     "output_type": "stream",
     "text": [
      "Model: \"model_2\"\n",
      "__________________________________________________________________________________________________\n",
      "Layer (type)                    Output Shape         Param #     Connected to                     \n",
      "==================================================================================================\n",
      "input_3 (InputLayer)            [(None, 120, 5)]     0                                            \n",
      "__________________________________________________________________________________________________\n",
      "lstm_6 (LSTM)                   [(None, 100), (None, 42400       input_3[0][0]                    \n",
      "__________________________________________________________________________________________________\n",
      "repeat_vector_2 (RepeatVector)  (None, 48, 100)      0           lstm_6[0][0]                     \n",
      "__________________________________________________________________________________________________\n",
      "lstm_7 (LSTM)                   (None, 48, 100)      80400       repeat_vector_2[0][0]            \n",
      "                                                                 lstm_6[0][1]                     \n",
      "                                                                 lstm_6[0][2]                     \n",
      "__________________________________________________________________________________________________\n",
      "time_distributed_2 (TimeDistrib (None, 48, 5)        505         lstm_7[0][0]                     \n",
      "==================================================================================================\n",
      "Total params: 123,305\n",
      "Trainable params: 123,305\n",
      "Non-trainable params: 0\n",
      "__________________________________________________________________________________________________\n"
     ]
    }
   ],
   "source": [
    "# E1D1\n",
    "# n_features ==> no of features at each timestep in the data.\n",
    "#\n",
    "encoder_inputs = tf.keras.layers.Input(shape=(n_past, n_features))\n",
    "encoder_l1 = tf.keras.layers.LSTM(100, return_state=True)\n",
    "encoder_outputs1 = encoder_l1(encoder_inputs)\n",
    "\n",
    "encoder_states1 = encoder_outputs1[1:]\n",
    "\n",
    "#\n",
    "decoder_inputs = tf.keras.layers.RepeatVector(n_future)(encoder_outputs1[0])\n",
    "\n",
    "#\n",
    "decoder_l1 = tf.keras.layers.LSTM(100, return_sequences=True)(decoder_inputs,initial_state = encoder_states1)\n",
    "decoder_outputs1 = tf.keras.layers.TimeDistributed(tf.keras.layers.Dense(n_features))(decoder_l1)\n",
    "\n",
    "#\n",
    "model_e1d1 = tf.keras.models.Model(encoder_inputs,decoder_outputs1)\n",
    "\n",
    "#\n",
    "model_e1d1.summary()"
   ]
  },
  {
   "cell_type": "code",
   "execution_count": 42,
   "metadata": {},
   "outputs": [
    {
     "name": "stdout",
     "output_type": "stream",
     "text": [
      "Model: \"model_3\"\n",
      "__________________________________________________________________________________________________\n",
      "Layer (type)                    Output Shape         Param #     Connected to                     \n",
      "==================================================================================================\n",
      "input_4 (InputLayer)            [(None, 120, 5)]     0                                            \n",
      "__________________________________________________________________________________________________\n",
      "lstm_8 (LSTM)                   [(None, 120, 100), ( 42400       input_4[0][0]                    \n",
      "__________________________________________________________________________________________________\n",
      "lstm_9 (LSTM)                   [(None, 100), (None, 80400       lstm_8[0][0]                     \n",
      "__________________________________________________________________________________________________\n",
      "repeat_vector_3 (RepeatVector)  (None, 48, 100)      0           lstm_9[0][0]                     \n",
      "__________________________________________________________________________________________________\n",
      "lstm_10 (LSTM)                  (None, 48, 100)      80400       repeat_vector_3[0][0]            \n",
      "                                                                 lstm_8[0][1]                     \n",
      "                                                                 lstm_8[0][2]                     \n",
      "__________________________________________________________________________________________________\n",
      "lstm_11 (LSTM)                  (None, 48, 100)      80400       lstm_10[0][0]                    \n",
      "                                                                 lstm_9[0][1]                     \n",
      "                                                                 lstm_9[0][2]                     \n",
      "__________________________________________________________________________________________________\n",
      "time_distributed_3 (TimeDistrib (None, 48, 5)        505         lstm_11[0][0]                    \n",
      "==================================================================================================\n",
      "Total params: 284,105\n",
      "Trainable params: 284,105\n",
      "Non-trainable params: 0\n",
      "__________________________________________________________________________________________________\n"
     ]
    }
   ],
   "source": [
    "# E2D2\n",
    "# n_features ==> no of features at each timestep in the data.\n",
    "#\n",
    "encoder_inputs = tf.keras.layers.Input(shape=(n_past, n_features))\n",
    "encoder_l1 = tf.keras.layers.LSTM(100,return_sequences = True, return_state=True)\n",
    "encoder_outputs1 = encoder_l1(encoder_inputs)\n",
    "encoder_states1 = encoder_outputs1[1:]\n",
    "encoder_l2 = tf.keras.layers.LSTM(100, return_state=True)\n",
    "encoder_outputs2 = encoder_l2(encoder_outputs1[0])\n",
    "encoder_states2 = encoder_outputs2[1:]\n",
    "#\n",
    "decoder_inputs = tf.keras.layers.RepeatVector(n_future)(encoder_outputs2[0])\n",
    "#\n",
    "decoder_l1 = tf.keras.layers.LSTM(100, return_sequences=True)(decoder_inputs,initial_state = encoder_states1)\n",
    "decoder_l2 = tf.keras.layers.LSTM(100, return_sequences=True)(decoder_l1,initial_state = encoder_states2)\n",
    "decoder_outputs2 = tf.keras.layers.TimeDistributed(tf.keras.layers.Dense(n_features))(decoder_l2)\n",
    "#\n",
    "model_e2d2 = tf.keras.models.Model(encoder_inputs,decoder_outputs2)\n",
    "#\n",
    "model_e2d2.summary()\n"
   ]
  },
  {
   "cell_type": "code",
   "execution_count": 43,
   "metadata": {},
   "outputs": [],
   "source": [
    "reduce_lr = tf.keras.callbacks.LearningRateScheduler(lambda x: 1e-3 * 0.90 ** x)\n",
    "model_e1d1.compile(optimizer=tf.keras.optimizers.Adam(), loss=tf.keras.losses.Huber())\n",
    "history_e1d1=model_e1d1.fit(X_train,y_train,epochs=25,validation_data=(X_test,y_test),batch_size=32,verbose=0,callbacks=[reduce_lr])\n",
    "model_e2d2.compile(optimizer=tf.keras.optimizers.Adam(), loss=tf.keras.losses.Huber())\n",
    "history_e2d2=model_e2d2.fit(X_train,y_train,epochs=25,validation_data=(X_test,y_test),batch_size=32,verbose=0,callbacks=[reduce_lr])"
   ]
  },
  {
   "cell_type": "code",
   "execution_count": 28,
   "metadata": {},
   "outputs": [
    {
     "data": {
      "text/plain": [
       "<tensorflow.python.keras.callbacks.LearningRateScheduler at 0x7fad24312410>"
      ]
     },
     "execution_count": 28,
     "metadata": {},
     "output_type": "execute_result"
    }
   ],
   "source": [
    "####. Figures???"
   ]
  },
  {
   "cell_type": "code",
   "execution_count": 44,
   "metadata": {},
   "outputs": [],
   "source": [
    "pred_e1d1=model_e1d1.predict(X_test)\n",
    "pred_e2d2=model_e2d2.predict(X_test)"
   ]
  },
  {
   "cell_type": "code",
   "execution_count": 45,
   "metadata": {},
   "outputs": [],
   "source": [
    "### Inverse scaling of the predicted values\n",
    "for index,i in enumerate(train_df.columns):\n",
    "    scaler = scalers['scaler_'+i]\n",
    "    #pred1_e1d1[:,:,index]=scaler.inverse_transform(pred1_e1d1[:,:,index])\n",
    "    pred_e1d1[:,:,index]=scaler.inverse_transform(pred_e1d1[:,:,index])\n",
    "    #pred1_e2d2[:,:,index]=scaler.inverse_transform(pred1_e2d2[:,:,index])\n",
    "    pred_e2d2[:,:,index]=scaler.inverse_transform(pred_e2d2[:,:,index])\n",
    "    y_train[:,:,index]=scaler.inverse_transform(y_train[:,:,index])\n",
    "    y_test[:,:,index]=scaler.inverse_transform(y_test[:,:,index])"
   ]
  },
  {
   "cell_type": "code",
   "execution_count": 46,
   "metadata": {},
   "outputs": [
    {
     "name": "stdout",
     "output_type": "stream",
     "text": [
      "ATAvg\n",
      "at  0 h:\n",
      "MAE-E1D1 :  0.3490602874755844, MAE-E2D2 :  0.19311691284179844\n",
      "at  6 h:\n",
      "MAE-E1D1 :  0.5323309834798202, MAE-E2D2 :  0.5806879933675155\n",
      "at  12 h:\n",
      "MAE-E1D1 :  2.6490517679850285, MAE-E2D2 :  3.075510126749677\n",
      "at  24 h:\n",
      "MAE-E1D1 :  0.7287245432535805, MAE-E2D2 :  1.2566443125406899\n",
      "at  48 h:\n",
      "MAE-E1D1 :  0.3490602874755844, MAE-E2D2 :  0.19311691284179844\n",
      "\n",
      "\n",
      "PAvg\n",
      "at  0 h:\n",
      "MAE-E1D1 :  1.2746741771697998, MAE-E2D2 :  1.3028790950775146\n",
      "at  6 h:\n",
      "MAE-E1D1 :  2.263200283050537, MAE-E2D2 :  0.4952269196510315\n",
      "at  12 h:\n",
      "MAE-E1D1 :  1.4192460775375366, MAE-E2D2 :  0.9358020424842834\n",
      "at  24 h:\n",
      "MAE-E1D1 :  1.2737501859664917, MAE-E2D2 :  1.327924370765686\n",
      "at  48 h:\n",
      "MAE-E1D1 :  1.2746741771697998, MAE-E2D2 :  1.3028790950775146\n",
      "\n",
      "\n",
      "RHAvg\n",
      "at  0 h:\n",
      "MAE-E1D1 :  3.606821899414058, MAE-E2D2 :  7.258481140136723\n",
      "at  6 h:\n",
      "MAE-E1D1 :  5.080736796061203, MAE-E2D2 :  4.45669301350911\n",
      "at  12 h:\n",
      "MAE-E1D1 :  18.54639363606772, MAE-E2D2 :  9.942420247395845\n",
      "at  24 h:\n",
      "MAE-E1D1 :  5.312088317871087, MAE-E2D2 :  5.070579223632819\n",
      "at  48 h:\n",
      "MAE-E1D1 :  3.606821899414058, MAE-E2D2 :  7.258481140136723\n",
      "\n",
      "\n",
      "WDAvg\n",
      "at  0 h:\n",
      "MAE-E1D1 :  52.982341308593746, MAE-E2D2 :  38.25945617675781\n",
      "at  6 h:\n",
      "MAE-E1D1 :  62.79192281087241, MAE-E2D2 :  55.92903828938803\n",
      "at  12 h:\n",
      "MAE-E1D1 :  44.04676818847656, MAE-E2D2 :  26.209014892578125\n",
      "at  24 h:\n",
      "MAE-E1D1 :  66.53305765787759, MAE-E2D2 :  50.949820963541654\n",
      "at  48 h:\n",
      "MAE-E1D1 :  52.982341308593746, MAE-E2D2 :  38.25945617675781\n",
      "\n",
      "\n",
      "WSAvg\n",
      "at  0 h:\n",
      "MAE-E1D1 :  1.96122986793518, MAE-E2D2 :  2.5420013141632074\n",
      "at  6 h:\n",
      "MAE-E1D1 :  2.4530087629954016, MAE-E2D2 :  3.5778812090555823\n",
      "at  12 h:\n",
      "MAE-E1D1 :  0.2721514797210691, MAE-E2D2 :  0.5358159446716311\n",
      "at  24 h:\n",
      "MAE-E1D1 :  1.0652361106872563, MAE-E2D2 :  1.680685777664185\n",
      "at  48 h:\n",
      "MAE-E1D1 :  1.96122986793518, MAE-E2D2 :  2.5420013141632074\n",
      "\n",
      "\n"
     ]
    }
   ],
   "source": [
    "## Check error\n",
    "from sklearn.metrics import mean_absolute_error\n",
    "for index,i in enumerate(train_df.columns):\n",
    "    print(i)\n",
    "    for j in [0,6,12,24,48]:\n",
    "        print(\"at \",j,\"h:\")\n",
    "        print(\"MAE-E1D1 : \",mean_absolute_error(y_test[:,j-1,index],pred_e1d1[:,j-1,index]),end=\", \")\n",
    "        print(\"MAE-E2D2 : \",mean_absolute_error(y_test[:,j-1,index],pred_e2d2[:,j-1,index]))\n",
    "    print()\n",
    "    print()"
   ]
  },
  {
   "cell_type": "code",
   "execution_count": null,
   "metadata": {},
   "outputs": [],
   "source": []
  }
 ],
 "metadata": {
  "kernelspec": {
   "display_name": "Python 3",
   "language": "python",
   "name": "python3"
  },
  "language_info": {
   "codemirror_mode": {
    "name": "ipython",
    "version": 3
   },
   "file_extension": ".py",
   "mimetype": "text/x-python",
   "name": "python",
   "nbconvert_exporter": "python",
   "pygments_lexer": "ipython3",
   "version": "3.7.4"
  }
 },
 "nbformat": 4,
 "nbformat_minor": 4
}
