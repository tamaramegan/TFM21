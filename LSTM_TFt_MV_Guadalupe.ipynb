{
 "cells": [
  {
   "cell_type": "markdown",
   "metadata": {},
   "source": [
    "## LSTM_tensorflow_tutorial [link](https://www.tensorflow.org/tutorials/structured_data/time_series)"
   ]
  },
  {
   "cell_type": "code",
   "execution_count": null,
   "metadata": {},
   "outputs": [],
   "source": [
    "import os\n",
    "import datetime\n",
    "\n",
    "import IPython\n",
    "import IPython.display\n",
    "import matplotlib as mpl\n",
    "import matplotlib.pyplot as plt\n",
    "import numpy as np\n",
    "import pandas as pd\n",
    "import seaborn as sns\n",
    "import tensorflow as tf\n",
    "from tensorflow import keras\n",
    "\n",
    "mpl.rcParams['figure.figsize'] = (8, 6)\n",
    "mpl.rcParams['axes.grid'] = False"
   ]
  },
  {
   "cell_type": "code",
   "execution_count": null,
   "metadata": {},
   "outputs": [],
   "source": [
    "df = pd.read_csv('data/guadalupe_validation.csv')"
   ]
  },
  {
   "cell_type": "code",
   "execution_count": null,
   "metadata": {},
   "outputs": [],
   "source": [
    "df.head()"
   ]
  },
  {
   "cell_type": "code",
   "execution_count": null,
   "metadata": {},
   "outputs": [],
   "source": [
    "#### The data has already been cleaned, wind transformed to vector and added perodicity\n",
    "### Check for NAN values and delete before running models"
   ]
  },
  {
   "cell_type": "code",
   "execution_count": null,
   "metadata": {},
   "outputs": [],
   "source": [
    "### Subsample to get data for every hour (starting from index 0, get 12 steps)\n",
    "df = df[0::12]"
   ]
  },
  {
   "cell_type": "code",
   "execution_count": null,
   "metadata": {},
   "outputs": [],
   "source": [
    "df.head()"
   ]
  },
  {
   "cell_type": "code",
   "execution_count": null,
   "metadata": {},
   "outputs": [],
   "source": [
    "date_time = pd.to_datetime(df.pop('Date_Time'), format='%Y-%m-%d %H:%M:%S')"
   ]
  },
  {
   "cell_type": "code",
   "execution_count": null,
   "metadata": {},
   "outputs": [],
   "source": [
    "plot_cols = ['ATAvg', 'RHAvg', 'WAvgx','WAvgy']\n",
    "plot_features = df[plot_cols]\n",
    "plot_features.index = date_time\n",
    "_ = plot_features.plot(subplots=True)\n",
    "\n",
    "plot_features = df[plot_cols][:480]\n",
    "plot_features.index = date_time[:480]\n",
    "_ = plot_features.plot(subplots=True)"
   ]
  },
  {
   "cell_type": "code",
   "execution_count": null,
   "metadata": {},
   "outputs": [],
   "source": [
    "df.describe().transpose()"
   ]
  },
  {
   "cell_type": "code",
   "execution_count": null,
   "metadata": {},
   "outputs": [],
   "source": [
    "### Remove PAvg and WMaxx, WMiny\n",
    "df = df[['ATAvg','ATMax','ATMin',\n",
    "         'RHAvg','RHMin','RHMax',\n",
    "         'WAvgx','WAvgy', 'WMinx', 'WMiny',\n",
    "         'Day_sin', 'Day_cos', 'Year_sin', 'Year_cos']]"
   ]
  },
  {
   "cell_type": "code",
   "execution_count": null,
   "metadata": {},
   "outputs": [],
   "source": [
    "### Split data into 70%, 20%, 10% split for the training, validation, and test sets\n",
    "column_indices = {name: i for i, name in enumerate(df.columns)}\n",
    "\n",
    "n = len(df)\n",
    "train_df = df[0:int(n*0.7)]\n",
    "val_df = df[int(n*0.7):int(n*0.9)]\n",
    "test_df = df[int(n*0.9):]\n",
    "\n",
    "num_features = df.shape[1]"
   ]
  },
  {
   "cell_type": "code",
   "execution_count": null,
   "metadata": {},
   "outputs": [],
   "source": [
    "num_features, n"
   ]
  },
  {
   "cell_type": "code",
   "execution_count": null,
   "metadata": {},
   "outputs": [],
   "source": [
    "### Normalize the data  ### ROOM TO MAKE TESTS (this is just an average)\n",
    "train_mean = train_df.mean()\n",
    "train_std = train_df.std()\n",
    "\n",
    "train_df = (train_df - train_mean) / train_std\n",
    "val_df = (val_df - train_mean) / train_std\n",
    "test_df = (test_df - train_mean) / train_std"
   ]
  },
  {
   "cell_type": "code",
   "execution_count": null,
   "metadata": {},
   "outputs": [],
   "source": [
    "## Feature distributions\n",
    "df_std = (df - train_mean) / train_std\n",
    "df_std = df_std.melt(var_name='Column', value_name='Normalized')\n",
    "plt.figure(figsize=(12, 6))\n",
    "ax = sns.violinplot(x='Column', y='Normalized', data=df_std)\n",
    "_ = ax.set_xticklabels(df.keys(), rotation=90)"
   ]
  },
  {
   "cell_type": "code",
   "execution_count": null,
   "metadata": {},
   "outputs": [],
   "source": [
    "#### Data windowing\n",
    "class WindowGenerator():\n",
    "  def __init__(self, input_width, label_width, shift,\n",
    "               train_df=train_df, val_df=val_df, test_df=test_df,\n",
    "               label_columns=None):\n",
    "    # Store the raw data.\n",
    "    self.train_df = train_df\n",
    "    self.val_df = val_df\n",
    "    self.test_df = test_df\n",
    "\n",
    "    # Work out the label column indices.\n",
    "    self.label_columns = label_columns\n",
    "    if label_columns is not None:\n",
    "      self.label_columns_indices = {name: i for i, name in\n",
    "                                    enumerate(label_columns)}\n",
    "    self.column_indices = {name: i for i, name in\n",
    "                           enumerate(train_df.columns)}\n",
    "\n",
    "    # Work out the window parameters.\n",
    "    self.input_width = input_width\n",
    "    self.label_width = label_width\n",
    "    self.shift = shift\n",
    "\n",
    "    self.total_window_size = input_width + shift\n",
    "\n",
    "    self.input_slice = slice(0, input_width)\n",
    "    self.input_indices = np.arange(self.total_window_size)[self.input_slice]\n",
    "\n",
    "    self.label_start = self.total_window_size - self.label_width\n",
    "    self.labels_slice = slice(self.label_start, None)\n",
    "    self.label_indices = np.arange(self.total_window_size)[self.labels_slice]\n",
    "\n",
    "  def __repr__(self):\n",
    "    return '\\n'.join([\n",
    "        f'Total window size: {self.total_window_size}',\n",
    "        f'Input indices: {self.input_indices}',\n",
    "        f'Label indices: {self.label_indices}',\n",
    "        f'Label column name(s): {self.label_columns}'])"
   ]
  },
  {
   "cell_type": "code",
   "execution_count": null,
   "metadata": {},
   "outputs": [],
   "source": [
    "### Split window\n",
    "def split_window(self, features):\n",
    "  inputs = features[:, self.input_slice, :]\n",
    "  labels = features[:, self.labels_slice, :]\n",
    "  if self.label_columns is not None:\n",
    "    labels = tf.stack(\n",
    "        [labels[:, :, self.column_indices[name]] for name in self.label_columns],\n",
    "        axis=-1)\n",
    "\n",
    "  # Slicing doesn't preserve static shape information, so set the shapes\n",
    "  # manually. This way the `tf.data.Datasets` are easier to inspect.\n",
    "  inputs.set_shape([None, self.input_width, None])\n",
    "  labels.set_shape([None, self.label_width, None])\n",
    "\n",
    "  return inputs, labels\n",
    "\n",
    "WindowGenerator.split_window = split_window"
   ]
  },
  {
   "cell_type": "code",
   "execution_count": null,
   "metadata": {},
   "outputs": [],
   "source": [
    "#### Create sequence of arrays of all the dataset\n",
    "def dataset_stack(train_df, window):\n",
    "    stack = []\n",
    "    for i in range(0,len(train_df[0::window])):\n",
    "        start_array = window*i\n",
    "        end_array = window*i + window\n",
    "        if len(train_df[start_array:end_array]) < window:\n",
    "            continue\n",
    "        else:\n",
    "            stack.append(np.array(train_df[start_array:end_array]))\n",
    "    return stack\n",
    "#stack = dataset_stack()"
   ]
  },
  {
   "cell_type": "code",
   "execution_count": null,
   "metadata": {},
   "outputs": [],
   "source": [
    "def plot(self, model=None, plot_col='ATAvg', max_subplots=5):\n",
    "    inputs, labels = self.example\n",
    "    plt.figure(figsize=(10, 10))\n",
    "    plot_col_index = self.column_indices[plot_col]\n",
    "    max_n = min(max_subplots, len(inputs))\n",
    "    \n",
    "    for n in range(max_n):\n",
    "        plt.subplot(max_n, 1, n+1)\n",
    "        plt.ylabel(f'{plot_col} [normed]')\n",
    "        plt.plot(self.input_indices, inputs[n, :, plot_col_index],\n",
    "             label='Inputs', marker='.', zorder=-10)\n",
    "\n",
    "        if self.label_columns:\n",
    "            label_col_index = self.label_columns_indices.get(plot_col, None)\n",
    "        else:\n",
    "            label_col_index = plot_col_index\n",
    "            \n",
    "        if label_col_index is None:\n",
    "            continue\n",
    "            \n",
    "        plt.scatter(self.label_indices, labels[n, :, label_col_index],\n",
    "                edgecolors='k', label='Labels', c='#2ca02c', s=64)\n",
    "        \n",
    "        if model is not None:\n",
    "            predictions = model(inputs)\n",
    "            if self.shift == 1:\n",
    "                plt.scatter(self.label_indices, predictions[0, -1, label_col_index],\n",
    "                  marker='X', edgecolors='k', label='Predictions',\n",
    "                  c='#ff7f0e', s=64)\n",
    "            else:\n",
    "                plt.scatter(self.label_indices, predictions[n, :, label_col_index],\n",
    "                  marker='X', edgecolors='k', label='Predictions',\n",
    "                  c='#ff7f0e', s=64)\n",
    "        if n == 0:\n",
    "            plt.legend()\n",
    "            \n",
    "        plt.xlabel('Time [h]')\n",
    "\n",
    "WindowGenerator.plot = plot"
   ]
  },
  {
   "cell_type": "code",
   "execution_count": null,
   "metadata": {},
   "outputs": [],
   "source": [
    "def make_dataset(self, data):\n",
    "  data = np.array(data, dtype=np.float32)\n",
    "\n",
    "  ds = tf.keras.preprocessing.timeseries_dataset_from_array(\n",
    "      data=data,\n",
    "      targets=None,\n",
    "      sequence_length=self.total_window_size,\n",
    "      sequence_stride=1,\n",
    "      shuffle=True,\n",
    "      batch_size=32,)\n",
    "\n",
    "  ds = ds.map(self.split_window)\n",
    "\n",
    "  return ds\n",
    "\n",
    "WindowGenerator.make_dataset = make_dataset"
   ]
  },
  {
   "cell_type": "code",
   "execution_count": null,
   "metadata": {},
   "outputs": [],
   "source": [
    "@property\n",
    "def train(self):\n",
    "  return self.make_dataset(self.train_df)\n",
    "\n",
    "@property\n",
    "def val(self):\n",
    "  return self.make_dataset(self.val_df)\n",
    "\n",
    "@property\n",
    "def test(self):\n",
    "  return self.make_dataset(self.test_df)\n",
    "\n",
    "@property\n",
    "def example(self):\n",
    "  \"\"\"Get and cache an example batch of `inputs, labels` for plotting.\"\"\"\n",
    "  result = getattr(self, '_example', None)\n",
    "  if result is None:\n",
    "    # No example batch was found, so get one from the `.train` dataset\n",
    "    result = next(iter(self.train))\n",
    "    # And cache it for next time\n",
    "    self._example = result\n",
    "  return result\n",
    "\n",
    "WindowGenerator.train = train\n",
    "WindowGenerator.val = val\n",
    "WindowGenerator.test = test\n",
    "WindowGenerator.example = example"
   ]
  },
  {
   "cell_type": "code",
   "execution_count": null,
   "metadata": {},
   "outputs": [],
   "source": [
    "MAX_EPOCHS = 20\n",
    "\n",
    "def compile_and_fit(model, window,patience=2):\n",
    "  early_stopping = tf.keras.callbacks.EarlyStopping(monitor='val_loss',\n",
    "                                                    patience=patience,\n",
    "                                                    mode='min')\n",
    "\n",
    "  model.compile(loss=tf.losses.MeanSquaredError(),\n",
    "                optimizer=tf.optimizers.Adam(),\n",
    "                metrics=[tf.metrics.MeanAbsoluteError()])\n",
    "\n",
    "  history = model.fit(window.train, epochs=MAX_EPOCHS,\n",
    "                      validation_data=window.val,\n",
    "                      callbacks=[early_stopping])\n",
    "\n",
    "  return history"
   ]
  },
  {
   "cell_type": "code",
   "execution_count": null,
   "metadata": {},
   "outputs": [],
   "source": [
    "from sklearn.metrics import r2_score\n",
    "import math\n",
    "from scipy import stats\n",
    "\n",
    "def get_predictions(self, n_batches, model = None, plot_col = ['ATAvg','RHAvg'], plot=True):\n",
    "    \n",
    "    \n",
    "    plot_col_index_0 = self.column_indices[plot_col[0]]\n",
    "    plot_col_index_1 = self.column_indices[plot_col[1]]\n",
    "    all_preds_0=[]\n",
    "    all_labels_0 =[]\n",
    "    all_preds_1=[]\n",
    "    all_labels_1 =[]\n",
    "    \n",
    "    for i in range(n_batches):\n",
    "        \n",
    "        for inputs, labels in self.test.take(i):  # only take first element of dataset\n",
    "            ### get labels\n",
    "            numpy_labels = labels.numpy()\n",
    "        \n",
    "            # get predictions\n",
    "            preds = model(inputs)\n",
    "            numpy_preds = preds.numpy()\n",
    "        \n",
    "            ### get values for each bacth and de-normalize\n",
    "            batch_pred_0 =numpy_preds[:,-1,plot_col_index_0]*train_std[plot_col_index_0] + train_mean[plot_col_index_0]\n",
    "            batch_label_0 = numpy_labels[:,-1,plot_col_index_0]*train_std[plot_col_index_0] + train_mean[plot_col_index_0]\n",
    "            batch_pred_1 =numpy_preds[:,-1,plot_col_index_1]*train_std[plot_col_index_1] + train_mean[plot_col_index_1]\n",
    "            batch_label_1 = numpy_labels[:,-1,plot_col_index_1]*train_std[plot_col_index_1] + train_mean[plot_col_index_1]\n",
    "        \n",
    "            all_preds_0.extend(batch_pred_0)\n",
    "            all_labels_0.extend(batch_label_0)\n",
    "            all_preds_1.extend(batch_pred_1)\n",
    "            all_labels_1.extend(batch_label_1)\n",
    "        \n",
    "    if plot:\n",
    "        ## ATAvg\n",
    "        slope, intercept, r_value_0, p_value, std_err = stats.linregress(all_labels_0, all_preds_0)\n",
    "        fig, ax = plt.subplots(1, 2, figsize=(10, 5))\n",
    "        ax[0].scatter(all_labels_0, all_preds_0,edgecolors='k', c='#ff5555', s=32)\n",
    "        ax[0].set_xlabel(f'True Values {plot_col[0]} [de-normed]')\n",
    "        ax[0].set_ylabel(f'Predicted Values {plot_col[0]} [de-normed]')\n",
    "        lims = [math.floor(min(all_labels_0)-min(all_labels_0)*0.1), math.ceil(max(all_labels_0)+max(all_labels_0)*0.1)]\n",
    "        ax[0].set_xlim(lims)\n",
    "        ax[0].set_ylim(lims)\n",
    "        line = slope*np.array(all_labels_0)+intercept\n",
    "        ax[0].plot(all_labels_0, line, 'gray',label = f'r2 = {round(r_value_0**2,3)}')\n",
    "        ax[0].legend(loc = 'lower right')\n",
    "        \n",
    "        # RHAvg\n",
    "        slope, intercept, r_value_1, p_value, std_err = stats.linregress(all_labels_1, all_preds_1)\n",
    "        ax[1].scatter(all_labels_1, all_preds_1,edgecolors='k', c='#0ca4b4', s=32)\n",
    "        ax[1].set_xlabel(f'True Values {plot_col[1]} [de-normed]')\n",
    "        ax[1].set_ylabel(f'Predicted Values {plot_col[1]} [de-normed]')\n",
    "        lims = [math.floor(min(all_labels_1)-min(all_labels_1)*0.1), math.ceil(max(all_labels_1)+max(all_labels_1)*0.1)]\n",
    "        ax[1].set_xlim(lims)\n",
    "        ax[1].set_ylim(lims)\n",
    "        line = slope*np.array(all_labels_1)+intercept\n",
    "        ax[1].plot(all_labels_1, line, 'gray',label = f'r2 = {round(r_value_1**2,3)}')\n",
    "        ax[1].legend(loc = 'lower right')\n",
    "        \n",
    "        \n",
    "    \n",
    "    r2_0=round(r_value_0**2,3)\n",
    "    r2_1=round(r_value_1**2,3)\n",
    "            \n",
    "    return r2_0,r2_1\n",
    "            \n",
    "            \n",
    "WindowGenerator.get_predictions = get_predictions"
   ]
  },
  {
   "cell_type": "code",
   "execution_count": null,
   "metadata": {},
   "outputs": [],
   "source": [
    "def test_array(test_list) ### pass a list with all 14 variables"
   ]
  },
  {
   "cell_type": "code",
   "execution_count": null,
   "metadata": {},
   "outputs": [],
   "source": []
  },
  {
   "cell_type": "code",
   "execution_count": null,
   "metadata": {},
   "outputs": [],
   "source": []
  },
  {
   "cell_type": "markdown",
   "metadata": {},
   "source": [
    "## MULTI-VARIATE + SINGLE STEP MODEL"
   ]
  },
  {
   "cell_type": "markdown",
   "metadata": {},
   "source": [
    "- 24 hours prior --> predict 1 hour\n",
    "- 24 hours prior --> predict 6 hours\n",
    "- 48 hours prior --> predict 1 hours\n",
    "- 48 hours prior --> predict 6 hours\n",
    "- 48 hours prior --> predict 12 hours"
   ]
  },
  {
   "cell_type": "markdown",
   "metadata": {},
   "source": [
    "## Windows"
   ]
  },
  {
   "cell_type": "markdown",
   "metadata": {},
   "source": [
    "### 24 h + 1h"
   ]
  },
  {
   "cell_type": "code",
   "execution_count": null,
   "metadata": {},
   "outputs": [],
   "source": [
    "w24_1 = WindowGenerator(\n",
    "    input_width=24, label_width=1, shift=1)"
   ]
  },
  {
   "cell_type": "code",
   "execution_count": null,
   "metadata": {},
   "outputs": [],
   "source": [
    "w24_1"
   ]
  },
  {
   "cell_type": "code",
   "execution_count": null,
   "metadata": {},
   "outputs": [],
   "source": [
    "for example_inputs, example_labels in w24_1.train.take(1):\n",
    "  print(f'Inputs shape (batch, time, features): {example_inputs.shape}')\n",
    "  print(f'Labels shape (batch, time, features): {example_labels.shape}')"
   ]
  },
  {
   "cell_type": "code",
   "execution_count": null,
   "metadata": {},
   "outputs": [],
   "source": [
    "w24_1.plot()"
   ]
  },
  {
   "cell_type": "markdown",
   "metadata": {},
   "source": [
    "### 24 h + 6h"
   ]
  },
  {
   "cell_type": "code",
   "execution_count": null,
   "metadata": {},
   "outputs": [],
   "source": [
    "w24_6 = WindowGenerator(\n",
    "    input_width=24, label_width=1, shift=6)"
   ]
  },
  {
   "cell_type": "code",
   "execution_count": null,
   "metadata": {},
   "outputs": [],
   "source": [
    "w24_6"
   ]
  },
  {
   "cell_type": "code",
   "execution_count": null,
   "metadata": {},
   "outputs": [],
   "source": [
    "for example_inputs, example_labels in w24_6.train.take(1):\n",
    "  print(f'Inputs shape (batch, time, features): {example_inputs.shape}')\n",
    "  print(f'Labels shape (batch, time, features): {example_labels.shape}')"
   ]
  },
  {
   "cell_type": "code",
   "execution_count": null,
   "metadata": {},
   "outputs": [],
   "source": [
    "w24_6.plot()"
   ]
  },
  {
   "cell_type": "markdown",
   "metadata": {},
   "source": [
    "### 48 h + 1h"
   ]
  },
  {
   "cell_type": "code",
   "execution_count": null,
   "metadata": {},
   "outputs": [],
   "source": [
    "w48_1 = WindowGenerator(\n",
    "    input_width=48, label_width=1, shift=1)"
   ]
  },
  {
   "cell_type": "code",
   "execution_count": null,
   "metadata": {},
   "outputs": [],
   "source": [
    "w48_1"
   ]
  },
  {
   "cell_type": "code",
   "execution_count": null,
   "metadata": {},
   "outputs": [],
   "source": [
    "for example_inputs, example_labels in w48_1.train.take(1):\n",
    "  print(f'Inputs shape (batch, time, features): {example_inputs.shape}')\n",
    "  print(f'Labels shape (batch, time, features): {example_labels.shape}')"
   ]
  },
  {
   "cell_type": "code",
   "execution_count": null,
   "metadata": {},
   "outputs": [],
   "source": [
    "w48_1.plot()"
   ]
  },
  {
   "cell_type": "markdown",
   "metadata": {},
   "source": [
    "### 48 h + 6h"
   ]
  },
  {
   "cell_type": "code",
   "execution_count": null,
   "metadata": {},
   "outputs": [],
   "source": [
    "w48_6 = WindowGenerator(\n",
    "    input_width=48, label_width=1, shift=6)"
   ]
  },
  {
   "cell_type": "code",
   "execution_count": null,
   "metadata": {},
   "outputs": [],
   "source": [
    "w48_6"
   ]
  },
  {
   "cell_type": "code",
   "execution_count": null,
   "metadata": {},
   "outputs": [],
   "source": [
    "for example_inputs, example_labels in w48_6.train.take(1):\n",
    "  print(f'Inputs shape (batch, time, features): {example_inputs.shape}')\n",
    "  print(f'Labels shape (batch, time, features): {example_labels.shape}')"
   ]
  },
  {
   "cell_type": "code",
   "execution_count": null,
   "metadata": {},
   "outputs": [],
   "source": [
    "w48_6.plot()"
   ]
  },
  {
   "cell_type": "markdown",
   "metadata": {},
   "source": [
    "### 48 h + 12h"
   ]
  },
  {
   "cell_type": "code",
   "execution_count": null,
   "metadata": {},
   "outputs": [],
   "source": [
    "w48_12 = WindowGenerator(\n",
    "    input_width=48, label_width=1, shift=12)"
   ]
  },
  {
   "cell_type": "code",
   "execution_count": null,
   "metadata": {},
   "outputs": [],
   "source": [
    "w48_12"
   ]
  },
  {
   "cell_type": "code",
   "execution_count": null,
   "metadata": {},
   "outputs": [],
   "source": [
    "for example_inputs, example_labels in w48_12.train.take(1):\n",
    "  print(f'Inputs shape (batch, time, features): {example_inputs.shape}')\n",
    "  print(f'Labels shape (batch, time, features): {example_labels.shape}')"
   ]
  },
  {
   "cell_type": "code",
   "execution_count": null,
   "metadata": {},
   "outputs": [],
   "source": [
    "w48_12.plot()"
   ]
  },
  {
   "cell_type": "markdown",
   "metadata": {},
   "source": [
    "## Models\n",
    "- Baseline\n",
    "- Dense\n",
    "- LSTM\n",
    "- Autoregressive LSTM"
   ]
  },
  {
   "cell_type": "markdown",
   "metadata": {},
   "source": [
    "### 1A. Baseline - w24_1"
   ]
  },
  {
   "cell_type": "code",
   "execution_count": null,
   "metadata": {},
   "outputs": [],
   "source": [
    "class Baseline(tf.keras.Model):\n",
    "  def __init__(self, label_index=None):\n",
    "    super().__init__()\n",
    "    self.label_index = label_index\n",
    "\n",
    "  def call(self, inputs):\n",
    "    if self.label_index is None:\n",
    "      return inputs\n",
    "    result = inputs[:, :, self.label_index]\n",
    "    return result[:, :, tf.newaxis]"
   ]
  },
  {
   "cell_type": "code",
   "execution_count": null,
   "metadata": {},
   "outputs": [],
   "source": [
    "baseline = Baseline()\n",
    "baseline.compile(loss=tf.losses.MeanSquaredError(),\n",
    "                 metrics=[tf.metrics.MeanAbsoluteError()])"
   ]
  },
  {
   "cell_type": "code",
   "execution_count": null,
   "metadata": {},
   "outputs": [],
   "source": [
    "val_performance = {}\n",
    "performance = {}\n",
    "val_performance['Baseline_w24_1'] = baseline.evaluate(w24_1.val)\n",
    "performance['Baseline_w24_1'] = baseline.evaluate(w24_1.test, verbose=0)"
   ]
  },
  {
   "cell_type": "code",
   "execution_count": null,
   "metadata": {},
   "outputs": [],
   "source": [
    "w24_1.plot(baseline)"
   ]
  },
  {
   "cell_type": "code",
   "execution_count": null,
   "metadata": {},
   "outputs": [],
   "source": [
    "n_batches = len(tuple(w24_1.test))\n",
    "r2_at, r2_rh = w24_1.get_predictions(n_batches, model=baseline)\n",
    "r2 = {}\n",
    "r2['Baseline_w24_1']={'ATAvg':r2_at,'RHAVg':r2_rh}"
   ]
  },
  {
   "cell_type": "markdown",
   "metadata": {},
   "source": [
    "### 1B. Baseline - w24_6"
   ]
  },
  {
   "cell_type": "code",
   "execution_count": null,
   "metadata": {},
   "outputs": [],
   "source": [
    "baseline = Baseline()\n",
    "baseline.compile(loss=tf.losses.MeanSquaredError(),\n",
    "                 metrics=[tf.metrics.MeanAbsoluteError()])"
   ]
  },
  {
   "cell_type": "code",
   "execution_count": null,
   "metadata": {},
   "outputs": [],
   "source": [
    "val_performance['Baseline_w24_6'] = baseline.evaluate(w24_6.val)\n",
    "performance['Baseline_w24_6'] = baseline.evaluate(w24_6.test, verbose=0)"
   ]
  },
  {
   "cell_type": "code",
   "execution_count": null,
   "metadata": {},
   "outputs": [],
   "source": [
    "w24_6.plot(baseline)"
   ]
  },
  {
   "cell_type": "code",
   "execution_count": null,
   "metadata": {},
   "outputs": [],
   "source": [
    "n_batches = len(tuple(w24_6.test))\n",
    "r2_at, r2_rh = w24_1.get_predictions(n_batches, model=baseline)\n",
    "r2['Baseline_w24_6']={'ATAvg':r2_at,'RHAVg':r2_rh}"
   ]
  },
  {
   "cell_type": "markdown",
   "metadata": {},
   "source": [
    "### 1C. Baseline - w48_1"
   ]
  },
  {
   "cell_type": "code",
   "execution_count": null,
   "metadata": {},
   "outputs": [],
   "source": [
    "baseline = Baseline()\n",
    "baseline.compile(loss=tf.losses.MeanSquaredError(),\n",
    "                 metrics=[tf.metrics.MeanAbsoluteError()])"
   ]
  },
  {
   "cell_type": "code",
   "execution_count": null,
   "metadata": {},
   "outputs": [],
   "source": [
    "val_performance['Baseline_w48_1'] = baseline.evaluate(w48_1.val)\n",
    "performance['Baseline_w48_1'] = baseline.evaluate(w48_1.test, verbose=0)"
   ]
  },
  {
   "cell_type": "code",
   "execution_count": null,
   "metadata": {},
   "outputs": [],
   "source": [
    "w48_1.plot(baseline)"
   ]
  },
  {
   "cell_type": "code",
   "execution_count": null,
   "metadata": {},
   "outputs": [],
   "source": [
    "n_batches = len(tuple(w48_1.test))\n",
    "r2_at, r2_rh = w48_1.get_predictions(n_batches, model=baseline)\n",
    "r2['Baseline_w48_1']={'ATAvg':r2_at,'RHAVg':r2_rh}"
   ]
  },
  {
   "cell_type": "markdown",
   "metadata": {},
   "source": [
    "### 1D. Baseline - w48_6"
   ]
  },
  {
   "cell_type": "code",
   "execution_count": null,
   "metadata": {},
   "outputs": [],
   "source": [
    "baseline = Baseline()\n",
    "baseline.compile(loss=tf.losses.MeanSquaredError(),\n",
    "                 metrics=[tf.metrics.MeanAbsoluteError()])"
   ]
  },
  {
   "cell_type": "code",
   "execution_count": null,
   "metadata": {},
   "outputs": [],
   "source": [
    "val_performance['Baseline_w48_6'] = baseline.evaluate(w48_6.val)\n",
    "performance['Baseline_w48_6'] = baseline.evaluate(w48_6.test, verbose=0)"
   ]
  },
  {
   "cell_type": "code",
   "execution_count": null,
   "metadata": {},
   "outputs": [],
   "source": [
    "w48_6.plot(baseline)"
   ]
  },
  {
   "cell_type": "code",
   "execution_count": null,
   "metadata": {},
   "outputs": [],
   "source": [
    "n_batches = len(tuple(w48_6.test))\n",
    "r2_at, r2_rh = w48_6.get_predictions(n_batches, model=baseline)\n",
    "r2['Baseline_w48_6']={'ATAvg':r2_at,'RHAVg':r2_rh}"
   ]
  },
  {
   "cell_type": "markdown",
   "metadata": {},
   "source": [
    "### 1E. Baseline - w48_12"
   ]
  },
  {
   "cell_type": "code",
   "execution_count": null,
   "metadata": {},
   "outputs": [],
   "source": [
    "baseline = Baseline()\n",
    "baseline.compile(loss=tf.losses.MeanSquaredError(),\n",
    "                 metrics=[tf.metrics.MeanAbsoluteError()])"
   ]
  },
  {
   "cell_type": "code",
   "execution_count": null,
   "metadata": {},
   "outputs": [],
   "source": [
    "val_performance['Baseline_w48_12'] = baseline.evaluate(w48_12.val)\n",
    "performance['Baseline_w48_12'] = baseline.evaluate(w48_12.test, verbose=0)"
   ]
  },
  {
   "cell_type": "code",
   "execution_count": null,
   "metadata": {},
   "outputs": [],
   "source": [
    "w48_12.plot(baseline)"
   ]
  },
  {
   "cell_type": "code",
   "execution_count": null,
   "metadata": {},
   "outputs": [],
   "source": [
    "n_batches = len(tuple(w48_1.test))\n",
    "r2_at, r2_rh = w48_1.get_predictions(n_batches, model=baseline)\n",
    "r2['Baseline_w48_12']={'ATAvg':r2_at,'RHAVg':r2_rh}"
   ]
  },
  {
   "cell_type": "markdown",
   "metadata": {},
   "source": [
    "### 2A. Dense - w24_1"
   ]
  },
  {
   "cell_type": "code",
   "execution_count": null,
   "metadata": {},
   "outputs": [],
   "source": [
    "dense = tf.keras.Sequential([\n",
    "    tf.keras.layers.Dense(units=64, activation='relu'),\n",
    "    tf.keras.layers.Dense(units=64, activation='relu'),\n",
    "    tf.keras.layers.Dense(units=num_features)\n",
    "])"
   ]
  },
  {
   "cell_type": "code",
   "execution_count": null,
   "metadata": {},
   "outputs": [],
   "source": [
    "history = compile_and_fit(dense, w24_1)\n",
    "\n",
    "IPython.display.clear_output()\n",
    "val_performance['Dense_w24_1'] = dense.evaluate(w24_1.val)\n",
    "performance['Dense_w24_1'] = dense.evaluate(w24_1.test, verbose=0)"
   ]
  },
  {
   "cell_type": "code",
   "execution_count": null,
   "metadata": {},
   "outputs": [],
   "source": [
    "losses = pd.DataFrame(history.history)\n",
    "losses.plot()"
   ]
  },
  {
   "cell_type": "code",
   "execution_count": null,
   "metadata": {},
   "outputs": [],
   "source": [
    "w24_1.plot(dense)"
   ]
  },
  {
   "cell_type": "code",
   "execution_count": null,
   "metadata": {},
   "outputs": [],
   "source": [
    "n_batches = len(tuple(w24_1.test))\n",
    "r2_at, r2_rh = w24_1.get_predictions(n_batches, model=dense)\n",
    "r2['Dense_w24_1']={'ATAvg':r2_at,'RHAVg':r2_rh}"
   ]
  },
  {
   "cell_type": "markdown",
   "metadata": {},
   "source": [
    "### 2B. Dense - w24_6"
   ]
  },
  {
   "cell_type": "code",
   "execution_count": null,
   "metadata": {},
   "outputs": [],
   "source": [
    "dense = tf.keras.Sequential([\n",
    "    tf.keras.layers.Dense(units=64, activation='relu'),\n",
    "    tf.keras.layers.Dense(units=64, activation='relu'),\n",
    "    tf.keras.layers.Dense(units=num_features)\n",
    "])"
   ]
  },
  {
   "cell_type": "code",
   "execution_count": null,
   "metadata": {},
   "outputs": [],
   "source": [
    "history = compile_and_fit(dense, w24_6)\n",
    "\n",
    "IPython.display.clear_output()\n",
    "val_performance['Dense_w24_6'] = dense.evaluate(w24_6.val)\n",
    "performance['Dense_w24_6'] = dense.evaluate(w24_6.test, verbose=0)"
   ]
  },
  {
   "cell_type": "code",
   "execution_count": null,
   "metadata": {},
   "outputs": [],
   "source": [
    "losses = pd.DataFrame(history.history)\n",
    "losses.plot()"
   ]
  },
  {
   "cell_type": "code",
   "execution_count": null,
   "metadata": {},
   "outputs": [],
   "source": [
    "w24_6.plot(dense)"
   ]
  },
  {
   "cell_type": "code",
   "execution_count": null,
   "metadata": {},
   "outputs": [],
   "source": [
    "n_batches = len(tuple(w24_6.test))\n",
    "r2_at, r2_rh = w24_6.get_predictions(n_batches, model=dense)\n",
    "r2['Dense_w24_6']={'ATAvg':r2_at,'RHAVg':r2_rh}"
   ]
  },
  {
   "cell_type": "markdown",
   "metadata": {},
   "source": [
    "### 2C. Dense - w48_1"
   ]
  },
  {
   "cell_type": "code",
   "execution_count": null,
   "metadata": {},
   "outputs": [],
   "source": [
    "dense = tf.keras.Sequential([\n",
    "    tf.keras.layers.Dense(units=64, activation='relu'),\n",
    "    tf.keras.layers.Dense(units=64, activation='relu'),\n",
    "    tf.keras.layers.Dense(units=num_features)\n",
    "])"
   ]
  },
  {
   "cell_type": "code",
   "execution_count": null,
   "metadata": {},
   "outputs": [],
   "source": [
    "history = compile_and_fit(dense, w48_1)\n",
    "\n",
    "IPython.display.clear_output()\n",
    "val_performance['Dense_w48_1'] = dense.evaluate(w48_1.val)\n",
    "performance['Dense_w48_1'] = dense.evaluate(w48_1.test, verbose=0)"
   ]
  },
  {
   "cell_type": "code",
   "execution_count": null,
   "metadata": {},
   "outputs": [],
   "source": [
    "losses = pd.DataFrame(history.history)\n",
    "losses.plot()"
   ]
  },
  {
   "cell_type": "code",
   "execution_count": null,
   "metadata": {},
   "outputs": [],
   "source": [
    "w48_1.plot(dense)"
   ]
  },
  {
   "cell_type": "code",
   "execution_count": null,
   "metadata": {},
   "outputs": [],
   "source": [
    "n_batches = len(tuple(w48_1.test))\n",
    "r2_at, r2_rh = w48_1.get_predictions(n_batches, model=dense)\n",
    "r2['Dense_w48_1']={'ATAvg':r2_at,'RHAVg':r2_rh}"
   ]
  },
  {
   "cell_type": "markdown",
   "metadata": {},
   "source": [
    "### 2D. Dense - w48_6"
   ]
  },
  {
   "cell_type": "code",
   "execution_count": null,
   "metadata": {},
   "outputs": [],
   "source": [
    "dense = tf.keras.Sequential([\n",
    "    tf.keras.layers.Dense(units=64, activation='relu'),\n",
    "    tf.keras.layers.Dense(units=64, activation='relu'),\n",
    "    tf.keras.layers.Dense(units=num_features)\n",
    "])"
   ]
  },
  {
   "cell_type": "code",
   "execution_count": null,
   "metadata": {},
   "outputs": [],
   "source": [
    "history = compile_and_fit(dense, w48_6)\n",
    "\n",
    "IPython.display.clear_output()\n",
    "val_performance['Dense_w48_6'] = dense.evaluate(w48_6.val)\n",
    "performance['Dense_w48_6'] = dense.evaluate(w48_6.test, verbose=0)"
   ]
  },
  {
   "cell_type": "code",
   "execution_count": null,
   "metadata": {},
   "outputs": [],
   "source": [
    "losses = pd.DataFrame(history.history)\n",
    "losses.plot()"
   ]
  },
  {
   "cell_type": "code",
   "execution_count": null,
   "metadata": {},
   "outputs": [],
   "source": [
    "w48_6.plot(dense)"
   ]
  },
  {
   "cell_type": "code",
   "execution_count": null,
   "metadata": {},
   "outputs": [],
   "source": [
    "n_batches = len(tuple(w48_6.test))\n",
    "r2_at, r2_rh = w48_6.get_predictions(n_batches, model=dense)\n",
    "r2['Dense_w48_6']={'ATAvg':r2_at,'RHAVg':r2_rh}"
   ]
  },
  {
   "cell_type": "markdown",
   "metadata": {},
   "source": [
    "### 2E. Dense - w48_12"
   ]
  },
  {
   "cell_type": "code",
   "execution_count": null,
   "metadata": {},
   "outputs": [],
   "source": [
    "dense = tf.keras.Sequential([\n",
    "    tf.keras.layers.Dense(units=64, activation='relu'),\n",
    "    tf.keras.layers.Dense(units=64, activation='relu'),\n",
    "    tf.keras.layers.Dense(units=num_features)\n",
    "])"
   ]
  },
  {
   "cell_type": "code",
   "execution_count": null,
   "metadata": {},
   "outputs": [],
   "source": [
    "history = compile_and_fit(dense, w48_12)\n",
    "\n",
    "IPython.display.clear_output()\n",
    "val_performance['Dense_w48_12'] = dense.evaluate(w48_12.val)\n",
    "performance['Dense_w48_12'] = dense.evaluate(w48_12.test, verbose=0)"
   ]
  },
  {
   "cell_type": "code",
   "execution_count": null,
   "metadata": {},
   "outputs": [],
   "source": [
    "losses = pd.DataFrame(history.history)\n",
    "losses.plot()"
   ]
  },
  {
   "cell_type": "code",
   "execution_count": null,
   "metadata": {},
   "outputs": [],
   "source": [
    "w48_12.plot(dense)"
   ]
  },
  {
   "cell_type": "code",
   "execution_count": null,
   "metadata": {},
   "outputs": [],
   "source": [
    "n_batches = len(tuple(w24_1.test))\n",
    "r2_at, r2_rh = w24_1.get_predictions(n_batches, model=dense)\n",
    "r2['Dense_w48_12']={'ATAvg':r2_at,'RHAVg':r2_rh}"
   ]
  },
  {
   "cell_type": "markdown",
   "metadata": {},
   "source": [
    "### 3A. RNN - w24_1"
   ]
  },
  {
   "cell_type": "code",
   "execution_count": null,
   "metadata": {},
   "outputs": [],
   "source": [
    "%%time\n",
    "\n",
    "lstm_model = tf.keras.models.Sequential([\n",
    "    # Shape [batch, time, features] => [batch, time, lstm_units]\n",
    "    tf.keras.layers.LSTM(32, return_sequences=True),\n",
    "    # Shape => [batch, time, features]\n",
    "    tf.keras.layers.Dense(units=num_features)\n",
    "])\n",
    "\n",
    "history = compile_and_fit(lstm_model, w24_1)\n",
    "\n",
    "IPython.display.clear_output()\n",
    "val_performance['LSTM_w24_1'] = lstm_model.evaluate(w24_1.val)\n",
    "performance['LSTM_w24_1'] = lstm_model.evaluate(w24_1.test, verbose=0)\n",
    "\n",
    "print()"
   ]
  },
  {
   "cell_type": "code",
   "execution_count": null,
   "metadata": {},
   "outputs": [],
   "source": [
    "w24_1.plot(lstm_model)"
   ]
  },
  {
   "cell_type": "code",
   "execution_count": null,
   "metadata": {},
   "outputs": [],
   "source": [
    "losses = pd.DataFrame(history.history)\n",
    "losses.plot()"
   ]
  },
  {
   "cell_type": "code",
   "execution_count": null,
   "metadata": {},
   "outputs": [],
   "source": [
    "n_batches = len(tuple(w48_1.test))\n",
    "r2_at, r2_rh = w48_1.get_predictions(n_batches, model=lstm_model)\n",
    "r2['LSTM_w24_1']={'ATAvg':r2_at,'RHAVg':r2_rh}"
   ]
  },
  {
   "cell_type": "markdown",
   "metadata": {},
   "source": [
    "### 3B. RNN - w24_6"
   ]
  },
  {
   "cell_type": "code",
   "execution_count": null,
   "metadata": {},
   "outputs": [],
   "source": [
    "%%time\n",
    "history = compile_and_fit(lstm_model, w24_6)\n",
    "\n",
    "IPython.display.clear_output()\n",
    "val_performance['LSTM_w24_6'] = lstm_model.evaluate(w24_6.val)\n",
    "performance['LSTM_w24_6'] = lstm_model.evaluate(w24_6.test, verbose=0)\n",
    "\n",
    "print()"
   ]
  },
  {
   "cell_type": "code",
   "execution_count": null,
   "metadata": {},
   "outputs": [],
   "source": [
    "w24_6.plot(lstm_model)"
   ]
  },
  {
   "cell_type": "code",
   "execution_count": null,
   "metadata": {},
   "outputs": [],
   "source": [
    "losses = pd.DataFrame(history.history)\n",
    "losses.plot()"
   ]
  },
  {
   "cell_type": "code",
   "execution_count": null,
   "metadata": {},
   "outputs": [],
   "source": [
    "n_batches = len(tuple(w48_1.test))\n",
    "r2_at, r2_rh = w48_1.get_predictions(n_batches, model=lstm_model)\n",
    "r2['LSTM_w24_6']={'ATAvg':r2_at,'RHAVg':r2_rh}"
   ]
  },
  {
   "cell_type": "markdown",
   "metadata": {},
   "source": [
    "### 3C. RNN - w48_1"
   ]
  },
  {
   "cell_type": "code",
   "execution_count": null,
   "metadata": {},
   "outputs": [],
   "source": [
    "%%time\n",
    "\n",
    "history = compile_and_fit(lstm_model, w48_1)\n",
    "\n",
    "IPython.display.clear_output()\n",
    "val_performance['LSTM_w48_1'] = lstm_model.evaluate(w48_1.val)\n",
    "performance['LSTM_w48_1'] = lstm_model.evaluate(w48_1.test, verbose=0)\n",
    "\n",
    "print()"
   ]
  },
  {
   "cell_type": "code",
   "execution_count": null,
   "metadata": {},
   "outputs": [],
   "source": [
    "w48_1.plot(lstm_model)"
   ]
  },
  {
   "cell_type": "code",
   "execution_count": null,
   "metadata": {},
   "outputs": [],
   "source": [
    "losses = pd.DataFrame(history.history)\n",
    "losses.plot()"
   ]
  },
  {
   "cell_type": "code",
   "execution_count": null,
   "metadata": {},
   "outputs": [],
   "source": [
    "n_batches = len(tuple(w48_1.test))\n",
    "r2_at, r2_rh = w48_1.get_predictions(n_batches, model=lstm_model)\n",
    "r2['LSTM_w48_1']={'ATAvg':r2_at,'RHAVg':r2_rh}"
   ]
  },
  {
   "cell_type": "markdown",
   "metadata": {},
   "source": [
    "### 3D. RNN - w48_6"
   ]
  },
  {
   "cell_type": "code",
   "execution_count": null,
   "metadata": {},
   "outputs": [],
   "source": [
    "%%time\n",
    "\n",
    "history = compile_and_fit(lstm_model, w48_6)\n",
    "\n",
    "IPython.display.clear_output()\n",
    "val_performance['LSTM_w48_6'] = lstm_model.evaluate(w48_6.val)\n",
    "performance['LSTM_w48_6'] = lstm_model.evaluate(w48_6.test, verbose=0)\n",
    "\n",
    "print()"
   ]
  },
  {
   "cell_type": "code",
   "execution_count": null,
   "metadata": {},
   "outputs": [],
   "source": [
    "w48_6.plot(lstm_model)"
   ]
  },
  {
   "cell_type": "code",
   "execution_count": null,
   "metadata": {},
   "outputs": [],
   "source": [
    "losses = pd.DataFrame(history.history)\n",
    "losses.plot()"
   ]
  },
  {
   "cell_type": "code",
   "execution_count": null,
   "metadata": {},
   "outputs": [],
   "source": [
    "n_batches = len(tuple(w48_6.test))\n",
    "r2_at, r2_rh = w48_6.get_predictions(n_batches, model=lstm_model)\n",
    "r2['LSTM_w48_6']={'ATAvg':r2_at,'RHAVg':r2_rh}"
   ]
  },
  {
   "cell_type": "markdown",
   "metadata": {},
   "source": [
    "### 3E. RNN - w48_12"
   ]
  },
  {
   "cell_type": "code",
   "execution_count": null,
   "metadata": {},
   "outputs": [],
   "source": [
    "%%time\n",
    "history = compile_and_fit(lstm_model, w48_12)\n",
    "\n",
    "IPython.display.clear_output()\n",
    "val_performance['LSTM_w48_12'] = lstm_model.evaluate(w48_12.val)\n",
    "performance['LSTM_w48_12'] = lstm_model.evaluate(w48_12.test, verbose=0)\n",
    "\n",
    "print()"
   ]
  },
  {
   "cell_type": "code",
   "execution_count": null,
   "metadata": {},
   "outputs": [],
   "source": [
    "w48_12.plot(lstm_model)"
   ]
  },
  {
   "cell_type": "code",
   "execution_count": null,
   "metadata": {},
   "outputs": [],
   "source": [
    "losses = pd.DataFrame(history.history)\n",
    "losses.plot()"
   ]
  },
  {
   "cell_type": "code",
   "execution_count": null,
   "metadata": {},
   "outputs": [],
   "source": [
    "n_batches = len(tuple(w48_12.test))\n",
    "r2_at, r2_rh = w48_12.get_predictions(n_batches, model=lstm_model)\n",
    "r2['LSTM_w48_12']={'ATAvg':r2_at,'RHAVg':r2_rh}"
   ]
  },
  {
   "cell_type": "markdown",
   "metadata": {},
   "source": [
    "### 4A. Residual connections - w24-1"
   ]
  },
  {
   "cell_type": "code",
   "execution_count": null,
   "metadata": {},
   "outputs": [],
   "source": [
    "class ResidualWrapper(tf.keras.Model):\n",
    "  def __init__(self, model):\n",
    "    super().__init__()\n",
    "    self.model = model\n",
    "\n",
    "  def call(self, inputs, *args, **kwargs):\n",
    "    delta = self.model(inputs, *args, **kwargs)\n",
    "\n",
    "    # The prediction for each timestep is the input\n",
    "    # from the previous time step plus the delta\n",
    "    # calculated by the model.\n",
    "    return inputs + delta"
   ]
  },
  {
   "cell_type": "code",
   "execution_count": null,
   "metadata": {},
   "outputs": [],
   "source": [
    "%%time\n",
    "residual_lstm = ResidualWrapper(\n",
    "    tf.keras.Sequential([\n",
    "    tf.keras.layers.LSTM(32, return_sequences=True),\n",
    "    tf.keras.layers.Dense(\n",
    "        num_features,\n",
    "        # The predicted deltas should start small\n",
    "        # So initialize the output layer with zeros\n",
    "        kernel_initializer=tf.initializers.zeros())\n",
    "]))\n",
    "\n",
    "history = compile_and_fit(residual_lstm, w24_1)\n",
    "\n",
    "IPython.display.clear_output()\n",
    "val_performance['Residual_LSTM_w24_1'] = residual_lstm.evaluate(w24_1.val)\n",
    "performance['Residual_LSTM_w24_1'] = residual_lstm.evaluate(w24_1.test, verbose=0)\n",
    "print()"
   ]
  },
  {
   "cell_type": "code",
   "execution_count": null,
   "metadata": {},
   "outputs": [],
   "source": [
    "w24_1.plot(residual_lstm)"
   ]
  },
  {
   "cell_type": "code",
   "execution_count": null,
   "metadata": {},
   "outputs": [],
   "source": [
    "losses = pd.DataFrame(history.history)\n",
    "losses.plot()"
   ]
  },
  {
   "cell_type": "code",
   "execution_count": null,
   "metadata": {},
   "outputs": [],
   "source": [
    "n_batches = len(tuple(w24_1.test))\n",
    "r2_at, r2_rh = w24_1.get_predictions(n_batches, model=residual_lstm)\n",
    "r2['Residual_LSTM_w24_1']={'ATAvg':r2_at,'RHAVg':r2_rh}"
   ]
  },
  {
   "cell_type": "markdown",
   "metadata": {},
   "source": [
    "### 4B. Residual connections - w24-6"
   ]
  },
  {
   "cell_type": "code",
   "execution_count": null,
   "metadata": {},
   "outputs": [],
   "source": [
    "%%time\n",
    "history = compile_and_fit(residual_lstm, w24_6)\n",
    "\n",
    "IPython.display.clear_output()\n",
    "val_performance['Residual_LSTM_w24_6'] = residual_lstm.evaluate(w24_6.val)\n",
    "performance['Residual_LSTM_w24_6'] = residual_lstm.evaluate(w24_6.test, verbose=0)\n",
    "print()"
   ]
  },
  {
   "cell_type": "code",
   "execution_count": null,
   "metadata": {},
   "outputs": [],
   "source": [
    "w24_6.plot(residual_lstm)"
   ]
  },
  {
   "cell_type": "code",
   "execution_count": null,
   "metadata": {},
   "outputs": [],
   "source": [
    "losses = pd.DataFrame(history.history)\n",
    "losses.plot()"
   ]
  },
  {
   "cell_type": "code",
   "execution_count": null,
   "metadata": {},
   "outputs": [],
   "source": [
    "n_batches = len(tuple(w24_6.test))\n",
    "r2_at, r2_rh = w24_6.get_predictions(n_batches, model=residual_lstm)\n",
    "r2['Residual_LSTM_w24_6']={'ATAvg':r2_at,'RHAVg':r2_rh}"
   ]
  },
  {
   "cell_type": "markdown",
   "metadata": {},
   "source": [
    "### 4C. Residual connections - w48_1"
   ]
  },
  {
   "cell_type": "code",
   "execution_count": null,
   "metadata": {},
   "outputs": [],
   "source": [
    "%%time\n",
    "history = compile_and_fit(residual_lstm, w48_1)\n",
    "\n",
    "IPython.display.clear_output()\n",
    "val_performance['Residual_LSTM_w48_1'] = residual_lstm.evaluate(w48_1.val)\n",
    "performance['Residual_LSTM_w48_1'] = residual_lstm.evaluate(w48_1.test, verbose=0)\n",
    "print()"
   ]
  },
  {
   "cell_type": "code",
   "execution_count": null,
   "metadata": {},
   "outputs": [],
   "source": [
    "w48_1.plot(residual_lstm)"
   ]
  },
  {
   "cell_type": "code",
   "execution_count": null,
   "metadata": {},
   "outputs": [],
   "source": [
    "losses = pd.DataFrame(history.history)\n",
    "losses.plot()"
   ]
  },
  {
   "cell_type": "code",
   "execution_count": null,
   "metadata": {},
   "outputs": [],
   "source": [
    "n_batches = len(tuple(w48_1.test))\n",
    "r2_at, r2_rh = w48_1.get_predictions(n_batches, model=residual_lstm)\n",
    "r2['Residual_LSTM_w48_1']={'ATAvg':r2_at,'RHAVg':r2_rh}"
   ]
  },
  {
   "cell_type": "markdown",
   "metadata": {},
   "source": [
    "### 4D. Residual connections - w48_6"
   ]
  },
  {
   "cell_type": "code",
   "execution_count": null,
   "metadata": {},
   "outputs": [],
   "source": [
    "%%time\n",
    "history = compile_and_fit(residual_lstm, w48_6)\n",
    "\n",
    "IPython.display.clear_output()\n",
    "val_performance['Residual_LSTM_w48_6'] = residual_lstm.evaluate(w48_6.val)\n",
    "performance['Residual_LSTM_w48_6'] = residual_lstm.evaluate(w48_6.test, verbose=0)\n",
    "print()"
   ]
  },
  {
   "cell_type": "code",
   "execution_count": null,
   "metadata": {},
   "outputs": [],
   "source": [
    "w48_6.plot(residual_lstm)"
   ]
  },
  {
   "cell_type": "code",
   "execution_count": null,
   "metadata": {},
   "outputs": [],
   "source": [
    "losses = pd.DataFrame(history.history)\n",
    "losses.plot()"
   ]
  },
  {
   "cell_type": "code",
   "execution_count": null,
   "metadata": {},
   "outputs": [],
   "source": [
    "n_batches = len(tuple(w48_6.test))\n",
    "r2_at, r2_rh = w48_6.get_predictions(n_batches, model=residual_lstm)\n",
    "r2['Residual_LSTM_w48_6']={'ATAvg':r2_at,'RHAVg':r2_rh}"
   ]
  },
  {
   "cell_type": "markdown",
   "metadata": {},
   "source": [
    "### 4E. Residual connections - w48_12"
   ]
  },
  {
   "cell_type": "code",
   "execution_count": null,
   "metadata": {},
   "outputs": [],
   "source": [
    "%%time\n",
    "history = compile_and_fit(residual_lstm, w48_12)\n",
    "\n",
    "IPython.display.clear_output()\n",
    "val_performance['Residual_LSTM_w48_12'] = residual_lstm.evaluate(w48_12.val)\n",
    "performance['Residual_LSTM_w48_12'] = residual_lstm.evaluate(w48_12.test, verbose=0)\n",
    "print()"
   ]
  },
  {
   "cell_type": "code",
   "execution_count": null,
   "metadata": {},
   "outputs": [],
   "source": [
    "w48_12.plot(residual_lstm)"
   ]
  },
  {
   "cell_type": "code",
   "execution_count": null,
   "metadata": {},
   "outputs": [],
   "source": [
    "losses = pd.DataFrame(history.history)\n",
    "losses.plot()"
   ]
  },
  {
   "cell_type": "code",
   "execution_count": null,
   "metadata": {},
   "outputs": [],
   "source": [
    "n_batches = len(tuple(w48_12.test))\n",
    "r2_at, r2_rh = w48_12.get_predictions(n_batches, model=residual_lstm)\n",
    "r2['Residual_LSTM_w48_12']={'ATAvg':r2_at,'RHAVg':r2_rh}"
   ]
  },
  {
   "cell_type": "markdown",
   "metadata": {},
   "source": [
    "### Performance"
   ]
  },
  {
   "cell_type": "code",
   "execution_count": null,
   "metadata": {},
   "outputs": [],
   "source": [
    "x = np.arange(len(performance))\n",
    "width = 0.3\n",
    "\n",
    "metric_name = 'mean_absolute_error'\n",
    "metric_index = lstm_model.metrics_names.index('mean_absolute_error')\n",
    "val_mae = [v[metric_index] for v in val_performance.values()]\n",
    "test_mae = [v[metric_index] for v in performance.values()]\n",
    "\n",
    "plt.bar(x - 0.17, val_mae, width, label='Validation')\n",
    "plt.bar(x + 0.17, test_mae, width, label='Test')\n",
    "plt.xticks(ticks=x, labels=performance.keys(),\n",
    "           rotation=45)\n",
    "plt.ylabel('MAE (average over all outputs)')\n",
    "_ = plt.legend()"
   ]
  },
  {
   "cell_type": "code",
   "execution_count": null,
   "metadata": {},
   "outputs": [],
   "source": [
    "for name, value in performance.items():\n",
    "  print(f'{name:15s}: {value[1]:0.4f}')"
   ]
  },
  {
   "cell_type": "markdown",
   "metadata": {},
   "source": [
    "# MULTI-VARIATE + MULTI-STEP MODEL"
   ]
  },
  {
   "cell_type": "markdown",
   "metadata": {},
   "source": [
    "- 24 hours prior --> predict 1-12 hour\n",
    "- 24 hours prior --> predict 12-24 hours\n",
    "- 48 hours prior --> predict 1-12 hours\n",
    "- 48 hours prior --> predict 12-24 hours\n",
    "- 48 hours prior --> predict 24-36 hours"
   ]
  },
  {
   "cell_type": "markdown",
   "metadata": {},
   "source": [
    "## Windows"
   ]
  },
  {
   "cell_type": "markdown",
   "metadata": {},
   "source": [
    "### 24 h + 12h"
   ]
  },
  {
   "cell_type": "code",
   "execution_count": null,
   "metadata": {},
   "outputs": [],
   "source": [
    "OUT_STEPS=12\n",
    "wm24_12 = WindowGenerator(\n",
    "    input_width=24, label_width=OUT_STEPS, shift=OUT_STEPS)\n",
    "wm24_12.plot()\n",
    "wm24_12"
   ]
  },
  {
   "cell_type": "markdown",
   "metadata": {},
   "source": [
    "### 24 h + 24h"
   ]
  },
  {
   "cell_type": "code",
   "execution_count": null,
   "metadata": {},
   "outputs": [],
   "source": [
    "OUT_STEPS = 24\n",
    "wm24_24 = WindowGenerator(\n",
    "    input_width=24, label_width=OUT_STEPS, shift=OUT_STEPS)\n",
    "wm24_24.plot()\n",
    "wm24_24"
   ]
  },
  {
   "cell_type": "markdown",
   "metadata": {},
   "source": [
    "### 48 h + 12h"
   ]
  },
  {
   "cell_type": "code",
   "execution_count": null,
   "metadata": {},
   "outputs": [],
   "source": [
    "OUT_STEPS = 12\n",
    "wm48_12 = WindowGenerator(\n",
    "    input_width=48, label_width=OUT_STEPS, shift=OUT_STEPS)\n",
    "wm48_12.plot()\n",
    "wm48_12"
   ]
  },
  {
   "cell_type": "markdown",
   "metadata": {},
   "source": [
    "### 48 h + 24h"
   ]
  },
  {
   "cell_type": "code",
   "execution_count": null,
   "metadata": {},
   "outputs": [],
   "source": [
    "OUT_STEPS =24\n",
    "wm48_24 = WindowGenerator(\n",
    "    input_width=48, label_width=24, shift=24)\n",
    "wm48_24.plot()\n",
    "wm48_24"
   ]
  },
  {
   "cell_type": "code",
   "execution_count": null,
   "metadata": {},
   "outputs": [],
   "source": [
    "OUT_STEPS=24\n",
    "multi_window = WindowGenerator(input_width=24,\n",
    "                               label_width=OUT_STEPS,\n",
    "                               shift=OUT_STEPS)\n",
    "\n",
    "multi_window.plot()\n",
    "multi_window"
   ]
  },
  {
   "cell_type": "code",
   "execution_count": null,
   "metadata": {},
   "outputs": [],
   "source": [
    "class MultiStepLastBaseline(tf.keras.Model):\n",
    "  def call(self, inputs):\n",
    "    return tf.tile(inputs[:, -1:, :], [1, OUT_STEPS, 1])\n",
    "\n",
    "last_baseline = MultiStepLastBaseline()\n",
    "last_baseline.compile(loss=tf.losses.MeanSquaredError(),\n",
    "                      metrics=[tf.metrics.MeanAbsoluteError()])\n",
    "\n",
    "multi_val_performance = {}\n",
    "multi_performance = {}\n",
    "\n",
    "multi_val_performance['Last'] = last_baseline.evaluate(multi_window.val)\n",
    "multi_performance['Last'] = last_baseline.evaluate(multi_window.test, verbose=0)\n",
    "multi_window.plot(last_baseline)"
   ]
  },
  {
   "cell_type": "code",
   "execution_count": null,
   "metadata": {},
   "outputs": [],
   "source": [
    "class RepeatBaseline(tf.keras.Model):\n",
    "  def call(self, inputs):\n",
    "    return inputs\n",
    "\n",
    "repeat_baseline = RepeatBaseline()\n",
    "repeat_baseline.compile(loss=tf.losses.MeanSquaredError(),\n",
    "                        metrics=[tf.metrics.MeanAbsoluteError()])\n",
    "\n",
    "multi_val_performance['Repeat'] = repeat_baseline.evaluate(multi_window.val)\n",
    "multi_performance['Repeat'] = repeat_baseline.evaluate(multi_window.test, verbose=0)\n",
    "multi_window.plot(repeat_baseline)"
   ]
  },
  {
   "cell_type": "markdown",
   "metadata": {},
   "source": [
    "### Single-Shot"
   ]
  },
  {
   "cell_type": "code",
   "execution_count": null,
   "metadata": {},
   "outputs": [],
   "source": [
    "OUT_STEPS = 12\n",
    "multi_linear_model = tf.keras.Sequential([\n",
    "    # Take the last time-step.\n",
    "    # Shape [batch, time, features] => [batch, 1, features]\n",
    "    tf.keras.layers.Lambda(lambda x: x[:, -1:, :]),\n",
    "    # Shape => [batch, 1, out_steps*features]\n",
    "    tf.keras.layers.Dense(OUT_STEPS*num_features,\n",
    "                          kernel_initializer=tf.initializers.zeros()),\n",
    "    # Shape => [batch, out_steps, features]\n",
    "    tf.keras.layers.Reshape([OUT_STEPS, num_features])\n",
    "])\n",
    "\n",
    "history = compile_and_fit(multi_linear_model, wm48_12)\n",
    "\n",
    "IPython.display.clear_output()\n",
    "multi_val_performance['Linear'] = multi_linear_model.evaluate(wm48_12.val)\n",
    "multi_performance['Linear'] = multi_linear_model.evaluate(wm48_12.test, verbose=0)\n",
    "wm48_12.plot(multi_linear_model)"
   ]
  },
  {
   "cell_type": "markdown",
   "metadata": {},
   "source": [
    "### Dense"
   ]
  },
  {
   "cell_type": "code",
   "execution_count": null,
   "metadata": {},
   "outputs": [],
   "source": [
    "multi_dense_model = tf.keras.Sequential([\n",
    "    # Take the last time step.\n",
    "    # Shape [batch, time, features] => [batch, 1, features]\n",
    "    tf.keras.layers.Lambda(lambda x: x[:, -1:, :]),\n",
    "    # Shape => [batch, 1, dense_units]\n",
    "    tf.keras.layers.Dense(512, activation='relu'),\n",
    "    # Shape => [batch, out_steps*features]\n",
    "    tf.keras.layers.Dense(OUT_STEPS*num_features,\n",
    "                          kernel_initializer=tf.initializers.zeros()),\n",
    "    # Shape => [batch, out_steps, features]\n",
    "    tf.keras.layers.Reshape([OUT_STEPS, num_features])\n",
    "])\n",
    "\n",
    "history = compile_and_fit(multi_dense_model, multi_window)\n",
    "\n",
    "IPython.display.clear_output()\n",
    "multi_val_performance['Dense'] = multi_dense_model.evaluate(multi_window.val)\n",
    "multi_performance['Dense'] = multi_dense_model.evaluate(multi_window.test, verbose=0)\n",
    "multi_window.plot(multi_dense_model)"
   ]
  },
  {
   "cell_type": "markdown",
   "metadata": {},
   "source": [
    "## CNN"
   ]
  },
  {
   "cell_type": "code",
   "execution_count": null,
   "metadata": {},
   "outputs": [],
   "source": [
    "CONV_WIDTH = 3\n",
    "multi_conv_model = tf.keras.Sequential([\n",
    "    # Shape [batch, time, features] => [batch, CONV_WIDTH, features]\n",
    "    tf.keras.layers.Lambda(lambda x: x[:, -CONV_WIDTH:, :]),\n",
    "    # Shape => [batch, 1, conv_units]\n",
    "    tf.keras.layers.Conv1D(256, activation='relu', kernel_size=(CONV_WIDTH)),\n",
    "    # Shape => [batch, 1,  out_steps*features]\n",
    "    tf.keras.layers.Dense(OUT_STEPS*num_features,\n",
    "                          kernel_initializer=tf.initializers.zeros()),\n",
    "    # Shape => [batch, out_steps, features]\n",
    "    tf.keras.layers.Reshape([OUT_STEPS, num_features])\n",
    "])\n",
    "\n",
    "history = compile_and_fit(multi_conv_model, multi_window)\n",
    "\n",
    "IPython.display.clear_output()\n",
    "\n",
    "multi_val_performance['Conv'] = multi_conv_model.evaluate(multi_window.val)\n",
    "multi_performance['Conv'] = multi_conv_model.evaluate(multi_window.test, verbose=0)\n",
    "multi_window.plot(multi_conv_model)"
   ]
  },
  {
   "cell_type": "markdown",
   "metadata": {},
   "source": [
    "## RNN"
   ]
  },
  {
   "cell_type": "code",
   "execution_count": null,
   "metadata": {},
   "outputs": [],
   "source": [
    "multi_lstm_model = tf.keras.Sequential([\n",
    "    # Shape [batch, time, features] => [batch, lstm_units]\n",
    "    # Adding more `lstm_units` just overfits more quickly.\n",
    "    tf.keras.layers.LSTM(32, return_sequences=False),\n",
    "    # Shape => [batch, out_steps*features]\n",
    "    tf.keras.layers.Dense(OUT_STEPS*num_features,\n",
    "                          kernel_initializer=tf.initializers.zeros()),\n",
    "    # Shape => [batch, out_steps, features]\n",
    "    tf.keras.layers.Reshape([OUT_STEPS, num_features])\n",
    "])\n",
    "\n",
    "history = compile_and_fit(multi_lstm_model, multi_window)\n",
    "\n",
    "IPython.display.clear_output()\n",
    "\n",
    "multi_val_performance['LSTM'] = multi_lstm_model.evaluate(multi_window.val)\n",
    "multi_performance['LSTM'] = multi_lstm_model.evaluate(multi_window.test, verbose=0)\n",
    "multi_window.plot(multi_lstm_model)"
   ]
  },
  {
   "cell_type": "markdown",
   "metadata": {},
   "source": [
    "### Autoregressive model RNN"
   ]
  },
  {
   "cell_type": "code",
   "execution_count": null,
   "metadata": {},
   "outputs": [],
   "source": [
    "class FeedBack(tf.keras.Model):\n",
    "  def __init__(self, units, out_steps):\n",
    "    super().__init__()\n",
    "    self.out_steps = out_steps\n",
    "    self.units = units\n",
    "    self.lstm_cell = tf.keras.layers.LSTMCell(units)\n",
    "    # Also wrap the LSTMCell in an RNN to simplify the `warmup` method.\n",
    "    self.lstm_rnn = tf.keras.layers.RNN(self.lstm_cell, return_state=True)\n",
    "    self.dense = tf.keras.layers.Dense(num_features)"
   ]
  },
  {
   "cell_type": "code",
   "execution_count": null,
   "metadata": {},
   "outputs": [],
   "source": [
    "feedback_model = FeedBack(units=32, out_steps=OUT_STEPS)"
   ]
  },
  {
   "cell_type": "code",
   "execution_count": null,
   "metadata": {},
   "outputs": [],
   "source": [
    "def warmup(self, inputs):\n",
    "  # inputs.shape => (batch, time, features)\n",
    "  # x.shape => (batch, lstm_units)\n",
    "  x, *state = self.lstm_rnn(inputs)\n",
    "\n",
    "  # predictions.shape => (batch, features)\n",
    "  prediction = self.dense(x)\n",
    "  return prediction, state\n",
    "\n",
    "FeedBack.warmup = warmup"
   ]
  },
  {
   "cell_type": "code",
   "execution_count": null,
   "metadata": {},
   "outputs": [],
   "source": [
    "prediction, state = feedback_model.warmup(multi_window.example[0])\n",
    "prediction.shape"
   ]
  },
  {
   "cell_type": "code",
   "execution_count": null,
   "metadata": {},
   "outputs": [],
   "source": [
    "def call(self, inputs, training=None):\n",
    "  # Use a TensorArray to capture dynamically unrolled outputs.\n",
    "  predictions = []\n",
    "  # Initialize the lstm state\n",
    "  prediction, state = self.warmup(inputs)\n",
    "\n",
    "  # Insert the first prediction\n",
    "  predictions.append(prediction)\n",
    "\n",
    "  # Run the rest of the prediction steps\n",
    "  for n in range(1, self.out_steps):\n",
    "    # Use the last prediction as input.\n",
    "    x = prediction\n",
    "    # Execute one lstm step.\n",
    "    x, state = self.lstm_cell(x, states=state,\n",
    "                              training=training)\n",
    "    # Convert the lstm output to a prediction.\n",
    "    prediction = self.dense(x)\n",
    "    # Add the prediction to the output\n",
    "    predictions.append(prediction)\n",
    "\n",
    "  # predictions.shape => (time, batch, features)\n",
    "  predictions = tf.stack(predictions)\n",
    "  # predictions.shape => (batch, time, features)\n",
    "  predictions = tf.transpose(predictions, [1, 0, 2])\n",
    "  return predictions\n",
    "\n",
    "FeedBack.call = call"
   ]
  },
  {
   "cell_type": "code",
   "execution_count": null,
   "metadata": {},
   "outputs": [],
   "source": [
    "print('Output shape (batch, time, features): ', feedback_model(multi_window.example[0]).shape)"
   ]
  },
  {
   "cell_type": "code",
   "execution_count": null,
   "metadata": {},
   "outputs": [],
   "source": [
    "history = compile_and_fit(feedback_model, multi_window)\n",
    "\n",
    "IPython.display.clear_output()\n",
    "\n",
    "multi_val_performance['AR LSTM'] = feedback_model.evaluate(multi_window.val)\n",
    "multi_performance['AR LSTM'] = feedback_model.evaluate(multi_window.test, verbose=0)\n",
    "multi_window.plot(feedback_model)"
   ]
  },
  {
   "cell_type": "markdown",
   "metadata": {},
   "source": [
    "### Performance"
   ]
  },
  {
   "cell_type": "code",
   "execution_count": null,
   "metadata": {},
   "outputs": [],
   "source": [
    "x = np.arange(len(multi_performance))\n",
    "width = 0.3\n",
    "\n",
    "\n",
    "metric_name = 'mean_absolute_error'\n",
    "metric_index = lstm_model.metrics_names.index('mean_absolute_error')\n",
    "val_mae = [v[metric_index] for v in multi_val_performance.values()]\n",
    "test_mae = [v[metric_index] for v in multi_performance.values()]\n",
    "\n",
    "plt.bar(x - 0.17, val_mae, width, label='Validation')\n",
    "plt.bar(x + 0.17, test_mae, width, label='Test')\n",
    "plt.xticks(ticks=x, labels=multi_performance.keys(),\n",
    "           rotation=45)\n",
    "plt.ylabel(f'MAE (average over all times and outputs)')\n",
    "_ = plt.legend()"
   ]
  },
  {
   "cell_type": "code",
   "execution_count": null,
   "metadata": {},
   "outputs": [],
   "source": [
    "for name, value in multi_performance.items():\n",
    "  print(f'{name:8s}: {value[1]:0.4f}')"
   ]
  },
  {
   "cell_type": "markdown",
   "metadata": {},
   "source": [
    "### De-normalize the predictions"
   ]
  },
  {
   "cell_type": "markdown",
   "metadata": {},
   "source": [
    "#### Order of model\n",
    "model.compile()--> training configuration  \n",
    "model.fit() --> train the model (result is the model.history)  \n",
    "model.evaluate() --> test predictions  "
   ]
  },
  {
   "cell_type": "code",
   "execution_count": 1538,
   "metadata": {},
   "outputs": [],
   "source": [
    "model = multi_linear_model\n",
    "plot_col_index_0 = 0\n",
    "plot_col_index_1 = 3\n",
    "all_preds_0=[]\n",
    "all_labels_0 =[]\n",
    "all_preds_1=[]\n",
    "all_labels_1=[]\n",
    "for i in range(1,7):\n",
    "    #print(f'i = {i}')\n",
    "    for inputs, labels in wm48_12.test.take(i):  # only take i element of dataset\n",
    "        ### get labels\n",
    "        numpy_labels = labels.numpy()\n",
    "        numpy_inputs = inputs.numpy()\n",
    "        \n",
    "        # get predictions\n",
    "        preds = model(numpy_inputs)\n",
    "        numpy_preds = preds.numpy()\n",
    "        \n",
    "        all_preds_by_time_0 = []\n",
    "        all_labels_by_time_0 = []\n",
    "        all_preds_by_time_1 = []\n",
    "        all_labels_by_time_1 = []\n",
    "        \n",
    "        for j in range(numpy_labels_test.shape[1]): ## number of time steps\n",
    "                #if wm48_12 = 1 j = -1\n",
    "                ### get values for each bacth and time and de-normalize\n",
    "                ### for Temperature\n",
    "            #print(f'j = {j}')\n",
    "            batch_pred_0 =numpy_preds[:,j,plot_col_index_0]*train_std[plot_col_index_0] + train_mean[plot_col_index_0]\n",
    "            batch_label_0 = numpy_labels[:,j,plot_col_index_0]*train_std[plot_col_index_0] + train_mean[plot_col_index_0]\n",
    "                \n",
    "            ### for Relative Humidity\n",
    "            batch_pred_1 =numpy_preds[:,j,plot_col_index_1]*train_std[plot_col_index_1] + train_mean[plot_col_index_1]\n",
    "            batch_label_1 = numpy_labels[:,j,plot_col_index_1]*train_std[plot_col_index_1] + train_mean[plot_col_index_1]\n",
    "        \n",
    "            all_preds_by_time_0.extend(batch_pred_0)\n",
    "            #print(f'all_preds_by_time = {len(all_preds_by_time_0)}')\n",
    "            all_labels_by_time_0.extend(batch_label_0)\n",
    "            all_preds_by_time_1.extend(batch_pred_1)\n",
    "            all_labels_by_time_1.extend(batch_label_1)\n",
    "                \n",
    "            \n",
    "        \n",
    "        all_preds_0.append(all_preds_by_time_0)\n",
    "        #print(f'all_preds_0 = {len(all_preds_0)}')\n",
    "        all_labels_0.append(all_labels_by_time_0)\n",
    "        all_preds_1.append(all_preds_by_time_1)\n",
    "        all_labels_1.append(all_labels_by_time_1)\n",
    "        if len(all_preds_0) >= i:\n",
    "                    break\n",
    "\n",
    "    multi_preds_0 = np.vstack(all_preds_0)\n",
    "    multi_labels_0 = np.vstack(all_labels_0)\n",
    "    multi_preds_1 = np.vstack(all_preds_1)\n",
    "    multi_labels_1 = np.vstack(all_labels_1)"
   ]
  },
  {
   "cell_type": "code",
   "execution_count": 1537,
   "metadata": {},
   "outputs": [],
   "source": [
    "del multi_labels_0\n",
    "del multi_preds_0"
   ]
  },
  {
   "cell_type": "code",
   "execution_count": 1539,
   "metadata": {},
   "outputs": [
    {
     "data": {
      "text/plain": [
       "array([[14.710142, 14.892921, 17.079357, ..., 14.760578, 17.579245,\n",
       "        15.938733],\n",
       "       [20.096268, 17.964851, 25.44561 , ..., 15.879934, 16.951946,\n",
       "        20.985394],\n",
       "       [13.430588, 13.173073, 20.51934 , ..., 13.715823, 16.391518,\n",
       "        12.492846],\n",
       "       [19.69181 , 17.551712, 15.926565, ..., 13.249949, 15.919239,\n",
       "        12.348389],\n",
       "       [15.12566 , 12.661957, 15.760799, ..., 19.387722, 15.263425,\n",
       "        19.09477 ],\n",
       "       [16.826479,  9.628416, 20.00313 , ..., 13.470615, 20.394516,\n",
       "        21.838575]], dtype=float32)"
      ]
     },
     "execution_count": 1539,
     "metadata": {},
     "output_type": "execute_result"
    }
   ],
   "source": [
    "multi_preds_0"
   ]
  },
  {
   "cell_type": "code",
   "execution_count": 1529,
   "metadata": {},
   "outputs": [
    {
     "data": {
      "text/plain": [
       "<matplotlib.collections.PathCollection at 0x7fb122663f50>"
      ]
     },
     "execution_count": 1529,
     "metadata": {},
     "output_type": "execute_result"
    },
    {
     "data": {
      "image/png": "[encoded data removed]",
      "text/plain": [
       "<Figure size 720x360 with 2 Axes>"
      ]
     },
     "metadata": {
      "needs_background": "light"
     },
     "output_type": "display_data"
    }
   ],
   "source": [
    "fig, ax = plt.subplots(1, 2, figsize=(10, 5))\n",
    "                    \n",
    "mae_pred = []\n",
    "for i in np.arange(0,multi_labels_0.shape[1],step=32):\n",
    "    mae = mean_absolute_error(multi_labels_0[:,i:i+32], multi_preds_0[:,i:i+32])\n",
    "    mae_pred.append(mae)\n",
    "df = pd.DataFrame(mae_pred, columns=['mae'])\n",
    "\n",
    "ax[0].plot(df.index, df.mae, c='#ff5555')\n",
    "ax[0].scatter(df.index, df.mae,edgecolors='k', c='#ff5555', s=32 )"
   ]
  },
  {
   "cell_type": "code",
   "execution_count": 1507,
   "metadata": {},
   "outputs": [
    {
     "data": {
      "image/png": "[encoded data removed]",
      "text/plain": [
       "<Figure size 576x432 with 24 Axes>"
      ]
     },
     "metadata": {
      "needs_background": "light"
     },
     "output_type": "display_data"
    }
   ],
   "source": [
    "fig, axes = plt.subplots(6,4, sharex=True, sharey=True)\n",
    "\n",
    "for i, ax in enumerate(axes.flatten()):\n",
    "    mae_pred = pd.Dataframe()\n",
    "    for time,value in enumerate(np.arange(0,multi_labels_0.shape[1],step=32)):\n",
    "        mae = mean_absolute_error(multi_labels_0[:,i:i+32], multi_preds_0[:,i:i+32])\n",
    "        mae_pred['time']=time\n",
    "        mae_pred['mae']=mae\n",
    "    \n",
    "    ax.line(time,mae, color=plt.cm.Paired(i/10.))\n",
    "\n",
    "plt.show()"
   ]
  },
  {
   "cell_type": "code",
   "execution_count": 1470,
   "metadata": {},
   "outputs": [
    {
     "ename": "NameError",
     "evalue": "name 'multi_preds_0' is not defined",
     "output_type": "error",
     "traceback": [
      "\u001b[0;31m---------------------------------------------------------------------------\u001b[0m",
      "\u001b[0;31mNameError\u001b[0m                                 Traceback (most recent call last)",
      "\u001b[0;32m<ipython-input-1470-3da52b32904f>\u001b[0m in \u001b[0;36m<module>\u001b[0;34m\u001b[0m\n\u001b[0;32m----> 1\u001b[0;31m \u001b[0mmulti_preds_0\u001b[0m\u001b[0;34m\u001b[0m\u001b[0;34m\u001b[0m\u001b[0m\n\u001b[0m",
      "\u001b[0;31mNameError\u001b[0m: name 'multi_preds_0' is not defined"
     ]
    }
   ],
   "source": [
    "multi_preds_0"
   ]
  },
  {
   "cell_type": "code",
   "execution_count": 1574,
   "metadata": {},
   "outputs": [
    {
     "data": {
      "text/plain": [
       "0      0\n",
       "1      1\n",
       "2      2\n",
       "3      3\n",
       "4      4\n",
       "5      5\n",
       "6      6\n",
       "7      7\n",
       "8      8\n",
       "9      9\n",
       "10    10\n",
       "11    11\n",
       "Name: time, dtype: int64"
      ]
     },
     "execution_count": 1574,
     "metadata": {},
     "output_type": "execute_result"
    }
   ],
   "source": [
    "df2[df2['var']=='ATAvg'].time"
   ]
  },
  {
   "cell_type": "code",
   "execution_count": 1579,
   "metadata": {},
   "outputs": [
    {
     "data": {
      "text/plain": [
       "<matplotlib.collections.PathCollection at 0x7fb0d60f3950>"
      ]
     },
     "execution_count": 1579,
     "metadata": {},
     "output_type": "execute_result"
    },
    {
     "data": {
      "image/png": "[encoded data removed]",
      "text/plain": [
       "<Figure size 720x360 with 2 Axes>"
      ]
     },
     "metadata": {
      "needs_background": "light"
     },
     "output_type": "display_data"
    }
   ],
   "source": [
    "mae_pred = []\n",
    "r2_pred = []        \n",
    "for i in np.arange(0,multi_labels_0.shape[1],step=32):\n",
    "    mae = mean_absolute_error(multi_labels_0[:,i:i+32], multi_preds_0[:,i:i+32])\n",
    "    mae_pred.append(mae)\n",
    "    r2 = round(r2_score(multi_labels_0[:,i:i+32], multi_preds_0[:,i:i+32]),3)\n",
    "    r2_pred.append(r2)\n",
    "df = pd.DataFrame(mae_pred, columns=['mae'])\n",
    "df['r2']=r2_pred\n",
    "df['var']='ATAvg'\n",
    "df['time']=df.index\n",
    "        \n",
    "mae_pred = []\n",
    "r2_pred = []\n",
    "for i in np.arange(0,multi_labels_1.shape[1],step=32):\n",
    "    mae = mean_absolute_error(multi_labels_1[:,i:i+32], multi_preds_1[:,i:i+32])\n",
    "    mae_pred.append(mae)\n",
    "    r2 = round(r2_score(multi_labels_1[:,i:i+32], multi_preds_1[:,i:i+32]),3)\n",
    "    r2_pred.append(r2)\n",
    "df1 = pd.DataFrame(mae_pred, columns=['mae'])\n",
    "df1['r2']=r2_pred\n",
    "df1['var']='RHAvg'\n",
    "df1['time']=df1.index\n",
    "df2 = df.append(df1)\n",
    "accuracy = df2.to_dict()\n",
    "fig, ax = plt.subplots(1, 2, figsize=(10, 5))\n",
    "ax[0].plot(df.time, df.mae, c='#ff5555')\n",
    "ax[0].scatter(df.time, df.mae,edgecolors='k', c='#ff5555', s=32 )\n",
    "ax[1].plot(df1.time, df1.mae, c='#0ca4b4')\n",
    "ax[1].scatter(df1.time, df1.mae,edgecolors='k', c='#0ca4b4', s=32 )"
   ]
  },
  {
   "cell_type": "code",
   "execution_count": 1589,
   "metadata": {},
   "outputs": [],
   "source": [
    "from sklearn.metrics import r2_score\n",
    "import math\n",
    "from scipy import stats\n",
    "\n",
    "def get_predictions(self, model = lstm_model, plot_col = ['ATAvg','RHAvg'], plot=True):\n",
    "    \n",
    "    \n",
    "    plot_col_index_0 = self.column_indices[plot_col[0]]\n",
    "    plot_col_index_1 = self.column_indices[plot_col[1]]\n",
    "    all_preds_0=[]\n",
    "    all_labels_0 =[]\n",
    "    all_preds_1=[]\n",
    "    all_labels_1 =[]\n",
    "    \n",
    "    n_batches = len(tuple(self.test))\n",
    "    if self.shift==1:\n",
    "        for i in range(n_batches):\n",
    "            for inputs, labels in self.test.take(i):  # iterate over batches\n",
    "            \n",
    "                numpy_labels = labels.numpy() ### get labels\n",
    "                numpy_inputs = inputs.numpy() ### get inputs\n",
    "                preds = model(numpy_inputs) ### make prediction from trined model\n",
    "                numpy_preds = preds.numpy() ### get predictions\n",
    "                \n",
    "                batch_pred_0 =numpy_preds[:,-1,plot_col_index_0]*train_std[plot_col_index_0] + train_mean[plot_col_index_0]\n",
    "                batch_label_0 = numpy_labels[:,-1,plot_col_index_0]*train_std[plot_col_index_0] + train_mean[plot_col_index_0]\n",
    "                batch_pred_1 =numpy_preds[:,-1,plot_col_index_1]*train_std[plot_col_index_1] + train_mean[plot_col_index_1]\n",
    "                batch_label_1 = numpy_labels[:,-1,plot_col_index_1]*train_std[plot_col_index_1] + train_mean[plot_col_index_1]\n",
    "        \n",
    "                all_preds_0.extend(batch_pred_0)\n",
    "                all_labels_0.extend(batch_label_0)\n",
    "                all_preds_1.extend(batch_pred_1)\n",
    "                all_labels_1.extend(batch_label_1)\n",
    "                \n",
    "        r2_0=round(r2_score(all_labels_0, all_preds_0),3)\n",
    "        r2_1=round(r2_score(all_labels_1, all_preds_1),3)\n",
    "        mae_0 = mean_absolute_error(all_labels_0, all_preds_0)\n",
    "        mae_1 = mean_absolute_error(all_labels_1, all_preds_1)\n",
    "                \n",
    "        accuracy = {'r2':{plot_col[0]:r2_0,plot_col[1]:r2_1},\n",
    "                            'mae':{plot_col[0]:mae_0,plot_col[1]:mae_1}}\n",
    "\n",
    "        if plot:\n",
    "            ## var 0 (ATAvg)\n",
    "            slope, intercept, r_value_0, p_value, std_err = stats.linregress(all_labels_0, all_preds_0)\n",
    "            fig, ax = plt.subplots(1, 2, figsize=(10, 5))\n",
    "            ax[0].scatter(all_labels_0, all_preds_0,edgecolors='k', c='#ff5555', s=32)\n",
    "            ax[0].set_xlabel(f'True Values {plot_col[0]} [de-normed]')\n",
    "            ax[0].set_ylabel(f'Predicted Values {plot_col[0]} [de-normed]')\n",
    "            lims = [math.floor(min(all_labels_0)-min(all_labels_0)*0.1), math.ceil(max(all_labels_0)+max(all_labels_0)*0.1)]\n",
    "            ax[0].set_xlim(lims)\n",
    "            ax[0].set_ylim(lims)\n",
    "            line = slope*np.array(all_labels_0)+intercept\n",
    "            ax[0].plot(all_labels_0, line, 'gray',label = f'r2 = {round(r_value_0**2,3)}')\n",
    "            ax[0].legend(loc = 'lower right')\n",
    "\n",
    "            ## var 1 (RHvg)\n",
    "            slope, intercept, r_value_1, p_value, std_err = stats.linregress(all_labels_1, all_preds_1)\n",
    "            ax[1].scatter(all_labels_1, all_preds_1,edgecolors='k', c='#0ca4b4', s=32)\n",
    "            ax[1].set_xlabel(f'True Values {plot_col[1]} [de-normed]')\n",
    "            ax[1].set_ylabel(f'Predicted Values {plot_col[1]} [de-normed]')\n",
    "            lims = [math.floor(min(all_labels_1)-min(all_labels_1)*0.1), math.ceil(max(all_labels_1)+max(all_labels_1)*0.1)]\n",
    "            ax[1].set_xlim(lims)\n",
    "            ax[1].set_ylim(lims)\n",
    "            line = slope*np.array(all_labels_1)+intercept\n",
    "            ax[1].plot(all_labels_1, line, 'gray',label = f'r2 = {round(r_value_1**2,3)}')\n",
    "            ax[1].legend(loc = 'lower right')\n",
    "\n",
    "    else:\n",
    "        for i in range(n_batches):\n",
    "            #print(f'i = {i}')\n",
    "            for inputs, labels in self.test.take(i):  # iterate over batches\n",
    "                \n",
    "                numpy_labels = labels.numpy() ### get labels\n",
    "                numpy_inputs = inputs.numpy() ### get inputs\n",
    "                preds = model(numpy_inputs) ### make prediction from trined model\n",
    "                numpy_preds = preds.numpy() ### get predictions\n",
    "                \n",
    "                all_preds_by_time_0 = []\n",
    "                all_labels_by_time_0 = []\n",
    "                all_preds_by_time_1 = []\n",
    "                all_labels_by_time_1 = []\n",
    "                \n",
    "                for j in range(numpy_labels_test.shape[1]): ## number of time steps\n",
    "                    ### get values for each bacth and time and de-normalize\n",
    "                    #print(f'j = {j}')\n",
    "                    batch_pred_0 =numpy_preds[:,j,plot_col_index_0]*train_std[plot_col_index_0] + train_mean[plot_col_index_0]\n",
    "                    batch_label_0 = numpy_labels[:,j,plot_col_index_0]*train_std[plot_col_index_0] + train_mean[plot_col_index_0]\n",
    "                    batch_pred_1 =numpy_preds[:,j,plot_col_index_1]*train_std[plot_col_index_1] + train_mean[plot_col_index_1]\n",
    "                    batch_label_1 = numpy_labels[:,j,plot_col_index_1]*train_std[plot_col_index_1] + train_mean[plot_col_index_1]\n",
    "        \n",
    "                    all_preds_by_time_0.extend(batch_pred_0)\n",
    "                    #print(f'all_preds_by_time = {len(all_preds_by_time_0)}')\n",
    "                    all_labels_by_time_0.extend(batch_label_0)\n",
    "                    all_preds_by_time_1.extend(batch_pred_1)\n",
    "                    all_labels_by_time_1.extend(batch_label_1)\n",
    "                \n",
    "            \n",
    "                all_preds_0.append(all_preds_by_time_0)\n",
    "                all_labels_0.append(all_labels_by_time_0)\n",
    "                all_preds_1.append(all_preds_by_time_1)\n",
    "                all_labels_1.append(all_labels_by_time_1)\n",
    "                if len(all_preds_0) >= i:\n",
    "                    break\n",
    "        \n",
    "                ## covert to array (shape= i,time*batch_size)\n",
    "        multi_preds_0 = np.vstack(all_preds_0)\n",
    "        multi_labels_0 = np.vstack(all_labels_0)\n",
    "        multi_preds_1 = np.vstack(all_preds_1)\n",
    "        multi_labels_1 = np.vstack(all_labels_1)\n",
    "        \n",
    "        mae_pred = []\n",
    "        r2_pred = []        \n",
    "        for a in np.arange(0,multi_labels_0.shape[1],step=32):\n",
    "            mae = mean_absolute_error(multi_labels_0[:,a:a+32], multi_preds_0[:,a:a+32])\n",
    "            mae_pred.append(mae)\n",
    "            r2 = round(r2_score(multi_labels_0[:,a:a+32], multi_preds_0[:,a:a+32]),3)\n",
    "            r2_pred.append(r2)\n",
    "        df = pd.DataFrame(mae_pred, columns=['mae'])\n",
    "        df['r2']=r2_pred\n",
    "        df['var']='ATAvg'\n",
    "        df['time']=df.index\n",
    "\n",
    "        mae_pred = []\n",
    "        r2_pred = []\n",
    "        for a in np.arange(0,multi_labels_1.shape[1],step=32):\n",
    "            mae = mean_absolute_error(multi_labels_1[:,a:a+32], multi_preds_1[:,a:a+32])\n",
    "            mae_pred.append(mae)\n",
    "            r2 = round(r2_score(multi_labels_1[:,a:a+32], multi_preds_1[:,a:a+32]),3)\n",
    "            r2_pred.append(r2)\n",
    "        df1 = pd.DataFrame(mae_pred, columns=['mae'])\n",
    "        df1['r2']=r2_pred\n",
    "        df1['var']='RHAvg'\n",
    "        df1['time']=df1.index\n",
    "        df2 = df.append(df1)\n",
    "        accuracy = df2.to_dict()  \n",
    "              \n",
    "        if plot:\n",
    "            fig, ax = plt.subplots(1, 2, figsize=(10, 5))\n",
    "            ax[0].plot(df.time, df.mae, c='#ff5555')\n",
    "            ax[0].scatter(df.time, df.mae,edgecolors='k', c='#ff5555', s=32 )\n",
    "            ax[1].plot(df1.time, df1.mae, c='#0ca4b4')\n",
    "            ax[1].scatter(df1.time, df1.mae,edgecolors='k', c='#0ca4b4', s=32 )\n",
    "            \n",
    "    return accuracy\n",
    "                       \n",
    "WindowGenerator.get_predictions = get_predictions"
   ]
  },
  {
   "cell_type": "code",
   "execution_count": 1585,
   "metadata": {},
   "outputs": [
    {
     "data": {
      "image/png": "[encoded data removed]",
      "text/plain": [
       "<Figure size 720x360 with 2 Axes>"
      ]
     },
     "metadata": {
      "needs_background": "light"
     },
     "output_type": "display_data"
    }
   ],
   "source": [
    "accuracy= wm48_12.get_predictions(multi_linear_model)"
   ]
  },
  {
   "cell_type": "code",
   "execution_count": 1590,
   "metadata": {},
   "outputs": [
    {
     "data": {
      "image/png": "[encoded data removed]",
      "text/plain": [
       "<Figure size 720x360 with 2 Axes>"
      ]
     },
     "metadata": {
      "needs_background": "light"
     },
     "output_type": "display_data"
    }
   ],
   "source": [
    "accuracy=w24_1.get_predictions(lstm_model)"
   ]
  },
  {
   "cell_type": "code",
   "execution_count": 1591,
   "metadata": {},
   "outputs": [
    {
     "data": {
      "text/plain": [
       "{'r2': {'ATAvg': 0.892, 'RHAvg': 0.86},\n",
       " 'mae': {'ATAvg': 0.84437513, 'RHAvg': 4.485748}}"
      ]
     },
     "execution_count": 1591,
     "metadata": {},
     "output_type": "execute_result"
    }
   ],
   "source": [
    "accuracy"
   ]
  },
  {
   "cell_type": "code",
   "execution_count": null,
   "metadata": {},
   "outputs": [],
   "source": []
  }
 ],
 "metadata": {
  "kernelspec": {
   "display_name": "Python 3",
   "language": "python",
   "name": "python3"
  },
  "language_info": {
   "codemirror_mode": {
    "name": "ipython",
    "version": 3
   },
   "file_extension": ".py",
   "mimetype": "text/x-python",
   "name": "python",
   "nbconvert_exporter": "python",
   "pygments_lexer": "ipython3",
   "version": "3.7.4"
  }
 },
 "nbformat": 4,
 "nbformat_minor": 4
}
