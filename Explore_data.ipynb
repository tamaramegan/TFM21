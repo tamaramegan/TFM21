{
 "cells": [
  {
   "cell_type": "markdown",
   "metadata": {},
   "source": [
    "### Explore meteorological data"
   ]
  },
  {
   "cell_type": "code",
   "execution_count": 186,
   "metadata": {},
   "outputs": [],
   "source": [
    "import os\n",
    "import zipfile\n",
    "import pandas as pd\n",
    "import glob\n",
    "import keplergl\n",
    "import geopandas as gpd\n",
    "import matplotlib.pyplot as plt\n",
    "import csv\n",
    "from datetime import datetime\n",
    "import re\n",
    "import numpy as np\n",
    "from pyproj import Proj\n",
    "%run Meteo_utils.ipynb"
   ]
  },
  {
   "cell_type": "code",
   "execution_count": 2,
   "metadata": {},
   "outputs": [],
   "source": [
    "# Drive folder with original data: https://drive.google.com/drive/folders/1me2IpDY3om6IRKv_WMT5W6Qw0r9DI74C"
   ]
  },
  {
   "cell_type": "code",
   "execution_count": 3,
   "metadata": {},
   "outputs": [
    {
     "data": {
      "text/plain": [
       "['.DS_Store',\n",
       " '07-HGPT-MT-07.- Estacion Aeropuerto-20210505T205931Z-001.zip',\n",
       " 'Estaciones_meteorologicas.csv',\n",
       " 'Estaciones_meteorologicas_SW.csv',\n",
       " '02-HGPT-MT-06.- Estacion Baños-20210426T162523Z-001.zip',\n",
       " 'Inventario Estaciones Meteo.xls',\n",
       " '.ipynb_checkpoints',\n",
       " 'Estaciones_meteorologicas_SW.numbers',\n",
       " '02-HGPT-MT-06.- Estacion Baños']"
      ]
     },
     "execution_count": 3,
     "metadata": {},
     "output_type": "execute_result"
    }
   ],
   "source": [
    "os.listdir('data')"
   ]
  },
  {
   "cell_type": "code",
   "execution_count": 4,
   "metadata": {},
   "outputs": [],
   "source": [
    "### Read a sheet from an excel file\n",
    "file = glob.glob('data/*.xls')[0]\n",
    "sheets = pd.read_excel(file, None)\n",
    "list(sheets.keys())\n",
    "df = pd.read_excel(io=file, sheet_name=list(sheets.keys())[0], engine ='xlrd',skiprows = 1)"
   ]
  },
  {
   "cell_type": "code",
   "execution_count": 5,
   "metadata": {},
   "outputs": [
    {
     "data": {
      "text/html": [
       "<div>\n",
       "<style scoped>\n",
       "    .dataframe tbody tr th:only-of-type {\n",
       "        vertical-align: middle;\n",
       "    }\n",
       "\n",
       "    .dataframe tbody tr th {\n",
       "        vertical-align: top;\n",
       "    }\n",
       "\n",
       "    .dataframe thead th {\n",
       "        text-align: right;\n",
       "    }\n",
       "</style>\n",
       "<table border=\"1\" class=\"dataframe\">\n",
       "  <thead>\n",
       "    <tr style=\"text-align: right;\">\n",
       "      <th></th>\n",
       "      <th>fuente</th>\n",
       "      <th>numero</th>\n",
       "      <th>codigo</th>\n",
       "      <th>nombre</th>\n",
       "      <th>tipo</th>\n",
       "      <th>provincia</th>\n",
       "      <th>estado</th>\n",
       "      <th>fecha_instalacion</th>\n",
       "      <th>latitud</th>\n",
       "      <th>longitud</th>\n",
       "      <th>parametros_medicion</th>\n",
       "    </tr>\n",
       "  </thead>\n",
       "  <tbody>\n",
       "    <tr>\n",
       "      <th>0</th>\n",
       "      <td>esta_inamhi</td>\n",
       "      <td>1</td>\n",
       "      <td>M0029</td>\n",
       "      <td>BAÑOS</td>\n",
       "      <td>CP</td>\n",
       "      <td>TUNGURAHUA</td>\n",
       "      <td>FUNCIONANDO</td>\n",
       "      <td>20-jun-62</td>\n",
       "      <td>12329.0</td>\n",
       "      <td>782505.0</td>\n",
       "      <td>Temperatura Max, temperatura Min, Temperatura,...</td>\n",
       "    </tr>\n",
       "    <tr>\n",
       "      <th>1</th>\n",
       "      <td>esta_inamhi</td>\n",
       "      <td>2</td>\n",
       "      <td>M0258</td>\n",
       "      <td>QUEROCHACA(UTA)</td>\n",
       "      <td>CP</td>\n",
       "      <td>TUNGURAHUA</td>\n",
       "      <td>FUNCIONANDO</td>\n",
       "      <td>2-nov-85</td>\n",
       "      <td>12202.0</td>\n",
       "      <td>783620.0</td>\n",
       "      <td>Temperatura Max, temperatura Min, Temperatura,...</td>\n",
       "    </tr>\n",
       "    <tr>\n",
       "      <th>2</th>\n",
       "      <td>esta_inamhi</td>\n",
       "      <td>3</td>\n",
       "      <td>M1069</td>\n",
       "      <td>CALAMACA CONVENIO INAMHI HCPT</td>\n",
       "      <td>CP</td>\n",
       "      <td>TUNGURAHUA</td>\n",
       "      <td>FUNCIONANDO</td>\n",
       "      <td>4-jul-88</td>\n",
       "      <td>11634.0</td>\n",
       "      <td>784908.0</td>\n",
       "      <td>Temperatura Max, temperatura Min, Temperatura,...</td>\n",
       "    </tr>\n",
       "    <tr>\n",
       "      <th>3</th>\n",
       "      <td>esta_inamhi</td>\n",
       "      <td>4</td>\n",
       "      <td>M0126</td>\n",
       "      <td>PATATE</td>\n",
       "      <td>CO</td>\n",
       "      <td>TUNGURAHUA</td>\n",
       "      <td>FUNCIONANDO</td>\n",
       "      <td>1-may-63</td>\n",
       "      <td>11801.0</td>\n",
       "      <td>783000.0</td>\n",
       "      <td>Temperatura Max, temperatura Min, Temperatura,...</td>\n",
       "    </tr>\n",
       "    <tr>\n",
       "      <th>4</th>\n",
       "      <td>esta_inamhi</td>\n",
       "      <td>5</td>\n",
       "      <td>M0127</td>\n",
       "      <td>PILLARO</td>\n",
       "      <td>CO</td>\n",
       "      <td>TUNGURAHUA</td>\n",
       "      <td>FUNCIONANDO</td>\n",
       "      <td>1-Dec-63</td>\n",
       "      <td>11010.0</td>\n",
       "      <td>783310.0</td>\n",
       "      <td>Temperatura Max, temperatura Min, Temperatura,...</td>\n",
       "    </tr>\n",
       "  </tbody>\n",
       "</table>\n",
       "</div>"
      ],
      "text/plain": [
       "        fuente  numero codigo                         nombre tipo   provincia  \\\n",
       "0  esta_inamhi       1  M0029                          BAÑOS   CP  TUNGURAHUA   \n",
       "1  esta_inamhi       2  M0258                QUEROCHACA(UTA)   CP  TUNGURAHUA   \n",
       "2  esta_inamhi       3  M1069  CALAMACA CONVENIO INAMHI HCPT   CP  TUNGURAHUA   \n",
       "3  esta_inamhi       4  M0126                         PATATE   CO  TUNGURAHUA   \n",
       "4  esta_inamhi       5  M0127                        PILLARO   CO  TUNGURAHUA   \n",
       "\n",
       "        estado fecha_instalacion  latitud  longitud  \\\n",
       "0  FUNCIONANDO         20-jun-62  12329.0  782505.0   \n",
       "1  FUNCIONANDO          2-nov-85  12202.0  783620.0   \n",
       "2  FUNCIONANDO          4-jul-88  11634.0  784908.0   \n",
       "3  FUNCIONANDO          1-may-63  11801.0  783000.0   \n",
       "4  FUNCIONANDO          1-Dec-63  11010.0  783310.0   \n",
       "\n",
       "                                 parametros_medicion  \n",
       "0  Temperatura Max, temperatura Min, Temperatura,...  \n",
       "1  Temperatura Max, temperatura Min, Temperatura,...  \n",
       "2  Temperatura Max, temperatura Min, Temperatura,...  \n",
       "3  Temperatura Max, temperatura Min, Temperatura,...  \n",
       "4  Temperatura Max, temperatura Min, Temperatura,...  "
      ]
     },
     "execution_count": 5,
     "metadata": {},
     "output_type": "execute_result"
    }
   ],
   "source": [
    "df = pd.read_csv('data/Estaciones_meteorologicas.csv')\n",
    "df.head()"
   ]
  },
  {
   "cell_type": "code",
   "execution_count": 7,
   "metadata": {},
   "outputs": [
    {
     "data": {
      "text/plain": [
       "array(['esta_inamhi', 'esta_hgpt', 'esta_hgpt_sen'], dtype=object)"
      ]
     },
     "execution_count": 7,
     "metadata": {},
     "output_type": "execute_result"
    }
   ],
   "source": [
    "df.fuente.unique()"
   ]
  },
  {
   "cell_type": "code",
   "execution_count": 12,
   "metadata": {},
   "outputs": [],
   "source": [
    "# Conversion from UTM to degrees\n",
    "# https://ocefpaf.github.io/python4oceanographers/blog/2013/12/16/utm/\n",
    "# EPSG:32717 (UTM 17S) (copy Proj4 format)\n",
    "north = Proj(\"+proj=utm +zone=17 +north +ellps=WGS84 +datum=WGS84 +units=m +no_defs\")\n",
    "south = Proj(\"+proj=utm +zone=17 +south +ellps=WGS84 +datum=WGS84 +units=m +no_defs\")"
   ]
  },
  {
   "cell_type": "code",
   "execution_count": 33,
   "metadata": {},
   "outputs": [],
   "source": [
    "# UTM info : http://geokov.com/education/utm.aspx\n",
    "# Northing coordinates use Equator as reference. For NH, Equator= 0. For SH , Equator = 10.000.000\n",
    "# Easting coordinates use the false origin 500000 meters to the west of the central meridian of the UTM zone\n",
    "\n",
    "# ESTA INAMHI data had lat = xxxS and long = xxxW \n",
    "## 17N\n",
    "df.loc[df['fuente'] == 'esta_inamhi','lon_deg'], df.loc[df['fuente'] == 'esta_inamhi','lat_deg']= north(df[df['fuente'] == 'esta_inamhi']['longitud'].values, \n",
    "                                                                                          df[df['fuente'] == 'esta_inamhi']['latitud'].values, inverse=True)\n",
    "\n",
    "## 17S\n",
    "df.loc[df['fuente'] != 'esta_inamhi','lon_deg'], df.loc[df['fuente'] != 'esta_inamhi','lat_deg']= south(df[df['fuente'] != 'esta_inamhi']['longitud'].values, \n",
    "                                                                                          df[df['fuente'] != 'esta_inamhi']['latitud'].values, inverse=True)\n",
    "                               "
   ]
  },
  {
   "cell_type": "code",
   "execution_count": 34,
   "metadata": {},
   "outputs": [
    {
     "data": {
      "text/html": [
       "<div>\n",
       "<style scoped>\n",
       "    .dataframe tbody tr th:only-of-type {\n",
       "        vertical-align: middle;\n",
       "    }\n",
       "\n",
       "    .dataframe tbody tr th {\n",
       "        vertical-align: top;\n",
       "    }\n",
       "\n",
       "    .dataframe thead th {\n",
       "        text-align: right;\n",
       "    }\n",
       "</style>\n",
       "<table border=\"1\" class=\"dataframe\">\n",
       "  <thead>\n",
       "    <tr style=\"text-align: right;\">\n",
       "      <th></th>\n",
       "      <th>fuente</th>\n",
       "      <th>numero</th>\n",
       "      <th>codigo</th>\n",
       "      <th>nombre</th>\n",
       "      <th>tipo</th>\n",
       "      <th>provincia</th>\n",
       "      <th>estado</th>\n",
       "      <th>fecha_instalacion</th>\n",
       "      <th>latitud</th>\n",
       "      <th>longitud</th>\n",
       "      <th>parametros_medicion</th>\n",
       "      <th>lon_deg</th>\n",
       "      <th>lat_deg</th>\n",
       "      <th>geometry</th>\n",
       "    </tr>\n",
       "  </thead>\n",
       "  <tbody>\n",
       "    <tr>\n",
       "      <th>0</th>\n",
       "      <td>esta_inamhi</td>\n",
       "      <td>1</td>\n",
       "      <td>M0029</td>\n",
       "      <td>BAÑOS</td>\n",
       "      <td>CP</td>\n",
       "      <td>TUNGURAHUA</td>\n",
       "      <td>FUNCIONANDO</td>\n",
       "      <td>20-jun-62</td>\n",
       "      <td>12329.0</td>\n",
       "      <td>782505.0</td>\n",
       "      <td>Temperatura Max, temperatura Min, Temperatura,...</td>\n",
       "      <td>-78.462030</td>\n",
       "      <td>0.111434</td>\n",
       "      <td>POINT (-78.46203 0.11143)</td>\n",
       "    </tr>\n",
       "    <tr>\n",
       "      <th>1</th>\n",
       "      <td>esta_inamhi</td>\n",
       "      <td>2</td>\n",
       "      <td>M0258</td>\n",
       "      <td>QUEROCHACA(UTA)</td>\n",
       "      <td>CP</td>\n",
       "      <td>TUNGURAHUA</td>\n",
       "      <td>FUNCIONANDO</td>\n",
       "      <td>2-nov-85</td>\n",
       "      <td>12202.0</td>\n",
       "      <td>783620.0</td>\n",
       "      <td>Temperatura Max, temperatura Min, Temperatura,...</td>\n",
       "      <td>-78.452020</td>\n",
       "      <td>0.110285</td>\n",
       "      <td>POINT (-78.45202 0.11029)</td>\n",
       "    </tr>\n",
       "    <tr>\n",
       "      <th>2</th>\n",
       "      <td>esta_inamhi</td>\n",
       "      <td>3</td>\n",
       "      <td>M1069</td>\n",
       "      <td>CALAMACA CONVENIO INAMHI HCPT</td>\n",
       "      <td>CP</td>\n",
       "      <td>TUNGURAHUA</td>\n",
       "      <td>FUNCIONANDO</td>\n",
       "      <td>4-jul-88</td>\n",
       "      <td>11634.0</td>\n",
       "      <td>784908.0</td>\n",
       "      <td>Temperatura Max, temperatura Min, Temperatura,...</td>\n",
       "      <td>-78.440457</td>\n",
       "      <td>0.105151</td>\n",
       "      <td>POINT (-78.44046 0.10515)</td>\n",
       "    </tr>\n",
       "    <tr>\n",
       "      <th>3</th>\n",
       "      <td>esta_inamhi</td>\n",
       "      <td>4</td>\n",
       "      <td>M0126</td>\n",
       "      <td>PATATE</td>\n",
       "      <td>CO</td>\n",
       "      <td>TUNGURAHUA</td>\n",
       "      <td>FUNCIONANDO</td>\n",
       "      <td>1-may-63</td>\n",
       "      <td>11801.0</td>\n",
       "      <td>783000.0</td>\n",
       "      <td>Temperatura Max, temperatura Min, Temperatura,...</td>\n",
       "      <td>-78.457586</td>\n",
       "      <td>0.106662</td>\n",
       "      <td>POINT (-78.45759 0.10666)</td>\n",
       "    </tr>\n",
       "    <tr>\n",
       "      <th>4</th>\n",
       "      <td>esta_inamhi</td>\n",
       "      <td>5</td>\n",
       "      <td>M0127</td>\n",
       "      <td>PILLARO</td>\n",
       "      <td>CO</td>\n",
       "      <td>TUNGURAHUA</td>\n",
       "      <td>FUNCIONANDO</td>\n",
       "      <td>1-Dec-63</td>\n",
       "      <td>11010.0</td>\n",
       "      <td>783310.0</td>\n",
       "      <td>Temperatura Max, temperatura Min, Temperatura,...</td>\n",
       "      <td>-78.454804</td>\n",
       "      <td>0.099512</td>\n",
       "      <td>POINT (-78.45480 0.09951)</td>\n",
       "    </tr>\n",
       "  </tbody>\n",
       "</table>\n",
       "</div>"
      ],
      "text/plain": [
       "        fuente  numero codigo                         nombre tipo   provincia  \\\n",
       "0  esta_inamhi       1  M0029                          BAÑOS   CP  TUNGURAHUA   \n",
       "1  esta_inamhi       2  M0258                QUEROCHACA(UTA)   CP  TUNGURAHUA   \n",
       "2  esta_inamhi       3  M1069  CALAMACA CONVENIO INAMHI HCPT   CP  TUNGURAHUA   \n",
       "3  esta_inamhi       4  M0126                         PATATE   CO  TUNGURAHUA   \n",
       "4  esta_inamhi       5  M0127                        PILLARO   CO  TUNGURAHUA   \n",
       "\n",
       "        estado fecha_instalacion  latitud  longitud  \\\n",
       "0  FUNCIONANDO         20-jun-62  12329.0  782505.0   \n",
       "1  FUNCIONANDO          2-nov-85  12202.0  783620.0   \n",
       "2  FUNCIONANDO          4-jul-88  11634.0  784908.0   \n",
       "3  FUNCIONANDO          1-may-63  11801.0  783000.0   \n",
       "4  FUNCIONANDO          1-Dec-63  11010.0  783310.0   \n",
       "\n",
       "                                 parametros_medicion    lon_deg   lat_deg  \\\n",
       "0  Temperatura Max, temperatura Min, Temperatura,... -78.462030  0.111434   \n",
       "1  Temperatura Max, temperatura Min, Temperatura,... -78.452020  0.110285   \n",
       "2  Temperatura Max, temperatura Min, Temperatura,... -78.440457  0.105151   \n",
       "3  Temperatura Max, temperatura Min, Temperatura,... -78.457586  0.106662   \n",
       "4  Temperatura Max, temperatura Min, Temperatura,... -78.454804  0.099512   \n",
       "\n",
       "                    geometry  \n",
       "0  POINT (-78.46203 0.11143)  \n",
       "1  POINT (-78.45202 0.11029)  \n",
       "2  POINT (-78.44046 0.10515)  \n",
       "3  POINT (-78.45759 0.10666)  \n",
       "4  POINT (-78.45480 0.09951)  "
      ]
     },
     "execution_count": 34,
     "metadata": {},
     "output_type": "execute_result"
    }
   ],
   "source": [
    "df.head()"
   ]
  },
  {
   "cell_type": "code",
   "execution_count": 15,
   "metadata": {},
   "outputs": [],
   "source": [
    "df.lon_deg = df.lon_deg.replace({float(\"inf\"): np.nan})  \n",
    "df.lat_deg = df.lat_deg.replace({float(\"inf\"): np.nan})"
   ]
  },
  {
   "cell_type": "code",
   "execution_count": 16,
   "metadata": {},
   "outputs": [],
   "source": [
    "### There is a problem with the coordinates. I can extract the coordinates from ESTA_INAMHI but not form the other 2. UTM format"
   ]
  },
  {
   "cell_type": "code",
   "execution_count": 17,
   "metadata": {},
   "outputs": [],
   "source": [
    "gdf = gpd.GeoDataFrame(\n",
    "    df, geometry=gpd.points_from_xy(df.lon_deg, df.lat_deg))"
   ]
  },
  {
   "cell_type": "code",
   "execution_count": 18,
   "metadata": {},
   "outputs": [],
   "source": [
    "gdf = gdf.set_crs(epsg=4326)"
   ]
  },
  {
   "cell_type": "code",
   "execution_count": 24,
   "metadata": {},
   "outputs": [
    {
     "data": {
      "image/png": "[encoded data removed]",
      "text/plain": [
       "<Figure size 720x720 with 1 Axes>"
      ]
     },
     "metadata": {
      "needs_background": "light"
     },
     "output_type": "display_data"
    }
   ],
   "source": [
    "world = gpd.read_file(gpd.datasets.get_path('naturalearth_lowres'))\n",
    "SA = world.query('name == \"Ecuador\"')\n",
    "gdf4326 = gdf.to_crs(world.crs)\n",
    "\n",
    "fig, ax = plt.subplots(figsize=(10,10))\n",
    "ax.set_aspect('equal')\n",
    "SA.plot(ax=ax, color='white', edgecolor='black')\n",
    "gdf4326.plot(ax=ax)\n",
    "# for i in range(df.shape[0]):\n",
    "#     plt.text(x=gdf4326.lon_deg[i]+0.1,y=gdf4326.lat_deg[i]+0.1,s=gdf4326.nombre[i], \n",
    "#           fontdict=dict(color='black',size=10),\n",
    "#           bbox=dict(facecolor='yellow',alpha=0.5))\n",
    "\n",
    "plt.show()"
   ]
  },
  {
   "cell_type": "code",
   "execution_count": 26,
   "metadata": {},
   "outputs": [
    {
     "data": {
      "text/html": [
       "<div>\n",
       "<style scoped>\n",
       "    .dataframe tbody tr th:only-of-type {\n",
       "        vertical-align: middle;\n",
       "    }\n",
       "\n",
       "    .dataframe tbody tr th {\n",
       "        vertical-align: top;\n",
       "    }\n",
       "\n",
       "    .dataframe thead th {\n",
       "        text-align: right;\n",
       "    }\n",
       "</style>\n",
       "<table border=\"1\" class=\"dataframe\">\n",
       "  <thead>\n",
       "    <tr style=\"text-align: right;\">\n",
       "      <th></th>\n",
       "      <th>fuente</th>\n",
       "      <th>numero</th>\n",
       "      <th>codigo</th>\n",
       "      <th>nombre</th>\n",
       "      <th>tipo</th>\n",
       "      <th>provincia</th>\n",
       "      <th>estado</th>\n",
       "      <th>fecha_instalacion</th>\n",
       "      <th>latitud</th>\n",
       "      <th>longitud</th>\n",
       "      <th>lon_deg</th>\n",
       "      <th>lat_deg</th>\n",
       "      <th>geometry</th>\n",
       "    </tr>\n",
       "  </thead>\n",
       "  <tbody>\n",
       "    <tr>\n",
       "      <th>0</th>\n",
       "      <td>esta_inamhi</td>\n",
       "      <td>1</td>\n",
       "      <td>M0029</td>\n",
       "      <td>BAÑOS</td>\n",
       "      <td>CP</td>\n",
       "      <td>TUNGURAHUA</td>\n",
       "      <td>FUNCIONANDO</td>\n",
       "      <td>20-jun-62</td>\n",
       "      <td>12329.0</td>\n",
       "      <td>782505.0</td>\n",
       "      <td>-78.462030</td>\n",
       "      <td>0.111434</td>\n",
       "      <td>POINT (-78.46203 0.11143)</td>\n",
       "    </tr>\n",
       "    <tr>\n",
       "      <th>16</th>\n",
       "      <td>esta_hgpt</td>\n",
       "      <td>6</td>\n",
       "      <td>HGPT_MT-0006</td>\n",
       "      <td>Baños</td>\n",
       "      <td>MA</td>\n",
       "      <td>TUNGURAHUA</td>\n",
       "      <td>FUNCIONANDO</td>\n",
       "      <td>February-13</td>\n",
       "      <td>9845439.0</td>\n",
       "      <td>791471.0</td>\n",
       "      <td>-78.380768</td>\n",
       "      <td>-1.396889</td>\n",
       "      <td>POINT (-78.38077 -1.39689)</td>\n",
       "    </tr>\n",
       "    <tr>\n",
       "      <th>35</th>\n",
       "      <td>esta_hgpt_sen</td>\n",
       "      <td>6</td>\n",
       "      <td>HGPT_MT-0006</td>\n",
       "      <td>Baños</td>\n",
       "      <td>MA</td>\n",
       "      <td>TUNGURAHUA</td>\n",
       "      <td>FUNCIONANDO</td>\n",
       "      <td>February-13</td>\n",
       "      <td>9845439.0</td>\n",
       "      <td>791471.0</td>\n",
       "      <td>-78.380768</td>\n",
       "      <td>-1.396889</td>\n",
       "      <td>POINT (-78.38077 -1.39689)</td>\n",
       "    </tr>\n",
       "  </tbody>\n",
       "</table>\n",
       "</div>"
      ],
      "text/plain": [
       "           fuente  numero        codigo nombre tipo   provincia       estado  \\\n",
       "0     esta_inamhi       1         M0029  BAÑOS   CP  TUNGURAHUA  FUNCIONANDO   \n",
       "16      esta_hgpt       6  HGPT_MT-0006  Baños   MA  TUNGURAHUA  FUNCIONANDO   \n",
       "35  esta_hgpt_sen       6  HGPT_MT-0006  Baños   MA  TUNGURAHUA  FUNCIONANDO   \n",
       "\n",
       "   fecha_instalacion    latitud  longitud    lon_deg   lat_deg  \\\n",
       "0          20-jun-62    12329.0  782505.0 -78.462030  0.111434   \n",
       "16       February-13  9845439.0  791471.0 -78.380768 -1.396889   \n",
       "35       February-13  9845439.0  791471.0 -78.380768 -1.396889   \n",
       "\n",
       "                      geometry  \n",
       "0    POINT (-78.46203 0.11143)  \n",
       "16  POINT (-78.38077 -1.39689)  \n",
       "35  POINT (-78.38077 -1.39689)  "
      ]
     },
     "execution_count": 26,
     "metadata": {},
     "output_type": "execute_result"
    }
   ],
   "source": [
    "df[df.nombre.str.match('^[Bb][Aa][Ññ][Oo][Ss]')].drop(columns ='parametros_medicion')"
   ]
  },
  {
   "cell_type": "markdown",
   "metadata": {},
   "source": [
    "#### Automate data extraction from Drive downloads"
   ]
  },
  {
   "cell_type": "code",
   "execution_count": 115,
   "metadata": {},
   "outputs": [],
   "source": [
    "path = '/Users/tamarahuete/Documents/Github_repos/TFM21/data'\n",
    "ziplist = glob.glob(f'{path}/*.zip')\n",
    "#ziplist = glob.glob(f'data/*.zip')"
   ]
  },
  {
   "cell_type": "code",
   "execution_count": 116,
   "metadata": {},
   "outputs": [
    {
     "data": {
      "text/plain": [
       "['/Users/tamarahuete/Documents/Github_repos/TFM21/data/07-HGPT-MT-07.- Estacion Aeropuerto-20210505T205931Z-001.zip',\n",
       " '/Users/tamarahuete/Documents/Github_repos/TFM21/data/02-HGPT-MT-06.- Estacion Baños-20210426T162523Z-001.zip']"
      ]
     },
     "execution_count": 116,
     "metadata": {},
     "output_type": "execute_result"
    }
   ],
   "source": [
    "ziplist"
   ]
  },
  {
   "cell_type": "code",
   "execution_count": 149,
   "metadata": {},
   "outputs": [
    {
     "data": {
      "text/plain": [
       "['07-HGPT-MT-07.- Estacion Aeropuerto/2013-06-13/Aeropuerto_5min_20130624.csv',\n",
       " '07-HGPT-MT-07.- Estacion Aeropuerto/2018-01-11/8310_5min_20180116.csv',\n",
       " '07-HGPT-MT-07.- Estacion Aeropuerto/2013-06-13/8310_1min_20170404.csv',\n",
       " '07-HGPT-MT-07.- Estacion Aeropuerto/2015-07-02/8310_5min_20150714_subir.csv',\n",
       " '07-HGPT-MT-07.- Estacion Aeropuerto/2018-01-11/8310_5min_20180116_subir.csv']"
      ]
     },
     "execution_count": 149,
     "metadata": {},
     "output_type": "execute_result"
    }
   ],
   "source": [
    "zf = zipfile.ZipFile(f'{ziplist[0]}')\n",
    "zf.namelist()[0:5]"
   ]
  },
  {
   "cell_type": "code",
   "execution_count": 147,
   "metadata": {},
   "outputs": [],
   "source": [
    "## order files and skip resumen and xls sheets\n",
    "files_by_date = order_meteo_zip(path, folder = 0)"
   ]
  },
  {
   "cell_type": "code",
   "execution_count": 157,
   "metadata": {},
   "outputs": [
    {
     "data": {
      "text/plain": [
       "['07-HGPT-MT-07.- Estacion Aeropuerto/2013-03-26/8310_1min_20170404.csv',\n",
       " '07-HGPT-MT-07.- Estacion Aeropuerto/2013-03-26/Aeropuerto_1hora_20130517.csv',\n",
       " '07-HGPT-MT-07.- Estacion Aeropuerto/2013-05-07/8310_1min_20170404.csv',\n",
       " '07-HGPT-MT-07.- Estacion Aeropuerto/2013-05-07/Aeropuerto_5min_20140417.csv',\n",
       " '07-HGPT-MT-07.- Estacion Aeropuerto/2013-06-13/Aeropuerto_5min_20130624.csv']"
      ]
     },
     "execution_count": 157,
     "metadata": {},
     "output_type": "execute_result"
    }
   ],
   "source": [
    "files_by_date[0:5]  ### the filenames may be wrong, the order is done following the folder date"
   ]
  },
  {
   "cell_type": "code",
   "execution_count": 187,
   "metadata": {},
   "outputs": [
    {
     "name": "stdout",
     "output_type": "stream",
     "text": [
      "Success regular csv, no header, latin encoding\n",
      "file =07-HGPT-MT-07.- Estacion Aeropuerto/2013-03-26/8310_1min_20170404.csv, cols = 6\n"
     ]
    }
   ],
   "source": [
    "df = read_meteo_csv(path =path,folder = 0,file = files_by_date[0])"
   ]
  },
  {
   "cell_type": "code",
   "execution_count": 190,
   "metadata": {},
   "outputs": [
    {
     "data": {
      "text/html": [
       "<div>\n",
       "<style scoped>\n",
       "    .dataframe tbody tr th:only-of-type {\n",
       "        vertical-align: middle;\n",
       "    }\n",
       "\n",
       "    .dataframe tbody tr th {\n",
       "        vertical-align: top;\n",
       "    }\n",
       "\n",
       "    .dataframe thead th {\n",
       "        text-align: right;\n",
       "    }\n",
       "</style>\n",
       "<table border=\"1\" class=\"dataframe\">\n",
       "  <thead>\n",
       "    <tr style=\"text-align: right;\">\n",
       "      <th></th>\n",
       "      <th>Date</th>\n",
       "      <th>Time</th>\n",
       "      <th>Variable</th>\n",
       "      <th>Value</th>\n",
       "      <th>type</th>\n",
       "      <th>Freq</th>\n",
       "    </tr>\n",
       "  </thead>\n",
       "  <tbody>\n",
       "    <tr>\n",
       "      <th>0</th>\n",
       "      <td>03/19/2013</td>\n",
       "      <td>21:18:00</td>\n",
       "      <td>TB1minAcc</td>\n",
       "      <td>0.00</td>\n",
       "      <td>G</td>\n",
       "      <td>5min</td>\n",
       "    </tr>\n",
       "    <tr>\n",
       "      <th>1</th>\n",
       "      <td>03/19/2013</td>\n",
       "      <td>21:18:00</td>\n",
       "      <td>RHAvg</td>\n",
       "      <td>91.10</td>\n",
       "      <td>G</td>\n",
       "      <td>5min</td>\n",
       "    </tr>\n",
       "    <tr>\n",
       "      <th>2</th>\n",
       "      <td>03/19/2013</td>\n",
       "      <td>21:18:00</td>\n",
       "      <td>ATAvg</td>\n",
       "      <td>10.07</td>\n",
       "      <td>G</td>\n",
       "      <td>5min</td>\n",
       "    </tr>\n",
       "    <tr>\n",
       "      <th>3</th>\n",
       "      <td>03/19/2013</td>\n",
       "      <td>21:19:00</td>\n",
       "      <td>TB1minAcc</td>\n",
       "      <td>0.00</td>\n",
       "      <td>G</td>\n",
       "      <td>5min</td>\n",
       "    </tr>\n",
       "    <tr>\n",
       "      <th>4</th>\n",
       "      <td>03/19/2013</td>\n",
       "      <td>21:19:00</td>\n",
       "      <td>RHAvg</td>\n",
       "      <td>92.39</td>\n",
       "      <td>G</td>\n",
       "      <td>5min</td>\n",
       "    </tr>\n",
       "  </tbody>\n",
       "</table>\n",
       "</div>"
      ],
      "text/plain": [
       "         Date      Time   Variable  Value type  Freq\n",
       "0  03/19/2013  21:18:00  TB1minAcc   0.00    G  5min\n",
       "1  03/19/2013  21:18:00      RHAvg  91.10    G  5min\n",
       "2  03/19/2013  21:18:00      ATAvg  10.07    G  5min\n",
       "3  03/19/2013  21:19:00  TB1minAcc   0.00    G  5min\n",
       "4  03/19/2013  21:19:00      RHAvg  92.39    G  5min"
      ]
     },
     "execution_count": 190,
     "metadata": {},
     "output_type": "execute_result"
    }
   ],
   "source": [
    "df.head()"
   ]
  },
  {
   "cell_type": "code",
   "execution_count": 169,
   "metadata": {},
   "outputs": [
    {
     "name": "stdout",
     "output_type": "stream",
     "text": [
      "Success regular csv, no header, latin encoding\n",
      "file =07-HGPT-MT-07.- Estacion Aeropuerto/2013-03-26/8310_1min_20170404.csv, cols = 5\n",
      "Success sep \";\", latin encoding\n",
      "file =07-HGPT-MT-07.- Estacion Aeropuerto/2013-03-26/Aeropuerto_1hora_20130517.csv, cols = 5\n",
      "Success regular csv, no header, latin encoding\n",
      "file =07-HGPT-MT-07.- Estacion Aeropuerto/2013-05-07/8310_1min_20170404.csv, cols = 5\n",
      "Success sep \";\", latin encoding\n",
      "file =07-HGPT-MT-07.- Estacion Aeropuerto/2013-05-07/Aeropuerto_5min_20140417.csv, cols = 5\n",
      "Success sep \";\", latin encoding\n",
      "file =07-HGPT-MT-07.- Estacion Aeropuerto/2013-06-13/Aeropuerto_5min_20130624.csv, cols = 5\n"
     ]
    }
   ],
   "source": [
    "all_var = get_unique_variables(files_by_date, export_name='summary_aeropuerto.csv')"
   ]
  },
  {
   "cell_type": "code",
   "execution_count": 16,
   "metadata": {},
   "outputs": [],
   "source": [
    "## Variable names:\n",
    "\n",
    "# What are 'TB1hrAcc','TB1minAcc','TB5minAcc','BAT'?\n",
    "\n",
    "replace_values ={\n",
    "# Temperature\n",
    "    'ATAvg' :['AT1HrAvg', 'AT5minAvg', 'ATAvg','Temperatura'],\n",
    "    'ATMin' : ['AT1HrMin', 'AT5minMin','T_Min'],\n",
    "    'ATMax' : ['AT1HrMax','AT5minMax', 'T_Max'],\n",
    " \n",
    " # Relative Humidity\n",
    "    'RHAvg' : ['Humedad','RH5minAvg','RHAvg','RelHumidAvg'],\n",
    "    'RHMin' : ['H_Min','RH5minMin','RelHumidMin'],\n",
    "    'RHMax' : ['H_Max', 'RH5minMax', 'RelHumidMax'],\n",
    "\n",
    " # Wind Speed\n",
    "    'WSAvg' : ['Velocidad','WS5minAvg','WSAvg','WindMnSpdSclr'],\n",
    "    'WSMin' : ['WindMinSpdSclr','WS5minMin'],\n",
    "    'WSMax' : ['WindMaxSpdSclr','WS5minMax'],\n",
    "\n",
    " # Wind Direction\n",
    "    'WDAvg' : ['Direccion', 'WDAvg','WD5minAvg','WindMnDirUnit'],\n",
    "    'WDMin' : ['WD5minMin'],\n",
    "    'WDMax' : ['WD5minMax','WindMaxDir'],\n",
    "\n",
    " # Rain\n",
    "    'PAvg' : ['Precipitacion']\n",
    "}\n",
    "\n",
    "var_list = ['ATAvg','ATMin','ATMax','RHAvg','RHMin','RHMax', 'WSAvg','WSMin','WSMax','WDAvg','WDMin', 'WDMax','PAvg','TB1hrAcc','TB1minAcc','TB5minAcc','BAT']\n",
    "sorted(var_list)"
   ]
  },
  {
   "cell_type": "code",
   "execution_count": 198,
   "metadata": {},
   "outputs": [],
   "source": [
    "def reformat_df(df, replace_values):\n",
    "    \n",
    "    ## replace variables\n",
    "    for variable in list(replace_values.keys()):\n",
    "        df =df.replace(to_replace =replace_values[variable], value = variable)\n",
    "    \n",
    "    ## delete any empty rows\n",
    "    df.dropna(inplace=True)\n",
    "        \n",
    "    ## merge date + time\n",
    "    df['Date_Time']= pd.to_datetime(df['Date'] + ' ' + df['Time'])\n",
    "    df.drop(columns =['Date','Time'],inplace =True)\n",
    "    \n",
    "    #Convert to long format\n",
    "    df = df.pivot(index='Date_Time', columns='Variable', values='Value').reset_index()\n",
    "    \n",
    "    ## Add variables that are not in the df but are in the general list\n",
    "    not_in_df = list(set(var_list)-set(df.columns))\n",
    "    for i in not_in_df:\n",
    "        df[i]=np.nan\n",
    "    \n",
    "    ## Order columns so all dfs have the same structure\n",
    "    var_order = ['Date_Time']\n",
    "    var_order.extend(sorted(df.loc[:,df.columns != 'Date_Time'].columns))\n",
    "    df.reindex(var_order, axis=1)\n",
    "    \n",
    "    return df"
   ]
  },
  {
   "cell_type": "code",
   "execution_count": 199,
   "metadata": {},
   "outputs": [],
   "source": [
    "df2 = reformat_df(df=df, replace_values=replace_values)"
   ]
  },
  {
   "cell_type": "code",
   "execution_count": 211,
   "metadata": {},
   "outputs": [
    {
     "data": {
      "text/html": [
       "<div>\n",
       "<style scoped>\n",
       "    .dataframe tbody tr th:only-of-type {\n",
       "        vertical-align: middle;\n",
       "    }\n",
       "\n",
       "    .dataframe tbody tr th {\n",
       "        vertical-align: top;\n",
       "    }\n",
       "\n",
       "    .dataframe thead th {\n",
       "        text-align: right;\n",
       "    }\n",
       "</style>\n",
       "<table border=\"1\" class=\"dataframe\">\n",
       "  <thead>\n",
       "    <tr style=\"text-align: right;\">\n",
       "      <th>Variable</th>\n",
       "      <th>Date_Time</th>\n",
       "      <th>ATAvg</th>\n",
       "      <th>RHAvg</th>\n",
       "      <th>TB1minAcc</th>\n",
       "    </tr>\n",
       "  </thead>\n",
       "  <tbody>\n",
       "    <tr>\n",
       "      <th>0</th>\n",
       "      <td>2013-03-19 21:18:00</td>\n",
       "      <td>10.07</td>\n",
       "      <td>91.10</td>\n",
       "      <td>0.0</td>\n",
       "    </tr>\n",
       "    <tr>\n",
       "      <th>1</th>\n",
       "      <td>2013-03-19 21:19:00</td>\n",
       "      <td>10.17</td>\n",
       "      <td>92.39</td>\n",
       "      <td>0.0</td>\n",
       "    </tr>\n",
       "    <tr>\n",
       "      <th>2</th>\n",
       "      <td>2013-03-19 21:20:00</td>\n",
       "      <td>10.20</td>\n",
       "      <td>91.66</td>\n",
       "      <td>0.0</td>\n",
       "    </tr>\n",
       "    <tr>\n",
       "      <th>3</th>\n",
       "      <td>2013-03-19 21:21:00</td>\n",
       "      <td>10.05</td>\n",
       "      <td>91.80</td>\n",
       "      <td>0.0</td>\n",
       "    </tr>\n",
       "    <tr>\n",
       "      <th>4</th>\n",
       "      <td>2013-03-19 21:22:00</td>\n",
       "      <td>10.03</td>\n",
       "      <td>92.58</td>\n",
       "      <td>0.0</td>\n",
       "    </tr>\n",
       "    <tr>\n",
       "      <th>...</th>\n",
       "      <td>...</td>\n",
       "      <td>...</td>\n",
       "      <td>...</td>\n",
       "      <td>...</td>\n",
       "    </tr>\n",
       "    <tr>\n",
       "      <th>9504</th>\n",
       "      <td>2013-03-26 11:42:00</td>\n",
       "      <td>15.81</td>\n",
       "      <td>80.41</td>\n",
       "      <td>0.0</td>\n",
       "    </tr>\n",
       "    <tr>\n",
       "      <th>9505</th>\n",
       "      <td>2013-03-26 11:43:00</td>\n",
       "      <td>15.84</td>\n",
       "      <td>80.65</td>\n",
       "      <td>0.0</td>\n",
       "    </tr>\n",
       "    <tr>\n",
       "      <th>9506</th>\n",
       "      <td>2013-03-26 11:44:00</td>\n",
       "      <td>15.80</td>\n",
       "      <td>80.85</td>\n",
       "      <td>0.0</td>\n",
       "    </tr>\n",
       "    <tr>\n",
       "      <th>9507</th>\n",
       "      <td>2013-03-26 11:45:00</td>\n",
       "      <td>15.86</td>\n",
       "      <td>81.30</td>\n",
       "      <td>0.0</td>\n",
       "    </tr>\n",
       "    <tr>\n",
       "      <th>9508</th>\n",
       "      <td>2013-03-26 11:46:00</td>\n",
       "      <td>15.85</td>\n",
       "      <td>78.21</td>\n",
       "      <td>0.0</td>\n",
       "    </tr>\n",
       "  </tbody>\n",
       "</table>\n",
       "<p>9509 rows × 4 columns</p>\n",
       "</div>"
      ],
      "text/plain": [
       "Variable           Date_Time  ATAvg  RHAvg  TB1minAcc\n",
       "0        2013-03-19 21:18:00  10.07  91.10        0.0\n",
       "1        2013-03-19 21:19:00  10.17  92.39        0.0\n",
       "2        2013-03-19 21:20:00  10.20  91.66        0.0\n",
       "3        2013-03-19 21:21:00  10.05  91.80        0.0\n",
       "4        2013-03-19 21:22:00  10.03  92.58        0.0\n",
       "...                      ...    ...    ...        ...\n",
       "9504     2013-03-26 11:42:00  15.81  80.41        0.0\n",
       "9505     2013-03-26 11:43:00  15.84  80.65        0.0\n",
       "9506     2013-03-26 11:44:00  15.80  80.85        0.0\n",
       "9507     2013-03-26 11:45:00  15.86  81.30        0.0\n",
       "9508     2013-03-26 11:46:00  15.85  78.21        0.0\n",
       "\n",
       "[9509 rows x 4 columns]"
      ]
     },
     "execution_count": 211,
     "metadata": {},
     "output_type": "execute_result"
    }
   ],
   "source": [
    "df['Date_Time']= pd.to_datetime(df['Date'] + ' ' + df['Time'])\n",
    "df.pivot(index='Date_Time', columns='Variable', values='Value').reset_index()"
   ]
  },
  {
   "cell_type": "code",
   "execution_count": 202,
   "metadata": {},
   "outputs": [
    {
     "ename": "KeyError",
     "evalue": "\"['Date_Time'] not in index\"",
     "output_type": "error",
     "traceback": [
      "\u001b[0;31m---------------------------------------------------------------------------\u001b[0m",
      "\u001b[0;31mKeyError\u001b[0m                                  Traceback (most recent call last)",
      "\u001b[0;32m<ipython-input-202-cd3f5c300f4b>\u001b[0m in \u001b[0;36m<module>\u001b[0;34m\u001b[0m\n\u001b[0;32m----> 1\u001b[0;31m \u001b[0mdf\u001b[0m\u001b[0;34m.\u001b[0m\u001b[0mpivot\u001b[0m\u001b[0;34m(\u001b[0m\u001b[0mindex\u001b[0m\u001b[0;34m=\u001b[0m\u001b[0;34m[\u001b[0m\u001b[0;34m'Date_Time'\u001b[0m\u001b[0;34m,\u001b[0m\u001b[0;34m'Freq'\u001b[0m\u001b[0;34m]\u001b[0m\u001b[0;34m,\u001b[0m \u001b[0mcolumns\u001b[0m\u001b[0;34m=\u001b[0m\u001b[0;34m'Variable'\u001b[0m\u001b[0;34m,\u001b[0m \u001b[0mvalues\u001b[0m\u001b[0;34m=\u001b[0m\u001b[0;34m'Value'\u001b[0m\u001b[0;34m)\u001b[0m\u001b[0;34m\u001b[0m\u001b[0;34m\u001b[0m\u001b[0m\n\u001b[0m",
      "\u001b[0;32m~/opt/anaconda3/lib/python3.7/site-packages/pandas/core/frame.py\u001b[0m in \u001b[0;36mpivot\u001b[0;34m(self, index, columns, values)\u001b[0m\n\u001b[1;32m   5921\u001b[0m         \u001b[0;32mfrom\u001b[0m \u001b[0mpandas\u001b[0m\u001b[0;34m.\u001b[0m\u001b[0mcore\u001b[0m\u001b[0;34m.\u001b[0m\u001b[0mreshape\u001b[0m\u001b[0;34m.\u001b[0m\u001b[0mpivot\u001b[0m \u001b[0;32mimport\u001b[0m \u001b[0mpivot\u001b[0m\u001b[0;34m\u001b[0m\u001b[0;34m\u001b[0m\u001b[0m\n\u001b[1;32m   5922\u001b[0m \u001b[0;34m\u001b[0m\u001b[0m\n\u001b[0;32m-> 5923\u001b[0;31m         \u001b[0;32mreturn\u001b[0m \u001b[0mpivot\u001b[0m\u001b[0;34m(\u001b[0m\u001b[0mself\u001b[0m\u001b[0;34m,\u001b[0m \u001b[0mindex\u001b[0m\u001b[0;34m=\u001b[0m\u001b[0mindex\u001b[0m\u001b[0;34m,\u001b[0m \u001b[0mcolumns\u001b[0m\u001b[0;34m=\u001b[0m\u001b[0mcolumns\u001b[0m\u001b[0;34m,\u001b[0m \u001b[0mvalues\u001b[0m\u001b[0;34m=\u001b[0m\u001b[0mvalues\u001b[0m\u001b[0;34m)\u001b[0m\u001b[0;34m\u001b[0m\u001b[0;34m\u001b[0m\u001b[0m\n\u001b[0m\u001b[1;32m   5924\u001b[0m \u001b[0;34m\u001b[0m\u001b[0m\n\u001b[1;32m   5925\u001b[0m     _shared_docs[\n",
      "\u001b[0;32m~/opt/anaconda3/lib/python3.7/site-packages/pandas/core/reshape/pivot.py\u001b[0m in \u001b[0;36mpivot\u001b[0;34m(data, index, columns, values)\u001b[0m\n\u001b[1;32m    438\u001b[0m             \u001b[0mindex\u001b[0m \u001b[0;34m=\u001b[0m \u001b[0mdata\u001b[0m\u001b[0;34m.\u001b[0m\u001b[0mindex\u001b[0m\u001b[0;34m\u001b[0m\u001b[0;34m\u001b[0m\u001b[0m\n\u001b[1;32m    439\u001b[0m         \u001b[0;32melse\u001b[0m\u001b[0;34m:\u001b[0m\u001b[0;34m\u001b[0m\u001b[0;34m\u001b[0m\u001b[0m\n\u001b[0;32m--> 440\u001b[0;31m             \u001b[0mindex\u001b[0m \u001b[0;34m=\u001b[0m \u001b[0mdata\u001b[0m\u001b[0;34m[\u001b[0m\u001b[0mindex\u001b[0m\u001b[0;34m]\u001b[0m\u001b[0;34m\u001b[0m\u001b[0;34m\u001b[0m\u001b[0m\n\u001b[0m\u001b[1;32m    441\u001b[0m         \u001b[0mindex\u001b[0m \u001b[0;34m=\u001b[0m \u001b[0mMultiIndex\u001b[0m\u001b[0;34m.\u001b[0m\u001b[0mfrom_arrays\u001b[0m\u001b[0;34m(\u001b[0m\u001b[0;34m[\u001b[0m\u001b[0mindex\u001b[0m\u001b[0;34m,\u001b[0m \u001b[0mdata\u001b[0m\u001b[0;34m[\u001b[0m\u001b[0mcolumns\u001b[0m\u001b[0;34m]\u001b[0m\u001b[0;34m]\u001b[0m\u001b[0;34m)\u001b[0m\u001b[0;34m\u001b[0m\u001b[0;34m\u001b[0m\u001b[0m\n\u001b[1;32m    442\u001b[0m \u001b[0;34m\u001b[0m\u001b[0m\n",
      "\u001b[0;32m~/opt/anaconda3/lib/python3.7/site-packages/pandas/core/frame.py\u001b[0m in \u001b[0;36m__getitem__\u001b[0;34m(self, key)\u001b[0m\n\u001b[1;32m   2804\u001b[0m             \u001b[0;32mif\u001b[0m \u001b[0mis_iterator\u001b[0m\u001b[0;34m(\u001b[0m\u001b[0mkey\u001b[0m\u001b[0;34m)\u001b[0m\u001b[0;34m:\u001b[0m\u001b[0;34m\u001b[0m\u001b[0;34m\u001b[0m\u001b[0m\n\u001b[1;32m   2805\u001b[0m                 \u001b[0mkey\u001b[0m \u001b[0;34m=\u001b[0m \u001b[0mlist\u001b[0m\u001b[0;34m(\u001b[0m\u001b[0mkey\u001b[0m\u001b[0;34m)\u001b[0m\u001b[0;34m\u001b[0m\u001b[0;34m\u001b[0m\u001b[0m\n\u001b[0;32m-> 2806\u001b[0;31m             \u001b[0mindexer\u001b[0m \u001b[0;34m=\u001b[0m \u001b[0mself\u001b[0m\u001b[0;34m.\u001b[0m\u001b[0mloc\u001b[0m\u001b[0;34m.\u001b[0m\u001b[0m_get_listlike_indexer\u001b[0m\u001b[0;34m(\u001b[0m\u001b[0mkey\u001b[0m\u001b[0;34m,\u001b[0m \u001b[0maxis\u001b[0m\u001b[0;34m=\u001b[0m\u001b[0;36m1\u001b[0m\u001b[0;34m,\u001b[0m \u001b[0mraise_missing\u001b[0m\u001b[0;34m=\u001b[0m\u001b[0;32mTrue\u001b[0m\u001b[0;34m)\u001b[0m\u001b[0;34m[\u001b[0m\u001b[0;36m1\u001b[0m\u001b[0;34m]\u001b[0m\u001b[0;34m\u001b[0m\u001b[0;34m\u001b[0m\u001b[0m\n\u001b[0m\u001b[1;32m   2807\u001b[0m \u001b[0;34m\u001b[0m\u001b[0m\n\u001b[1;32m   2808\u001b[0m         \u001b[0;31m# take() does not accept boolean indexers\u001b[0m\u001b[0;34m\u001b[0m\u001b[0;34m\u001b[0m\u001b[0;34m\u001b[0m\u001b[0m\n",
      "\u001b[0;32m~/opt/anaconda3/lib/python3.7/site-packages/pandas/core/indexing.py\u001b[0m in \u001b[0;36m_get_listlike_indexer\u001b[0;34m(self, key, axis, raise_missing)\u001b[0m\n\u001b[1;32m   1551\u001b[0m \u001b[0;34m\u001b[0m\u001b[0m\n\u001b[1;32m   1552\u001b[0m         self._validate_read_indexer(\n\u001b[0;32m-> 1553\u001b[0;31m             \u001b[0mkeyarr\u001b[0m\u001b[0;34m,\u001b[0m \u001b[0mindexer\u001b[0m\u001b[0;34m,\u001b[0m \u001b[0mo\u001b[0m\u001b[0;34m.\u001b[0m\u001b[0m_get_axis_number\u001b[0m\u001b[0;34m(\u001b[0m\u001b[0maxis\u001b[0m\u001b[0;34m)\u001b[0m\u001b[0;34m,\u001b[0m \u001b[0mraise_missing\u001b[0m\u001b[0;34m=\u001b[0m\u001b[0mraise_missing\u001b[0m\u001b[0;34m\u001b[0m\u001b[0;34m\u001b[0m\u001b[0m\n\u001b[0m\u001b[1;32m   1554\u001b[0m         )\n\u001b[1;32m   1555\u001b[0m         \u001b[0;32mreturn\u001b[0m \u001b[0mkeyarr\u001b[0m\u001b[0;34m,\u001b[0m \u001b[0mindexer\u001b[0m\u001b[0;34m\u001b[0m\u001b[0;34m\u001b[0m\u001b[0m\n",
      "\u001b[0;32m~/opt/anaconda3/lib/python3.7/site-packages/pandas/core/indexing.py\u001b[0m in \u001b[0;36m_validate_read_indexer\u001b[0;34m(self, key, indexer, axis, raise_missing)\u001b[0m\n\u001b[1;32m   1644\u001b[0m             \u001b[0;32mif\u001b[0m \u001b[0;32mnot\u001b[0m \u001b[0;34m(\u001b[0m\u001b[0mself\u001b[0m\u001b[0;34m.\u001b[0m\u001b[0mname\u001b[0m \u001b[0;34m==\u001b[0m \u001b[0;34m\"loc\"\u001b[0m \u001b[0;32mand\u001b[0m \u001b[0;32mnot\u001b[0m \u001b[0mraise_missing\u001b[0m\u001b[0;34m)\u001b[0m\u001b[0;34m:\u001b[0m\u001b[0;34m\u001b[0m\u001b[0;34m\u001b[0m\u001b[0m\n\u001b[1;32m   1645\u001b[0m                 \u001b[0mnot_found\u001b[0m \u001b[0;34m=\u001b[0m \u001b[0mlist\u001b[0m\u001b[0;34m(\u001b[0m\u001b[0mset\u001b[0m\u001b[0;34m(\u001b[0m\u001b[0mkey\u001b[0m\u001b[0;34m)\u001b[0m \u001b[0;34m-\u001b[0m \u001b[0mset\u001b[0m\u001b[0;34m(\u001b[0m\u001b[0max\u001b[0m\u001b[0;34m)\u001b[0m\u001b[0;34m)\u001b[0m\u001b[0;34m\u001b[0m\u001b[0;34m\u001b[0m\u001b[0m\n\u001b[0;32m-> 1646\u001b[0;31m                 \u001b[0;32mraise\u001b[0m \u001b[0mKeyError\u001b[0m\u001b[0;34m(\u001b[0m\u001b[0;34mf\"{not_found} not in index\"\u001b[0m\u001b[0;34m)\u001b[0m\u001b[0;34m\u001b[0m\u001b[0;34m\u001b[0m\u001b[0m\n\u001b[0m\u001b[1;32m   1647\u001b[0m \u001b[0;34m\u001b[0m\u001b[0m\n\u001b[1;32m   1648\u001b[0m             \u001b[0;31m# we skip the warning on Categorical/Interval\u001b[0m\u001b[0;34m\u001b[0m\u001b[0;34m\u001b[0m\u001b[0;34m\u001b[0m\u001b[0m\n",
      "\u001b[0;31mKeyError\u001b[0m: \"['Date_Time'] not in index\""
     ]
    }
   ],
   "source": [
    "df.pivot(index=['Date_Time','Freq'], columns='Variable', values='Value')"
   ]
  },
  {
   "cell_type": "code",
   "execution_count": null,
   "metadata": {},
   "outputs": [],
   "source": [
    "### next step: How to keep all columns with pivoy or use group by"
   ]
  },
  {
   "cell_type": "code",
   "execution_count": null,
   "metadata": {},
   "outputs": [],
   "source": [
    "### Convert to long format\n",
    "#df.melt(id_vars='Fecha', value_vars=list(df.columns)[1:], var_name='Variable', value_name='value')"
   ]
  }
 ],
 "metadata": {
  "kernelspec": {
   "display_name": "Python 3",
   "language": "python",
   "name": "python3"
  },
  "language_info": {
   "codemirror_mode": {
    "name": "ipython",
    "version": 3
   },
   "file_extension": ".py",
   "mimetype": "text/x-python",
   "name": "python",
   "nbconvert_exporter": "python",
   "pygments_lexer": "ipython3",
   "version": "3.7.4"
  }
 },
 "nbformat": 4,
 "nbformat_minor": 4
}
