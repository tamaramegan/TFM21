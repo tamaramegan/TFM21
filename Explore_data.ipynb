{
 "cells": [
  {
   "cell_type": "markdown",
   "metadata": {},
   "source": [
    "### Explore meteorological data"
   ]
  },
  {
   "cell_type": "code",
   "execution_count": 68,
   "metadata": {},
   "outputs": [],
   "source": [
    "import os\n",
    "import zipfile\n",
    "import pandas as pd\n",
    "import glob\n",
    "import keplergl\n",
    "import geopandas as gpd\n",
    "import matplotlib.pyplot as plt\n",
    "import csv\n",
    "from datetime import datetime"
   ]
  },
  {
   "cell_type": "code",
   "execution_count": null,
   "metadata": {},
   "outputs": [],
   "source": [
    "# Drive folder with original data: https://drive.google.com/drive/folders/1me2IpDY3om6IRKv_WMT5W6Qw0r9DI74C"
   ]
  },
  {
   "cell_type": "code",
   "execution_count": 4,
   "metadata": {},
   "outputs": [
    {
     "data": {
      "text/plain": [
       "['.DS_Store',\n",
       " 'Estaciones_meteorologicas.csv',\n",
       " '02-HGPT-MT-06.- Estacion Baños-20210426T162523Z-001.zip',\n",
       " 'Inventario Estaciones Meteo.xls']"
      ]
     },
     "execution_count": 4,
     "metadata": {},
     "output_type": "execute_result"
    }
   ],
   "source": [
    "os.listdir('data')"
   ]
  },
  {
   "cell_type": "code",
   "execution_count": 43,
   "metadata": {},
   "outputs": [
    {
     "data": {
      "text/plain": [
       "['Esta_Inamhi', 'Esta_HGPT', 'Esta_HGPT _Sen']"
      ]
     },
     "execution_count": 43,
     "metadata": {},
     "output_type": "execute_result"
    }
   ],
   "source": [
    "### Read a sheet from an excel file\n",
    "file = glob.glob('data/*.xls')[0]\n",
    "sheets = pd.read_excel(file, None)\n",
    "list(sheets.keys())\n",
    "df = pd.read_excel(io=file, sheet_name=list(sheets.keys())[0], engine ='xlrd',skiprows = 1)"
   ]
  },
  {
   "cell_type": "code",
   "execution_count": 11,
   "metadata": {},
   "outputs": [
    {
     "data": {
      "text/html": [
       "<div>\n",
       "<style scoped>\n",
       "    .dataframe tbody tr th:only-of-type {\n",
       "        vertical-align: middle;\n",
       "    }\n",
       "\n",
       "    .dataframe tbody tr th {\n",
       "        vertical-align: top;\n",
       "    }\n",
       "\n",
       "    .dataframe thead th {\n",
       "        text-align: right;\n",
       "    }\n",
       "</style>\n",
       "<table border=\"1\" class=\"dataframe\">\n",
       "  <thead>\n",
       "    <tr style=\"text-align: right;\">\n",
       "      <th></th>\n",
       "      <th>fuente</th>\n",
       "      <th>numero</th>\n",
       "      <th>codigo</th>\n",
       "      <th>nombre</th>\n",
       "      <th>tipo</th>\n",
       "      <th>provincia</th>\n",
       "      <th>estado</th>\n",
       "      <th>fecha_instalacion</th>\n",
       "      <th>latitud</th>\n",
       "      <th>longitud</th>\n",
       "      <th>parametros_medicion</th>\n",
       "    </tr>\n",
       "  </thead>\n",
       "  <tbody>\n",
       "    <tr>\n",
       "      <th>0</th>\n",
       "      <td>esta_inamhi</td>\n",
       "      <td>1</td>\n",
       "      <td>M0029</td>\n",
       "      <td>BAÑOS</td>\n",
       "      <td>CP</td>\n",
       "      <td>TUNGURAHUA</td>\n",
       "      <td>FUNCIONANDO</td>\n",
       "      <td>20-jun-62</td>\n",
       "      <td>12329.0</td>\n",
       "      <td>782505.0</td>\n",
       "      <td>Temperatura Max, temperatura Min, Temperatura,...</td>\n",
       "    </tr>\n",
       "    <tr>\n",
       "      <th>1</th>\n",
       "      <td>esta_inamhi</td>\n",
       "      <td>2</td>\n",
       "      <td>M0258</td>\n",
       "      <td>QUEROCHACA(UTA)</td>\n",
       "      <td>CP</td>\n",
       "      <td>TUNGURAHUA</td>\n",
       "      <td>FUNCIONANDO</td>\n",
       "      <td>2-nov-85</td>\n",
       "      <td>12202.0</td>\n",
       "      <td>783620.0</td>\n",
       "      <td>Temperatura Max, temperatura Min, Temperatura,...</td>\n",
       "    </tr>\n",
       "    <tr>\n",
       "      <th>2</th>\n",
       "      <td>esta_inamhi</td>\n",
       "      <td>3</td>\n",
       "      <td>M1069</td>\n",
       "      <td>CALAMACA CONVENIO INAMHI HCPT</td>\n",
       "      <td>CP</td>\n",
       "      <td>TUNGURAHUA</td>\n",
       "      <td>FUNCIONANDO</td>\n",
       "      <td>4-jul-88</td>\n",
       "      <td>11634.0</td>\n",
       "      <td>784908.0</td>\n",
       "      <td>Temperatura Max, temperatura Min, Temperatura,...</td>\n",
       "    </tr>\n",
       "    <tr>\n",
       "      <th>3</th>\n",
       "      <td>esta_inamhi</td>\n",
       "      <td>4</td>\n",
       "      <td>M0126</td>\n",
       "      <td>PATATE</td>\n",
       "      <td>CO</td>\n",
       "      <td>TUNGURAHUA</td>\n",
       "      <td>FUNCIONANDO</td>\n",
       "      <td>1-may-63</td>\n",
       "      <td>11801.0</td>\n",
       "      <td>783000.0</td>\n",
       "      <td>Temperatura Max, temperatura Min, Temperatura,...</td>\n",
       "    </tr>\n",
       "    <tr>\n",
       "      <th>4</th>\n",
       "      <td>esta_inamhi</td>\n",
       "      <td>5</td>\n",
       "      <td>M0127</td>\n",
       "      <td>PILLARO</td>\n",
       "      <td>CO</td>\n",
       "      <td>TUNGURAHUA</td>\n",
       "      <td>FUNCIONANDO</td>\n",
       "      <td>1-Dec-63</td>\n",
       "      <td>11010.0</td>\n",
       "      <td>783310.0</td>\n",
       "      <td>Temperatura Max, temperatura Min, Temperatura,...</td>\n",
       "    </tr>\n",
       "  </tbody>\n",
       "</table>\n",
       "</div>"
      ],
      "text/plain": [
       "        fuente  numero codigo                         nombre tipo   provincia  \\\n",
       "0  esta_inamhi       1  M0029                          BAÑOS   CP  TUNGURAHUA   \n",
       "1  esta_inamhi       2  M0258                QUEROCHACA(UTA)   CP  TUNGURAHUA   \n",
       "2  esta_inamhi       3  M1069  CALAMACA CONVENIO INAMHI HCPT   CP  TUNGURAHUA   \n",
       "3  esta_inamhi       4  M0126                         PATATE   CO  TUNGURAHUA   \n",
       "4  esta_inamhi       5  M0127                        PILLARO   CO  TUNGURAHUA   \n",
       "\n",
       "        estado fecha_instalacion  latitud  longitud  \\\n",
       "0  FUNCIONANDO         20-jun-62  12329.0  782505.0   \n",
       "1  FUNCIONANDO          2-nov-85  12202.0  783620.0   \n",
       "2  FUNCIONANDO          4-jul-88  11634.0  784908.0   \n",
       "3  FUNCIONANDO          1-may-63  11801.0  783000.0   \n",
       "4  FUNCIONANDO          1-Dec-63  11010.0  783310.0   \n",
       "\n",
       "                                 parametros_medicion  \n",
       "0  Temperatura Max, temperatura Min, Temperatura,...  \n",
       "1  Temperatura Max, temperatura Min, Temperatura,...  \n",
       "2  Temperatura Max, temperatura Min, Temperatura,...  \n",
       "3  Temperatura Max, temperatura Min, Temperatura,...  \n",
       "4  Temperatura Max, temperatura Min, Temperatura,...  "
      ]
     },
     "execution_count": 11,
     "metadata": {},
     "output_type": "execute_result"
    }
   ],
   "source": [
    "df = pd.read_csv('data/Estaciones_meteorologicas.csv')\n",
    "df.head()"
   ]
  },
  {
   "cell_type": "code",
   "execution_count": null,
   "metadata": {},
   "outputs": [],
   "source": [
    "### There is a problem with the coordinates. I can extract the coordinates from ESTA_INAMHI but not form the other 2"
   ]
  },
  {
   "cell_type": "code",
   "execution_count": 39,
   "metadata": {},
   "outputs": [],
   "source": [
    "df_inamhi = df[df['fuente']== 'esta_inamhi']\n",
    "df_inamhi.latitud = -df_inamhi.latitud/1e4\n",
    "df_inamhi.longitud = -df_inamhi.longitud/1e4"
   ]
  },
  {
   "cell_type": "code",
   "execution_count": 40,
   "metadata": {},
   "outputs": [],
   "source": [
    "gdf = gpd.GeoDataFrame(\n",
    "    df_inamhi, geometry=gpd.points_from_xy(df_inamhi.longitud, df_inamhi.latitud))"
   ]
  },
  {
   "cell_type": "code",
   "execution_count": 53,
   "metadata": {},
   "outputs": [],
   "source": [
    "gdf = gdf.set_crs(epsg=4326)"
   ]
  },
  {
   "cell_type": "code",
   "execution_count": 56,
   "metadata": {},
   "outputs": [
    {
     "data": {
      "image/png": "[encoded data removed]",
      "text/plain": [
       "<Figure size 432x288 with 1 Axes>"
      ]
     },
     "metadata": {
      "needs_background": "light"
     },
     "output_type": "display_data"
    }
   ],
   "source": [
    "world = gpd.read_file(gpd.datasets.get_path('naturalearth_lowres'))\n",
    "SA = world.query('name == \"Ecuador\"')\n",
    "gdf4326 = gdf.to_crs(world.crs)\n",
    "\n",
    "fig, ax = plt.subplots()\n",
    "ax.set_aspect('equal')\n",
    "SA.plot(ax=ax, color='white', edgecolor='black')\n",
    "gdf4326.plot(ax=ax, column='tipo',figsize=(20,20))\n",
    "\n",
    "plt.show()"
   ]
  },
  {
   "cell_type": "markdown",
   "metadata": {},
   "source": [
    "#### Automate data extraction form Drive downloads"
   ]
  },
  {
   "cell_type": "code",
   "execution_count": 34,
   "metadata": {},
   "outputs": [],
   "source": [
    "path = '/Users/tamarahuete/Documents/Github_repos/TFM21/data'\n",
    "#ziplist = glob.glob(f'{path}/*.zip')\n",
    "ziplist = glob.glob('data/*.zip')"
   ]
  },
  {
   "cell_type": "code",
   "execution_count": 96,
   "metadata": {},
   "outputs": [
    {
     "data": {
      "text/plain": [
       "['02-HGPT-MT-06.- Estacion Baños/2013-10-14/Banios_5min_20140116_subir.csv',\n",
       " '02-HGPT-MT-06.- Estacion Baños/2016-07-28/BANIOS_5MIN_20160728_subir.csv',\n",
       " '02-HGPT-MT-06.- Estacion Baños/2013-10-14/Banios_5min_20140116.csv',\n",
       " '02-HGPT-MT-06.- Estacion Baños/2015-02-06/8310_5min_20150211__.csv',\n",
       " '02-HGPT-MT-06.- Estacion Baños/2016-07-28/BANIOS_5MIN_20160728___.csv',\n",
       " '02-HGPT-MT-06.- Estacion Baños/2016-01-14/8310_5min_20160125_subir.csv',\n",
       " '02-HGPT-MT-06.- Estacion Baños/2013-06-13/8310_5min_20200203.csv',\n",
       " '02-HGPT-MT-06.- Estacion Baños/2016-01-14/8310_5min_20160125__.csv',\n",
       " '02-HGPT-MT-06.- Estacion Baños/2015-02-06/8310_5min_20150211_subir.csv',\n",
       " '02-HGPT-MT-06.- Estacion Baños/2013-10-14/Banios_5min_20140116.xls',\n",
       " '02-HGPT-MT-06.- Estacion Baños/2013-06-13/8310_1min_20170717.csv',\n",
       " '02-HGPT-MT-06.- Estacion Baños/2018-08-16/BANIOS_5MIN_20180816.csv',\n",
       " '02-HGPT-MT-06.- Estacion Baños/2015-02-06/8310_5min_20150211.csv',\n",
       " '02-HGPT-MT-06.- Estacion Baños/2013-10-14/8310_1min_20170717.csv',\n",
       " '02-HGPT-MT-06.- Estacion Baños/2016-07-28/BANIOS_5MIN_20160728.csv',\n",
       " '02-HGPT-MT-06.- Estacion Baños/2016-01-14/8310_5min_20160125.csv',\n",
       " '02-HGPT-MT-06.- Estacion Baños/2018-08-16/BANIOS_1MIN_20180816.csv',\n",
       " '02-HGPT-MT-06.- Estacion Baños/2015-02-06/8310_1min_20170717.csv',\n",
       " '02-HGPT-MT-06.- Estacion Baños/2014-11-25/Banos_5min_20141201.csv',\n",
       " '02-HGPT-MT-06.- Estacion Baños/00_RESUMEN_1MIN_02/2013-06-13.csv']"
      ]
     },
     "execution_count": 96,
     "metadata": {},
     "output_type": "execute_result"
    }
   ],
   "source": [
    "zip = zipfile.ZipFile(f'{ziplist[0]}')\n",
    "zip.namelist()[0:20]"
   ]
  },
  {
   "cell_type": "code",
   "execution_count": 107,
   "metadata": {},
   "outputs": [
    {
     "name": "stdout",
     "output_type": "stream",
     "text": [
      "00_RESUMEN_1MIN_02 is not a date\n",
      "00_RESUMEN_1MIN_02 is not a date\n",
      "00_RESUMEN_1MIN_02 is not a date\n",
      "00_RESUMEN_1MIN_02 is not a date\n",
      "00_RESUMEN_1MIN_02 is not a date\n",
      "00_RESUMEN_1MIN_02 is not a date\n",
      "00_RESUMEN_1MIN_02 is not a date\n",
      "00_RESUMEN_1MIN_02 is not a date\n",
      "00_RESUMEN_1MIN_02 is not a date\n",
      "00_RESUMEN_1MIN_02 is not a date\n",
      "00_RESUMEN_1MIN_02 is not a date\n",
      "00_RESUMEN_1MIN_02 is not a date\n",
      "00_RESUMEN_1MIN_02 is not a date\n",
      "00_RESUMEN_1MIN_02 is not a date\n",
      "00_RESUMEN_1MIN_02 is not a date\n",
      "00_RESUMEN_1MIN_02 is not a date\n",
      "00_RESUMEN_1MIN_02 is not a date\n",
      "00_RESUMEN_1MIN_02 is not a date\n",
      "00_RESUMEN_1MIN_02 is not a date\n",
      "00_RESUMEN_1MIN_02 is not a date\n",
      "00_RESUMEN_1MIN_02 is not a date\n",
      "00_RESUMEN_1MIN_02 is not a date\n"
     ]
    }
   ],
   "source": [
    "#order ziplist by date\n",
    "a = []\n",
    "for i in range(len(zip.namelist())):\n",
    "    date_str = zip.namelist()[i].split('/')[1]\n",
    "    try:\n",
    "        date_date = datetime.strptime(date_str, '%Y-%m-%d')\n",
    "    except:\n",
    "        print(f'{date_str} is not a date')\n",
    "    a.append(date_date)"
   ]
  },
  {
   "cell_type": "code",
   "execution_count": 120,
   "metadata": {},
   "outputs": [
    {
     "data": {
      "text/plain": [
       "['2013-03-21',\n",
       " '2013-05-09',\n",
       " '2013-06-13',\n",
       " '2013-07-31',\n",
       " '2013-10-04',\n",
       " '2013-10-14',\n",
       " '2014-05-08',\n",
       " '2014-07-24',\n",
       " '2014-11-25',\n",
       " '2015-02-06',\n",
       " '2015-05-13',\n",
       " '2015-07-08',\n",
       " '2015-10-07',\n",
       " '2016-01-14',\n",
       " '2016-04-11',\n",
       " '2016-07-28',\n",
       " '2016-08-24',\n",
       " '2017-01-12',\n",
       " '2017-08-16',\n",
       " '2018-01-08',\n",
       " '2018-03-21',\n",
       " '2018-05-02',\n",
       " '2018-06-14',\n",
       " '2018-08-16',\n",
       " '2019-01-18',\n",
       " '2019-06-20',\n",
       " '2019-09-28',\n",
       " '2020-01-08']"
      ]
     },
     "execution_count": 120,
     "metadata": {},
     "output_type": "execute_result"
    }
   ],
   "source": [
    "# get unique values\n",
    "unique_dates = list(set(a))\n",
    "# order by date\n",
    "unique_dates.sort()\n",
    "unique_dates\n",
    "#convert back to string\n",
    "str_dates = []\n",
    "for l in range(len(unique_dates)):\n",
    "    str_dates.append(unique_dates[l].strftime('%Y-%m-%d'))\n",
    "str_dates"
   ]
  },
  {
   "cell_type": "code",
   "execution_count": 119,
   "metadata": {},
   "outputs": [
    {
     "data": {
      "text/plain": [
       "[datetime.datetime(2013, 3, 21, 0, 0),\n",
       " datetime.datetime(2013, 5, 9, 0, 0),\n",
       " datetime.datetime(2013, 6, 13, 0, 0),\n",
       " datetime.datetime(2013, 7, 31, 0, 0),\n",
       " datetime.datetime(2013, 10, 4, 0, 0),\n",
       " datetime.datetime(2013, 10, 14, 0, 0),\n",
       " datetime.datetime(2014, 5, 8, 0, 0),\n",
       " datetime.datetime(2014, 7, 24, 0, 0),\n",
       " datetime.datetime(2014, 11, 25, 0, 0),\n",
       " datetime.datetime(2015, 2, 6, 0, 0),\n",
       " datetime.datetime(2015, 5, 13, 0, 0),\n",
       " datetime.datetime(2015, 7, 8, 0, 0),\n",
       " datetime.datetime(2015, 10, 7, 0, 0),\n",
       " datetime.datetime(2016, 1, 14, 0, 0),\n",
       " datetime.datetime(2016, 4, 11, 0, 0),\n",
       " datetime.datetime(2016, 7, 28, 0, 0),\n",
       " datetime.datetime(2016, 8, 24, 0, 0),\n",
       " datetime.datetime(2017, 1, 12, 0, 0),\n",
       " datetime.datetime(2017, 8, 16, 0, 0),\n",
       " datetime.datetime(2018, 1, 8, 0, 0),\n",
       " datetime.datetime(2018, 3, 21, 0, 0),\n",
       " datetime.datetime(2018, 5, 2, 0, 0),\n",
       " datetime.datetime(2018, 6, 14, 0, 0),\n",
       " datetime.datetime(2018, 8, 16, 0, 0),\n",
       " datetime.datetime(2019, 1, 18, 0, 0),\n",
       " datetime.datetime(2019, 6, 20, 0, 0),\n",
       " datetime.datetime(2019, 9, 28, 0, 0),\n",
       " datetime.datetime(2020, 1, 8, 0, 0)]"
      ]
     },
     "execution_count": 119,
     "metadata": {},
     "output_type": "execute_result"
    }
   ],
   "source": [
    "# get files for each unique date\n"
   ]
  },
  {
   "cell_type": "code",
   "execution_count": 55,
   "metadata": {},
   "outputs": [
    {
     "ename": "UnicodeDecodeError",
     "evalue": "'utf-8' codec can't decode byte 0xf3 in position 11: invalid continuation byte",
     "output_type": "error",
     "traceback": [
      "\u001b[0;31m-----------------------------------------------------------------\u001b[0m",
      "\u001b[0;31mUnicodeDecodeError\u001b[0m              Traceback (most recent call last)",
      "\u001b[0;32m<ipython-input-55-9cbb624d0db4>\u001b[0m in \u001b[0;36m<module>\u001b[0;34m\u001b[0m\n\u001b[1;32m      1\u001b[0m \u001b[0mzf\u001b[0m \u001b[0;34m=\u001b[0m \u001b[0mzipfile\u001b[0m\u001b[0;34m.\u001b[0m\u001b[0mZipFile\u001b[0m\u001b[0;34m(\u001b[0m\u001b[0;34mf'{ziplist[0]}'\u001b[0m\u001b[0;34m)\u001b[0m\u001b[0;34m\u001b[0m\u001b[0;34m\u001b[0m\u001b[0m\n\u001b[0;32m----> 2\u001b[0;31m \u001b[0mdf\u001b[0m \u001b[0;34m=\u001b[0m \u001b[0mpd\u001b[0m\u001b[0;34m.\u001b[0m\u001b[0mread_csv\u001b[0m\u001b[0;34m(\u001b[0m\u001b[0mzf\u001b[0m\u001b[0;34m.\u001b[0m\u001b[0mopen\u001b[0m\u001b[0;34m(\u001b[0m\u001b[0mzip\u001b[0m\u001b[0;34m.\u001b[0m\u001b[0mnamelist\u001b[0m\u001b[0;34m(\u001b[0m\u001b[0;34m)\u001b[0m\u001b[0;34m[\u001b[0m\u001b[0;36m0\u001b[0m\u001b[0;34m]\u001b[0m\u001b[0;34m)\u001b[0m\u001b[0;34m,\u001b[0m\u001b[0msep\u001b[0m \u001b[0;34m=\u001b[0m \u001b[0;34m';'\u001b[0m\u001b[0;34m)\u001b[0m\u001b[0;34m\u001b[0m\u001b[0;34m\u001b[0m\u001b[0m\n\u001b[0m",
      "\u001b[0;32m~/opt/anaconda3/lib/python3.7/site-packages/pandas/io/parsers.py\u001b[0m in \u001b[0;36mparser_f\u001b[0;34m(filepath_or_buffer, sep, delimiter, header, names, index_col, usecols, squeeze, prefix, mangle_dupe_cols, dtype, engine, converters, true_values, false_values, skipinitialspace, skiprows, skipfooter, nrows, na_values, keep_default_na, na_filter, verbose, skip_blank_lines, parse_dates, infer_datetime_format, keep_date_col, date_parser, dayfirst, cache_dates, iterator, chunksize, compression, thousands, decimal, lineterminator, quotechar, quoting, doublequote, escapechar, comment, encoding, dialect, error_bad_lines, warn_bad_lines, delim_whitespace, low_memory, memory_map, float_precision)\u001b[0m\n\u001b[1;32m    674\u001b[0m         )\n\u001b[1;32m    675\u001b[0m \u001b[0;34m\u001b[0m\u001b[0m\n\u001b[0;32m--> 676\u001b[0;31m         \u001b[0;32mreturn\u001b[0m \u001b[0m_read\u001b[0m\u001b[0;34m(\u001b[0m\u001b[0mfilepath_or_buffer\u001b[0m\u001b[0;34m,\u001b[0m \u001b[0mkwds\u001b[0m\u001b[0;34m)\u001b[0m\u001b[0;34m\u001b[0m\u001b[0;34m\u001b[0m\u001b[0m\n\u001b[0m\u001b[1;32m    677\u001b[0m \u001b[0;34m\u001b[0m\u001b[0m\n\u001b[1;32m    678\u001b[0m     \u001b[0mparser_f\u001b[0m\u001b[0;34m.\u001b[0m\u001b[0m__name__\u001b[0m \u001b[0;34m=\u001b[0m \u001b[0mname\u001b[0m\u001b[0;34m\u001b[0m\u001b[0;34m\u001b[0m\u001b[0m\n",
      "\u001b[0;32m~/opt/anaconda3/lib/python3.7/site-packages/pandas/io/parsers.py\u001b[0m in \u001b[0;36m_read\u001b[0;34m(filepath_or_buffer, kwds)\u001b[0m\n\u001b[1;32m    446\u001b[0m \u001b[0;34m\u001b[0m\u001b[0m\n\u001b[1;32m    447\u001b[0m     \u001b[0;31m# Create the parser.\u001b[0m\u001b[0;34m\u001b[0m\u001b[0;34m\u001b[0m\u001b[0;34m\u001b[0m\u001b[0m\n\u001b[0;32m--> 448\u001b[0;31m     \u001b[0mparser\u001b[0m \u001b[0;34m=\u001b[0m \u001b[0mTextFileReader\u001b[0m\u001b[0;34m(\u001b[0m\u001b[0mfp_or_buf\u001b[0m\u001b[0;34m,\u001b[0m \u001b[0;34m**\u001b[0m\u001b[0mkwds\u001b[0m\u001b[0;34m)\u001b[0m\u001b[0;34m\u001b[0m\u001b[0;34m\u001b[0m\u001b[0m\n\u001b[0m\u001b[1;32m    449\u001b[0m \u001b[0;34m\u001b[0m\u001b[0m\n\u001b[1;32m    450\u001b[0m     \u001b[0;32mif\u001b[0m \u001b[0mchunksize\u001b[0m \u001b[0;32mor\u001b[0m \u001b[0miterator\u001b[0m\u001b[0;34m:\u001b[0m\u001b[0;34m\u001b[0m\u001b[0;34m\u001b[0m\u001b[0m\n",
      "\u001b[0;32m~/opt/anaconda3/lib/python3.7/site-packages/pandas/io/parsers.py\u001b[0m in \u001b[0;36m__init__\u001b[0;34m(self, f, engine, **kwds)\u001b[0m\n\u001b[1;32m    878\u001b[0m             \u001b[0mself\u001b[0m\u001b[0;34m.\u001b[0m\u001b[0moptions\u001b[0m\u001b[0;34m[\u001b[0m\u001b[0;34m\"has_index_names\"\u001b[0m\u001b[0;34m]\u001b[0m \u001b[0;34m=\u001b[0m \u001b[0mkwds\u001b[0m\u001b[0;34m[\u001b[0m\u001b[0;34m\"has_index_names\"\u001b[0m\u001b[0;34m]\u001b[0m\u001b[0;34m\u001b[0m\u001b[0;34m\u001b[0m\u001b[0m\n\u001b[1;32m    879\u001b[0m \u001b[0;34m\u001b[0m\u001b[0m\n\u001b[0;32m--> 880\u001b[0;31m         \u001b[0mself\u001b[0m\u001b[0;34m.\u001b[0m\u001b[0m_make_engine\u001b[0m\u001b[0;34m(\u001b[0m\u001b[0mself\u001b[0m\u001b[0;34m.\u001b[0m\u001b[0mengine\u001b[0m\u001b[0;34m)\u001b[0m\u001b[0;34m\u001b[0m\u001b[0;34m\u001b[0m\u001b[0m\n\u001b[0m\u001b[1;32m    881\u001b[0m \u001b[0;34m\u001b[0m\u001b[0m\n\u001b[1;32m    882\u001b[0m     \u001b[0;32mdef\u001b[0m \u001b[0mclose\u001b[0m\u001b[0;34m(\u001b[0m\u001b[0mself\u001b[0m\u001b[0;34m)\u001b[0m\u001b[0;34m:\u001b[0m\u001b[0;34m\u001b[0m\u001b[0;34m\u001b[0m\u001b[0m\n",
      "\u001b[0;32m~/opt/anaconda3/lib/python3.7/site-packages/pandas/io/parsers.py\u001b[0m in \u001b[0;36m_make_engine\u001b[0;34m(self, engine)\u001b[0m\n\u001b[1;32m   1112\u001b[0m     \u001b[0;32mdef\u001b[0m \u001b[0m_make_engine\u001b[0m\u001b[0;34m(\u001b[0m\u001b[0mself\u001b[0m\u001b[0;34m,\u001b[0m \u001b[0mengine\u001b[0m\u001b[0;34m=\u001b[0m\u001b[0;34m\"c\"\u001b[0m\u001b[0;34m)\u001b[0m\u001b[0;34m:\u001b[0m\u001b[0;34m\u001b[0m\u001b[0;34m\u001b[0m\u001b[0m\n\u001b[1;32m   1113\u001b[0m         \u001b[0;32mif\u001b[0m \u001b[0mengine\u001b[0m \u001b[0;34m==\u001b[0m \u001b[0;34m\"c\"\u001b[0m\u001b[0;34m:\u001b[0m\u001b[0;34m\u001b[0m\u001b[0;34m\u001b[0m\u001b[0m\n\u001b[0;32m-> 1114\u001b[0;31m             \u001b[0mself\u001b[0m\u001b[0;34m.\u001b[0m\u001b[0m_engine\u001b[0m \u001b[0;34m=\u001b[0m \u001b[0mCParserWrapper\u001b[0m\u001b[0;34m(\u001b[0m\u001b[0mself\u001b[0m\u001b[0;34m.\u001b[0m\u001b[0mf\u001b[0m\u001b[0;34m,\u001b[0m \u001b[0;34m**\u001b[0m\u001b[0mself\u001b[0m\u001b[0;34m.\u001b[0m\u001b[0moptions\u001b[0m\u001b[0;34m)\u001b[0m\u001b[0;34m\u001b[0m\u001b[0;34m\u001b[0m\u001b[0m\n\u001b[0m\u001b[1;32m   1115\u001b[0m         \u001b[0;32melse\u001b[0m\u001b[0;34m:\u001b[0m\u001b[0;34m\u001b[0m\u001b[0;34m\u001b[0m\u001b[0m\n\u001b[1;32m   1116\u001b[0m             \u001b[0;32mif\u001b[0m \u001b[0mengine\u001b[0m \u001b[0;34m==\u001b[0m \u001b[0;34m\"python\"\u001b[0m\u001b[0;34m:\u001b[0m\u001b[0;34m\u001b[0m\u001b[0;34m\u001b[0m\u001b[0m\n",
      "\u001b[0;32m~/opt/anaconda3/lib/python3.7/site-packages/pandas/io/parsers.py\u001b[0m in \u001b[0;36m__init__\u001b[0;34m(self, src, **kwds)\u001b[0m\n\u001b[1;32m   1889\u001b[0m         \u001b[0mkwds\u001b[0m\u001b[0;34m[\u001b[0m\u001b[0;34m\"usecols\"\u001b[0m\u001b[0;34m]\u001b[0m \u001b[0;34m=\u001b[0m \u001b[0mself\u001b[0m\u001b[0;34m.\u001b[0m\u001b[0musecols\u001b[0m\u001b[0;34m\u001b[0m\u001b[0;34m\u001b[0m\u001b[0m\n\u001b[1;32m   1890\u001b[0m \u001b[0;34m\u001b[0m\u001b[0m\n\u001b[0;32m-> 1891\u001b[0;31m         \u001b[0mself\u001b[0m\u001b[0;34m.\u001b[0m\u001b[0m_reader\u001b[0m \u001b[0;34m=\u001b[0m \u001b[0mparsers\u001b[0m\u001b[0;34m.\u001b[0m\u001b[0mTextReader\u001b[0m\u001b[0;34m(\u001b[0m\u001b[0msrc\u001b[0m\u001b[0;34m,\u001b[0m \u001b[0;34m**\u001b[0m\u001b[0mkwds\u001b[0m\u001b[0;34m)\u001b[0m\u001b[0;34m\u001b[0m\u001b[0;34m\u001b[0m\u001b[0m\n\u001b[0m\u001b[1;32m   1892\u001b[0m         \u001b[0mself\u001b[0m\u001b[0;34m.\u001b[0m\u001b[0munnamed_cols\u001b[0m \u001b[0;34m=\u001b[0m \u001b[0mself\u001b[0m\u001b[0;34m.\u001b[0m\u001b[0m_reader\u001b[0m\u001b[0;34m.\u001b[0m\u001b[0munnamed_cols\u001b[0m\u001b[0;34m\u001b[0m\u001b[0;34m\u001b[0m\u001b[0m\n\u001b[1;32m   1893\u001b[0m \u001b[0;34m\u001b[0m\u001b[0m\n",
      "\u001b[0;32mpandas/_libs/parsers.pyx\u001b[0m in \u001b[0;36mpandas._libs.parsers.TextReader.__cinit__\u001b[0;34m()\u001b[0m\n",
      "\u001b[0;32mpandas/_libs/parsers.pyx\u001b[0m in \u001b[0;36mpandas._libs.parsers.TextReader._get_header\u001b[0;34m()\u001b[0m\n",
      "\u001b[0;31mUnicodeDecodeError\u001b[0m: 'utf-8' codec can't decode byte 0xf3 in position 11: invalid continuation byte"
     ]
    }
   ],
   "source": [
    "zf = zipfile.ZipFile(f'{ziplist[0]}') \n",
    "df = pd.read_csv(zf.open(zip.namelist()[0]),sep = ';')"
   ]
  },
  {
   "cell_type": "code",
   "execution_count": 54,
   "metadata": {},
   "outputs": [
    {
     "data": {
      "text/html": [
       "<div>\n",
       "<style scoped>\n",
       "    .dataframe tbody tr th:only-of-type {\n",
       "        vertical-align: middle;\n",
       "    }\n",
       "\n",
       "    .dataframe tbody tr th {\n",
       "        vertical-align: top;\n",
       "    }\n",
       "\n",
       "    .dataframe thead th {\n",
       "        text-align: right;\n",
       "    }\n",
       "</style>\n",
       "<table border=\"1\" class=\"dataframe\">\n",
       "  <thead>\n",
       "    <tr style=\"text-align: right;\">\n",
       "      <th></th>\n",
       "      <th>Fecha</th>\n",
       "      <th>Temperatura</th>\n",
       "      <th>T Max</th>\n",
       "      <th>T Min</th>\n",
       "      <th>Humedad</th>\n",
       "      <th>H_R Max</th>\n",
       "      <th>H_M Min</th>\n",
       "      <th>Precipitacion</th>\n",
       "      <th>Direccion</th>\n",
       "      <th>Velocidad</th>\n",
       "    </tr>\n",
       "  </thead>\n",
       "  <tbody>\n",
       "    <tr>\n",
       "      <th>0</th>\n",
       "      <td>11/04/2016  9:35:00</td>\n",
       "      <td>22,76</td>\n",
       "      <td>22,88</td>\n",
       "      <td>22,63</td>\n",
       "      <td>68,16</td>\n",
       "      <td>69,88</td>\n",
       "      <td>67,42</td>\n",
       "      <td>0</td>\n",
       "      <td>105,06</td>\n",
       "      <td>2,2</td>\n",
       "    </tr>\n",
       "    <tr>\n",
       "      <th>1</th>\n",
       "      <td>11/04/2016  9:40:00</td>\n",
       "      <td>22,04</td>\n",
       "      <td>22,46</td>\n",
       "      <td>21,5</td>\n",
       "      <td>68,88</td>\n",
       "      <td>68,94</td>\n",
       "      <td>68,82</td>\n",
       "      <td>0</td>\n",
       "      <td>130,55</td>\n",
       "      <td>1,77</td>\n",
       "    </tr>\n",
       "    <tr>\n",
       "      <th>2</th>\n",
       "      <td>11/04/2016  9:45:00</td>\n",
       "      <td>21,06</td>\n",
       "      <td>21,29</td>\n",
       "      <td>20,95</td>\n",
       "      <td>70,56</td>\n",
       "      <td>71,21</td>\n",
       "      <td>69,65</td>\n",
       "      <td>0</td>\n",
       "      <td>131,3</td>\n",
       "      <td>1,86</td>\n",
       "    </tr>\n",
       "    <tr>\n",
       "      <th>3</th>\n",
       "      <td>11/04/2016  9:50:00</td>\n",
       "      <td>21,43</td>\n",
       "      <td>22,09</td>\n",
       "      <td>21,03</td>\n",
       "      <td>70,03</td>\n",
       "      <td>70,83</td>\n",
       "      <td>68,46</td>\n",
       "      <td>0</td>\n",
       "      <td>111,11</td>\n",
       "      <td>2,11</td>\n",
       "    </tr>\n",
       "    <tr>\n",
       "      <th>4</th>\n",
       "      <td>11/04/2016  9:55:00</td>\n",
       "      <td>23,11</td>\n",
       "      <td>23,62</td>\n",
       "      <td>22,5</td>\n",
       "      <td>68,71</td>\n",
       "      <td>69,29</td>\n",
       "      <td>68,07</td>\n",
       "      <td>0</td>\n",
       "      <td>103,2</td>\n",
       "      <td>1,96</td>\n",
       "    </tr>\n",
       "  </tbody>\n",
       "</table>\n",
       "</div>"
      ],
      "text/plain": [
       "                 Fecha Temperatura  T Max  T Min Humedad H_R Max H_M Min  \\\n",
       "0  11/04/2016  9:35:00       22,76  22,88  22,63   68,16   69,88   67,42   \n",
       "1  11/04/2016  9:40:00       22,04  22,46   21,5   68,88   68,94   68,82   \n",
       "2  11/04/2016  9:45:00       21,06  21,29  20,95   70,56   71,21   69,65   \n",
       "3  11/04/2016  9:50:00       21,43  22,09  21,03   70,03   70,83   68,46   \n",
       "4  11/04/2016  9:55:00       23,11  23,62   22,5   68,71   69,29   68,07   \n",
       "\n",
       "  Precipitacion Direccion Velocidad  \n",
       "0             0    105,06       2,2  \n",
       "1             0    130,55      1,77  \n",
       "2             0     131,3      1,86  \n",
       "3             0    111,11      2,11  \n",
       "4             0     103,2      1,96  "
      ]
     },
     "execution_count": 54,
     "metadata": {},
     "output_type": "execute_result"
    }
   ],
   "source": [
    "df.head()"
   ]
  },
  {
   "cell_type": "code",
   "execution_count": null,
   "metadata": {},
   "outputs": [],
   "source": [
    "### longitud and latitud formats\n",
    "###"
   ]
  }
 ],
 "metadata": {
  "kernelspec": {
   "display_name": "Python 3",
   "language": "python",
   "name": "python3"
  },
  "language_info": {
   "codemirror_mode": {
    "name": "ipython",
    "version": 3
   },
   "file_extension": ".py",
   "mimetype": "text/x-python",
   "name": "python",
   "nbconvert_exporter": "python",
   "pygments_lexer": "ipython3",
   "version": "3.7.4"
  }
 },
 "nbformat": 4,
 "nbformat_minor": 4
}
