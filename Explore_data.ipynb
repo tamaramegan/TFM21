{
 "cells": [
  {
   "cell_type": "markdown",
   "metadata": {},
   "source": [
    "### Explore meteorological data"
   ]
  },
  {
   "cell_type": "code",
   "execution_count": 1,
   "metadata": {},
   "outputs": [],
   "source": [
    "import os\n",
    "import zipfile\n",
    "import pandas as pd\n",
    "import glob\n",
    "import keplergl\n",
    "import geopandas as gpd\n",
    "import matplotlib.pyplot as plt\n",
    "import csv\n",
    "from datetime import datetime\n",
    "import re\n",
    "import numpy as np\n",
    "from pyproj import Proj"
   ]
  },
  {
   "cell_type": "code",
   "execution_count": 2,
   "metadata": {},
   "outputs": [],
   "source": [
    "# Drive folder with original data: https://drive.google.com/drive/folders/1me2IpDY3om6IRKv_WMT5W6Qw0r9DI74C"
   ]
  },
  {
   "cell_type": "code",
   "execution_count": 2,
   "metadata": {},
   "outputs": [
    {
     "data": {
      "text/plain": [
       "['.DS_Store',\n",
       " '07-HGPT-MT-07.- Estacion Aeropuerto-20210505T205931Z-001.zip',\n",
       " 'Estaciones_meteorologicas.csv',\n",
       " '02-HGPT-MT-06.- Estacion Baños-20210426T162523Z-001.zip',\n",
       " 'Inventario Estaciones Meteo.xls',\n",
       " '02-HGPT-MT-06.- Estacion Baños']"
      ]
     },
     "execution_count": 2,
     "metadata": {},
     "output_type": "execute_result"
    }
   ],
   "source": [
    "os.listdir('data')"
   ]
  },
  {
   "cell_type": "code",
   "execution_count": 4,
   "metadata": {},
   "outputs": [],
   "source": [
    "### Read a sheet from an excel file\n",
    "file = glob.glob('data/*.xls')[0]\n",
    "sheets = pd.read_excel(file, None)\n",
    "list(sheets.keys())\n",
    "df = pd.read_excel(io=file, sheet_name=list(sheets.keys())[0], engine ='xlrd',skiprows = 1)"
   ]
  },
  {
   "cell_type": "code",
   "execution_count": 5,
   "metadata": {},
   "outputs": [
    {
     "data": {
      "text/html": [
       "<div>\n",
       "<style scoped>\n",
       "    .dataframe tbody tr th:only-of-type {\n",
       "        vertical-align: middle;\n",
       "    }\n",
       "\n",
       "    .dataframe tbody tr th {\n",
       "        vertical-align: top;\n",
       "    }\n",
       "\n",
       "    .dataframe thead th {\n",
       "        text-align: right;\n",
       "    }\n",
       "</style>\n",
       "<table border=\"1\" class=\"dataframe\">\n",
       "  <thead>\n",
       "    <tr style=\"text-align: right;\">\n",
       "      <th></th>\n",
       "      <th>fuente</th>\n",
       "      <th>numero</th>\n",
       "      <th>codigo</th>\n",
       "      <th>nombre</th>\n",
       "      <th>tipo</th>\n",
       "      <th>provincia</th>\n",
       "      <th>estado</th>\n",
       "      <th>fecha_instalacion</th>\n",
       "      <th>latitud</th>\n",
       "      <th>longitud</th>\n",
       "      <th>parametros_medicion</th>\n",
       "    </tr>\n",
       "  </thead>\n",
       "  <tbody>\n",
       "    <tr>\n",
       "      <th>0</th>\n",
       "      <td>esta_inamhi</td>\n",
       "      <td>1</td>\n",
       "      <td>M0029</td>\n",
       "      <td>BAÑOS</td>\n",
       "      <td>CP</td>\n",
       "      <td>TUNGURAHUA</td>\n",
       "      <td>FUNCIONANDO</td>\n",
       "      <td>20-jun-62</td>\n",
       "      <td>12329.0</td>\n",
       "      <td>782505.0</td>\n",
       "      <td>Temperatura Max, temperatura Min, Temperatura,...</td>\n",
       "    </tr>\n",
       "    <tr>\n",
       "      <th>1</th>\n",
       "      <td>esta_inamhi</td>\n",
       "      <td>2</td>\n",
       "      <td>M0258</td>\n",
       "      <td>QUEROCHACA(UTA)</td>\n",
       "      <td>CP</td>\n",
       "      <td>TUNGURAHUA</td>\n",
       "      <td>FUNCIONANDO</td>\n",
       "      <td>2-nov-85</td>\n",
       "      <td>12202.0</td>\n",
       "      <td>783620.0</td>\n",
       "      <td>Temperatura Max, temperatura Min, Temperatura,...</td>\n",
       "    </tr>\n",
       "    <tr>\n",
       "      <th>2</th>\n",
       "      <td>esta_inamhi</td>\n",
       "      <td>3</td>\n",
       "      <td>M1069</td>\n",
       "      <td>CALAMACA CONVENIO INAMHI HCPT</td>\n",
       "      <td>CP</td>\n",
       "      <td>TUNGURAHUA</td>\n",
       "      <td>FUNCIONANDO</td>\n",
       "      <td>4-jul-88</td>\n",
       "      <td>11634.0</td>\n",
       "      <td>784908.0</td>\n",
       "      <td>Temperatura Max, temperatura Min, Temperatura,...</td>\n",
       "    </tr>\n",
       "    <tr>\n",
       "      <th>3</th>\n",
       "      <td>esta_inamhi</td>\n",
       "      <td>4</td>\n",
       "      <td>M0126</td>\n",
       "      <td>PATATE</td>\n",
       "      <td>CO</td>\n",
       "      <td>TUNGURAHUA</td>\n",
       "      <td>FUNCIONANDO</td>\n",
       "      <td>1-may-63</td>\n",
       "      <td>11801.0</td>\n",
       "      <td>783000.0</td>\n",
       "      <td>Temperatura Max, temperatura Min, Temperatura,...</td>\n",
       "    </tr>\n",
       "    <tr>\n",
       "      <th>4</th>\n",
       "      <td>esta_inamhi</td>\n",
       "      <td>5</td>\n",
       "      <td>M0127</td>\n",
       "      <td>PILLARO</td>\n",
       "      <td>CO</td>\n",
       "      <td>TUNGURAHUA</td>\n",
       "      <td>FUNCIONANDO</td>\n",
       "      <td>1-Dec-63</td>\n",
       "      <td>11010.0</td>\n",
       "      <td>783310.0</td>\n",
       "      <td>Temperatura Max, temperatura Min, Temperatura,...</td>\n",
       "    </tr>\n",
       "  </tbody>\n",
       "</table>\n",
       "</div>"
      ],
      "text/plain": [
       "        fuente  numero codigo                         nombre tipo   provincia  \\\n",
       "0  esta_inamhi       1  M0029                          BAÑOS   CP  TUNGURAHUA   \n",
       "1  esta_inamhi       2  M0258                QUEROCHACA(UTA)   CP  TUNGURAHUA   \n",
       "2  esta_inamhi       3  M1069  CALAMACA CONVENIO INAMHI HCPT   CP  TUNGURAHUA   \n",
       "3  esta_inamhi       4  M0126                         PATATE   CO  TUNGURAHUA   \n",
       "4  esta_inamhi       5  M0127                        PILLARO   CO  TUNGURAHUA   \n",
       "\n",
       "        estado fecha_instalacion  latitud  longitud  \\\n",
       "0  FUNCIONANDO         20-jun-62  12329.0  782505.0   \n",
       "1  FUNCIONANDO          2-nov-85  12202.0  783620.0   \n",
       "2  FUNCIONANDO          4-jul-88  11634.0  784908.0   \n",
       "3  FUNCIONANDO          1-may-63  11801.0  783000.0   \n",
       "4  FUNCIONANDO          1-Dec-63  11010.0  783310.0   \n",
       "\n",
       "                                 parametros_medicion  \n",
       "0  Temperatura Max, temperatura Min, Temperatura,...  \n",
       "1  Temperatura Max, temperatura Min, Temperatura,...  \n",
       "2  Temperatura Max, temperatura Min, Temperatura,...  \n",
       "3  Temperatura Max, temperatura Min, Temperatura,...  \n",
       "4  Temperatura Max, temperatura Min, Temperatura,...  "
      ]
     },
     "execution_count": 5,
     "metadata": {},
     "output_type": "execute_result"
    }
   ],
   "source": [
    "df = pd.read_csv('data/Estaciones_meteorologicas.csv')\n",
    "df.head()"
   ]
  },
  {
   "cell_type": "code",
   "execution_count": 17,
   "metadata": {},
   "outputs": [],
   "source": [
    "myProj = Proj(\"+proj=utm +zone=17S, +south +ellps=WGS84 +datum=WGS84 +units=m +no_defs\")"
   ]
  },
  {
   "cell_type": "code",
   "execution_count": 18,
   "metadata": {},
   "outputs": [],
   "source": [
    "lon, lat = myProj(df['longitud'].values, df['latitud'].values, inverse=True)"
   ]
  },
  {
   "cell_type": "code",
   "execution_count": 21,
   "metadata": {},
   "outputs": [
    {
     "data": {
      "text/plain": [
       "array([-78.46203009, -78.45201988, -78.44045693, -78.45758644,\n",
       "       -78.45480388, -78.45171471, -78.44541252, -78.44897653,\n",
       "       -78.4688712 , -78.45633813, -78.45262241, -19.42934026,\n",
       "       -17.22465419, -15.76969217, -15.76969217, -19.05039204,\n",
       "       -18.61256189, -17.10057497, -20.11372178, -20.81104732,\n",
       "       -19.31796305, -18.50098482, -21.81322966, -15.55097746,\n",
       "       -12.87258391, -18.23847411,          inf, -20.90950484,\n",
       "       -17.96268711, -19.90939236, -19.42934026, -17.22465419,\n",
       "       -15.76969217, -15.76969217, -19.05039204, -18.61256189,\n",
       "       -17.10057497, -20.11372178, -20.81104732, -19.31796305,\n",
       "       -18.50098482, -21.81322966, -15.55097746, -12.87258391,\n",
       "       -18.23847411,          inf, -20.90950484, -17.96268711,\n",
       "       -19.90939236])"
      ]
     },
     "execution_count": 21,
     "metadata": {},
     "output_type": "execute_result"
    }
   ],
   "source": [
    "lon"
   ]
  },
  {
   "cell_type": "code",
   "execution_count": null,
   "metadata": {},
   "outputs": [],
   "source": [
    "### There is a problem with the coordinates. I can extract the coordinates from ESTA_INAMHI but not form the other 2. UTM format"
   ]
  },
  {
   "cell_type": "code",
   "execution_count": 39,
   "metadata": {},
   "outputs": [],
   "source": [
    "df_inamhi = df[df['fuente']== 'esta_inamhi']\n",
    "df_inamhi.latitud = -df_inamhi.latitud/1e4\n",
    "df_inamhi.longitud = -df_inamhi.longitud/1e4"
   ]
  },
  {
   "cell_type": "code",
   "execution_count": 40,
   "metadata": {},
   "outputs": [],
   "source": [
    "gdf = gpd.GeoDataFrame(\n",
    "    df_inamhi, geometry=gpd.points_from_xy(df_inamhi.longitud, df_inamhi.latitud))"
   ]
  },
  {
   "cell_type": "code",
   "execution_count": 53,
   "metadata": {},
   "outputs": [],
   "source": [
    "gdf = gdf.set_crs(epsg=4326)"
   ]
  },
  {
   "cell_type": "code",
   "execution_count": 56,
   "metadata": {},
   "outputs": [
    {
     "data": {
      "image/png": "[encoded data removed]",
      "text/plain": [
       "<Figure size 432x288 with 1 Axes>"
      ]
     },
     "metadata": {
      "needs_background": "light"
     },
     "output_type": "display_data"
    }
   ],
   "source": [
    "world = gpd.read_file(gpd.datasets.get_path('naturalearth_lowres'))\n",
    "SA = world.query('name == \"Ecuador\"')\n",
    "gdf4326 = gdf.to_crs(world.crs)\n",
    "\n",
    "fig, ax = plt.subplots()\n",
    "ax.set_aspect('equal')\n",
    "SA.plot(ax=ax, color='white', edgecolor='black')\n",
    "gdf4326.plot(ax=ax, column='tipo',figsize=(20,20))\n",
    "\n",
    "plt.show()"
   ]
  },
  {
   "cell_type": "markdown",
   "metadata": {},
   "source": [
    "#### Automate data extraction from Drive downloads"
   ]
  },
  {
   "cell_type": "code",
   "execution_count": 3,
   "metadata": {},
   "outputs": [],
   "source": [
    "path = '/Users/tamarahuete/Documents/Github_repos/TFM21/data'\n",
    "#ziplist = glob.glob(f'{path}/*.zip')\n",
    "ziplist = glob.glob('data/*.zip')"
   ]
  },
  {
   "cell_type": "code",
   "execution_count": 4,
   "metadata": {},
   "outputs": [
    {
     "data": {
      "text/plain": [
       "['07-HGPT-MT-07.- Estacion Aeropuerto/2013-06-13/Aeropuerto_5min_20130624.csv',\n",
       " '07-HGPT-MT-07.- Estacion Aeropuerto/2018-01-11/8310_5min_20180116.csv',\n",
       " '07-HGPT-MT-07.- Estacion Aeropuerto/2013-06-13/8310_1min_20170404.csv',\n",
       " '07-HGPT-MT-07.- Estacion Aeropuerto/2015-07-02/8310_5min_20150714_subir.csv',\n",
       " '07-HGPT-MT-07.- Estacion Aeropuerto/2018-01-11/8310_5min_20180116_subir.csv']"
      ]
     },
     "execution_count": 4,
     "metadata": {},
     "output_type": "execute_result"
    }
   ],
   "source": [
    "zip = zipfile.ZipFile(f'{ziplist[0]}')\n",
    "zip.namelist()[0:5]"
   ]
  },
  {
   "cell_type": "code",
   "execution_count": 5,
   "metadata": {},
   "outputs": [
    {
     "name": "stdout",
     "output_type": "stream",
     "text": [
      "Aeropuerto_1hora_Todo.xls is not a date\n",
      "00_RESUMEN_1MIN_07 is not a date\n",
      "00_RESUMEN_1MIN_07 is not a date\n",
      "00_RESUMEN_1MIN_07 is not a date\n",
      "00_RESUMEN_1MIN_07 is not a date\n",
      "00_RESUMEN_1MIN_07 is not a date\n",
      "00_RESUMEN_1MIN_07 is not a date\n",
      "00_RESUMEN_1MIN_07 is not a date\n",
      "00_RESUMEN_1MIN_07 is not a date\n",
      "00_RESUMEN_1MIN_07 is not a date\n",
      "00_RESUMEN_1MIN_07 is not a date\n",
      "00_RESUMEN_1MIN_07 is not a date\n",
      "00_RESUMEN_1MIN_07 is not a date\n",
      "00_RESUMEN_1MIN_07 is not a date\n",
      "00_RESUMEN_1MIN_07 is not a date\n",
      "00_RESUMEN_1MIN_07 is not a date\n",
      "00_RESUMEN_1MIN_07 is not a date\n",
      "00_RESUMEN_1MIN_07 is not a date\n",
      "00_RESUMEN_1MIN_07 is not a date\n",
      "00_RESUMEN_1MIN_07 is not a date\n",
      "00_RESUMEN_1MIN_07 is not a date\n",
      "00_RESUMEN_1MIN_07 is not a date\n",
      "00_RESUMEN_1MIN_07 is not a date\n",
      "00_RESUMEN_1MIN_07 is not a date\n",
      "00_RESUMEN_1MIN_07 is not a date\n",
      "00_RESUMEN_1MIN_07 is not a date\n",
      "00_RESUMEN_1MIN_07 is not a date\n",
      "00_RESUMEN_1MIN_07 is not a date\n",
      "00_RESUMEN_1MIN_07 is not a date\n",
      "00_RESUMEN_1MIN_07 is not a date\n"
     ]
    }
   ],
   "source": [
    "#order ziplist by date\n",
    "a = []\n",
    "for i in range(len(zip.namelist())):\n",
    "    date_str = zip.namelist()[i].split('/')[1]\n",
    "    try:\n",
    "        date_date = datetime.strptime(date_str, '%Y-%m-%d')\n",
    "    except:\n",
    "        print(f'{date_str} is not a date')\n",
    "    a.append(date_date)"
   ]
  },
  {
   "cell_type": "code",
   "execution_count": 6,
   "metadata": {},
   "outputs": [
    {
     "data": {
      "text/plain": [
       "['2013-03-26',\n",
       " '2013-05-07',\n",
       " '2013-06-13',\n",
       " '2013-08-01',\n",
       " '2013-08-28',\n",
       " '2013-10-01',\n",
       " '2014-01-10',\n",
       " '2014-04-09',\n",
       " '2014-07-23',\n",
       " '2014-11-24',\n",
       " '2015-02-05',\n",
       " '2015-04-27',\n",
       " '2015-07-02',\n",
       " '2015-10-28',\n",
       " '2016-01-11',\n",
       " '2016-04-12',\n",
       " '2016-08-25',\n",
       " '2017-01-12',\n",
       " '2017-04-09',\n",
       " '2017-10-01',\n",
       " '2017-10-10',\n",
       " '2017-10-30',\n",
       " '2018-01-11',\n",
       " '2018-06-13',\n",
       " '2018-09-20',\n",
       " '2018-12-21',\n",
       " '2019-04-05',\n",
       " '2019-06-27',\n",
       " '2019-09-27',\n",
       " '2020-01-09']"
      ]
     },
     "execution_count": 6,
     "metadata": {},
     "output_type": "execute_result"
    }
   ],
   "source": [
    "# get unique values\n",
    "unique_dates = list(set(a))\n",
    "# order by date\n",
    "unique_dates.sort()\n",
    "unique_dates\n",
    "#convert back to string\n",
    "str_dates = []\n",
    "for l in range(len(unique_dates)):\n",
    "    str_dates.append(unique_dates[l].strftime('%Y-%m-%d'))\n",
    "str_dates"
   ]
  },
  {
   "cell_type": "code",
   "execution_count": 7,
   "metadata": {},
   "outputs": [],
   "source": [
    "## Reorder files\n",
    "files_by_date = []\n",
    "for dates in str_dates:\n",
    "    #r = re.compile(f'.*/{dates}/.*') # all files (including excel sheets)\n",
    "    r = re.compile(f'.*/{dates}/.*.csv') # only csv files\n",
    "    newlist = list(filter(r.match, zip.namelist())) \n",
    "    files_by_date.extend(newlist)"
   ]
  },
  {
   "cell_type": "code",
   "execution_count": 8,
   "metadata": {},
   "outputs": [
    {
     "data": {
      "text/plain": [
       "['07-HGPT-MT-07.- Estacion Aeropuerto/2013-03-26/8310_1min_20170404.csv',\n",
       " '07-HGPT-MT-07.- Estacion Aeropuerto/2013-03-26/Aeropuerto_1hora_20130517.csv',\n",
       " '07-HGPT-MT-07.- Estacion Aeropuerto/2013-05-07/8310_1min_20170404.csv',\n",
       " '07-HGPT-MT-07.- Estacion Aeropuerto/2013-05-07/Aeropuerto_5min_20140417.csv',\n",
       " '07-HGPT-MT-07.- Estacion Aeropuerto/2013-06-13/Aeropuerto_5min_20130624.csv',\n",
       " '07-HGPT-MT-07.- Estacion Aeropuerto/2013-06-13/8310_1min_20170404.csv',\n",
       " '07-HGPT-MT-07.- Estacion Aeropuerto/2013-08-01/8310_1min_20170405.csv',\n",
       " '07-HGPT-MT-07.- Estacion Aeropuerto/2013-08-01/Aeropuerto_5min_20130808.csv',\n",
       " '07-HGPT-MT-07.- Estacion Aeropuerto/2013-08-28/Aeropuerto_5min_20130828.csv',\n",
       " '07-HGPT-MT-07.- Estacion Aeropuerto/2013-08-28/8310_1min_20170405.csv',\n",
       " '07-HGPT-MT-07.- Estacion Aeropuerto/2013-10-01/8310_1min_20170405.csv',\n",
       " '07-HGPT-MT-07.- Estacion Aeropuerto/2013-10-01/Aeropuerto_5min_20131008.csv',\n",
       " '07-HGPT-MT-07.- Estacion Aeropuerto/2014-01-10/Aeropuerto_5min_20140114.csv',\n",
       " '07-HGPT-MT-07.- Estacion Aeropuerto/2014-01-10/8310_1min_20170406.csv',\n",
       " '07-HGPT-MT-07.- Estacion Aeropuerto/2014-04-09/8310_1min_20170407.csv',\n",
       " '07-HGPT-MT-07.- Estacion Aeropuerto/2014-04-09/Aeropuerto_5min_20140416.csv',\n",
       " '07-HGPT-MT-07.- Estacion Aeropuerto/2014-07-23/Aeropuerto_5min_20140801_subir.csv',\n",
       " '07-HGPT-MT-07.- Estacion Aeropuerto/2014-07-23/8310_1min_20170410.csv',\n",
       " '07-HGPT-MT-07.- Estacion Aeropuerto/2014-07-23/8310_1min_20170410 - copia.csv',\n",
       " '07-HGPT-MT-07.- Estacion Aeropuerto/2014-07-23/Aeropuerto_5min_20140801.csv',\n",
       " '07-HGPT-MT-07.- Estacion Aeropuerto/2014-11-24/Aeropuerto_5min_20141128_subir.csv',\n",
       " '07-HGPT-MT-07.- Estacion Aeropuerto/2014-11-24/8310_1min_20170411.csv',\n",
       " '07-HGPT-MT-07.- Estacion Aeropuerto/2014-11-24/Aeropuerto_5min_20141128.csv',\n",
       " '07-HGPT-MT-07.- Estacion Aeropuerto/2015-02-05/8310_5min_20150211_subir.csv',\n",
       " '07-HGPT-MT-07.- Estacion Aeropuerto/2015-02-05/8310_5min_20150211.csv',\n",
       " '07-HGPT-MT-07.- Estacion Aeropuerto/2015-02-05/8310_1min_20170411.csv',\n",
       " '07-HGPT-MT-07.- Estacion Aeropuerto/2015-04-27/8310_1min_20170412.csv',\n",
       " '07-HGPT-MT-07.- Estacion Aeropuerto/2015-04-27/8310_5min_20150504_subir.csv',\n",
       " '07-HGPT-MT-07.- Estacion Aeropuerto/2015-04-27/8310_5min_20150504.csv',\n",
       " '07-HGPT-MT-07.- Estacion Aeropuerto/2015-07-02/8310_5min_20150714_subir.csv',\n",
       " '07-HGPT-MT-07.- Estacion Aeropuerto/2015-07-02/8310_5min_20150714.csv',\n",
       " '07-HGPT-MT-07.- Estacion Aeropuerto/2015-07-02/8310_1min_20170412.csv',\n",
       " '07-HGPT-MT-07.- Estacion Aeropuerto/2015-10-28/8310_5min_20151104_subir.csv',\n",
       " '07-HGPT-MT-07.- Estacion Aeropuerto/2015-10-28/8310_1min_20170417.csv',\n",
       " '07-HGPT-MT-07.- Estacion Aeropuerto/2015-10-28/8310_5min_20151104.csv',\n",
       " '07-HGPT-MT-07.- Estacion Aeropuerto/2016-01-11/8310_5min_20160125_subir.csv',\n",
       " '07-HGPT-MT-07.- Estacion Aeropuerto/2016-01-11/8310_5min_20160125.csv',\n",
       " '07-HGPT-MT-07.- Estacion Aeropuerto/2016-01-11/8310_1min_20170418.csv',\n",
       " '07-HGPT-MT-07.- Estacion Aeropuerto/2016-04-12/8310_5min_20160422_subir.csv',\n",
       " '07-HGPT-MT-07.- Estacion Aeropuerto/2016-04-12/8310_5min_20160422.csv',\n",
       " '07-HGPT-MT-07.- Estacion Aeropuerto/2016-08-25/8310_5min_20160929_subir.csv',\n",
       " '07-HGPT-MT-07.- Estacion Aeropuerto/2016-08-25/8310_5min_20160929.csv',\n",
       " '07-HGPT-MT-07.- Estacion Aeropuerto/2016-08-25/8310_1min_20160919.csv',\n",
       " '07-HGPT-MT-07.- Estacion Aeropuerto/2017-01-12/8310_5min_20170118.csv',\n",
       " '07-HGPT-MT-07.- Estacion Aeropuerto/2017-01-12/8310_5min_20170118_subir.csv',\n",
       " '07-HGPT-MT-07.- Estacion Aeropuerto/2017-01-12/8310_1min_20170118.csv',\n",
       " '07-HGPT-MT-07.- Estacion Aeropuerto/2017-04-09/8310_1min_20170407_1_subir.csv',\n",
       " '07-HGPT-MT-07.- Estacion Aeropuerto/2017-04-09/8310_1min_20170407_2_subir.csv',\n",
       " '07-HGPT-MT-07.- Estacion Aeropuerto/2017-04-09/8310_1min_20170407.csv',\n",
       " '07-HGPT-MT-07.- Estacion Aeropuerto/2017-04-09/8310_1min_20170407_1.csv',\n",
       " '07-HGPT-MT-07.- Estacion Aeropuerto/2017-04-09/8310_1min_20170407_2.csv',\n",
       " '07-HGPT-MT-07.- Estacion Aeropuerto/2017-10-01/8310_5min_20171025_subir.csv',\n",
       " '07-HGPT-MT-07.- Estacion Aeropuerto/2017-10-01/8310_5min_20171025.csv',\n",
       " '07-HGPT-MT-07.- Estacion Aeropuerto/2017-10-01/8310_1min_20171025.csv',\n",
       " '07-HGPT-MT-07.- Estacion Aeropuerto/2017-10-10/8310_1min_201711071_subir.csv',\n",
       " '07-HGPT-MT-07.- Estacion Aeropuerto/2017-10-10/8310_1min_20171107.csv',\n",
       " '07-HGPT-MT-07.- Estacion Aeropuerto/2017-10-30/8310_5min_20171107_subir.csv',\n",
       " '07-HGPT-MT-07.- Estacion Aeropuerto/2017-10-30/8310_5min_20171107.csv',\n",
       " '07-HGPT-MT-07.- Estacion Aeropuerto/2017-10-30/8310_1min_20171107.csv',\n",
       " '07-HGPT-MT-07.- Estacion Aeropuerto/2018-01-11/8310_5min_20180116.csv',\n",
       " '07-HGPT-MT-07.- Estacion Aeropuerto/2018-01-11/8310_5min_20180116_subir.csv',\n",
       " '07-HGPT-MT-07.- Estacion Aeropuerto/2018-01-11/8310_1min_20180116.csv',\n",
       " '07-HGPT-MT-07.- Estacion Aeropuerto/2018-06-13/8310_1min_20180613.csv',\n",
       " '07-HGPT-MT-07.- Estacion Aeropuerto/2018-06-13/8310_5min_20180613.csv',\n",
       " '07-HGPT-MT-07.- Estacion Aeropuerto/2018-09-20/8310_1min_20180920.csv',\n",
       " '07-HGPT-MT-07.- Estacion Aeropuerto/2018-09-20/8310_5min_20180920.csv',\n",
       " '07-HGPT-MT-07.- Estacion Aeropuerto/2018-12-21/8310_5min_2018121.csv',\n",
       " '07-HGPT-MT-07.- Estacion Aeropuerto/2018-12-21/8310_1min_2018121.csv',\n",
       " '07-HGPT-MT-07.- Estacion Aeropuerto/2019-04-05/8310_5min_20190405.csv',\n",
       " '07-HGPT-MT-07.- Estacion Aeropuerto/2019-04-05/8310_1min_20190405.csv',\n",
       " '07-HGPT-MT-07.- Estacion Aeropuerto/2019-06-27/8310_5min_20190702_0.csv',\n",
       " '07-HGPT-MT-07.- Estacion Aeropuerto/2019-06-27/8310_1min_20190702.csv',\n",
       " '07-HGPT-MT-07.- Estacion Aeropuerto/2019-06-27/8310_5min_20190702.csv',\n",
       " '07-HGPT-MT-07.- Estacion Aeropuerto/2019-09-27/8310_1min_20190927.csv',\n",
       " '07-HGPT-MT-07.- Estacion Aeropuerto/2019-09-27/8310_5min_20190927.csv',\n",
       " '07-HGPT-MT-07.- Estacion Aeropuerto/2020-01-09/8310_1min_20200109.csv',\n",
       " '07-HGPT-MT-07.- Estacion Aeropuerto/2020-01-09/8310_5min_20200109.csv']"
      ]
     },
     "execution_count": 8,
     "metadata": {},
     "output_type": "execute_result"
    }
   ],
   "source": [
    "files_by_date"
   ]
  },
  {
   "cell_type": "code",
   "execution_count": 9,
   "metadata": {},
   "outputs": [],
   "source": [
    "def read_meteo_csv(zf, file): \n",
    "    try:\n",
    "        df = pd.read_csv(zf.open(file),header=None, encoding = 'latin-1')\n",
    "        print('Success regular csv, no header, latin encoding')\n",
    "    except:\n",
    "        try:\n",
    "            df = pd.read_csv(zf.open(file), sep = ';', encoding = 'latin-1')\n",
    "            if len(df.columns) == 1:\n",
    "                df = df[df.columns[0]].str.split(',',expand=True)\n",
    "                df = df.iloc[1:]\n",
    "            print('Success sep \";\", latin encoding')\n",
    "        except:\n",
    "            print('Failed')\n",
    "    \n",
    "    ## Detect and elminate empty columns- incluiding columns with low number of values (<1% of file)\n",
    "    df = df.replace('', np.nan)\n",
    "    empty_cols = [col for col in df.columns if df[col].isnull().all() or round(df[col].isnull().value_counts()[0]/len(df[col]),2) < 0.01]\n",
    "    df.drop(empty_cols,\n",
    "        axis=1,\n",
    "        inplace=True)\n",
    "    if len(df.columns)==5:\n",
    "        df.columns = ['Date', 'Time','Variable', 'Value','type']\n",
    "    print(f'file ={i}, cols = {len(df.columns)}')\n",
    "    return df"
   ]
  },
  {
   "cell_type": "code",
   "execution_count": null,
   "metadata": {},
   "outputs": [],
   "source": [
    "### Convert to long format\n",
    "#df.melt(id_vars='Fecha', value_vars=list(df.columns)[1:], var_name='Variable', value_name='value')"
   ]
  },
  {
   "cell_type": "code",
   "execution_count": 12,
   "metadata": {},
   "outputs": [
    {
     "name": "stdout",
     "output_type": "stream",
     "text": [
      "Success sep \";\", latin encoding\n",
      "file =137, cols = 5\n"
     ]
    }
   ],
   "source": [
    "zf = zipfile.ZipFile(f'{ziplist[0]}')\n",
    "summary_df = pd.DataFrame(columns = ['station','filename','colnum','colnames','nrows'])\n",
    "df = read_meteo_csv(zf,files_by_date[1])"
   ]
  },
  {
   "cell_type": "code",
   "execution_count": null,
   "metadata": {},
   "outputs": [],
   "source": [
    "### Get unique variable names\n",
    "\n",
    "zf = zipfile.ZipFile(f'{ziplist[0]}')\n",
    "summary_df = pd.DataFrame(columns = ['station','filename','colnum','colnames','nrows'])\n",
    "for i in range(0,len(files_by_date)):\n",
    "    \n",
    "    df = read_meteo_csv(zf,files_by_date[i])\n",
    "    if len(df.columns)==5:\n",
    "        colname = [list(df.Variable.unique())]\n",
    "    else:\n",
    "        colname= [list(df.columns)]\n",
    "    try:\n",
    "        filename=zip.namelist()[i].split('/')[2]\n",
    "    except:\n",
    "        filename=zip.namelist()[i].split('/')[1]\n",
    "    fill = {'station':zip.namelist()[i].split('/')[0].split(' ')[2],\n",
    "            'filename':filename,\n",
    "            'colnum':len(df.columns),\n",
    "            'colnames':colname,\n",
    "            'nrows':len(df)}\n",
    "    summary_df = summary_df.append(fill, ignore_index=True)"
   ]
  },
  {
   "cell_type": "code",
   "execution_count": 61,
   "metadata": {},
   "outputs": [],
   "source": [
    "summary_df.to_csv('summary_aeropuerto.csv')"
   ]
  },
  {
   "cell_type": "code",
   "execution_count": 58,
   "metadata": {},
   "outputs": [],
   "source": [
    "all_var = []\n",
    "for i in range(0,len(summary_df)):\n",
    "    file_vars= summary_df.colnames[i][0]\n",
    "    not_in_list =list(set(file_vars) - set(all_var))\n",
    "    all_var.extend(not_in_list)                              "
   ]
  },
  {
   "cell_type": "code",
   "execution_count": 109,
   "metadata": {},
   "outputs": [
    {
     "name": "stdout",
     "output_type": "stream",
     "text": [
      "Success sep \";\", latin encoding\n",
      "file =76, cols = 5\n"
     ]
    },
    {
     "data": {
      "text/html": [
       "<div>\n",
       "<style scoped>\n",
       "    .dataframe tbody tr th:only-of-type {\n",
       "        vertical-align: middle;\n",
       "    }\n",
       "\n",
       "    .dataframe tbody tr th {\n",
       "        vertical-align: top;\n",
       "    }\n",
       "\n",
       "    .dataframe thead th {\n",
       "        text-align: right;\n",
       "    }\n",
       "</style>\n",
       "<table border=\"1\" class=\"dataframe\">\n",
       "  <thead>\n",
       "    <tr style=\"text-align: right;\">\n",
       "      <th></th>\n",
       "      <th>Date</th>\n",
       "      <th>Time</th>\n",
       "      <th>Variable</th>\n",
       "      <th>Value</th>\n",
       "      <th>type</th>\n",
       "    </tr>\n",
       "  </thead>\n",
       "  <tbody>\n",
       "    <tr>\n",
       "      <th>1</th>\n",
       "      <td>02/08/2013</td>\n",
       "      <td>11:00:00</td>\n",
       "      <td>BAT</td>\n",
       "      <td>12.64</td>\n",
       "      <td>G</td>\n",
       "    </tr>\n",
       "    <tr>\n",
       "      <th>2</th>\n",
       "      <td>02/08/2013</td>\n",
       "      <td>11:00:00</td>\n",
       "      <td>TB1hrAcc</td>\n",
       "      <td>0.10</td>\n",
       "      <td>G</td>\n",
       "    </tr>\n",
       "    <tr>\n",
       "      <th>3</th>\n",
       "      <td>02/08/2013</td>\n",
       "      <td>11:00:00</td>\n",
       "      <td>RelHumidAvg</td>\n",
       "      <td>48.34</td>\n",
       "      <td>B</td>\n",
       "    </tr>\n",
       "    <tr>\n",
       "      <th>4</th>\n",
       "      <td>02/08/2013</td>\n",
       "      <td>11:00:00</td>\n",
       "      <td>RelHumidMin</td>\n",
       "      <td>45.91</td>\n",
       "      <td>G</td>\n",
       "    </tr>\n",
       "    <tr>\n",
       "      <th>5</th>\n",
       "      <td>02/08/2013</td>\n",
       "      <td>11:00:00</td>\n",
       "      <td>RelHumidMax</td>\n",
       "      <td>50.31</td>\n",
       "      <td>G</td>\n",
       "    </tr>\n",
       "    <tr>\n",
       "      <th>6</th>\n",
       "      <td>02/08/2013</td>\n",
       "      <td>11:00:00</td>\n",
       "      <td>AT1HrAvg</td>\n",
       "      <td>21.19</td>\n",
       "      <td>B</td>\n",
       "    </tr>\n",
       "    <tr>\n",
       "      <th>7</th>\n",
       "      <td>02/08/2013</td>\n",
       "      <td>11:00:00</td>\n",
       "      <td>AT1HrMin</td>\n",
       "      <td>21.04</td>\n",
       "      <td>G</td>\n",
       "    </tr>\n",
       "    <tr>\n",
       "      <th>8</th>\n",
       "      <td>02/08/2013</td>\n",
       "      <td>11:00:00</td>\n",
       "      <td>AT1HrMax</td>\n",
       "      <td>21.34</td>\n",
       "      <td>G</td>\n",
       "    </tr>\n",
       "    <tr>\n",
       "      <th>9</th>\n",
       "      <td>02/08/2013</td>\n",
       "      <td>11:00:00</td>\n",
       "      <td>WindMnSpdSclr</td>\n",
       "      <td>1.59</td>\n",
       "      <td>G</td>\n",
       "    </tr>\n",
       "    <tr>\n",
       "      <th>10</th>\n",
       "      <td>02/08/2013</td>\n",
       "      <td>11:00:00</td>\n",
       "      <td>WindMnDirUnit</td>\n",
       "      <td>163.36</td>\n",
       "      <td>G</td>\n",
       "    </tr>\n",
       "    <tr>\n",
       "      <th>11</th>\n",
       "      <td>02/08/2013</td>\n",
       "      <td>11:00:00</td>\n",
       "      <td>WindMinSpdSclr</td>\n",
       "      <td>0.41</td>\n",
       "      <td>G</td>\n",
       "    </tr>\n",
       "    <tr>\n",
       "      <th>12</th>\n",
       "      <td>02/08/2013</td>\n",
       "      <td>11:00:00</td>\n",
       "      <td>WindMaxSpdSclr</td>\n",
       "      <td>3.06</td>\n",
       "      <td>G</td>\n",
       "    </tr>\n",
       "    <tr>\n",
       "      <th>13</th>\n",
       "      <td>02/08/2013</td>\n",
       "      <td>11:00:00</td>\n",
       "      <td>WindMaxDir</td>\n",
       "      <td>120.00</td>\n",
       "      <td>G</td>\n",
       "    </tr>\n",
       "    <tr>\n",
       "      <th>14</th>\n",
       "      <td>02/08/2013</td>\n",
       "      <td>12:00:00</td>\n",
       "      <td>BAT</td>\n",
       "      <td>13.90</td>\n",
       "      <td>G</td>\n",
       "    </tr>\n",
       "  </tbody>\n",
       "</table>\n",
       "</div>"
      ],
      "text/plain": [
       "          Date      Time        Variable   Value type\n",
       "1   02/08/2013  11:00:00             BAT   12.64    G\n",
       "2   02/08/2013  11:00:00        TB1hrAcc    0.10    G\n",
       "3   02/08/2013  11:00:00     RelHumidAvg   48.34    B\n",
       "4   02/08/2013  11:00:00     RelHumidMin   45.91    G\n",
       "5   02/08/2013  11:00:00     RelHumidMax   50.31    G\n",
       "6   02/08/2013  11:00:00        AT1HrAvg   21.19    B\n",
       "7   02/08/2013  11:00:00        AT1HrMin   21.04    G\n",
       "8   02/08/2013  11:00:00        AT1HrMax   21.34    G\n",
       "9   02/08/2013  11:00:00   WindMnSpdSclr    1.59    G\n",
       "10  02/08/2013  11:00:00   WindMnDirUnit  163.36    G\n",
       "11  02/08/2013  11:00:00  WindMinSpdSclr    0.41    G\n",
       "12  02/08/2013  11:00:00  WindMaxSpdSclr    3.06    G\n",
       "13  02/08/2013  11:00:00      WindMaxDir  120.00    G\n",
       "14  02/08/2013  12:00:00             BAT   13.90    G"
      ]
     },
     "execution_count": 109,
     "metadata": {},
     "output_type": "execute_result"
    }
   ],
   "source": [
    "df = read_meteo_csv(zf,files_by_date[1])\n",
    "df.head(14)"
   ]
  },
  {
   "cell_type": "code",
   "execution_count": 74,
   "metadata": {},
   "outputs": [
    {
     "data": {
      "text/plain": [
       "['AT1HrAvg',\n",
       " 'AT1HrMax',\n",
       " 'AT1HrMin',\n",
       " 'AT5minAvg',\n",
       " 'AT5minMax',\n",
       " 'AT5minMin',\n",
       " 'ATAvg',\n",
       " 'BAT',\n",
       " 'Direccion',\n",
       " 'Fecha',\n",
       " 'H_Max',\n",
       " 'H_Min',\n",
       " 'Humedad',\n",
       " 'None',\n",
       " 'Precipitacion',\n",
       " 'RH5minAvg',\n",
       " 'RH5minMax',\n",
       " 'RH5minMin',\n",
       " 'RHAvg',\n",
       " 'RelHumidAvg',\n",
       " 'RelHumidMax',\n",
       " 'RelHumidMin',\n",
       " 'TB1hrAcc',\n",
       " 'TB1minAcc',\n",
       " 'TB5minAcc',\n",
       " 'T_Max',\n",
       " 'T_Min',\n",
       " 'Temperatura',\n",
       " 'Velocidad',\n",
       " 'WD5minAvg',\n",
       " 'WD5minMax',\n",
       " 'WD5minMin',\n",
       " 'WDAvg',\n",
       " 'WS5minAvg',\n",
       " 'WS5minMax',\n",
       " 'WS5minMin',\n",
       " 'WSAvg',\n",
       " 'WindMaxDir',\n",
       " 'WindMaxSpdSclr',\n",
       " 'WindMinSpdSclr',\n",
       " 'WindMnDirUnit',\n",
       " 'WindMnSpdSclr',\n",
       " 'nan']"
      ]
     },
     "execution_count": 74,
     "metadata": {},
     "output_type": "execute_result"
    }
   ],
   "source": [
    "all_var = sorted([str(i) for i in all_var])"
   ]
  },
  {
   "cell_type": "code",
   "execution_count": 116,
   "metadata": {},
   "outputs": [],
   "source": [
    "## Temperature:\n",
    "\n",
    "#'Fecha', not clear about 'TB1hrAcc','TB1minAcc','TB5minAcc','BAT'\n",
    "\n",
    "replace_values ={'ATAvg' :['AT1HrAvg', 'AT5minAvg', 'ATAvg','Temperatura'],\n",
    " 'ATMin' : ['AT1HrMin', 'AT5minMin','T_Min'],\n",
    " 'ATMax' : ['AT1HrMax','AT5minMax', 'T_Max'],\n",
    " \n",
    " # Relative Humidity\n",
    " 'RHAvg' : ['Humedad','RH5minAvg','RHAvg','RelHumidAvg'],\n",
    " 'RHMin' : ['H_Min','RH5minMax','RelHumidMax'],\n",
    " 'RHMax' : ['H_Max', 'RH5minMin', 'RelHumidMin'],\n",
    "\n",
    " # Wind Speed\n",
    " 'WSAvg' : ['Velocidad','WS5minAvg','WSAvg','WindMnSpdSclr'],\n",
    " 'WSMin' : ['WindMinSpdSclr','WS5minMin'],\n",
    " 'WSMax' : ['WindMaxSpdSclr','WS5minMax'],\n",
    "\n",
    " # Wind Direction\n",
    " 'WDAvg' : ['Direccion', 'WDAvg','WD5minAvg','WindMnDirUnit'],\n",
    " 'WDMin' : ['WD5minMin'],\n",
    " 'WDMax' : ['WD5minMax','WindMaxDir'],\n",
    "\n",
    " # Rain\n",
    " 'PAvg' : ['Precipitacion']}"
   ]
  },
  {
   "cell_type": "code",
   "execution_count": 132,
   "metadata": {},
   "outputs": [],
   "source": [
    "## repalce variables\n",
    "for variable in list(replace_values.keys()):\n",
    "    df =df.replace(to_replace =replace_values[variable], value = variable)\n"
   ]
  },
  {
   "cell_type": "code",
   "execution_count": 133,
   "metadata": {},
   "outputs": [
    {
     "data": {
      "text/html": [
       "<div>\n",
       "<style scoped>\n",
       "    .dataframe tbody tr th:only-of-type {\n",
       "        vertical-align: middle;\n",
       "    }\n",
       "\n",
       "    .dataframe tbody tr th {\n",
       "        vertical-align: top;\n",
       "    }\n",
       "\n",
       "    .dataframe thead th {\n",
       "        text-align: right;\n",
       "    }\n",
       "</style>\n",
       "<table border=\"1\" class=\"dataframe\">\n",
       "  <thead>\n",
       "    <tr style=\"text-align: right;\">\n",
       "      <th></th>\n",
       "      <th>Date</th>\n",
       "      <th>Time</th>\n",
       "      <th>Variable</th>\n",
       "      <th>Value</th>\n",
       "      <th>type</th>\n",
       "    </tr>\n",
       "  </thead>\n",
       "  <tbody>\n",
       "    <tr>\n",
       "      <th>1</th>\n",
       "      <td>02/08/2013</td>\n",
       "      <td>11:00:00</td>\n",
       "      <td>BAT</td>\n",
       "      <td>12.64</td>\n",
       "      <td>G</td>\n",
       "    </tr>\n",
       "    <tr>\n",
       "      <th>2</th>\n",
       "      <td>02/08/2013</td>\n",
       "      <td>11:00:00</td>\n",
       "      <td>TB1hrAcc</td>\n",
       "      <td>0.10</td>\n",
       "      <td>G</td>\n",
       "    </tr>\n",
       "    <tr>\n",
       "      <th>3</th>\n",
       "      <td>02/08/2013</td>\n",
       "      <td>11:00:00</td>\n",
       "      <td>RHAvg</td>\n",
       "      <td>48.34</td>\n",
       "      <td>B</td>\n",
       "    </tr>\n",
       "    <tr>\n",
       "      <th>4</th>\n",
       "      <td>02/08/2013</td>\n",
       "      <td>11:00:00</td>\n",
       "      <td>RHMax</td>\n",
       "      <td>45.91</td>\n",
       "      <td>G</td>\n",
       "    </tr>\n",
       "    <tr>\n",
       "      <th>5</th>\n",
       "      <td>02/08/2013</td>\n",
       "      <td>11:00:00</td>\n",
       "      <td>RHMin</td>\n",
       "      <td>50.31</td>\n",
       "      <td>G</td>\n",
       "    </tr>\n",
       "    <tr>\n",
       "      <th>...</th>\n",
       "      <td>...</td>\n",
       "      <td>...</td>\n",
       "      <td>...</td>\n",
       "      <td>...</td>\n",
       "      <td>...</td>\n",
       "    </tr>\n",
       "    <tr>\n",
       "      <th>14362</th>\n",
       "      <td>03/26/2013</td>\n",
       "      <td>11:00:00</td>\n",
       "      <td>WDAvg</td>\n",
       "      <td>233.30</td>\n",
       "      <td>G</td>\n",
       "    </tr>\n",
       "    <tr>\n",
       "      <th>14363</th>\n",
       "      <td>03/26/2013</td>\n",
       "      <td>11:00:00</td>\n",
       "      <td>WSMin</td>\n",
       "      <td>0.00</td>\n",
       "      <td>G</td>\n",
       "    </tr>\n",
       "    <tr>\n",
       "      <th>14364</th>\n",
       "      <td>03/26/2013</td>\n",
       "      <td>11:00:00</td>\n",
       "      <td>WSMax</td>\n",
       "      <td>2.98</td>\n",
       "      <td>G</td>\n",
       "    </tr>\n",
       "    <tr>\n",
       "      <th>14365</th>\n",
       "      <td>03/26/2013</td>\n",
       "      <td>11:00:00</td>\n",
       "      <td>WDMax</td>\n",
       "      <td>200.03</td>\n",
       "      <td>G</td>\n",
       "    </tr>\n",
       "    <tr>\n",
       "      <th>14366</th>\n",
       "      <td>\u001a\u001a\u001a\u001a\u001a\u001a\u001a\u001a\u001a\u001a\u001a\u001a\u001a\u001a\u001a\u001a\u001a\u001a\u001a\u001a\u001a\u001a\u001a\u001a\u001a\u001a\u001a\u001a\u001a\u001a\u001a\u001a\u001a\u001a\u001a\u001a\u001a\u001a\u001a\u001a\u001a\u001a\u001a\u001a\u001a\u001a...</td>\n",
       "      <td>None</td>\n",
       "      <td>None</td>\n",
       "      <td>None</td>\n",
       "      <td>None</td>\n",
       "    </tr>\n",
       "  </tbody>\n",
       "</table>\n",
       "<p>14366 rows × 5 columns</p>\n",
       "</div>"
      ],
      "text/plain": [
       "                                                    Date      Time  Variable  \\\n",
       "1                                             02/08/2013  11:00:00       BAT   \n",
       "2                                             02/08/2013  11:00:00  TB1hrAcc   \n",
       "3                                             02/08/2013  11:00:00     RHAvg   \n",
       "4                                             02/08/2013  11:00:00     RHMax   \n",
       "5                                             02/08/2013  11:00:00     RHMin   \n",
       "...                                                  ...       ...       ...   \n",
       "14362                                         03/26/2013  11:00:00     WDAvg   \n",
       "14363                                         03/26/2013  11:00:00     WSMin   \n",
       "14364                                         03/26/2013  11:00:00     WSMax   \n",
       "14365                                         03/26/2013  11:00:00     WDMax   \n",
       "14366  \u001a\u001a\u001a\u001a\u001a\u001a\u001a\u001a\u001a\u001a\u001a\u001a\u001a\u001a\u001a\u001a\u001a\u001a\u001a\u001a\u001a\u001a\u001a\u001a\u001a\u001a\u001a\u001a\u001a\u001a\u001a\u001a\u001a\u001a\u001a\u001a\u001a\u001a\u001a\u001a\u001a\u001a\u001a\u001a\u001a\u001a...      None      None   \n",
       "\n",
       "        Value  type  \n",
       "1       12.64     G  \n",
       "2        0.10     G  \n",
       "3       48.34     B  \n",
       "4       45.91     G  \n",
       "5       50.31     G  \n",
       "...       ...   ...  \n",
       "14362  233.30     G  \n",
       "14363    0.00     G  \n",
       "14364    2.98     G  \n",
       "14365  200.03     G  \n",
       "14366    None  None  \n",
       "\n",
       "[14366 rows x 5 columns]"
      ]
     },
     "execution_count": 133,
     "metadata": {},
     "output_type": "execute_result"
    }
   ],
   "source": [
    "df"
   ]
  },
  {
   "cell_type": "code",
   "execution_count": 128,
   "metadata": {},
   "outputs": [
    {
     "ename": "NameError",
     "evalue": "name 'value' is not defined",
     "output_type": "error",
     "traceback": [
      "\u001b[0;31m---------------------------------------------------------------------------\u001b[0m",
      "\u001b[0;31mNameError\u001b[0m                                 Traceback (most recent call last)",
      "\u001b[0;32m<ipython-input-128-2b3b7f6975d8>\u001b[0m in \u001b[0;36m<module>\u001b[0;34m\u001b[0m\n\u001b[0;32m----> 1\u001b[0;31m \u001b[0mvalue\u001b[0m\u001b[0;34m\u001b[0m\u001b[0;34m\u001b[0m\u001b[0m\n\u001b[0m",
      "\u001b[0;31mNameError\u001b[0m: name 'value' is not defined"
     ]
    }
   ],
   "source": [
    "### next step: create new df that has all the column names and extend each df into that format, \n",
    "### adding date, time, 5 min , 1 min, 1 h..."
   ]
  },
  {
   "cell_type": "code",
   "execution_count": null,
   "metadata": {},
   "outputs": [],
   "source": []
  }
 ],
 "metadata": {
  "kernelspec": {
   "display_name": "Python 3",
   "language": "python",
   "name": "python3"
  },
  "language_info": {
   "codemirror_mode": {
    "name": "ipython",
    "version": 3
   },
   "file_extension": ".py",
   "mimetype": "text/x-python",
   "name": "python",
   "nbconvert_exporter": "python",
   "pygments_lexer": "ipython3",
   "version": "3.7.4"
  }
 },
 "nbformat": 4,
 "nbformat_minor": 4
}
