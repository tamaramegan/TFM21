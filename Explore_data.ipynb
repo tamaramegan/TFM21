{
 "cells": [
  {
   "cell_type": "markdown",
   "metadata": {},
   "source": [
    "### Explore meteorological data"
   ]
  },
  {
   "cell_type": "code",
   "execution_count": 1,
   "metadata": {},
   "outputs": [],
   "source": [
    "import os\n",
    "import zipfile\n",
    "import pandas as pd\n",
    "import glob\n",
    "import keplergl\n",
    "import geopandas as gpd\n",
    "import matplotlib.pyplot as plt\n",
    "import csv\n",
    "from datetime import datetime\n",
    "import re\n",
    "import numpy as np\n",
    "from pyproj import Proj"
   ]
  },
  {
   "cell_type": "code",
   "execution_count": 2,
   "metadata": {},
   "outputs": [],
   "source": [
    "# Drive folder with original data: https://drive.google.com/drive/folders/1me2IpDY3om6IRKv_WMT5W6Qw0r9DI74C"
   ]
  },
  {
   "cell_type": "code",
   "execution_count": 3,
   "metadata": {},
   "outputs": [
    {
     "data": {
      "text/plain": [
       "['.DS_Store',\n",
       " 'Estaciones_meteorologicas.csv',\n",
       " '02-HGPT-MT-06.- Estacion Baños-20210426T162523Z-001.zip',\n",
       " 'Inventario Estaciones Meteo.xls',\n",
       " '02-HGPT-MT-06.- Estacion Baños']"
      ]
     },
     "execution_count": 3,
     "metadata": {},
     "output_type": "execute_result"
    }
   ],
   "source": [
    "os.listdir('data')"
   ]
  },
  {
   "cell_type": "code",
   "execution_count": 4,
   "metadata": {},
   "outputs": [],
   "source": [
    "### Read a sheet from an excel file\n",
    "file = glob.glob('data/*.xls')[0]\n",
    "sheets = pd.read_excel(file, None)\n",
    "list(sheets.keys())\n",
    "df = pd.read_excel(io=file, sheet_name=list(sheets.keys())[0], engine ='xlrd',skiprows = 1)"
   ]
  },
  {
   "cell_type": "code",
   "execution_count": 5,
   "metadata": {},
   "outputs": [
    {
     "data": {
      "text/html": [
       "<div>\n",
       "<style scoped>\n",
       "    .dataframe tbody tr th:only-of-type {\n",
       "        vertical-align: middle;\n",
       "    }\n",
       "\n",
       "    .dataframe tbody tr th {\n",
       "        vertical-align: top;\n",
       "    }\n",
       "\n",
       "    .dataframe thead th {\n",
       "        text-align: right;\n",
       "    }\n",
       "</style>\n",
       "<table border=\"1\" class=\"dataframe\">\n",
       "  <thead>\n",
       "    <tr style=\"text-align: right;\">\n",
       "      <th></th>\n",
       "      <th>fuente</th>\n",
       "      <th>numero</th>\n",
       "      <th>codigo</th>\n",
       "      <th>nombre</th>\n",
       "      <th>tipo</th>\n",
       "      <th>provincia</th>\n",
       "      <th>estado</th>\n",
       "      <th>fecha_instalacion</th>\n",
       "      <th>latitud</th>\n",
       "      <th>longitud</th>\n",
       "      <th>parametros_medicion</th>\n",
       "    </tr>\n",
       "  </thead>\n",
       "  <tbody>\n",
       "    <tr>\n",
       "      <th>0</th>\n",
       "      <td>esta_inamhi</td>\n",
       "      <td>1</td>\n",
       "      <td>M0029</td>\n",
       "      <td>BAÑOS</td>\n",
       "      <td>CP</td>\n",
       "      <td>TUNGURAHUA</td>\n",
       "      <td>FUNCIONANDO</td>\n",
       "      <td>20-jun-62</td>\n",
       "      <td>12329.0</td>\n",
       "      <td>782505.0</td>\n",
       "      <td>Temperatura Max, temperatura Min, Temperatura,...</td>\n",
       "    </tr>\n",
       "    <tr>\n",
       "      <th>1</th>\n",
       "      <td>esta_inamhi</td>\n",
       "      <td>2</td>\n",
       "      <td>M0258</td>\n",
       "      <td>QUEROCHACA(UTA)</td>\n",
       "      <td>CP</td>\n",
       "      <td>TUNGURAHUA</td>\n",
       "      <td>FUNCIONANDO</td>\n",
       "      <td>2-nov-85</td>\n",
       "      <td>12202.0</td>\n",
       "      <td>783620.0</td>\n",
       "      <td>Temperatura Max, temperatura Min, Temperatura,...</td>\n",
       "    </tr>\n",
       "    <tr>\n",
       "      <th>2</th>\n",
       "      <td>esta_inamhi</td>\n",
       "      <td>3</td>\n",
       "      <td>M1069</td>\n",
       "      <td>CALAMACA CONVENIO INAMHI HCPT</td>\n",
       "      <td>CP</td>\n",
       "      <td>TUNGURAHUA</td>\n",
       "      <td>FUNCIONANDO</td>\n",
       "      <td>4-jul-88</td>\n",
       "      <td>11634.0</td>\n",
       "      <td>784908.0</td>\n",
       "      <td>Temperatura Max, temperatura Min, Temperatura,...</td>\n",
       "    </tr>\n",
       "    <tr>\n",
       "      <th>3</th>\n",
       "      <td>esta_inamhi</td>\n",
       "      <td>4</td>\n",
       "      <td>M0126</td>\n",
       "      <td>PATATE</td>\n",
       "      <td>CO</td>\n",
       "      <td>TUNGURAHUA</td>\n",
       "      <td>FUNCIONANDO</td>\n",
       "      <td>1-may-63</td>\n",
       "      <td>11801.0</td>\n",
       "      <td>783000.0</td>\n",
       "      <td>Temperatura Max, temperatura Min, Temperatura,...</td>\n",
       "    </tr>\n",
       "    <tr>\n",
       "      <th>4</th>\n",
       "      <td>esta_inamhi</td>\n",
       "      <td>5</td>\n",
       "      <td>M0127</td>\n",
       "      <td>PILLARO</td>\n",
       "      <td>CO</td>\n",
       "      <td>TUNGURAHUA</td>\n",
       "      <td>FUNCIONANDO</td>\n",
       "      <td>1-Dec-63</td>\n",
       "      <td>11010.0</td>\n",
       "      <td>783310.0</td>\n",
       "      <td>Temperatura Max, temperatura Min, Temperatura,...</td>\n",
       "    </tr>\n",
       "  </tbody>\n",
       "</table>\n",
       "</div>"
      ],
      "text/plain": [
       "        fuente  numero codigo                         nombre tipo   provincia  \\\n",
       "0  esta_inamhi       1  M0029                          BAÑOS   CP  TUNGURAHUA   \n",
       "1  esta_inamhi       2  M0258                QUEROCHACA(UTA)   CP  TUNGURAHUA   \n",
       "2  esta_inamhi       3  M1069  CALAMACA CONVENIO INAMHI HCPT   CP  TUNGURAHUA   \n",
       "3  esta_inamhi       4  M0126                         PATATE   CO  TUNGURAHUA   \n",
       "4  esta_inamhi       5  M0127                        PILLARO   CO  TUNGURAHUA   \n",
       "\n",
       "        estado fecha_instalacion  latitud  longitud  \\\n",
       "0  FUNCIONANDO         20-jun-62  12329.0  782505.0   \n",
       "1  FUNCIONANDO          2-nov-85  12202.0  783620.0   \n",
       "2  FUNCIONANDO          4-jul-88  11634.0  784908.0   \n",
       "3  FUNCIONANDO          1-may-63  11801.0  783000.0   \n",
       "4  FUNCIONANDO          1-Dec-63  11010.0  783310.0   \n",
       "\n",
       "                                 parametros_medicion  \n",
       "0  Temperatura Max, temperatura Min, Temperatura,...  \n",
       "1  Temperatura Max, temperatura Min, Temperatura,...  \n",
       "2  Temperatura Max, temperatura Min, Temperatura,...  \n",
       "3  Temperatura Max, temperatura Min, Temperatura,...  \n",
       "4  Temperatura Max, temperatura Min, Temperatura,...  "
      ]
     },
     "execution_count": 5,
     "metadata": {},
     "output_type": "execute_result"
    }
   ],
   "source": [
    "df = pd.read_csv('data/Estaciones_meteorologicas.csv')\n",
    "df.head()"
   ]
  },
  {
   "cell_type": "code",
   "execution_count": 17,
   "metadata": {},
   "outputs": [],
   "source": [
    "myProj = Proj(\"+proj=utm +zone=17S, +south +ellps=WGS84 +datum=WGS84 +units=m +no_defs\")"
   ]
  },
  {
   "cell_type": "code",
   "execution_count": 18,
   "metadata": {},
   "outputs": [],
   "source": [
    "lon, lat = myProj(df['longitud'].values, df['latitud'].values, inverse=True)"
   ]
  },
  {
   "cell_type": "code",
   "execution_count": 21,
   "metadata": {},
   "outputs": [
    {
     "data": {
      "text/plain": [
       "array([-78.46203009, -78.45201988, -78.44045693, -78.45758644,\n",
       "       -78.45480388, -78.45171471, -78.44541252, -78.44897653,\n",
       "       -78.4688712 , -78.45633813, -78.45262241, -19.42934026,\n",
       "       -17.22465419, -15.76969217, -15.76969217, -19.05039204,\n",
       "       -18.61256189, -17.10057497, -20.11372178, -20.81104732,\n",
       "       -19.31796305, -18.50098482, -21.81322966, -15.55097746,\n",
       "       -12.87258391, -18.23847411,          inf, -20.90950484,\n",
       "       -17.96268711, -19.90939236, -19.42934026, -17.22465419,\n",
       "       -15.76969217, -15.76969217, -19.05039204, -18.61256189,\n",
       "       -17.10057497, -20.11372178, -20.81104732, -19.31796305,\n",
       "       -18.50098482, -21.81322966, -15.55097746, -12.87258391,\n",
       "       -18.23847411,          inf, -20.90950484, -17.96268711,\n",
       "       -19.90939236])"
      ]
     },
     "execution_count": 21,
     "metadata": {},
     "output_type": "execute_result"
    }
   ],
   "source": [
    "lon"
   ]
  },
  {
   "cell_type": "code",
   "execution_count": null,
   "metadata": {},
   "outputs": [],
   "source": [
    "### There is a problem with the coordinates. I can extract the coordinates from ESTA_INAMHI but not form the other 2. UTM format"
   ]
  },
  {
   "cell_type": "code",
   "execution_count": 39,
   "metadata": {},
   "outputs": [],
   "source": [
    "df_inamhi = df[df['fuente']== 'esta_inamhi']\n",
    "df_inamhi.latitud = -df_inamhi.latitud/1e4\n",
    "df_inamhi.longitud = -df_inamhi.longitud/1e4"
   ]
  },
  {
   "cell_type": "code",
   "execution_count": 40,
   "metadata": {},
   "outputs": [],
   "source": [
    "gdf = gpd.GeoDataFrame(\n",
    "    df_inamhi, geometry=gpd.points_from_xy(df_inamhi.longitud, df_inamhi.latitud))"
   ]
  },
  {
   "cell_type": "code",
   "execution_count": 53,
   "metadata": {},
   "outputs": [],
   "source": [
    "gdf = gdf.set_crs(epsg=4326)"
   ]
  },
  {
   "cell_type": "code",
   "execution_count": 56,
   "metadata": {},
   "outputs": [
    {
     "data": {
      "image/png": "[encoded data removed]",
      "text/plain": [
       "<Figure size 432x288 with 1 Axes>"
      ]
     },
     "metadata": {
      "needs_background": "light"
     },
     "output_type": "display_data"
    }
   ],
   "source": [
    "world = gpd.read_file(gpd.datasets.get_path('naturalearth_lowres'))\n",
    "SA = world.query('name == \"Ecuador\"')\n",
    "gdf4326 = gdf.to_crs(world.crs)\n",
    "\n",
    "fig, ax = plt.subplots()\n",
    "ax.set_aspect('equal')\n",
    "SA.plot(ax=ax, color='white', edgecolor='black')\n",
    "gdf4326.plot(ax=ax, column='tipo',figsize=(20,20))\n",
    "\n",
    "plt.show()"
   ]
  },
  {
   "cell_type": "markdown",
   "metadata": {},
   "source": [
    "#### Automate data extraction from Drive downloads"
   ]
  },
  {
   "cell_type": "code",
   "execution_count": 2,
   "metadata": {},
   "outputs": [],
   "source": [
    "path = '/Users/tamarahuete/Documents/Github_repos/TFM21/data'\n",
    "#ziplist = glob.glob(f'{path}/*.zip')\n",
    "ziplist = glob.glob('data/*.zip')"
   ]
  },
  {
   "cell_type": "code",
   "execution_count": 3,
   "metadata": {},
   "outputs": [
    {
     "data": {
      "text/plain": [
       "['02-HGPT-MT-06.- Estacion Baños/2013-10-14/Banios_5min_20140116_subir.csv',\n",
       " '02-HGPT-MT-06.- Estacion Baños/2016-07-28/BANIOS_5MIN_20160728_subir.csv',\n",
       " '02-HGPT-MT-06.- Estacion Baños/2013-10-14/Banios_5min_20140116.csv',\n",
       " '02-HGPT-MT-06.- Estacion Baños/2015-02-06/8310_5min_20150211__.csv',\n",
       " '02-HGPT-MT-06.- Estacion Baños/2016-07-28/BANIOS_5MIN_20160728___.csv']"
      ]
     },
     "execution_count": 3,
     "metadata": {},
     "output_type": "execute_result"
    }
   ],
   "source": [
    "zip = zipfile.ZipFile(f'{ziplist[0]}')\n",
    "zip.namelist()[0:5]"
   ]
  },
  {
   "cell_type": "code",
   "execution_count": 4,
   "metadata": {},
   "outputs": [
    {
     "name": "stdout",
     "output_type": "stream",
     "text": [
      "00_RESUMEN_1MIN_02 is not a date\n",
      "00_RESUMEN_1MIN_02 is not a date\n",
      "00_RESUMEN_1MIN_02 is not a date\n",
      "00_RESUMEN_1MIN_02 is not a date\n",
      "00_RESUMEN_1MIN_02 is not a date\n",
      "00_RESUMEN_1MIN_02 is not a date\n",
      "00_RESUMEN_1MIN_02 is not a date\n",
      "00_RESUMEN_1MIN_02 is not a date\n",
      "00_RESUMEN_1MIN_02 is not a date\n",
      "00_RESUMEN_1MIN_02 is not a date\n",
      "00_RESUMEN_1MIN_02 is not a date\n",
      "00_RESUMEN_1MIN_02 is not a date\n",
      "00_RESUMEN_1MIN_02 is not a date\n",
      "00_RESUMEN_1MIN_02 is not a date\n",
      "00_RESUMEN_1MIN_02 is not a date\n",
      "00_RESUMEN_1MIN_02 is not a date\n",
      "00_RESUMEN_1MIN_02 is not a date\n",
      "00_RESUMEN_1MIN_02 is not a date\n",
      "00_RESUMEN_1MIN_02 is not a date\n",
      "00_RESUMEN_1MIN_02 is not a date\n",
      "00_RESUMEN_1MIN_02 is not a date\n",
      "00_RESUMEN_1MIN_02 is not a date\n"
     ]
    }
   ],
   "source": [
    "#order ziplist by date\n",
    "a = []\n",
    "for i in range(len(zip.namelist())):\n",
    "    date_str = zip.namelist()[i].split('/')[1]\n",
    "    try:\n",
    "        date_date = datetime.strptime(date_str, '%Y-%m-%d')\n",
    "    except:\n",
    "        print(f'{date_str} is not a date')\n",
    "    a.append(date_date)"
   ]
  },
  {
   "cell_type": "code",
   "execution_count": 5,
   "metadata": {},
   "outputs": [
    {
     "data": {
      "text/plain": [
       "['2013-03-21',\n",
       " '2013-05-09',\n",
       " '2013-06-13',\n",
       " '2013-07-31',\n",
       " '2013-10-04',\n",
       " '2013-10-14',\n",
       " '2014-05-08',\n",
       " '2014-07-24',\n",
       " '2014-11-25',\n",
       " '2015-02-06',\n",
       " '2015-05-13',\n",
       " '2015-07-08',\n",
       " '2015-10-07',\n",
       " '2016-01-14',\n",
       " '2016-04-11',\n",
       " '2016-07-28',\n",
       " '2016-08-24',\n",
       " '2017-01-12',\n",
       " '2017-08-16',\n",
       " '2018-01-08',\n",
       " '2018-03-21',\n",
       " '2018-05-02',\n",
       " '2018-06-14',\n",
       " '2018-08-16',\n",
       " '2019-01-18',\n",
       " '2019-06-20',\n",
       " '2019-09-28',\n",
       " '2020-01-08']"
      ]
     },
     "execution_count": 5,
     "metadata": {},
     "output_type": "execute_result"
    }
   ],
   "source": [
    "# get unique values\n",
    "unique_dates = list(set(a))\n",
    "# order by date\n",
    "unique_dates.sort()\n",
    "unique_dates\n",
    "#convert back to string\n",
    "str_dates = []\n",
    "for l in range(len(unique_dates)):\n",
    "    str_dates.append(unique_dates[l].strftime('%Y-%m-%d'))\n",
    "str_dates"
   ]
  },
  {
   "cell_type": "code",
   "execution_count": 6,
   "metadata": {},
   "outputs": [],
   "source": [
    "## Reorder files\n",
    "files_by_date = []\n",
    "for dates in str_dates:\n",
    "    #r = re.compile(f'.*/{dates}/.*') # all files (including excel sheets)\n",
    "    r = re.compile(f'.*/{dates}/.*.csv') # only csv files\n",
    "    newlist = list(filter(r.match, zip.namelist())) \n",
    "    files_by_date.extend(newlist)"
   ]
  },
  {
   "cell_type": "code",
   "execution_count": 7,
   "metadata": {},
   "outputs": [
    {
     "data": {
      "text/plain": [
       "['02-HGPT-MT-06.- Estacion Baños/2013-03-21/8310_1min_20170717.csv',\n",
       " '02-HGPT-MT-06.- Estacion Baños/2013-05-09/8310_1min_20170717.csv',\n",
       " '02-HGPT-MT-06.- Estacion Baños/2013-05-09/BAÑOS_1hora_20130326.csv',\n",
       " '02-HGPT-MT-06.- Estacion Baños/2013-06-13/8310_5min_20200203.csv',\n",
       " '02-HGPT-MT-06.- Estacion Baños/2013-06-13/8310_1min_20170717.csv',\n",
       " '02-HGPT-MT-06.- Estacion Baños/2013-07-31/8310_1min_20170717.csv',\n",
       " '02-HGPT-MT-06.- Estacion Baños/2013-07-31/8310_5min_20200203.csv',\n",
       " '02-HGPT-MT-06.- Estacion Baños/2013-10-04/8310_1min_20170717.csv',\n",
       " '02-HGPT-MT-06.- Estacion Baños/2013-10-04/Banos_5min_20130619.csv',\n",
       " '02-HGPT-MT-06.- Estacion Baños/2013-10-14/Banios_5min_20140116_subir.csv',\n",
       " '02-HGPT-MT-06.- Estacion Baños/2013-10-14/Banios_5min_20140116.csv',\n",
       " '02-HGPT-MT-06.- Estacion Baños/2013-10-14/8310_1min_20170717.csv',\n",
       " '02-HGPT-MT-06.- Estacion Baños/2014-05-08/Banos_5min_20131231_subir.csv',\n",
       " '02-HGPT-MT-06.- Estacion Baños/2014-05-08/Banos_5min_20140514_subir.csv',\n",
       " '02-HGPT-MT-06.- Estacion Baños/2014-05-08/Banos_5min_20140514.csv',\n",
       " '02-HGPT-MT-06.- Estacion Baños/2014-05-08/8310_1min_20170717.csv',\n",
       " '02-HGPT-MT-06.- Estacion Baños/2014-07-24/Banos_5min_20140805.csv',\n",
       " '02-HGPT-MT-06.- Estacion Baños/2014-07-24/Banos_5min_20140805_subir.csv',\n",
       " '02-HGPT-MT-06.- Estacion Baños/2014-11-25/Banos_5min_20141201.csv',\n",
       " '02-HGPT-MT-06.- Estacion Baños/2014-11-25/8310_1min_20170717.csv',\n",
       " '02-HGPT-MT-06.- Estacion Baños/2014-11-25/Banos_5min_20141201_subir.csv',\n",
       " '02-HGPT-MT-06.- Estacion Baños/2014-11-25/Banos_5min_20141201_.csv',\n",
       " '02-HGPT-MT-06.- Estacion Baños/2015-02-06/8310_5min_20150211__.csv',\n",
       " '02-HGPT-MT-06.- Estacion Baños/2015-02-06/8310_5min_20150211_subir.csv',\n",
       " '02-HGPT-MT-06.- Estacion Baños/2015-02-06/8310_5min_20150211.csv',\n",
       " '02-HGPT-MT-06.- Estacion Baños/2015-02-06/8310_1min_20170717.csv',\n",
       " '02-HGPT-MT-06.- Estacion Baños/2015-05-13/BANIOS_5MIN_20150513__.csv',\n",
       " '02-HGPT-MT-06.- Estacion Baños/2015-05-13/BANIOS_5MIN_20150513_subir.csv',\n",
       " '02-HGPT-MT-06.- Estacion Baños/2015-05-13/BANIOS_5MIN_20150513.csv',\n",
       " '02-HGPT-MT-06.- Estacion Baños/2015-07-08/8310_5min_20150714_.csv',\n",
       " '02-HGPT-MT-06.- Estacion Baños/2015-07-08/8310_5min_20150714_subir.csv',\n",
       " '02-HGPT-MT-06.- Estacion Baños/2015-07-08/8310_1min_20180508.csv',\n",
       " '02-HGPT-MT-06.- Estacion Baños/2015-07-08/8310_5min_20150714.csv',\n",
       " '02-HGPT-MT-06.- Estacion Baños/2015-10-07/BANIOS_5MIN_20151007_subir.csv',\n",
       " '02-HGPT-MT-06.- Estacion Baños/2015-10-07/BANIOS_5MIN_20151007__.csv',\n",
       " '02-HGPT-MT-06.- Estacion Baños/2015-10-07/BANIOS_5MIN_20151007.csv',\n",
       " '02-HGPT-MT-06.- Estacion Baños/2016-01-14/8310_5min_20160125_subir.csv',\n",
       " '02-HGPT-MT-06.- Estacion Baños/2016-01-14/8310_5min_20160125__.csv',\n",
       " '02-HGPT-MT-06.- Estacion Baños/2016-01-14/8310_5min_20160125.csv',\n",
       " '02-HGPT-MT-06.- Estacion Baños/2016-01-14/8310_1min_20170717.csv',\n",
       " '02-HGPT-MT-06.- Estacion Baños/2016-04-11/BANIOS_5MIN_20160411__.csv',\n",
       " '02-HGPT-MT-06.- Estacion Baños/2016-04-11/BANIOS_5MIN_20160411_subir.csv',\n",
       " '02-HGPT-MT-06.- Estacion Baños/2016-04-11/BANIOS_5MIN_20160411.csv',\n",
       " '02-HGPT-MT-06.- Estacion Baños/2016-07-28/BANIOS_5MIN_20160728_subir.csv',\n",
       " '02-HGPT-MT-06.- Estacion Baños/2016-07-28/BANIOS_5MIN_20160728___.csv',\n",
       " '02-HGPT-MT-06.- Estacion Baños/2016-07-28/BANIOS_5MIN_20160728.csv',\n",
       " '02-HGPT-MT-06.- Estacion Baños/2016-08-24/8310_5min_20161130_._.csv',\n",
       " '02-HGPT-MT-06.- Estacion Baños/2016-08-24/8310_5min_20161130.csv',\n",
       " '02-HGPT-MT-06.- Estacion Baños/2016-08-24/8310_5min_20161130_subir.csv',\n",
       " '02-HGPT-MT-06.- Estacion Baños/2016-08-24/8310_1min_20161130_1.csv',\n",
       " '02-HGPT-MT-06.- Estacion Baños/2016-08-24/8310_1min_20161130.csv',\n",
       " '02-HGPT-MT-06.- Estacion Baños/2017-01-12/8310_1min_20170123.csv',\n",
       " '02-HGPT-MT-06.- Estacion Baños/2017-01-12/8310_1min_20170123_1.csv',\n",
       " '02-HGPT-MT-06.- Estacion Baños/2017-01-12/8310_1min_20170123_2.csv',\n",
       " '02-HGPT-MT-06.- Estacion Baños/2017-01-12/8310_1min_20170123_0.csv',\n",
       " '02-HGPT-MT-06.- Estacion Baños/2017-01-12/1min subir/8310_1min_20170717.csv',\n",
       " '02-HGPT-MT-06.- Estacion Baños/2017-08-16/8310_5min_20170817_._.csv',\n",
       " '02-HGPT-MT-06.- Estacion Baños/2017-08-16/8310_5min_20170817_subir.csv',\n",
       " '02-HGPT-MT-06.- Estacion Baños/2017-08-16/8310_1min_20170817.csv',\n",
       " '02-HGPT-MT-06.- Estacion Baños/2017-08-16/8310_5min_20170817.csv',\n",
       " '02-HGPT-MT-06.- Estacion Baños/2018-01-08/8310_5min_20180116_subir.csv',\n",
       " '02-HGPT-MT-06.- Estacion Baños/2018-01-08/8310_5min_20180116_datos.csv',\n",
       " '02-HGPT-MT-06.- Estacion Baños/2018-01-08/8310_5min_20180116_._.csv',\n",
       " '02-HGPT-MT-06.- Estacion Baños/2018-01-08/8310_5min_20180116_dato.csv',\n",
       " '02-HGPT-MT-06.- Estacion Baños/2018-01-08/8310_5min_20180116.csv',\n",
       " '02-HGPT-MT-06.- Estacion Baños/2018-01-08/8310_1min_20180116.csv',\n",
       " '02-HGPT-MT-06.- Estacion Baños/2018-03-21/BANIOS_5MIN_20180321_subir.csv',\n",
       " '02-HGPT-MT-06.- Estacion Baños/2018-03-21/BANIOS_5MIN_20180321.csv',\n",
       " '02-HGPT-MT-06.- Estacion Baños/2018-03-21/BANIOS_5MIN_20180321_dato.csv',\n",
       " '02-HGPT-MT-06.- Estacion Baños/2018-05-02/BANIOS_5MIN_201805030_dato.csv',\n",
       " '02-HGPT-MT-06.- Estacion Baños/2018-05-02/BANIOS_5MIN_201805030_subir.csv',\n",
       " '02-HGPT-MT-06.- Estacion Baños/2018-05-02/BANIOS_5MIN_201805030.csv',\n",
       " '02-HGPT-MT-06.- Estacion Baños/2018-05-02/BANIOS_1MIN_20180502.csv',\n",
       " '02-HGPT-MT-06.- Estacion Baños/2018-06-14/8310_1min_20180618.csv',\n",
       " '02-HGPT-MT-06.- Estacion Baños/2018-06-14/8310_5min_20180618.csv',\n",
       " '02-HGPT-MT-06.- Estacion Baños/2018-08-16/BANIOS_5MIN_20180816.csv',\n",
       " '02-HGPT-MT-06.- Estacion Baños/2018-08-16/BANIOS_1MIN_20180816.csv',\n",
       " '02-HGPT-MT-06.- Estacion Baños/2019-01-18/8310_1min_20190124.csv',\n",
       " '02-HGPT-MT-06.- Estacion Baños/2019-01-18/8310_5min_20190124.csv',\n",
       " '02-HGPT-MT-06.- Estacion Baños/2019-06-20/8310_1min_20190624.csv',\n",
       " '02-HGPT-MT-06.- Estacion Baños/2019-06-20/8310_5min_20190624.csv',\n",
       " '02-HGPT-MT-06.- Estacion Baños/2019-09-28/8310_5min_20190928.csv',\n",
       " '02-HGPT-MT-06.- Estacion Baños/2019-09-28/8310_1min_20190928.csv',\n",
       " '02-HGPT-MT-06.- Estacion Baños/2020-01-08/8310_1min_20200108.csv',\n",
       " '02-HGPT-MT-06.- Estacion Baños/2020-01-08/8310_5min_20200108.csv']"
      ]
     },
     "execution_count": 7,
     "metadata": {},
     "output_type": "execute_result"
    }
   ],
   "source": [
    "files_by_date"
   ]
  },
  {
   "cell_type": "code",
   "execution_count": 125,
   "metadata": {},
   "outputs": [],
   "source": [
    "def read_meteo_csv(zf, file): \n",
    "    try:\n",
    "        df = pd.read_csv(zf.open(file),header=None, encoding = 'latin-1')\n",
    "        print('Success regular csv, no header, latin encoding')\n",
    "    except:\n",
    "        try:\n",
    "            df = pd.read_csv(zf.open(file), sep = ';', encoding = 'latin-1')\n",
    "            if len(df.columns) == 1:\n",
    "                df = df[df.columns[0]].str.split(',',expand=True)\n",
    "                df = df.iloc[1:]\n",
    "            print('Success sep \";\", latin encoding')\n",
    "        except:\n",
    "            print('Failed')\n",
    "    \n",
    "    ## Detect and elminate empty columns- incluiding columns with low number of values (<1% of file)\n",
    "    df = df.replace('', np.nan)\n",
    "    empty_cols = [col for col in df.columns if df[col].isnull().all() or round(df[col].isnull().value_counts()[0]/len(df[col]),2) < 0.01]\n",
    "    df.drop(empty_cols,\n",
    "        axis=1,\n",
    "        inplace=True)\n",
    "    if len(df.columns)==5:\n",
    "        df.columns = ['Date', 'Time','Variable', 'Value','type']\n",
    "    return df #print(f'file ={i}, cols = {len(df.columns)}')"
   ]
  },
  {
   "cell_type": "code",
   "execution_count": 120,
   "metadata": {},
   "outputs": [
    {
     "ename": "TypeError",
     "evalue": "wide_to_long() missing 2 required positional arguments: 'i' and 'j'",
     "output_type": "error",
     "traceback": [
      "\u001b[0;31m---------------------------------------------------------------------------\u001b[0m",
      "\u001b[0;31mTypeError\u001b[0m                                 Traceback (most recent call last)",
      "\u001b[0;32m<ipython-input-120-8df62f522b72>\u001b[0m in \u001b[0;36m<module>\u001b[0;34m\u001b[0m\n\u001b[0;32m----> 1\u001b[0;31m \u001b[0mpd\u001b[0m\u001b[0;34m.\u001b[0m\u001b[0mwide_to_long\u001b[0m\u001b[0;34m(\u001b[0m\u001b[0mdf\u001b[0m\u001b[0;34m,\u001b[0m\u001b[0;34m'Fecha'\u001b[0m\u001b[0;34m)\u001b[0m\u001b[0;34m\u001b[0m\u001b[0;34m\u001b[0m\u001b[0m\n\u001b[0m",
      "\u001b[0;31mTypeError\u001b[0m: wide_to_long() missing 2 required positional arguments: 'i' and 'j'"
     ]
    }
   ],
   "source": []
  },
  {
   "cell_type": "code",
   "execution_count": null,
   "metadata": {},
   "outputs": [],
   "source": [
    "def wide_to_long(df):\n",
    "    "
   ]
  },
  {
   "cell_type": "code",
   "execution_count": null,
   "metadata": {},
   "outputs": [],
   "source": [
    "file =12, cols = 10\n",
    "file =32, cols = 5\n",
    "file =61, cols = 14"
   ]
  },
  {
   "cell_type": "code",
   "execution_count": null,
   "metadata": {},
   "outputs": [],
   "source": [
    "df = pd.read_csv(zf.open(file), sep = ';', encoding = 'latin-1')"
   ]
  },
  {
   "cell_type": "code",
   "execution_count": 37,
   "metadata": {},
   "outputs": [
    {
     "name": "stdout",
     "output_type": "stream",
     "text": [
      "Success sep \";\", latin encoding\n"
     ]
    },
    {
     "data": {
      "text/html": [
       "<div>\n",
       "<style scoped>\n",
       "    .dataframe tbody tr th:only-of-type {\n",
       "        vertical-align: middle;\n",
       "    }\n",
       "\n",
       "    .dataframe tbody tr th {\n",
       "        vertical-align: top;\n",
       "    }\n",
       "\n",
       "    .dataframe thead th {\n",
       "        text-align: right;\n",
       "    }\n",
       "</style>\n",
       "<table border=\"1\" class=\"dataframe\">\n",
       "  <thead>\n",
       "    <tr style=\"text-align: right;\">\n",
       "      <th></th>\n",
       "      <th>Fecha</th>\n",
       "      <th>Temperatura</th>\n",
       "      <th>T Max</th>\n",
       "      <th>T Min</th>\n",
       "      <th>Humedad R</th>\n",
       "      <th>H_R Max</th>\n",
       "      <th>H_M Min</th>\n",
       "      <th>Precipitacion</th>\n",
       "      <th>Direccion</th>\n",
       "      <th>Velocidad</th>\n",
       "    </tr>\n",
       "  </thead>\n",
       "  <tbody>\n",
       "    <tr>\n",
       "      <th>0</th>\n",
       "      <td>15/10/2013 10:25:00</td>\n",
       "      <td>17,88</td>\n",
       "      <td>17,93</td>\n",
       "      <td>17,83</td>\n",
       "      <td>85,18</td>\n",
       "      <td>85,44</td>\n",
       "      <td>84,88</td>\n",
       "      <td>0,00</td>\n",
       "      <td>86,74</td>\n",
       "      <td>1,92</td>\n",
       "    </tr>\n",
       "    <tr>\n",
       "      <th>1</th>\n",
       "      <td>15/10/2013 10:30:00</td>\n",
       "      <td>17,89</td>\n",
       "      <td>17,94</td>\n",
       "      <td>17,86</td>\n",
       "      <td>85,19</td>\n",
       "      <td>85,84</td>\n",
       "      <td>84,60</td>\n",
       "      <td>0,00</td>\n",
       "      <td>132,13</td>\n",
       "      <td>2,27</td>\n",
       "    </tr>\n",
       "  </tbody>\n",
       "</table>\n",
       "</div>"
      ],
      "text/plain": [
       "                 Fecha Temperatura  T Max  T Min Humedad R H_R Max H_M Min  \\\n",
       "0  15/10/2013 10:25:00       17,88  17,93  17,83     85,18   85,44   84,88   \n",
       "1  15/10/2013 10:30:00       17,89  17,94  17,86     85,19   85,84   84,60   \n",
       "\n",
       "  Precipitacion Direccion Velocidad  \n",
       "0          0,00     86,74      1,92  \n",
       "1          0,00    132,13      2,27  "
      ]
     },
     "execution_count": 37,
     "metadata": {},
     "output_type": "execute_result"
    }
   ],
   "source": [
    "#10 cols\n",
    "zf = zipfile.ZipFile(f'{ziplist[0]}')\n",
    "df = read_meteo_csv(zf, files_by_date[12])\n",
    "df.head(2)"
   ]
  },
  {
   "cell_type": "code",
   "execution_count": 127,
   "metadata": {},
   "outputs": [
    {
     "name": "stdout",
     "output_type": "stream",
     "text": [
      "Success sep \";\", latin encoding\n"
     ]
    },
    {
     "data": {
      "text/html": [
       "<div>\n",
       "<style scoped>\n",
       "    .dataframe tbody tr th:only-of-type {\n",
       "        vertical-align: middle;\n",
       "    }\n",
       "\n",
       "    .dataframe tbody tr th {\n",
       "        vertical-align: top;\n",
       "    }\n",
       "\n",
       "    .dataframe thead th {\n",
       "        text-align: right;\n",
       "    }\n",
       "</style>\n",
       "<table border=\"1\" class=\"dataframe\">\n",
       "  <thead>\n",
       "    <tr style=\"text-align: right;\">\n",
       "      <th></th>\n",
       "      <th>Fecha</th>\n",
       "      <th>AT5minAvg</th>\n",
       "      <th>AT5minMax</th>\n",
       "      <th>AT5minMin</th>\n",
       "      <th>RH5minAvg</th>\n",
       "      <th>RH5minMax</th>\n",
       "      <th>RH5minMin</th>\n",
       "      <th>TB5minAcc</th>\n",
       "      <th>WD5minAvg</th>\n",
       "      <th>WD5minMax</th>\n",
       "      <th>WD5minMin</th>\n",
       "      <th>WS5minAvg</th>\n",
       "      <th>WS5minMax</th>\n",
       "      <th>WS5minMin</th>\n",
       "    </tr>\n",
       "  </thead>\n",
       "  <tbody>\n",
       "    <tr>\n",
       "      <th>0</th>\n",
       "      <td>16/08/2017 11:25:00</td>\n",
       "      <td>19,95</td>\n",
       "      <td>20,1</td>\n",
       "      <td>19,82</td>\n",
       "      <td>74,37</td>\n",
       "      <td>76,14</td>\n",
       "      <td>73,15</td>\n",
       "      <td>0,4</td>\n",
       "      <td>78,17</td>\n",
       "      <td>85,17</td>\n",
       "      <td>67,19</td>\n",
       "      <td>3,82</td>\n",
       "      <td>4,47</td>\n",
       "      <td>2,82</td>\n",
       "    </tr>\n",
       "    <tr>\n",
       "      <th>1</th>\n",
       "      <td>16/08/2017 11:30:00</td>\n",
       "      <td>19,68</td>\n",
       "      <td>19,81</td>\n",
       "      <td>19,57</td>\n",
       "      <td>76,06</td>\n",
       "      <td>76,85</td>\n",
       "      <td>74,9</td>\n",
       "      <td>3,5</td>\n",
       "      <td>85,34</td>\n",
       "      <td>93,78</td>\n",
       "      <td>79,97</td>\n",
       "      <td>3,66</td>\n",
       "      <td>4,08</td>\n",
       "      <td>3,23</td>\n",
       "    </tr>\n",
       "  </tbody>\n",
       "</table>\n",
       "</div>"
      ],
      "text/plain": [
       "                 Fecha AT5minAvg AT5minMax AT5minMin RH5minAvg RH5minMax  \\\n",
       "0  16/08/2017 11:25:00     19,95      20,1     19,82     74,37     76,14   \n",
       "1  16/08/2017 11:30:00     19,68     19,81     19,57     76,06     76,85   \n",
       "\n",
       "  RH5minMin TB5minAcc WD5minAvg WD5minMax WD5minMin WS5minAvg WS5minMax  \\\n",
       "0     73,15       0,4     78,17     85,17     67,19      3,82      4,47   \n",
       "1      74,9       3,5     85,34     93,78     79,97      3,66      4,08   \n",
       "\n",
       "  WS5minMin  \n",
       "0      2,82  \n",
       "1      3,23  "
      ]
     },
     "execution_count": 127,
     "metadata": {},
     "output_type": "execute_result"
    }
   ],
   "source": [
    "# 8 cols\n",
    "df = read_meteo_csv(zf, files_by_date[61])\n",
    "df.head(2)"
   ]
  },
  {
   "cell_type": "code",
   "execution_count": 126,
   "metadata": {},
   "outputs": [
    {
     "name": "stdout",
     "output_type": "stream",
     "text": [
      "Success regular csv, no header, latin encoding\n"
     ]
    },
    {
     "data": {
      "text/html": [
       "<div>\n",
       "<style scoped>\n",
       "    .dataframe tbody tr th:only-of-type {\n",
       "        vertical-align: middle;\n",
       "    }\n",
       "\n",
       "    .dataframe tbody tr th {\n",
       "        vertical-align: top;\n",
       "    }\n",
       "\n",
       "    .dataframe thead th {\n",
       "        text-align: right;\n",
       "    }\n",
       "</style>\n",
       "<table border=\"1\" class=\"dataframe\">\n",
       "  <thead>\n",
       "    <tr style=\"text-align: right;\">\n",
       "      <th></th>\n",
       "      <th>Date</th>\n",
       "      <th>Time</th>\n",
       "      <th>Variable</th>\n",
       "      <th>Value</th>\n",
       "      <th>type</th>\n",
       "    </tr>\n",
       "  </thead>\n",
       "  <tbody>\n",
       "    <tr>\n",
       "      <th>0</th>\n",
       "      <td>03/14/2013</td>\n",
       "      <td>22:27:00</td>\n",
       "      <td>TB1minAcc</td>\n",
       "      <td>0.0</td>\n",
       "      <td>G</td>\n",
       "    </tr>\n",
       "    <tr>\n",
       "      <th>1</th>\n",
       "      <td>03/14/2013</td>\n",
       "      <td>22:27:00</td>\n",
       "      <td>ATAvg</td>\n",
       "      <td>17.3</td>\n",
       "      <td>G</td>\n",
       "    </tr>\n",
       "  </tbody>\n",
       "</table>\n",
       "</div>"
      ],
      "text/plain": [
       "         Date      Time   Variable  Value type\n",
       "0  03/14/2013  22:27:00  TB1minAcc    0.0    G\n",
       "1  03/14/2013  22:27:00      ATAvg   17.3    G"
      ]
     },
     "execution_count": 126,
     "metadata": {},
     "output_type": "execute_result"
    }
   ],
   "source": [
    "# 14 cols\n",
    "df = read_meteo_csv(zf, files_by_date[0])\n",
    "df.head(2)"
   ]
  },
  {
   "cell_type": "code",
   "execution_count": 124,
   "metadata": {},
   "outputs": [
    {
     "data": {
      "text/plain": [
       "5"
      ]
     },
     "execution_count": 124,
     "metadata": {},
     "output_type": "execute_result"
    }
   ],
   "source": [
    "len(df.columns)"
   ]
  },
  {
   "cell_type": "code",
   "execution_count": 52,
   "metadata": {},
   "outputs": [
    {
     "data": {
      "text/plain": [
       "array(['TB1minAcc', 'ATAvg', 'RHAvg', 'WDAvg', 'WSAvg'], dtype=object)"
      ]
     },
     "execution_count": 52,
     "metadata": {},
     "output_type": "execute_result"
    }
   ],
   "source": [
    "df[df.columns[2]].unique()"
   ]
  },
  {
   "cell_type": "code",
   "execution_count": null,
   "metadata": {},
   "outputs": [
    {
     "name": "stdout",
     "output_type": "stream",
     "text": [
      "Success sep \";\", latin encoding\n",
      "Success sep \";\", latin encoding\n",
      "Success sep \";\", latin encoding\n",
      "Success sep \";\", latin encoding\n",
      "Success sep \";\", latin encoding\n",
      "Success sep \";\", latin encoding\n",
      "Success sep \";\", latin encoding\n",
      "Success sep \";\", latin encoding\n",
      "Failed\n",
      "Success sep \";\", latin encoding\n",
      "Failed\n",
      "Success sep \";\", latin encoding\n"
     ]
    },
    {
     "ename": "KeyboardInterrupt",
     "evalue": "",
     "output_type": "error",
     "traceback": [
      "\u001b[0;31m---------------------------------------------------------------------------\u001b[0m",
      "\u001b[0;31mParserError\u001b[0m                               Traceback (most recent call last)",
      "\u001b[0;32m<ipython-input-26-7c5a799de662>\u001b[0m in \u001b[0;36mread_meteo_csv\u001b[0;34m(zf, file)\u001b[0m\n\u001b[1;32m      2\u001b[0m     \u001b[0;32mtry\u001b[0m\u001b[0;34m:\u001b[0m\u001b[0;34m\u001b[0m\u001b[0;34m\u001b[0m\u001b[0m\n\u001b[0;32m----> 3\u001b[0;31m         \u001b[0mdf\u001b[0m \u001b[0;34m=\u001b[0m \u001b[0mpd\u001b[0m\u001b[0;34m.\u001b[0m\u001b[0mread_csv\u001b[0m\u001b[0;34m(\u001b[0m\u001b[0mzf\u001b[0m\u001b[0;34m.\u001b[0m\u001b[0mopen\u001b[0m\u001b[0;34m(\u001b[0m\u001b[0mfile\u001b[0m\u001b[0;34m)\u001b[0m\u001b[0;34m,\u001b[0m\u001b[0mheader\u001b[0m\u001b[0;34m=\u001b[0m\u001b[0;32mNone\u001b[0m\u001b[0;34m,\u001b[0m \u001b[0mencoding\u001b[0m \u001b[0;34m=\u001b[0m \u001b[0;34m'latin-1'\u001b[0m\u001b[0;34m)\u001b[0m\u001b[0;34m\u001b[0m\u001b[0;34m\u001b[0m\u001b[0m\n\u001b[0m\u001b[1;32m      4\u001b[0m         \u001b[0mprint\u001b[0m\u001b[0;34m(\u001b[0m\u001b[0;34m'Success regular csv, no header, latin encoding'\u001b[0m\u001b[0;34m)\u001b[0m\u001b[0;34m\u001b[0m\u001b[0;34m\u001b[0m\u001b[0m\n",
      "\u001b[0;32m~/opt/anaconda3/lib/python3.7/site-packages/pandas/io/parsers.py\u001b[0m in \u001b[0;36mparser_f\u001b[0;34m(filepath_or_buffer, sep, delimiter, header, names, index_col, usecols, squeeze, prefix, mangle_dupe_cols, dtype, engine, converters, true_values, false_values, skipinitialspace, skiprows, skipfooter, nrows, na_values, keep_default_na, na_filter, verbose, skip_blank_lines, parse_dates, infer_datetime_format, keep_date_col, date_parser, dayfirst, cache_dates, iterator, chunksize, compression, thousands, decimal, lineterminator, quotechar, quoting, doublequote, escapechar, comment, encoding, dialect, error_bad_lines, warn_bad_lines, delim_whitespace, low_memory, memory_map, float_precision)\u001b[0m\n\u001b[1;32m    675\u001b[0m \u001b[0;34m\u001b[0m\u001b[0m\n\u001b[0;32m--> 676\u001b[0;31m         \u001b[0;32mreturn\u001b[0m \u001b[0m_read\u001b[0m\u001b[0;34m(\u001b[0m\u001b[0mfilepath_or_buffer\u001b[0m\u001b[0;34m,\u001b[0m \u001b[0mkwds\u001b[0m\u001b[0;34m)\u001b[0m\u001b[0;34m\u001b[0m\u001b[0;34m\u001b[0m\u001b[0m\n\u001b[0m\u001b[1;32m    677\u001b[0m \u001b[0;34m\u001b[0m\u001b[0m\n",
      "\u001b[0;32m~/opt/anaconda3/lib/python3.7/site-packages/pandas/io/parsers.py\u001b[0m in \u001b[0;36m_read\u001b[0;34m(filepath_or_buffer, kwds)\u001b[0m\n\u001b[1;32m    453\u001b[0m     \u001b[0;32mtry\u001b[0m\u001b[0;34m:\u001b[0m\u001b[0;34m\u001b[0m\u001b[0;34m\u001b[0m\u001b[0m\n\u001b[0;32m--> 454\u001b[0;31m         \u001b[0mdata\u001b[0m \u001b[0;34m=\u001b[0m \u001b[0mparser\u001b[0m\u001b[0;34m.\u001b[0m\u001b[0mread\u001b[0m\u001b[0;34m(\u001b[0m\u001b[0mnrows\u001b[0m\u001b[0;34m)\u001b[0m\u001b[0;34m\u001b[0m\u001b[0;34m\u001b[0m\u001b[0m\n\u001b[0m\u001b[1;32m    455\u001b[0m     \u001b[0;32mfinally\u001b[0m\u001b[0;34m:\u001b[0m\u001b[0;34m\u001b[0m\u001b[0;34m\u001b[0m\u001b[0m\n",
      "\u001b[0;32m~/opt/anaconda3/lib/python3.7/site-packages/pandas/io/parsers.py\u001b[0m in \u001b[0;36mread\u001b[0;34m(self, nrows)\u001b[0m\n\u001b[1;32m   1132\u001b[0m         \u001b[0mnrows\u001b[0m \u001b[0;34m=\u001b[0m \u001b[0m_validate_integer\u001b[0m\u001b[0;34m(\u001b[0m\u001b[0;34m\"nrows\"\u001b[0m\u001b[0;34m,\u001b[0m \u001b[0mnrows\u001b[0m\u001b[0;34m)\u001b[0m\u001b[0;34m\u001b[0m\u001b[0;34m\u001b[0m\u001b[0m\n\u001b[0;32m-> 1133\u001b[0;31m         \u001b[0mret\u001b[0m \u001b[0;34m=\u001b[0m \u001b[0mself\u001b[0m\u001b[0;34m.\u001b[0m\u001b[0m_engine\u001b[0m\u001b[0;34m.\u001b[0m\u001b[0mread\u001b[0m\u001b[0;34m(\u001b[0m\u001b[0mnrows\u001b[0m\u001b[0;34m)\u001b[0m\u001b[0;34m\u001b[0m\u001b[0;34m\u001b[0m\u001b[0m\n\u001b[0m\u001b[1;32m   1134\u001b[0m \u001b[0;34m\u001b[0m\u001b[0m\n",
      "\u001b[0;32m~/opt/anaconda3/lib/python3.7/site-packages/pandas/io/parsers.py\u001b[0m in \u001b[0;36mread\u001b[0;34m(self, nrows)\u001b[0m\n\u001b[1;32m   2036\u001b[0m         \u001b[0;32mtry\u001b[0m\u001b[0;34m:\u001b[0m\u001b[0;34m\u001b[0m\u001b[0;34m\u001b[0m\u001b[0m\n\u001b[0;32m-> 2037\u001b[0;31m             \u001b[0mdata\u001b[0m \u001b[0;34m=\u001b[0m \u001b[0mself\u001b[0m\u001b[0;34m.\u001b[0m\u001b[0m_reader\u001b[0m\u001b[0;34m.\u001b[0m\u001b[0mread\u001b[0m\u001b[0;34m(\u001b[0m\u001b[0mnrows\u001b[0m\u001b[0;34m)\u001b[0m\u001b[0;34m\u001b[0m\u001b[0;34m\u001b[0m\u001b[0m\n\u001b[0m\u001b[1;32m   2038\u001b[0m         \u001b[0;32mexcept\u001b[0m \u001b[0mStopIteration\u001b[0m\u001b[0;34m:\u001b[0m\u001b[0;34m\u001b[0m\u001b[0;34m\u001b[0m\u001b[0m\n",
      "\u001b[0;32mpandas/_libs/parsers.pyx\u001b[0m in \u001b[0;36mpandas._libs.parsers.TextReader.read\u001b[0;34m()\u001b[0m\n",
      "\u001b[0;32mpandas/_libs/parsers.pyx\u001b[0m in \u001b[0;36mpandas._libs.parsers.TextReader._read_low_memory\u001b[0;34m()\u001b[0m\n",
      "\u001b[0;32mpandas/_libs/parsers.pyx\u001b[0m in \u001b[0;36mpandas._libs.parsers.TextReader._read_rows\u001b[0;34m()\u001b[0m\n",
      "\u001b[0;32mpandas/_libs/parsers.pyx\u001b[0m in \u001b[0;36mpandas._libs.parsers.TextReader._tokenize_rows\u001b[0;34m()\u001b[0m\n",
      "\u001b[0;32mpandas/_libs/parsers.pyx\u001b[0m in \u001b[0;36mpandas._libs.parsers.raise_parser_error\u001b[0;34m()\u001b[0m\n",
      "\u001b[0;31mParserError\u001b[0m: Error tokenizing data. C error: Expected 1 fields in line 3, saw 6\n",
      "\nDuring handling of the above exception, another exception occurred:\n",
      "\u001b[0;31mKeyboardInterrupt\u001b[0m                         Traceback (most recent call last)",
      "\u001b[0;32m~/opt/anaconda3/lib/python3.7/abc.py\u001b[0m in \u001b[0;36m__instancecheck__\u001b[0;34m(cls, instance)\u001b[0m\n\u001b[1;32m    137\u001b[0m         \u001b[0;32mdef\u001b[0m \u001b[0m__instancecheck__\u001b[0m\u001b[0;34m(\u001b[0m\u001b[0mcls\u001b[0m\u001b[0;34m,\u001b[0m \u001b[0minstance\u001b[0m\u001b[0;34m)\u001b[0m\u001b[0;34m:\u001b[0m\u001b[0;34m\u001b[0m\u001b[0;34m\u001b[0m\u001b[0m\n\u001b[1;32m    138\u001b[0m             \u001b[0;34m\"\"\"Override for isinstance(instance, cls).\"\"\"\u001b[0m\u001b[0;34m\u001b[0m\u001b[0;34m\u001b[0m\u001b[0m\n\u001b[0;32m--> 139\u001b[0;31m             \u001b[0;32mreturn\u001b[0m \u001b[0m_abc_instancecheck\u001b[0m\u001b[0;34m(\u001b[0m\u001b[0mcls\u001b[0m\u001b[0;34m,\u001b[0m \u001b[0minstance\u001b[0m\u001b[0;34m)\u001b[0m\u001b[0;34m\u001b[0m\u001b[0;34m\u001b[0m\u001b[0m\n\u001b[0m\u001b[1;32m    140\u001b[0m \u001b[0;34m\u001b[0m\u001b[0m\n\u001b[1;32m    141\u001b[0m         \u001b[0;32mdef\u001b[0m \u001b[0m__subclasscheck__\u001b[0m\u001b[0;34m(\u001b[0m\u001b[0mcls\u001b[0m\u001b[0;34m,\u001b[0m \u001b[0msubclass\u001b[0m\u001b[0;34m)\u001b[0m\u001b[0;34m:\u001b[0m\u001b[0;34m\u001b[0m\u001b[0;34m\u001b[0m\u001b[0m\n",
      "\u001b[0;31mKeyboardInterrupt\u001b[0m: "
     ]
    },
    {
     "name": "stderr",
     "output_type": "stream",
     "text": [
      "Exception ignored in: 'pandas._libs.lib.c_is_list_like'\n",
      "Traceback (most recent call last):\n",
      "  File \"/Users/tamarahuete/opt/anaconda3/lib/python3.7/abc.py\", line 139, in __instancecheck__\n",
      "    return _abc_instancecheck(cls, instance)\n",
      "KeyboardInterrupt: \n"
     ]
    },
    {
     "name": "stdout",
     "output_type": "stream",
     "text": [
      "Success sep \";\", latin encoding\n",
      "Success sep \";\", latin encoding\n",
      "Success sep \";\", latin encoding\n",
      "Success sep \";\", latin encoding\n",
      "Success sep \";\", latin encoding\n",
      "Success sep \";\", latin encoding\n",
      "Success sep \";\", latin encoding\n"
     ]
    }
   ],
   "source": [
    "zf = zipfile.ZipFile(f'{ziplist[0]}')\n",
    "for i in range(0,len(files_by_date)):\n",
    "    read_meteo_csv(zf,files_by_date[i])"
   ]
  },
  {
   "cell_type": "code",
   "execution_count": 20,
   "metadata": {},
   "outputs": [
    {
     "data": {
      "text/plain": [
       "84"
      ]
     },
     "execution_count": 20,
     "metadata": {},
     "output_type": "execute_result"
    }
   ],
   "source": [
    "i"
   ]
  },
  {
   "cell_type": "code",
   "execution_count": 21,
   "metadata": {},
   "outputs": [
    {
     "data": {
      "text/plain": [
       "85"
      ]
     },
     "execution_count": 21,
     "metadata": {},
     "output_type": "execute_result"
    }
   ],
   "source": [
    "len(files_by_date)"
   ]
  },
  {
   "cell_type": "code",
   "execution_count": 39,
   "metadata": {},
   "outputs": [
    {
     "ename": "ValueError",
     "evalue": "shape mismatch: value array of shape (126635,) could not be broadcast to indexing result of shape (6,126635)",
     "output_type": "error",
     "traceback": [
      "\u001b[0;31m---------------------------------------------------------------------------\u001b[0m",
      "\u001b[0;31mValueError\u001b[0m                                Traceback (most recent call last)",
      "\u001b[0;32m<ipython-input-39-0acf2b0bba20>\u001b[0m in \u001b[0;36m<module>\u001b[0;34m\u001b[0m\n\u001b[0;32m----> 1\u001b[0;31m \u001b[0mdf\u001b[0m\u001b[0;34m[\u001b[0m\u001b[0;34m[\u001b[0m\u001b[0;34m'date'\u001b[0m\u001b[0;34m,\u001b[0m\u001b[0;34m'time'\u001b[0m\u001b[0;34m,\u001b[0m\u001b[0;34m'var'\u001b[0m\u001b[0;34m,\u001b[0m\u001b[0;34m'value'\u001b[0m\u001b[0;34m,\u001b[0m\u001b[0;34m'blank'\u001b[0m\u001b[0;34m,\u001b[0m\u001b[0;34m'letter'\u001b[0m\u001b[0;34m]\u001b[0m\u001b[0;34m]\u001b[0m \u001b[0;34m=\u001b[0m \u001b[0mdf\u001b[0m\u001b[0;34m[\u001b[0m\u001b[0;34m'Station Name'\u001b[0m\u001b[0;34m]\u001b[0m\u001b[0;34m.\u001b[0m\u001b[0mstr\u001b[0m\u001b[0;34m.\u001b[0m\u001b[0msplit\u001b[0m\u001b[0;34m(\u001b[0m\u001b[0;34m','\u001b[0m\u001b[0;34m,\u001b[0m\u001b[0mexpand\u001b[0m\u001b[0;34m=\u001b[0m\u001b[0;32mFalse\u001b[0m\u001b[0;34m)\u001b[0m\u001b[0;34m\u001b[0m\u001b[0;34m\u001b[0m\u001b[0m\n\u001b[0m\u001b[1;32m      2\u001b[0m \u001b[0mdf\u001b[0m\u001b[0;34m\u001b[0m\u001b[0;34m\u001b[0m\u001b[0m\n",
      "\u001b[0;32m~/opt/anaconda3/lib/python3.7/site-packages/pandas/core/frame.py\u001b[0m in \u001b[0;36m__setitem__\u001b[0;34m(self, key, value)\u001b[0m\n\u001b[1;32m   2933\u001b[0m             \u001b[0mself\u001b[0m\u001b[0;34m.\u001b[0m\u001b[0m_setitem_frame\u001b[0m\u001b[0;34m(\u001b[0m\u001b[0mkey\u001b[0m\u001b[0;34m,\u001b[0m \u001b[0mvalue\u001b[0m\u001b[0;34m)\u001b[0m\u001b[0;34m\u001b[0m\u001b[0;34m\u001b[0m\u001b[0m\n\u001b[1;32m   2934\u001b[0m         \u001b[0;32melif\u001b[0m \u001b[0misinstance\u001b[0m\u001b[0;34m(\u001b[0m\u001b[0mkey\u001b[0m\u001b[0;34m,\u001b[0m \u001b[0;34m(\u001b[0m\u001b[0mSeries\u001b[0m\u001b[0;34m,\u001b[0m \u001b[0mnp\u001b[0m\u001b[0;34m.\u001b[0m\u001b[0mndarray\u001b[0m\u001b[0;34m,\u001b[0m \u001b[0mlist\u001b[0m\u001b[0;34m,\u001b[0m \u001b[0mIndex\u001b[0m\u001b[0;34m)\u001b[0m\u001b[0;34m)\u001b[0m\u001b[0;34m:\u001b[0m\u001b[0;34m\u001b[0m\u001b[0;34m\u001b[0m\u001b[0m\n\u001b[0;32m-> 2935\u001b[0;31m             \u001b[0mself\u001b[0m\u001b[0;34m.\u001b[0m\u001b[0m_setitem_array\u001b[0m\u001b[0;34m(\u001b[0m\u001b[0mkey\u001b[0m\u001b[0;34m,\u001b[0m \u001b[0mvalue\u001b[0m\u001b[0;34m)\u001b[0m\u001b[0;34m\u001b[0m\u001b[0;34m\u001b[0m\u001b[0m\n\u001b[0m\u001b[1;32m   2936\u001b[0m         \u001b[0;32melse\u001b[0m\u001b[0;34m:\u001b[0m\u001b[0;34m\u001b[0m\u001b[0;34m\u001b[0m\u001b[0m\n\u001b[1;32m   2937\u001b[0m             \u001b[0;31m# set column\u001b[0m\u001b[0;34m\u001b[0m\u001b[0;34m\u001b[0m\u001b[0;34m\u001b[0m\u001b[0m\n",
      "\u001b[0;32m~/opt/anaconda3/lib/python3.7/site-packages/pandas/core/frame.py\u001b[0m in \u001b[0;36m_setitem_array\u001b[0;34m(self, key, value)\u001b[0m\n\u001b[1;32m   2967\u001b[0m                 )[1]\n\u001b[1;32m   2968\u001b[0m                 \u001b[0mself\u001b[0m\u001b[0;34m.\u001b[0m\u001b[0m_check_setitem_copy\u001b[0m\u001b[0;34m(\u001b[0m\u001b[0;34m)\u001b[0m\u001b[0;34m\u001b[0m\u001b[0;34m\u001b[0m\u001b[0m\n\u001b[0;32m-> 2969\u001b[0;31m                 \u001b[0mself\u001b[0m\u001b[0;34m.\u001b[0m\u001b[0mloc\u001b[0m\u001b[0;34m.\u001b[0m\u001b[0m_setitem_with_indexer\u001b[0m\u001b[0;34m(\u001b[0m\u001b[0;34m(\u001b[0m\u001b[0mslice\u001b[0m\u001b[0;34m(\u001b[0m\u001b[0;32mNone\u001b[0m\u001b[0;34m)\u001b[0m\u001b[0;34m,\u001b[0m \u001b[0mindexer\u001b[0m\u001b[0;34m)\u001b[0m\u001b[0;34m,\u001b[0m \u001b[0mvalue\u001b[0m\u001b[0;34m)\u001b[0m\u001b[0;34m\u001b[0m\u001b[0;34m\u001b[0m\u001b[0m\n\u001b[0m\u001b[1;32m   2970\u001b[0m \u001b[0;34m\u001b[0m\u001b[0m\n\u001b[1;32m   2971\u001b[0m     \u001b[0;32mdef\u001b[0m \u001b[0m_setitem_frame\u001b[0m\u001b[0;34m(\u001b[0m\u001b[0mself\u001b[0m\u001b[0;34m,\u001b[0m \u001b[0mkey\u001b[0m\u001b[0;34m,\u001b[0m \u001b[0mvalue\u001b[0m\u001b[0;34m)\u001b[0m\u001b[0;34m:\u001b[0m\u001b[0;34m\u001b[0m\u001b[0;34m\u001b[0m\u001b[0m\n",
      "\u001b[0;32m~/opt/anaconda3/lib/python3.7/site-packages/pandas/core/indexing.py\u001b[0m in \u001b[0;36m_setitem_with_indexer\u001b[0;34m(self, indexer, value)\u001b[0m\n\u001b[1;32m   1063\u001b[0m             \u001b[0;31m# actually do the set\u001b[0m\u001b[0;34m\u001b[0m\u001b[0;34m\u001b[0m\u001b[0;34m\u001b[0m\u001b[0m\n\u001b[1;32m   1064\u001b[0m             \u001b[0mself\u001b[0m\u001b[0;34m.\u001b[0m\u001b[0mobj\u001b[0m\u001b[0;34m.\u001b[0m\u001b[0m_consolidate_inplace\u001b[0m\u001b[0;34m(\u001b[0m\u001b[0;34m)\u001b[0m\u001b[0;34m\u001b[0m\u001b[0;34m\u001b[0m\u001b[0m\n\u001b[0;32m-> 1065\u001b[0;31m             \u001b[0mself\u001b[0m\u001b[0;34m.\u001b[0m\u001b[0mobj\u001b[0m\u001b[0;34m.\u001b[0m\u001b[0m_data\u001b[0m \u001b[0;34m=\u001b[0m \u001b[0mself\u001b[0m\u001b[0;34m.\u001b[0m\u001b[0mobj\u001b[0m\u001b[0;34m.\u001b[0m\u001b[0m_data\u001b[0m\u001b[0;34m.\u001b[0m\u001b[0msetitem\u001b[0m\u001b[0;34m(\u001b[0m\u001b[0mindexer\u001b[0m\u001b[0;34m=\u001b[0m\u001b[0mindexer\u001b[0m\u001b[0;34m,\u001b[0m \u001b[0mvalue\u001b[0m\u001b[0;34m=\u001b[0m\u001b[0mvalue\u001b[0m\u001b[0;34m)\u001b[0m\u001b[0;34m\u001b[0m\u001b[0;34m\u001b[0m\u001b[0m\n\u001b[0m\u001b[1;32m   1066\u001b[0m             \u001b[0mself\u001b[0m\u001b[0;34m.\u001b[0m\u001b[0mobj\u001b[0m\u001b[0;34m.\u001b[0m\u001b[0m_maybe_update_cacher\u001b[0m\u001b[0;34m(\u001b[0m\u001b[0mclear\u001b[0m\u001b[0;34m=\u001b[0m\u001b[0;32mTrue\u001b[0m\u001b[0;34m)\u001b[0m\u001b[0;34m\u001b[0m\u001b[0;34m\u001b[0m\u001b[0m\n\u001b[1;32m   1067\u001b[0m \u001b[0;34m\u001b[0m\u001b[0m\n",
      "\u001b[0;32m~/opt/anaconda3/lib/python3.7/site-packages/pandas/core/internals/managers.py\u001b[0m in \u001b[0;36msetitem\u001b[0;34m(self, **kwargs)\u001b[0m\n\u001b[1;32m    559\u001b[0m \u001b[0;34m\u001b[0m\u001b[0m\n\u001b[1;32m    560\u001b[0m     \u001b[0;32mdef\u001b[0m \u001b[0msetitem\u001b[0m\u001b[0;34m(\u001b[0m\u001b[0mself\u001b[0m\u001b[0;34m,\u001b[0m \u001b[0;34m**\u001b[0m\u001b[0mkwargs\u001b[0m\u001b[0;34m)\u001b[0m\u001b[0;34m:\u001b[0m\u001b[0;34m\u001b[0m\u001b[0;34m\u001b[0m\u001b[0m\n\u001b[0;32m--> 561\u001b[0;31m         \u001b[0;32mreturn\u001b[0m \u001b[0mself\u001b[0m\u001b[0;34m.\u001b[0m\u001b[0mapply\u001b[0m\u001b[0;34m(\u001b[0m\u001b[0;34m\"setitem\"\u001b[0m\u001b[0;34m,\u001b[0m \u001b[0;34m**\u001b[0m\u001b[0mkwargs\u001b[0m\u001b[0;34m)\u001b[0m\u001b[0;34m\u001b[0m\u001b[0;34m\u001b[0m\u001b[0m\n\u001b[0m\u001b[1;32m    562\u001b[0m \u001b[0;34m\u001b[0m\u001b[0m\n\u001b[1;32m    563\u001b[0m     \u001b[0;32mdef\u001b[0m \u001b[0mputmask\u001b[0m\u001b[0;34m(\u001b[0m\u001b[0mself\u001b[0m\u001b[0;34m,\u001b[0m \u001b[0;34m**\u001b[0m\u001b[0mkwargs\u001b[0m\u001b[0;34m)\u001b[0m\u001b[0;34m:\u001b[0m\u001b[0;34m\u001b[0m\u001b[0;34m\u001b[0m\u001b[0m\n",
      "\u001b[0;32m~/opt/anaconda3/lib/python3.7/site-packages/pandas/core/internals/managers.py\u001b[0m in \u001b[0;36mapply\u001b[0;34m(self, f, filter, **kwargs)\u001b[0m\n\u001b[1;32m    440\u001b[0m                 \u001b[0mapplied\u001b[0m \u001b[0;34m=\u001b[0m \u001b[0mb\u001b[0m\u001b[0;34m.\u001b[0m\u001b[0mapply\u001b[0m\u001b[0;34m(\u001b[0m\u001b[0mf\u001b[0m\u001b[0;34m,\u001b[0m \u001b[0;34m**\u001b[0m\u001b[0mkwargs\u001b[0m\u001b[0;34m)\u001b[0m\u001b[0;34m\u001b[0m\u001b[0;34m\u001b[0m\u001b[0m\n\u001b[1;32m    441\u001b[0m             \u001b[0;32melse\u001b[0m\u001b[0;34m:\u001b[0m\u001b[0;34m\u001b[0m\u001b[0;34m\u001b[0m\u001b[0m\n\u001b[0;32m--> 442\u001b[0;31m                 \u001b[0mapplied\u001b[0m \u001b[0;34m=\u001b[0m \u001b[0mgetattr\u001b[0m\u001b[0;34m(\u001b[0m\u001b[0mb\u001b[0m\u001b[0;34m,\u001b[0m \u001b[0mf\u001b[0m\u001b[0;34m)\u001b[0m\u001b[0;34m(\u001b[0m\u001b[0;34m**\u001b[0m\u001b[0mkwargs\u001b[0m\u001b[0;34m)\u001b[0m\u001b[0;34m\u001b[0m\u001b[0;34m\u001b[0m\u001b[0m\n\u001b[0m\u001b[1;32m    443\u001b[0m             \u001b[0mresult_blocks\u001b[0m \u001b[0;34m=\u001b[0m \u001b[0m_extend_blocks\u001b[0m\u001b[0;34m(\u001b[0m\u001b[0mapplied\u001b[0m\u001b[0;34m,\u001b[0m \u001b[0mresult_blocks\u001b[0m\u001b[0;34m)\u001b[0m\u001b[0;34m\u001b[0m\u001b[0;34m\u001b[0m\u001b[0m\n\u001b[1;32m    444\u001b[0m \u001b[0;34m\u001b[0m\u001b[0m\n",
      "\u001b[0;32m~/opt/anaconda3/lib/python3.7/site-packages/pandas/core/internals/blocks.py\u001b[0m in \u001b[0;36msetitem\u001b[0;34m(self, indexer, value)\u001b[0m\n\u001b[1;32m    918\u001b[0m         \u001b[0;31m# set\u001b[0m\u001b[0;34m\u001b[0m\u001b[0;34m\u001b[0m\u001b[0;34m\u001b[0m\u001b[0m\n\u001b[1;32m    919\u001b[0m         \u001b[0;32melse\u001b[0m\u001b[0;34m:\u001b[0m\u001b[0;34m\u001b[0m\u001b[0;34m\u001b[0m\u001b[0m\n\u001b[0;32m--> 920\u001b[0;31m             \u001b[0mvalues\u001b[0m\u001b[0;34m[\u001b[0m\u001b[0mindexer\u001b[0m\u001b[0;34m]\u001b[0m \u001b[0;34m=\u001b[0m \u001b[0mvalue\u001b[0m\u001b[0;34m\u001b[0m\u001b[0;34m\u001b[0m\u001b[0m\n\u001b[0m\u001b[1;32m    921\u001b[0m \u001b[0;34m\u001b[0m\u001b[0m\n\u001b[1;32m    922\u001b[0m         \u001b[0;32mif\u001b[0m \u001b[0mtranspose\u001b[0m\u001b[0;34m:\u001b[0m\u001b[0;34m\u001b[0m\u001b[0;34m\u001b[0m\u001b[0m\n",
      "\u001b[0;31mValueError\u001b[0m: shape mismatch: value array of shape (126635,) could not be broadcast to indexing result of shape (6,126635)"
     ]
    }
   ],
   "source": [
    "df[['date','time','var','value','blank','letter']] = df['Station Name'].str.split(',',expand=True)\n",
    "df"
   ]
  },
  {
   "cell_type": "code",
   "execution_count": 10,
   "metadata": {},
   "outputs": [
    {
     "data": {
      "text/plain": [
       "'02-HGPT-MT-06.- Estacion Baños/2013-06-13/8310_5min_20200203.csv'"
      ]
     },
     "execution_count": 10,
     "metadata": {},
     "output_type": "execute_result"
    }
   ],
   "source": [
    "files_by_date[3]"
   ]
  },
  {
   "cell_type": "code",
   "execution_count": 16,
   "metadata": {},
   "outputs": [
    {
     "data": {
      "text/html": [
       "<div>\n",
       "<style scoped>\n",
       "    .dataframe tbody tr th:only-of-type {\n",
       "        vertical-align: middle;\n",
       "    }\n",
       "\n",
       "    .dataframe tbody tr th {\n",
       "        vertical-align: top;\n",
       "    }\n",
       "\n",
       "    .dataframe thead th {\n",
       "        text-align: right;\n",
       "    }\n",
       "</style>\n",
       "<table border=\"1\" class=\"dataframe\">\n",
       "  <thead>\n",
       "    <tr style=\"text-align: right;\">\n",
       "      <th></th>\n",
       "      <th>0</th>\n",
       "      <th>1</th>\n",
       "      <th>2</th>\n",
       "      <th>3</th>\n",
       "      <th>4</th>\n",
       "      <th>5</th>\n",
       "    </tr>\n",
       "  </thead>\n",
       "  <tbody>\n",
       "    <tr>\n",
       "      <th>1</th>\n",
       "      <td>05/09/2013</td>\n",
       "      <td>16:50:00</td>\n",
       "      <td>TB5minAcc</td>\n",
       "      <td>0.80</td>\n",
       "      <td></td>\n",
       "      <td>G</td>\n",
       "    </tr>\n",
       "    <tr>\n",
       "      <th>2</th>\n",
       "      <td>05/09/2013</td>\n",
       "      <td>16:50:00</td>\n",
       "      <td>AT5minAvg</td>\n",
       "      <td>18.77</td>\n",
       "      <td></td>\n",
       "      <td>G</td>\n",
       "    </tr>\n",
       "    <tr>\n",
       "      <th>3</th>\n",
       "      <td>05/09/2013</td>\n",
       "      <td>16:50:00</td>\n",
       "      <td>AT5minMin</td>\n",
       "      <td>18.75</td>\n",
       "      <td></td>\n",
       "      <td>G</td>\n",
       "    </tr>\n",
       "    <tr>\n",
       "      <th>4</th>\n",
       "      <td>05/09/2013</td>\n",
       "      <td>16:50:00</td>\n",
       "      <td>AT5minMax</td>\n",
       "      <td>18.80</td>\n",
       "      <td></td>\n",
       "      <td>G</td>\n",
       "    </tr>\n",
       "    <tr>\n",
       "      <th>5</th>\n",
       "      <td>05/09/2013</td>\n",
       "      <td>16:50:00</td>\n",
       "      <td>RH5minAvg</td>\n",
       "      <td>80.52</td>\n",
       "      <td></td>\n",
       "      <td>G</td>\n",
       "    </tr>\n",
       "    <tr>\n",
       "      <th>...</th>\n",
       "      <td>...</td>\n",
       "      <td>...</td>\n",
       "      <td>...</td>\n",
       "      <td>...</td>\n",
       "      <td>...</td>\n",
       "      <td>...</td>\n",
       "    </tr>\n",
       "    <tr>\n",
       "      <th>126630</th>\n",
       "      <td>06/12/2013</td>\n",
       "      <td>12:30:00</td>\n",
       "      <td>WS5minMin</td>\n",
       "      <td>3.36</td>\n",
       "      <td></td>\n",
       "      <td>G</td>\n",
       "    </tr>\n",
       "    <tr>\n",
       "      <th>126631</th>\n",
       "      <td>06/12/2013</td>\n",
       "      <td>12:30:00</td>\n",
       "      <td>WD5minMin</td>\n",
       "      <td>-135.72</td>\n",
       "      <td></td>\n",
       "      <td>G</td>\n",
       "    </tr>\n",
       "    <tr>\n",
       "      <th>126632</th>\n",
       "      <td>06/12/2013</td>\n",
       "      <td>12:30:00</td>\n",
       "      <td>WS5minMax</td>\n",
       "      <td>6.83</td>\n",
       "      <td></td>\n",
       "      <td>G</td>\n",
       "    </tr>\n",
       "    <tr>\n",
       "      <th>126633</th>\n",
       "      <td>06/12/2013</td>\n",
       "      <td>12:30:00</td>\n",
       "      <td>WD5minMax</td>\n",
       "      <td>-124.38</td>\n",
       "      <td></td>\n",
       "      <td>G</td>\n",
       "    </tr>\n",
       "    <tr>\n",
       "      <th>126634</th>\n",
       "      <td>\u001a\u001a\u001a\u001a\u001a\u001a\u001a\u001a\u001a\u001a\u001a\u001a\u001a\u001a\u001a\u001a\u001a\u001a\u001a\u001a\u001a\u001a\u001a\u001a\u001a\u001a\u001a\u001a\u001a\u001a\u001a\u001a\u001a\u001a\u001a\u001a\u001a\u001a\u001a\u001a\u001a\u001a\u001a\u001a\u001a\u001a...</td>\n",
       "      <td>None</td>\n",
       "      <td>None</td>\n",
       "      <td>None</td>\n",
       "      <td>None</td>\n",
       "      <td>None</td>\n",
       "    </tr>\n",
       "  </tbody>\n",
       "</table>\n",
       "<p>126634 rows × 6 columns</p>\n",
       "</div>"
      ],
      "text/plain": [
       "                                                        0         1  \\\n",
       "1                                              05/09/2013  16:50:00   \n",
       "2                                              05/09/2013  16:50:00   \n",
       "3                                              05/09/2013  16:50:00   \n",
       "4                                              05/09/2013  16:50:00   \n",
       "5                                              05/09/2013  16:50:00   \n",
       "...                                                   ...       ...   \n",
       "126630                                         06/12/2013  12:30:00   \n",
       "126631                                         06/12/2013  12:30:00   \n",
       "126632                                         06/12/2013  12:30:00   \n",
       "126633                                         06/12/2013  12:30:00   \n",
       "126634  \u001a\u001a\u001a\u001a\u001a\u001a\u001a\u001a\u001a\u001a\u001a\u001a\u001a\u001a\u001a\u001a\u001a\u001a\u001a\u001a\u001a\u001a\u001a\u001a\u001a\u001a\u001a\u001a\u001a\u001a\u001a\u001a\u001a\u001a\u001a\u001a\u001a\u001a\u001a\u001a\u001a\u001a\u001a\u001a\u001a\u001a...      None   \n",
       "\n",
       "                2        3     4     5  \n",
       "1       TB5minAcc     0.80           G  \n",
       "2       AT5minAvg    18.77           G  \n",
       "3       AT5minMin    18.75           G  \n",
       "4       AT5minMax    18.80           G  \n",
       "5       RH5minAvg    80.52           G  \n",
       "...           ...      ...   ...   ...  \n",
       "126630  WS5minMin     3.36           G  \n",
       "126631  WD5minMin  -135.72           G  \n",
       "126632  WS5minMax     6.83           G  \n",
       "126633  WD5minMax  -124.38           G  \n",
       "126634       None     None  None  None  \n",
       "\n",
       "[126634 rows x 6 columns]"
      ]
     },
     "execution_count": 16,
     "metadata": {},
     "output_type": "execute_result"
    }
   ],
   "source": [
    "df =pd.read_csv(zf.open(files_by_date[3]), sep = ';', encoding = 'latin-1')\n",
    "df = df['Station Name'].str.split(',',expand=True)\n",
    "df.iloc[1:]"
   ]
  },
  {
   "cell_type": "code",
   "execution_count": 228,
   "metadata": {},
   "outputs": [
    {
     "ename": "TypeError",
     "evalue": "__init__() takes 1 positional argument but 2 were given",
     "output_type": "error",
     "traceback": [
      "\u001b[0;31m---------------------------------------------------------------------------\u001b[0m",
      "\u001b[0;31mTypeError\u001b[0m                                 Traceback (most recent call last)",
      "\u001b[0;32m<ipython-input-228-62dacdb6e5d1>\u001b[0m in \u001b[0;36m<module>\u001b[0;34m\u001b[0m\n\u001b[0;32m----> 1\u001b[0;31m \u001b[0mcsv\u001b[0m\u001b[0;34m.\u001b[0m\u001b[0mSniffer\u001b[0m\u001b[0;34m(\u001b[0m\u001b[0mdf\u001b[0m\u001b[0;34m.\u001b[0m\u001b[0miloc\u001b[0m\u001b[0;34m[\u001b[0m\u001b[0;36m0\u001b[0m\u001b[0;34m]\u001b[0m\u001b[0;34m)\u001b[0m\u001b[0;34m\u001b[0m\u001b[0;34m\u001b[0m\u001b[0m\n\u001b[0m",
      "\u001b[0;31mTypeError\u001b[0m: __init__() takes 1 positional argument but 2 were given"
     ]
    }
   ],
   "source": [
    "csv.Sniffer(df.iloc[0])"
   ]
  },
  {
   "cell_type": "code",
   "execution_count": 269,
   "metadata": {},
   "outputs": [
    {
     "name": "stdout",
     "output_type": "stream",
     "text": [
      "\n"
     ]
    },
    {
     "data": {
      "text/plain": [
       "8310    05/09/2013,16:50:00,AT5minAvg,18.77,,G\n",
       "Name: 1, dtype: object"
      ]
     },
     "execution_count": 269,
     "metadata": {},
     "output_type": "execute_result"
    }
   ],
   "source": [
    "with open(f'data/{files_by_date[3]}', newline='', encoding = 'latin-1') as csvfile:\n",
    "    dialect = csv.Sniffer().sniff(csvfile.read(1024))\n",
    "    print(dialect.delimiter)\n",
    "df = pd.read_csv(f'data/{files_by_date[3]}', encoding='latin-1',sep = dialect.delimiter, skiprows=1)\n"
   ]
  },
  {
   "cell_type": "code",
   "execution_count": 282,
   "metadata": {},
   "outputs": [
    {
     "ename": "TypeError",
     "evalue": "expected string or bytes-like object",
     "output_type": "error",
     "traceback": [
      "\u001b[0;31m---------------------------------------------------------------------------\u001b[0m",
      "\u001b[0;31mTypeError\u001b[0m                                 Traceback (most recent call last)",
      "\u001b[0;32m<ipython-input-282-781256dd04eb>\u001b[0m in \u001b[0;36m<module>\u001b[0;34m\u001b[0m\n\u001b[1;32m      1\u001b[0m \u001b[0;32mwith\u001b[0m \u001b[0mopen\u001b[0m\u001b[0;34m(\u001b[0m\u001b[0;34mf'data/{files_by_date[3]}'\u001b[0m\u001b[0;34m,\u001b[0m \u001b[0;34m'rb'\u001b[0m\u001b[0;34m)\u001b[0m \u001b[0;32mas\u001b[0m \u001b[0mf\u001b[0m\u001b[0;34m:\u001b[0m\u001b[0;34m\u001b[0m\u001b[0;34m\u001b[0m\u001b[0m\n\u001b[1;32m      2\u001b[0m     \u001b[0mlines\u001b[0m \u001b[0;34m=\u001b[0m \u001b[0;34m[\u001b[0m\u001b[0mf\u001b[0m\u001b[0;34m.\u001b[0m\u001b[0mreadlines\u001b[0m\u001b[0;34m(\u001b[0m\u001b[0;34m)\u001b[0m\u001b[0;34m]\u001b[0m\u001b[0;34m\u001b[0m\u001b[0;34m\u001b[0m\u001b[0m\n\u001b[0;32m----> 3\u001b[0;31m     \u001b[0mnp\u001b[0m\u001b[0;34m.\u001b[0m\u001b[0mloadtxt\u001b[0m\u001b[0;34m(\u001b[0m\u001b[0mlines\u001b[0m\u001b[0;34m[\u001b[0m\u001b[0;36m0\u001b[0m\u001b[0;34m]\u001b[0m\u001b[0;34m[\u001b[0m\u001b[0;36m2\u001b[0m\u001b[0;34m]\u001b[0m\u001b[0;34m,\u001b[0m \u001b[0mdtype\u001b[0m\u001b[0;34m=\u001b[0m\u001b[0;34m'str'\u001b[0m\u001b[0;34m)\u001b[0m\u001b[0;34m.\u001b[0m\u001b[0mshape\u001b[0m\u001b[0;34m[\u001b[0m\u001b[0;36m1\u001b[0m\u001b[0;34m]\u001b[0m\u001b[0;34m\u001b[0m\u001b[0;34m\u001b[0m\u001b[0m\n\u001b[0m",
      "\u001b[0;32m~/opt/anaconda3/lib/python3.7/site-packages/numpy/lib/npyio.py\u001b[0m in \u001b[0;36mloadtxt\u001b[0;34m(fname, dtype, comments, delimiter, converters, skiprows, usecols, unpack, ndmin, encoding, max_rows)\u001b[0m\n\u001b[1;32m   1098\u001b[0m             \u001b[0;32mwhile\u001b[0m \u001b[0;32mnot\u001b[0m \u001b[0mfirst_vals\u001b[0m\u001b[0;34m:\u001b[0m\u001b[0;34m\u001b[0m\u001b[0;34m\u001b[0m\u001b[0m\n\u001b[1;32m   1099\u001b[0m                 \u001b[0mfirst_line\u001b[0m \u001b[0;34m=\u001b[0m \u001b[0mnext\u001b[0m\u001b[0;34m(\u001b[0m\u001b[0mfh\u001b[0m\u001b[0;34m)\u001b[0m\u001b[0;34m\u001b[0m\u001b[0;34m\u001b[0m\u001b[0m\n\u001b[0;32m-> 1100\u001b[0;31m                 \u001b[0mfirst_vals\u001b[0m \u001b[0;34m=\u001b[0m \u001b[0msplit_line\u001b[0m\u001b[0;34m(\u001b[0m\u001b[0mfirst_line\u001b[0m\u001b[0;34m)\u001b[0m\u001b[0;34m\u001b[0m\u001b[0;34m\u001b[0m\u001b[0m\n\u001b[0m\u001b[1;32m   1101\u001b[0m         \u001b[0;32mexcept\u001b[0m \u001b[0mStopIteration\u001b[0m\u001b[0;34m:\u001b[0m\u001b[0;34m\u001b[0m\u001b[0;34m\u001b[0m\u001b[0m\n\u001b[1;32m   1102\u001b[0m             \u001b[0;31m# End of lines reached\u001b[0m\u001b[0;34m\u001b[0m\u001b[0;34m\u001b[0m\u001b[0;34m\u001b[0m\u001b[0m\n",
      "\u001b[0;32m~/opt/anaconda3/lib/python3.7/site-packages/numpy/lib/npyio.py\u001b[0m in \u001b[0;36msplit_line\u001b[0;34m(line)\u001b[0m\n\u001b[1;32m   1038\u001b[0m \u001b[0;34m\u001b[0m\u001b[0m\n\u001b[1;32m   1039\u001b[0m         \u001b[0;32mif\u001b[0m \u001b[0mcomments\u001b[0m \u001b[0;32mis\u001b[0m \u001b[0;32mnot\u001b[0m \u001b[0;32mNone\u001b[0m\u001b[0;34m:\u001b[0m\u001b[0;34m\u001b[0m\u001b[0;34m\u001b[0m\u001b[0m\n\u001b[0;32m-> 1040\u001b[0;31m             \u001b[0mline\u001b[0m \u001b[0;34m=\u001b[0m \u001b[0mregex_comments\u001b[0m\u001b[0;34m.\u001b[0m\u001b[0msplit\u001b[0m\u001b[0;34m(\u001b[0m\u001b[0mline\u001b[0m\u001b[0;34m,\u001b[0m \u001b[0mmaxsplit\u001b[0m\u001b[0;34m=\u001b[0m\u001b[0;36m1\u001b[0m\u001b[0;34m)\u001b[0m\u001b[0;34m[\u001b[0m\u001b[0;36m0\u001b[0m\u001b[0;34m]\u001b[0m\u001b[0;34m\u001b[0m\u001b[0;34m\u001b[0m\u001b[0m\n\u001b[0m\u001b[1;32m   1041\u001b[0m         \u001b[0mline\u001b[0m \u001b[0;34m=\u001b[0m \u001b[0mline\u001b[0m\u001b[0;34m.\u001b[0m\u001b[0mstrip\u001b[0m\u001b[0;34m(\u001b[0m\u001b[0;34m'\\r\\n'\u001b[0m\u001b[0;34m)\u001b[0m\u001b[0;34m\u001b[0m\u001b[0;34m\u001b[0m\u001b[0m\n\u001b[1;32m   1042\u001b[0m         \u001b[0;32mif\u001b[0m \u001b[0mline\u001b[0m\u001b[0;34m:\u001b[0m\u001b[0;34m\u001b[0m\u001b[0;34m\u001b[0m\u001b[0m\n",
      "\u001b[0;31mTypeError\u001b[0m: expected string or bytes-like object"
     ]
    }
   ],
   "source": [
    "with open(f'data/{files_by_date[3]}', 'rb') as f:\n",
    "    lines = [f.readlines()]\n",
    "    np.loadtxt(lines[0][2], dtype='str').shape[1]"
   ]
  },
  {
   "cell_type": "code",
   "execution_count": 294,
   "metadata": {},
   "outputs": [
    {
     "data": {
      "text/plain": [
       "['05/09/2013', '16:50:00', 'TB5minAcc', '0.80', '', 'G']"
      ]
     },
     "execution_count": 294,
     "metadata": {},
     "output_type": "execute_result"
    }
   ],
   "source": [
    "lines[0][2].strip().decode(\"utf-8\").split(',')"
   ]
  },
  {
   "cell_type": "code",
   "execution_count": 306,
   "metadata": {},
   "outputs": [
    {
     "data": {
      "text/html": [
       "<div>\n",
       "<style scoped>\n",
       "    .dataframe tbody tr th:only-of-type {\n",
       "        vertical-align: middle;\n",
       "    }\n",
       "\n",
       "    .dataframe tbody tr th {\n",
       "        vertical-align: top;\n",
       "    }\n",
       "\n",
       "    .dataframe thead th {\n",
       "        text-align: right;\n",
       "    }\n",
       "</style>\n",
       "<table border=\"1\" class=\"dataframe\">\n",
       "  <thead>\n",
       "    <tr style=\"text-align: right;\">\n",
       "      <th></th>\n",
       "      <th>date</th>\n",
       "      <th>time</th>\n",
       "      <th>variable</th>\n",
       "      <th>value</th>\n",
       "      <th>empty</th>\n",
       "      <th>type</th>\n",
       "    </tr>\n",
       "  </thead>\n",
       "  <tbody>\n",
       "    <tr>\n",
       "      <th>0</th>\n",
       "      <td>Station Name</td>\n",
       "      <td>NaN</td>\n",
       "      <td>NaN</td>\n",
       "      <td>NaN</td>\n",
       "      <td>NaN</td>\n",
       "      <td>NaN</td>\n",
       "    </tr>\n",
       "    <tr>\n",
       "      <th>1</th>\n",
       "      <td>8310</td>\n",
       "      <td>NaN</td>\n",
       "      <td>NaN</td>\n",
       "      <td>NaN</td>\n",
       "      <td>NaN</td>\n",
       "      <td>NaN</td>\n",
       "    </tr>\n",
       "    <tr>\n",
       "      <th>2</th>\n",
       "      <td>05/09/2013,16:50:00,TB5minAcc,0.80,,G</td>\n",
       "      <td>NaN</td>\n",
       "      <td>NaN</td>\n",
       "      <td>NaN</td>\n",
       "      <td>NaN</td>\n",
       "      <td>NaN</td>\n",
       "    </tr>\n",
       "    <tr>\n",
       "      <th>3</th>\n",
       "      <td>05/09/2013,16:50:00,AT5minAvg,18.77,,G</td>\n",
       "      <td>NaN</td>\n",
       "      <td>NaN</td>\n",
       "      <td>NaN</td>\n",
       "      <td>NaN</td>\n",
       "      <td>NaN</td>\n",
       "    </tr>\n",
       "    <tr>\n",
       "      <th>4</th>\n",
       "      <td>05/09/2013,16:50:00,AT5minMin,18.75,,G</td>\n",
       "      <td>NaN</td>\n",
       "      <td>NaN</td>\n",
       "      <td>NaN</td>\n",
       "      <td>NaN</td>\n",
       "      <td>NaN</td>\n",
       "    </tr>\n",
       "    <tr>\n",
       "      <th>...</th>\n",
       "      <td>...</td>\n",
       "      <td>...</td>\n",
       "      <td>...</td>\n",
       "      <td>...</td>\n",
       "      <td>...</td>\n",
       "      <td>...</td>\n",
       "    </tr>\n",
       "    <tr>\n",
       "      <th>126631</th>\n",
       "      <td>06/12/2013,12:30:00,WS5minMin,3.36,,G</td>\n",
       "      <td>NaN</td>\n",
       "      <td>NaN</td>\n",
       "      <td>NaN</td>\n",
       "      <td>NaN</td>\n",
       "      <td>NaN</td>\n",
       "    </tr>\n",
       "    <tr>\n",
       "      <th>126632</th>\n",
       "      <td>06/12/2013,12:30:00,WD5minMin,-135.72,,G</td>\n",
       "      <td>NaN</td>\n",
       "      <td>NaN</td>\n",
       "      <td>NaN</td>\n",
       "      <td>NaN</td>\n",
       "      <td>NaN</td>\n",
       "    </tr>\n",
       "    <tr>\n",
       "      <th>126633</th>\n",
       "      <td>06/12/2013,12:30:00,WS5minMax,6.83,,G</td>\n",
       "      <td>NaN</td>\n",
       "      <td>NaN</td>\n",
       "      <td>NaN</td>\n",
       "      <td>NaN</td>\n",
       "      <td>NaN</td>\n",
       "    </tr>\n",
       "    <tr>\n",
       "      <th>126634</th>\n",
       "      <td>06/12/2013,12:30:00,WD5minMax,-124.38,,G</td>\n",
       "      <td>NaN</td>\n",
       "      <td>NaN</td>\n",
       "      <td>NaN</td>\n",
       "      <td>NaN</td>\n",
       "      <td>NaN</td>\n",
       "    </tr>\n",
       "    <tr>\n",
       "      <th>126635</th>\n",
       "      <td>\u001a\u001a\u001a\u001a\u001a\u001a\u001a\u001a\u001a\u001a\u001a\u001a\u001a\u001a\u001a\u001a\u001a\u001a\u001a\u001a\u001a\u001a\u001a\u001a\u001a\u001a\u001a\u001a\u001a\u001a\u001a\u001a\u001a\u001a\u001a\u001a\u001a\u001a\u001a\u001a</td>\n",
       "      <td>NaN</td>\n",
       "      <td>NaN</td>\n",
       "      <td>NaN</td>\n",
       "      <td>NaN</td>\n",
       "      <td>NaN</td>\n",
       "    </tr>\n",
       "  </tbody>\n",
       "</table>\n",
       "<p>126636 rows × 6 columns</p>\n",
       "</div>"
      ],
      "text/plain": [
       "                                            date  time  variable  value  \\\n",
       "0                                   Station Name   NaN       NaN    NaN   \n",
       "1                                           8310   NaN       NaN    NaN   \n",
       "2          05/09/2013,16:50:00,TB5minAcc,0.80,,G   NaN       NaN    NaN   \n",
       "3         05/09/2013,16:50:00,AT5minAvg,18.77,,G   NaN       NaN    NaN   \n",
       "4         05/09/2013,16:50:00,AT5minMin,18.75,,G   NaN       NaN    NaN   \n",
       "...                                          ...   ...       ...    ...   \n",
       "126631     06/12/2013,12:30:00,WS5minMin,3.36,,G   NaN       NaN    NaN   \n",
       "126632  06/12/2013,12:30:00,WD5minMin,-135.72,,G   NaN       NaN    NaN   \n",
       "126633     06/12/2013,12:30:00,WS5minMax,6.83,,G   NaN       NaN    NaN   \n",
       "126634  06/12/2013,12:30:00,WD5minMax,-124.38,,G   NaN       NaN    NaN   \n",
       "126635  \u001a\u001a\u001a\u001a\u001a\u001a\u001a\u001a\u001a\u001a\u001a\u001a\u001a\u001a\u001a\u001a\u001a\u001a\u001a\u001a\u001a\u001a\u001a\u001a\u001a\u001a\u001a\u001a\u001a\u001a\u001a\u001a\u001a\u001a\u001a\u001a\u001a\u001a\u001a\u001a   NaN       NaN    NaN   \n",
       "\n",
       "        empty  type  \n",
       "0         NaN   NaN  \n",
       "1         NaN   NaN  \n",
       "2         NaN   NaN  \n",
       "3         NaN   NaN  \n",
       "4         NaN   NaN  \n",
       "...       ...   ...  \n",
       "126631    NaN   NaN  \n",
       "126632    NaN   NaN  \n",
       "126633    NaN   NaN  \n",
       "126634    NaN   NaN  \n",
       "126635    NaN   NaN  \n",
       "\n",
       "[126636 rows x 6 columns]"
      ]
     },
     "execution_count": 306,
     "metadata": {},
     "output_type": "execute_result"
    }
   ],
   "source": [
    "pd.read_fwf(f'data/{files_by_date[3]}', \n",
    "                 dialect = dialect, \n",
    "                 names=['date', 'time', 'variable', 'value', 'empty','type'])"
   ]
  },
  {
   "cell_type": "code",
   "execution_count": null,
   "metadata": {},
   "outputs": [],
   "source": []
  }
 ],
 "metadata": {
  "kernelspec": {
   "display_name": "Python 3",
   "language": "python",
   "name": "python3"
  },
  "language_info": {
   "codemirror_mode": {
    "name": "ipython",
    "version": 3
   },
   "file_extension": ".py",
   "mimetype": "text/x-python",
   "name": "python",
   "nbconvert_exporter": "python",
   "pygments_lexer": "ipython3",
   "version": "3.7.4"
  }
 },
 "nbformat": 4,
 "nbformat_minor": 4
}
