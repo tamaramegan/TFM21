{
 "cells": [
  {
   "cell_type": "markdown",
   "metadata": {},
   "source": [
    "### Meteo Station Utils"
   ]
  },
  {
   "cell_type": "code",
   "execution_count": 2,
   "metadata": {},
   "outputs": [],
   "source": [
    "def order_meteo_zip(path, folder):\n",
    "    ### access files \n",
    "    ziplist = glob.glob(f'{path}/*.zip')\n",
    "    \n",
    "    ### access folder\n",
    "    zf = zipfile.ZipFile(f'{ziplist[folder]}')\n",
    "    \n",
    "    #extract dates of each of the zipfiles from file name\n",
    "    a = []\n",
    "    for i in range(len(zf.namelist())):\n",
    "        date_str = zf.namelist()[i].split('/')[1]\n",
    "        try:\n",
    "            date_date = datetime.strptime(date_str, '%Y-%m-%d')\n",
    "        except:\n",
    "            continue\n",
    "        a.append(date_date)\n",
    "        \n",
    "    # get unique values\n",
    "    unique_dates = list(set(a))\n",
    "    # order by date\n",
    "    unique_dates.sort()\n",
    "    #convert back to string\n",
    "    str_dates = []\n",
    "    for l in range(len(unique_dates)):\n",
    "        str_dates.append(unique_dates[l].strftime('%Y-%m-%d'))\n",
    "        \n",
    "    ## Reorder files\n",
    "    files_by_date = []\n",
    "    for dates in str_dates:\n",
    "        #r = re.compile(f'.*/{dates}/.*') # all files (including excel sheets)\n",
    "        r = re.compile(f'.*/{dates}/.*.csv') # only csv files\n",
    "        newlist = list(filter(r.match, zf.namelist())) \n",
    "        files_by_date.extend(newlist)\n",
    "    \n",
    "    return files_by_date"
   ]
  },
  {
   "cell_type": "code",
   "execution_count": null,
   "metadata": {},
   "outputs": [],
   "source": [
    "def read_meteo_csv(path, folder, file): \n",
    "    ### access files \n",
    "    ziplist = glob.glob(f'{path}/*.zip')\n",
    "    \n",
    "    ### access folder\n",
    "    zf = zipfile.ZipFile(f'{ziplist[folder]}')\n",
    "    \n",
    "    try:\n",
    "        df = pd.read_csv(zf.open(file),header=None, encoding = 'latin-1')\n",
    "        print('Success regular csv, no header, latin encoding')\n",
    "    except:\n",
    "        try:\n",
    "            df = pd.read_csv(zf.open(file), sep = ';', encoding = 'latin-1')\n",
    "            if len(df.columns) == 1:\n",
    "                df = df[df.columns[0]].str.split(',',expand=True)\n",
    "                df = df.iloc[1:]\n",
    "            print('Success sep \";\", latin encoding')\n",
    "        except:\n",
    "            print('Failed')\n",
    "    \n",
    "    ## Detect and elminate empty columns- incluiding columns with low number of values (<1% of file)\n",
    "    df = df.replace('', np.nan)\n",
    "    empty_cols = [col for col in df.columns if df[col].isnull().all() or round(df[col].isnull().value_counts()[0]/len(df[col]),2) < 0.01]\n",
    "    df.drop(empty_cols,\n",
    "        axis=1,\n",
    "        inplace=True)\n",
    "    if len(df.columns)==5:\n",
    "        df.columns = ['Date', 'Time','Variable', 'Value','type']\n",
    "    print(f'file ={i}, cols = {len(df.columns)}')\n",
    "    return df"
   ]
  }
 ],
 "metadata": {
  "kernelspec": {
   "display_name": "Python 3",
   "language": "python",
   "name": "python3"
  },
  "language_info": {
   "codemirror_mode": {
    "name": "ipython",
    "version": 3
   },
   "file_extension": ".py",
   "mimetype": "text/x-python",
   "name": "python",
   "nbconvert_exporter": "python",
   "pygments_lexer": "ipython3",
   "version": "3.7.4"
  }
 },
 "nbformat": 4,
 "nbformat_minor": 4
}
